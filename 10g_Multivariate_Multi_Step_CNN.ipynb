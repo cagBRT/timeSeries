{
  "nbformat": 4,
  "nbformat_minor": 0,
  "metadata": {
    "colab": {
      "name": "10g Multivariate Multi-Step CNN.ipynb",
      "private_outputs": true,
      "provenance": [],
      "authorship_tag": "ABX9TyNMP6RyW39C9l3WQzkWuD5c",
      "include_colab_link": true
    },
    "kernelspec": {
      "name": "python3",
      "display_name": "Python 3"
    },
    "language_info": {
      "name": "python"
    }
  },
  "cells": [
    {
      "cell_type": "markdown",
      "metadata": {
        "id": "view-in-github",
        "colab_type": "text"
      },
      "source": [
        "<a href=\"https://colab.research.google.com/github/cagBRT/timeSeries/blob/main/10g_Multivariate_Multi_Step_CNN.ipynb\" target=\"_parent\"><img src=\"https://colab.research.google.com/assets/colab-badge.svg\" alt=\"Open In Colab\"/></a>"
      ]
    },
    {
      "cell_type": "markdown",
      "source": [
        "# **Multiple Input Muti-step Output**"
      ],
      "metadata": {
        "id": "s60g8uC1qlp9"
      }
    },
    {
      "cell_type": "markdown",
      "source": [
        "Example of MI-MSOutout<br>\n",
        "[[10 15 25]<br>\n",
        "[20 25 45]<br>\n",
        "[30 35 65]<br>\n",
        "[40 45 85]<br>\n",
        "[50 55 105]<br>\n",
        "[60 65 125]<br>\n",
        "[70 75 145]<br>\n",
        "[80 85 165]<br>\n",
        "[90 95 185]]<br>\n",
        "\n",
        "If we input:<br>\n",
        "10, 15<br>\n",
        "20, 25<br>\n",
        "30, 35<br>\n",
        "\n",
        "Output will be: <br>\n",
        "65<br>\n",
        "85<br>"
      ],
      "metadata": {
        "id": "xVyNwefrqx0i"
      }
    },
    {
      "cell_type": "markdown",
      "source": [
        "**Define the split sequences function**"
      ],
      "metadata": {
        "id": "CquzRBC1vjnU"
      }
    },
    {
      "cell_type": "code",
      "execution_count": null,
      "metadata": {
        "id": "Ao7Pr6GRqYWp"
      },
      "outputs": [],
      "source": [
        "def split_sequences(sequences, n_steps_in, n_steps_out):\n",
        "  X, y = list(), list()\n",
        "  for i in range(len(sequences)):\n",
        "    # find the end of this pattern\n",
        "    end_ix = i + n_steps_in\n",
        "    out_end_ix = end_ix + n_steps_out-1\n",
        "    # check if we are beyond the dataset\n",
        "    if out_end_ix > len(sequences):\n",
        "      break\n",
        "    # gather input and output parts of the pattern\n",
        "    seq_x, seq_y = sequences[i:end_ix, :-1], sequences[end_ix-1:out_end_ix, -1]\n",
        "    X.append(seq_x)\n",
        "    y.append(seq_y)\n",
        "  return array(X), array(y)"
      ]
    },
    {
      "cell_type": "markdown",
      "source": [
        "**Import the libraries**"
      ],
      "metadata": {
        "id": "0ixOFbV7voTw"
      }
    },
    {
      "cell_type": "code",
      "source": [
        "from numpy import array\n",
        "from numpy import hstack\n",
        "from numpy import array\n",
        "from numpy import hstack\n",
        "from keras.models import Sequential\n",
        "from keras.layers import Dense\n",
        "from keras.layers import Flatten\n",
        "from keras.layers.convolutional import Conv1D\n",
        "from keras.layers.convolutional import MaxPooling1D\n",
        "from keras.utils.vis_utils import plot_model"
      ],
      "metadata": {
        "id": "ZDfMBo6rr8fc"
      },
      "execution_count": null,
      "outputs": []
    },
    {
      "cell_type": "markdown",
      "source": [
        "**Prepare the data for the CNN**"
      ],
      "metadata": {
        "id": "RF9JqQOcvrhl"
      }
    },
    {
      "cell_type": "code",
      "source": [
        "in_seq1 = array([10, 20, 30, 40, 50, 60, 70, 80, 90])\n",
        "in_seq2 = array([15, 25, 35, 45, 55, 65, 75, 85, 95])\n",
        "out_seq = array([in_seq1[i]+in_seq2[i] for i in range(len(in_seq1))])"
      ],
      "metadata": {
        "id": "tIvFNcY5r-FX"
      },
      "execution_count": null,
      "outputs": []
    },
    {
      "cell_type": "code",
      "source": [
        "in_seq1 = in_seq1.reshape((len(in_seq1), 1))\n",
        "in_seq2 = in_seq2.reshape((len(in_seq2), 1))\n",
        "out_seq = out_seq.reshape((len(out_seq), 1))"
      ],
      "metadata": {
        "id": "hJ10JTvLtOqh"
      },
      "execution_count": null,
      "outputs": []
    },
    {
      "cell_type": "code",
      "source": [
        "dataset = hstack((in_seq1, in_seq2, out_seq))"
      ],
      "metadata": {
        "id": "C3SXi5CqtTyE"
      },
      "execution_count": null,
      "outputs": []
    },
    {
      "cell_type": "code",
      "source": [
        "n_steps_in, n_steps_out = 3, 2\n",
        "# convert into input/output\n",
        "X, y = split_sequences(dataset, n_steps_in, n_steps_out)\n",
        "n_features=X.shape[2]"
      ],
      "metadata": {
        "id": "iJlyAkVUtf-4"
      },
      "execution_count": null,
      "outputs": []
    },
    {
      "cell_type": "code",
      "source": [
        "print(X.shape, y.shape)\n",
        "# summarize the data\n",
        "for i in range(len(X)):\n",
        "  print(X[i], y[i])"
      ],
      "metadata": {
        "id": "oTkR4ocxti-C"
      },
      "execution_count": null,
      "outputs": []
    },
    {
      "cell_type": "markdown",
      "source": [
        "**Create and train the model**"
      ],
      "metadata": {
        "id": "iC69CoCDvyLI"
      }
    },
    {
      "cell_type": "code",
      "source": [
        "model = Sequential()\n",
        "model.add(Conv1D(24, 2, activation='relu', input_shape=(n_steps_in, n_features))) \n",
        "model.add(MaxPooling1D())\n",
        "model.add(Flatten())\n",
        "model.add(Dense(18, activation='relu'))\n",
        "model.add(Dense(n_steps_out))\n",
        "model.compile(optimizer='adam', loss='mse')"
      ],
      "metadata": {
        "id": "92TZBDQBt7SA"
      },
      "execution_count": null,
      "outputs": []
    },
    {
      "cell_type": "code",
      "source": [
        "model.fit(X, y, epochs=200, verbose=0)"
      ],
      "metadata": {
        "id": "CySrUGbxu3fb"
      },
      "execution_count": null,
      "outputs": []
    },
    {
      "cell_type": "code",
      "source": [
        "model.summary()"
      ],
      "metadata": {
        "id": "U-cW70JDwh9c"
      },
      "execution_count": null,
      "outputs": []
    },
    {
      "cell_type": "code",
      "source": [
        "plot_model(model, show_shapes=True, show_layer_names=True)"
      ],
      "metadata": {
        "id": "Sypw0uetwZHa"
      },
      "execution_count": null,
      "outputs": []
    },
    {
      "cell_type": "markdown",
      "source": [
        "**Make a Prediction**<br>\n",
        "Expecting<br>\n",
        "185, 205"
      ],
      "metadata": {
        "id": "di2gByy6vG-5"
      }
    },
    {
      "cell_type": "code",
      "source": [
        "# demonstrate prediction\n",
        "x_input = array([[70, 75], [80, 85], [90, 95]])\n",
        "x_input = x_input.reshape((1, n_steps_in, n_features))\n",
        "yhat = model.predict(x_input, verbose=0)\n",
        "print(yhat)"
      ],
      "metadata": {
        "id": "yQXkhgpwvBRG"
      },
      "execution_count": null,
      "outputs": []
    },
    {
      "cell_type": "markdown",
      "source": [
        "**Assignment**:<br>\n",
        "1. Modify the number of neurons and epochs to see if you can improve the model"
      ],
      "metadata": {
        "id": "t5QaMinTv5Ga"
      }
    }
  ]
}