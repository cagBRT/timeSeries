{
  "nbformat": 4,
  "nbformat_minor": 0,
  "metadata": {
    "colab": {
      "name": "11j Multivariate Multi-step LSTMs.ipynb",
      "private_outputs": true,
      "provenance": [],
      "authorship_tag": "ABX9TyN1h3lAvkPP21su4Hs+UUo0",
      "include_colab_link": true
    },
    "kernelspec": {
      "name": "python3",
      "display_name": "Python 3"
    },
    "language_info": {
      "name": "python"
    }
  },
  "cells": [
    {
      "cell_type": "markdown",
      "metadata": {
        "id": "view-in-github",
        "colab_type": "text"
      },
      "source": [
        "<a href=\"https://colab.research.google.com/github/cagBRT/timeSeries/blob/main/11j_Multivariate_Multi_step_LSTMs.ipynb\" target=\"_parent\"><img src=\"https://colab.research.google.com/assets/colab-badge.svg\" alt=\"Open In Colab\"/></a>"
      ]
    },
    {
      "cell_type": "markdown",
      "source": [
        "# **Multiple Input Multi-Step Output LSTMs**"
      ],
      "metadata": {
        "id": "Hc_J8WdHL9gg"
      }
    },
    {
      "cell_type": "markdown",
      "source": [
        "There are multivariate time series forecasting problems where the output series is separate but dependent upon the input time series, and multiple time steps are required for the output series. "
      ],
      "metadata": {
        "id": "uDNqO3etDrlZ"
      }
    },
    {
      "cell_type": "markdown",
      "source": [
        "For example:<br>\n",
        "[[10 15 25]<br>\n",
        "[20 25 45]<br>\n",
        "[30 35 65]<br>\n",
        "[40 45 85]<br>\n",
        "[50 55 105]<br>\n",
        "[60 65 125]<br>\n",
        "[70 75 145]<br>\n",
        "[80 85 165]<br>\n",
        "[90 95 185]<br>\n",
        "\n",
        "**Input**:<br>\n",
        "10,15<br>\n",
        "20,25<br>\n",
        "30,35<br>\n",
        "<br>\n",
        "**Output**:<br>\n",
        "65<br>\n",
        "85"
      ],
      "metadata": {
        "id": "WVLR54yqDy3s"
      }
    },
    {
      "cell_type": "code",
      "source": [
        "from numpy import array\n",
        "from numpy import hstack\n",
        "from keras.models import Sequential\n",
        "from keras.layers import LSTM\n",
        "from keras.layers import Dense\n",
        "from keras.utils.vis_utils import plot_model\n",
        "from tensorflow.keras.layers import LeakyReLU"
      ],
      "metadata": {
        "id": "-li-kFlHEupx"
      },
      "execution_count": null,
      "outputs": []
    },
    {
      "cell_type": "code",
      "execution_count": null,
      "metadata": {
        "id": "zXXd1nvOLXPb"
      },
      "outputs": [],
      "source": [
        "def split_sequences(sequences, n_steps_in, n_steps_out):\n",
        "  X, y = list(), list()\n",
        "  for i in range(len(sequences)):\n",
        "    # find the end of this pattern\n",
        "    end_ix = i + n_steps_in\n",
        "    out_end_ix = end_ix + n_steps_out-1\n",
        "    # check if we are beyond the dataset\n",
        "    if out_end_ix > len(sequences):\n",
        "      break\n",
        "    # gather input and output parts of the pattern\n",
        "    seq_x, seq_y = sequences[i:end_ix, :-1], sequences[end_ix-1:out_end_ix, -1]\n",
        "    X.append(seq_x)\n",
        "    y.append(seq_y)\n",
        "  return array(X), array(y)"
      ]
    },
    {
      "cell_type": "code",
      "source": [
        "in_seq1 = array([10, 21, 32, 43, 54, 65, 76, 87, 98])\n",
        "in_seq2 = array([15, 25, 35, 45, 55, 65, 75, 85, 95])\n",
        "out_seq = array([in_seq1[i]-in_seq2[i] for i in range(len(in_seq1))])"
      ],
      "metadata": {
        "id": "kbXDiiY_FC4u"
      },
      "execution_count": null,
      "outputs": []
    },
    {
      "cell_type": "code",
      "source": [
        "# convert to [rows, columns] structure\n",
        "in_seq1 = in_seq1.reshape((len(in_seq1), 1))\n",
        "in_seq2 = in_seq2.reshape((len(in_seq2), 1))\n",
        "out_seq = out_seq.reshape((len(out_seq), 1))\n",
        "# horizontally stack columns\n",
        "dataset = hstack((in_seq1, in_seq2, out_seq))\n",
        "# choose a number of time steps\n",
        "n_steps_in, n_steps_out = 3, 2\n",
        "n_features = X.shape[2]\n",
        "# covert into input/output\n",
        "X, y = split_sequences(dataset, n_steps_in, n_steps_out)\n",
        "print(X.shape, y.shape)"
      ],
      "metadata": {
        "id": "sz1dSjydE4wd"
      },
      "execution_count": null,
      "outputs": []
    },
    {
      "cell_type": "code",
      "source": [
        "# summarize the data\n",
        "for i in range(len(X)):\n",
        "  print(X[i], y[i])"
      ],
      "metadata": {
        "id": "74Em4ZqiFIIe"
      },
      "execution_count": null,
      "outputs": []
    },
    {
      "cell_type": "code",
      "source": [
        "model = Sequential()\n",
        "model.add(LSTM(100, activation='relu', return_sequences=True, input_shape=(n_steps_in,\n",
        "n_features)))\n",
        "model.add(LSTM(100, activation='relu')) \n",
        "model.add(Dense(n_steps_out)) \n",
        "model.compile(optimizer='adam', loss='mse')\n",
        "# fit model\n",
        "model.fit(X, y, epochs=200, verbose=0)\n",
        "# demonstrate prediction"
      ],
      "metadata": {
        "id": "2I8u3wqwFVcu"
      },
      "execution_count": null,
      "outputs": []
    },
    {
      "cell_type": "code",
      "source": [
        "plot_model(model, show_shapes=True, show_layer_names=True)"
      ],
      "metadata": {
        "id": "H_xB2FmpGOjm"
      },
      "execution_count": null,
      "outputs": []
    },
    {
      "cell_type": "markdown",
      "source": [
        "**Make Prediction**<br>\n",
        "Expecting:<br>\n",
        "3,4"
      ],
      "metadata": {
        "id": "WAerO-umGBjG"
      }
    },
    {
      "cell_type": "code",
      "source": [
        "x_input = array([[76, 75], [87, 85], [98, 95]]) \n",
        "x_input = x_input.reshape((1, n_steps_in, n_features)) \n",
        "yhat = model.predict(x_input, verbose=0)\n",
        "print(yhat)"
      ],
      "metadata": {
        "id": "wd3xrGCZFaXY"
      },
      "execution_count": null,
      "outputs": []
    },
    {
      "cell_type": "markdown",
      "source": [
        "**Assignment:**<br>\n",
        "1. Change the input sequence to a more complex pattern, does the model still accurately predict?\n",
        "2. Go out several time steps, what happens to the accuracy?"
      ],
      "metadata": {
        "id": "0TmnY5nVGubl"
      }
    }
  ]
}