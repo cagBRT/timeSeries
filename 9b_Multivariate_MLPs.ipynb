{
  "nbformat": 4,
  "nbformat_minor": 0,
  "metadata": {
    "colab": {
      "name": "9b Multivariate MLPs.ipynb",
      "private_outputs": true,
      "provenance": [],
      "authorship_tag": "ABX9TyOt5zUM+KAB/qI5B2zJksJT",
      "include_colab_link": true
    },
    "kernelspec": {
      "name": "python3",
      "display_name": "Python 3"
    },
    "language_info": {
      "name": "python"
    }
  },
  "cells": [
    {
      "cell_type": "markdown",
      "metadata": {
        "id": "view-in-github",
        "colab_type": "text"
      },
      "source": [
        "<a href=\"https://colab.research.google.com/github/cagBRT/timeSeries/blob/main/9b_Multivariate_MLPs.ipynb\" target=\"_parent\"><img src=\"https://colab.research.google.com/assets/colab-badge.svg\" alt=\"Open In Colab\"/></a>"
      ]
    },
    {
      "cell_type": "markdown",
      "metadata": {
        "id": "Wfgua1e7SWFY"
      },
      "source": [
        "Our split sequence function used in the previous notebooks"
      ]
    },
    {
      "cell_type": "code",
      "metadata": {
        "id": "vtDe5yYrR5dA"
      },
      "source": [
        "# split a multivariate sequence into samples\n",
        "def split_sequences(sequences, n_steps): \n",
        "  X, y = list(), list()\n",
        "  for i in range(len(sequences)):\n",
        "    # find the end of this pattern\n",
        "    end_ix = i + n_steps\n",
        "    # check if we are beyond the dataset\n",
        "    if end_ix > len(sequences): break\n",
        "    # gather input and output parts of the pattern\n",
        "    seq_x, seq_y = sequences[i:end_ix, :-1], sequences[end_ix-1, -1] \n",
        "    X.append(seq_x)\n",
        "    y.append(seq_y)\n",
        "  return array(X), array(y)"
      ],
      "execution_count": null,
      "outputs": []
    },
    {
      "cell_type": "markdown",
      "metadata": {
        "id": "zyHh8bjCPWQ-"
      },
      "source": [
        "# **Multivariate MLP Models**"
      ]
    },
    {
      "cell_type": "markdown",
      "metadata": {
        "id": "8yEJ51-9Pb8B"
      },
      "source": [
        "Multivariate time series data means data where there is more than one observation for each time step."
      ]
    },
    {
      "cell_type": "markdown",
      "metadata": {
        "id": "Wbof-1MTPdlU"
      },
      "source": [
        "There are basically two models that we can use with multivariate time series data:<br>\n",
        "- Multiple Input Series<br>\n",
        "- Multiple Parallel Series<br>\n"
      ]
    },
    {
      "cell_type": "code",
      "metadata": {
        "id": "cinuj1W0QOts"
      },
      "source": [
        "from numpy import array\n",
        "from numpy import hstack"
      ],
      "execution_count": null,
      "outputs": []
    },
    {
      "cell_type": "markdown",
      "metadata": {
        "id": "LvXFi4O0QdJL"
      },
      "source": [
        "An example of a multiple input series. "
      ]
    },
    {
      "cell_type": "code",
      "metadata": {
        "id": "iTg00dOZLxS7"
      },
      "source": [
        "in_seq1 = array([10, 20, 30, 40, 50, 60, 70, 80, 90])\n",
        "in_seq2 = array([15, 25, 35, 45, 55, 65, 75, 85, 95])\n",
        "out_seq = array([in_seq1[i]+in_seq2[i] for i in range(len(in_seq1))])"
      ],
      "execution_count": null,
      "outputs": []
    },
    {
      "cell_type": "code",
      "metadata": {
        "id": "hLMN_mfBQKPz"
      },
      "source": [
        "out_seq"
      ],
      "execution_count": null,
      "outputs": []
    },
    {
      "cell_type": "markdown",
      "metadata": {
        "id": "dNJ5KmWWRIsF"
      },
      "source": [
        "We can reshape these three arrays of data as a single dataset where each row is a time step and each column is a separate time series. <be>\n",
        "\n",
        "This is a standard way of storing parallel time series in a CSV file."
      ]
    },
    {
      "cell_type": "code",
      "metadata": {
        "id": "OupJc0hyRQUw"
      },
      "source": [
        "in_seq1 = in_seq1.reshape((len(in_seq1), 1)) \n",
        "in_seq2 = in_seq2.reshape((len(in_seq2), 1)) \n",
        "out_seq = out_seq.reshape((len(out_seq), 1))"
      ],
      "execution_count": null,
      "outputs": []
    },
    {
      "cell_type": "markdown",
      "metadata": {
        "id": "Rzanlu27RZRF"
      },
      "source": [
        "hstack --> horizontally stack the data "
      ]
    },
    {
      "cell_type": "code",
      "metadata": {
        "id": "q6JZ_WKNRWLl"
      },
      "source": [
        "dataset = hstack((in_seq1, in_seq2, out_seq))"
      ],
      "execution_count": null,
      "outputs": []
    },
    {
      "cell_type": "markdown",
      "metadata": {
        "id": "slOIdUdZRmIX"
      },
      "source": [
        "We get one row per dataset and one column for each input and one for the output"
      ]
    },
    {
      "cell_type": "code",
      "metadata": {
        "id": "yH0yGxkiRgea"
      },
      "source": [
        "dataset"
      ],
      "execution_count": null,
      "outputs": []
    },
    {
      "cell_type": "markdown",
      "metadata": {
        "id": "8aDfc4OyRs-_"
      },
      "source": [
        ""
      ]
    }
  ]
}