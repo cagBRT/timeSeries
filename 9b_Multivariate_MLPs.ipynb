{
  "nbformat": 4,
  "nbformat_minor": 0,
  "metadata": {
    "colab": {
      "name": "9b Multivariate MLPs.ipynb",
      "private_outputs": true,
      "provenance": [],
      "authorship_tag": "ABX9TyNhLWwvS4cPmCvdAtOaANtJ",
      "include_colab_link": true
    },
    "kernelspec": {
      "name": "python3",
      "display_name": "Python 3"
    },
    "language_info": {
      "name": "python"
    }
  },
  "cells": [
    {
      "cell_type": "markdown",
      "metadata": {
        "id": "view-in-github",
        "colab_type": "text"
      },
      "source": [
        "<a href=\"https://colab.research.google.com/github/cagBRT/timeSeries/blob/main/9b_Multivariate_MLPs.ipynb\" target=\"_parent\"><img src=\"https://colab.research.google.com/assets/colab-badge.svg\" alt=\"Open In Colab\"/></a>"
      ]
    },
    {
      "cell_type": "markdown",
      "metadata": {
        "id": "Wfgua1e7SWFY"
      },
      "source": [
        "Our split sequence function used in the previous notebooks"
      ]
    },
    {
      "cell_type": "code",
      "metadata": {
        "id": "vtDe5yYrR5dA"
      },
      "source": [
        "# split a multivariate sequence into samples\n",
        "def split_sequences(sequences, n_steps): \n",
        "  X, y = list(), list()\n",
        "  for i in range(len(sequences)):\n",
        "    # find the end of this pattern\n",
        "    end_ix = i + n_steps\n",
        "    # check if we are beyond the dataset\n",
        "    if end_ix > len(sequences): break\n",
        "    # gather input and output parts of the pattern\n",
        "    seq_x, seq_y = sequences[i:end_ix, :-1], sequences[end_ix-1, -1] \n",
        "    X.append(seq_x)\n",
        "    y.append(seq_y)\n",
        "  return array(X), array(y)"
      ],
      "execution_count": null,
      "outputs": []
    },
    {
      "cell_type": "markdown",
      "metadata": {
        "id": "zyHh8bjCPWQ-"
      },
      "source": [
        "# **Multivariate MLP Models**"
      ]
    },
    {
      "cell_type": "markdown",
      "metadata": {
        "id": "8yEJ51-9Pb8B"
      },
      "source": [
        "Multivariate time series data means data where there is more than one observation for each time step."
      ]
    },
    {
      "cell_type": "markdown",
      "metadata": {
        "id": "Wbof-1MTPdlU"
      },
      "source": [
        "There are basically two models that we can use with multivariate time series data:<br>\n",
        "- Multiple Input Series<br>\n",
        "- Multiple Parallel Series<br>\n"
      ]
    },
    {
      "cell_type": "code",
      "metadata": {
        "id": "cinuj1W0QOts"
      },
      "source": [
        "from numpy import array\n",
        "from numpy import hstack\n",
        "from keras.models import Sequential \n",
        "from keras.layers import Dense"
      ],
      "execution_count": null,
      "outputs": []
    },
    {
      "cell_type": "markdown",
      "metadata": {
        "id": "LvXFi4O0QdJL"
      },
      "source": [
        "An example of a multiple input series. "
      ]
    },
    {
      "cell_type": "code",
      "metadata": {
        "id": "iTg00dOZLxS7"
      },
      "source": [
        "in_seq1 = array([10, 20, 30, 40, 50, 60, 70, 80, 90])\n",
        "in_seq2 = array([15, 25, 35, 45, 55, 65, 75, 85, 95])\n",
        "out_seq = array([in_seq1[i]+in_seq2[i] for i in range(len(in_seq1))])"
      ],
      "execution_count": null,
      "outputs": []
    },
    {
      "cell_type": "code",
      "metadata": {
        "id": "hLMN_mfBQKPz"
      },
      "source": [
        "out_seq"
      ],
      "execution_count": null,
      "outputs": []
    },
    {
      "cell_type": "markdown",
      "metadata": {
        "id": "dNJ5KmWWRIsF"
      },
      "source": [
        "We can reshape these three arrays of data as a single dataset where each row is a time step and each column is a separate time series. <be>\n",
        "\n",
        "This is a standard way of storing parallel time series in a CSV file."
      ]
    },
    {
      "cell_type": "code",
      "metadata": {
        "id": "OupJc0hyRQUw"
      },
      "source": [
        "in_seq1 = in_seq1.reshape((len(in_seq1), 1)) \n",
        "in_seq2 = in_seq2.reshape((len(in_seq2), 1)) \n",
        "out_seq = out_seq.reshape((len(out_seq), 1))"
      ],
      "execution_count": null,
      "outputs": []
    },
    {
      "cell_type": "markdown",
      "metadata": {
        "id": "Rzanlu27RZRF"
      },
      "source": [
        "hstack --> horizontally stack the data "
      ]
    },
    {
      "cell_type": "code",
      "metadata": {
        "id": "q6JZ_WKNRWLl"
      },
      "source": [
        "dataset = hstack((in_seq1, in_seq2, out_seq))"
      ],
      "execution_count": null,
      "outputs": []
    },
    {
      "cell_type": "markdown",
      "metadata": {
        "id": "slOIdUdZRmIX"
      },
      "source": [
        "We get one row per dataset and one column for each input and one for the output"
      ]
    },
    {
      "cell_type": "code",
      "metadata": {
        "id": "yH0yGxkiRgea"
      },
      "source": [
        "dataset"
      ],
      "execution_count": null,
      "outputs": []
    },
    {
      "cell_type": "markdown",
      "metadata": {
        "id": "8aDfc4OyRs-_"
      },
      "source": [
        "Select the number of time steps"
      ]
    },
    {
      "cell_type": "code",
      "metadata": {
        "id": "-ZD7ku2ffVOe"
      },
      "source": [
        "num_steps = 3\n",
        "X,y = split_sequences(dataset,num_steps)\n",
        "print(X.shape, y.shape)"
      ],
      "execution_count": null,
      "outputs": []
    },
    {
      "cell_type": "code",
      "metadata": {
        "id": "dxxO4S0fi8I8"
      },
      "source": [
        "for i in range(len(X)):\n",
        "  print(X[i], y[i])"
      ],
      "execution_count": null,
      "outputs": []
    },
    {
      "cell_type": "markdown",
      "metadata": {
        "id": "BN5CzHeKkgos"
      },
      "source": [
        "**Flatten the input for the MLP**"
      ]
    },
    {
      "cell_type": "markdown",
      "metadata": {
        "id": "m4TUXGiMjGvK"
      },
      "source": [
        "MLPs require the data for each label be entered at the same time. So the inputs must be flattened. "
      ]
    },
    {
      "cell_type": "markdown",
      "metadata": {
        "id": "1wYlnY7AkBUV"
      },
      "source": [
        "For example:<br>\n",
        "[70,75]<br>\n",
        "[80,85]<br>\n",
        "[90,95]<br>\n",
        "<br>\n",
        "Needs to be flattened to:<br>\n",
        "[70,75,80,85,90,95]"
      ]
    },
    {
      "cell_type": "markdown",
      "metadata": {
        "id": "g78Uc3eikfWI"
      },
      "source": [
        "Calculate the length of the flattened data. <br>\n",
        "Then reshape the vector to this size"
      ]
    },
    {
      "cell_type": "code",
      "metadata": {
        "id": "0F4b8CUQkc30"
      },
      "source": [
        "n_input = X.shape[1] * X.shape[2]\n",
        "X = X.reshape((X.shape[0], n_input))"
      ],
      "execution_count": null,
      "outputs": []
    },
    {
      "cell_type": "markdown",
      "metadata": {
        "id": "rhdYVOQ5mb76"
      },
      "source": [
        "**Define and train the model**"
      ]
    },
    {
      "cell_type": "markdown",
      "metadata": {
        "id": "I0F9j57XnQkn"
      },
      "source": [
        "This model is an MLP that accepts flattened time series data."
      ]
    },
    {
      "cell_type": "code",
      "metadata": {
        "id": "_U0rggfjmcWz"
      },
      "source": [
        "model=Sequential()\n",
        "model.add(Dense(100, activation='relu', input_dim=n_input))\n",
        "model.add(Dense(1))\n",
        "model.compile(optimizer='adam', loss='mse')"
      ],
      "execution_count": null,
      "outputs": []
    },
    {
      "cell_type": "code",
      "metadata": {
        "id": "bxGE-JaeobdK"
      },
      "source": [
        "model.fit(X, y, epochs=2000, verbose=0)"
      ],
      "execution_count": null,
      "outputs": []
    },
    {
      "cell_type": "markdown",
      "metadata": {
        "id": "A--bDjqLnxOF"
      },
      "source": [
        "**The prediction**"
      ]
    },
    {
      "cell_type": "code",
      "metadata": {
        "id": "ruA5JpBwnmrO"
      },
      "source": [
        "x_input = array([[80, 85], [90, 95], [100, 105]]) \n",
        "x_input = x_input.reshape((1, n_input))"
      ],
      "execution_count": null,
      "outputs": []
    },
    {
      "cell_type": "code",
      "metadata": {
        "id": "Pk7qBB9hn0is"
      },
      "source": [
        "yhat = model.predict(x_input, verbose=0)\n",
        "print(yhat)"
      ],
      "execution_count": null,
      "outputs": []
    },
    {
      "cell_type": "markdown",
      "metadata": {
        "id": "YRvqR6Pwo5R_"
      },
      "source": [
        "**Assignment 1**<br>\n",
        "Add to the dataset, retrain the model and check the prediction. "
      ]
    },
    {
      "cell_type": "markdown",
      "metadata": {
        "id": "QamehEtKpM-i"
      },
      "source": [
        "**Assignment 2**<br>\n",
        "Change the number of time steps. <br>\n",
        "How does the model perform?"
      ]
    }
  ]
}