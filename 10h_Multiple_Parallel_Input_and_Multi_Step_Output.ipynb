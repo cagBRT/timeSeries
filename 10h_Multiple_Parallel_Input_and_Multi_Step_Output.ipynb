{
  "nbformat": 4,
  "nbformat_minor": 0,
  "metadata": {
    "colab": {
      "name": "10h Multiple Parallel Input and Multi-Step Output.ipynb",
      "private_outputs": true,
      "provenance": [],
      "authorship_tag": "ABX9TyOiSFpleK6E/Rl8nxkeyV3S",
      "include_colab_link": true
    },
    "kernelspec": {
      "name": "python3",
      "display_name": "Python 3"
    },
    "language_info": {
      "name": "python"
    }
  },
  "cells": [
    {
      "cell_type": "markdown",
      "metadata": {
        "id": "view-in-github",
        "colab_type": "text"
      },
      "source": [
        "<a href=\"https://colab.research.google.com/github/cagBRT/timeSeries/blob/main/10h_Multiple_Parallel_Input_and_Multi_Step_Output.ipynb\" target=\"_parent\"><img src=\"https://colab.research.google.com/assets/colab-badge.svg\" alt=\"Open In Colab\"/></a>"
      ]
    },
    {
      "cell_type": "markdown",
      "source": [
        "# **Multiple Parallel Input and Multi-Step Output**"
      ],
      "metadata": {
        "id": "zkIQ-jFaw8wl"
      }
    },
    {
      "cell_type": "markdown",
      "source": [
        "**Example of MI-MSOutout**<br>\n",
        "[[10 15 25]<br>\n",
        "[20 25 45]<br>\n",
        "[30 35 65]<br>\n",
        "[40 45 85]<br>\n",
        "[50 55 105]<br>\n",
        "[60 65 125]<br>\n",
        "[70 75 145]<br>\n",
        "[80 85 165]<br>\n",
        "[90 95 185]]<br>\n",
        "\n",
        "**If we input**:<br>\n",
        "10, 15, 25 <br>\n",
        "20, 25, 45 <br>\n",
        "30,35, 65 <br>\n",
        "\n",
        "**Output will be**: <br>\n",
        "40, 45, 85<br>\n",
        "50, 55, 105<br>"
      ],
      "metadata": {
        "id": "xVyNwefrqx0i"
      }
    },
    {
      "cell_type": "code",
      "execution_count": null,
      "metadata": {
        "id": "qWjglLI2wyIQ"
      },
      "outputs": [],
      "source": [
        "def split_sequences(sequences, n_steps_in, n_steps_out):\n",
        "  X, y = list(), list()\n",
        "  for i in range(len(sequences)):\n",
        "    # find the end of this pattern\n",
        "    end_ix = i + n_steps_in\n",
        "    out_end_ix = end_ix + n_steps_out\n",
        "    # check if we are beyond the dataset\n",
        "    if out_end_ix > len(sequences):\n",
        "      break\n",
        "    # gather input and output parts of the pattern\n",
        "    seq_x, seq_y = sequences[i:end_ix, :], sequences[end_ix:out_end_ix, :]\n",
        "    X.append(seq_x)\n",
        "    y.append(seq_y)\n",
        "  return array(X), array(y)"
      ]
    },
    {
      "cell_type": "code",
      "source": [
        "from numpy import array\n",
        "from numpy import hstack\n",
        "from keras.models import Sequential\n",
        "from keras.layers import Dense\n",
        "from keras.layers import Flatten\n",
        "from keras.layers.convolutional import Conv1D\n",
        "from keras.layers.convolutional import MaxPooling1D\n",
        "from keras.utils.vis_utils import plot_model"
      ],
      "metadata": {
        "id": "YoPhtzvgyl8p"
      },
      "execution_count": null,
      "outputs": []
    },
    {
      "cell_type": "code",
      "source": [
        "in_seq1 = array([10, 20, 30, 40, 50, 60, 70, 80, 90])\n",
        "in_seq2 = array([15, 25, 35, 45, 55, 65, 75, 85, 95])\n",
        "out_seq = array([in_seq1[i]+in_seq2[i] for i in range(len(in_seq1))])"
      ],
      "metadata": {
        "id": "H1k1-HX2yuDI"
      },
      "execution_count": null,
      "outputs": []
    },
    {
      "cell_type": "code",
      "source": [
        "in_seq1 = in_seq1.reshape((len(in_seq1), 1))\n",
        "in_seq2 = in_seq2.reshape((len(in_seq2), 1))\n",
        "out_seq = out_seq.reshape((len(out_seq), 1))"
      ],
      "metadata": {
        "id": "xsIQ36sEyvqY"
      },
      "execution_count": null,
      "outputs": []
    },
    {
      "cell_type": "code",
      "source": [
        "dataset = hstack((in_seq1, in_seq2, out_seq))\n",
        "# choose a number of time steps\n",
        "n_steps_in, n_steps_out = 3, 2"
      ],
      "metadata": {
        "id": "GIZDS-v9yyG9"
      },
      "execution_count": null,
      "outputs": []
    },
    {
      "cell_type": "code",
      "source": [
        "X, y = split_sequences(dataset, n_steps_in, n_steps_out)\n",
        "print(X.shape)\n",
        "print(y.shape)"
      ],
      "metadata": {
        "id": "KIQi_zpwy4Z9"
      },
      "execution_count": null,
      "outputs": []
    },
    {
      "cell_type": "code",
      "source": [
        "# summarize the data\n",
        "for i in range(len(X)):\n",
        "  print(X[i], y[i])"
      ],
      "metadata": {
        "id": "ZvgRXbEUy9r-"
      },
      "execution_count": null,
      "outputs": []
    },
    {
      "cell_type": "code",
      "source": [
        "#flatten the output\n",
        "n_output = y.shape[1] * y.shape[2]\n",
        "y = y.reshape((y.shape[0], n_output))\n",
        "n_features = X.shape[2]"
      ],
      "metadata": {
        "id": "w8iinNazzDUK"
      },
      "execution_count": null,
      "outputs": []
    },
    {
      "cell_type": "code",
      "source": [
        "model = Sequential()\n",
        "model.add(Conv1D(64, 2, activation='relu', input_shape=(n_steps_in, n_features))) \n",
        "model.add(MaxPooling1D())\n",
        "model.add(Flatten())\n",
        "model.add(Dense(50, activation='relu'))\n",
        "model.add(Dense(n_output))\n",
        "model.compile(optimizer='adam', loss='mse')"
      ],
      "metadata": {
        "id": "Y2wf-Vue2hRP"
      },
      "execution_count": null,
      "outputs": []
    },
    {
      "cell_type": "code",
      "source": [
        "model.summary()"
      ],
      "metadata": {
        "id": "r9a4Y92u35NW"
      },
      "execution_count": null,
      "outputs": []
    },
    {
      "cell_type": "code",
      "source": [
        "plot_model(model, show_shapes=True, show_layer_names=True)"
      ],
      "metadata": {
        "id": "TF62X3H53sfi"
      },
      "execution_count": null,
      "outputs": []
    },
    {
      "cell_type": "code",
      "source": [
        "model.fit(X, y, epochs=7000, verbose=0)\n",
        "# demonstrate prediction\n",
        "x_input = array([[60, 65, 125], [70, 75, 145], [80, 85, 165]])\n",
        "x_input = x_input.reshape((1, n_steps_in, n_features))"
      ],
      "metadata": {
        "id": "fSLVEa-L2mh-"
      },
      "execution_count": null,
      "outputs": []
    },
    {
      "cell_type": "markdown",
      "source": [
        "**Make a prediction**<br>\n",
        "**We expect:**<br>\n",
        "90, 95, 185<br>\n",
        "100, 105, 205"
      ],
      "metadata": {
        "id": "ZlSbZ5sA22-e"
      }
    },
    {
      "cell_type": "code",
      "source": [
        "yhat = model.predict(x_input, verbose=0)\n",
        "print(yhat)"
      ],
      "metadata": {
        "id": "DzPV6Jj82qcQ"
      },
      "execution_count": null,
      "outputs": []
    },
    {
      "cell_type": "markdown",
      "source": [
        "**Assignment**:<br>\n",
        "1. Predict for several time steps out <br>\n",
        "2. Change the output sequence equation, how does the model perform now?\n"
      ],
      "metadata": {
        "id": "FByjQgot4BZ9"
      }
    }
  ]
}