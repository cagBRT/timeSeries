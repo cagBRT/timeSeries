{
  "nbformat": 4,
  "nbformat_minor": 0,
  "metadata": {
    "colab": {
      "name": "9d Multiple Parallel Timeseries.ipynb",
      "private_outputs": true,
      "provenance": [],
      "authorship_tag": "ABX9TyNUs9MlitQi9USsyz74fOUn",
      "include_colab_link": true
    },
    "kernelspec": {
      "name": "python3",
      "display_name": "Python 3"
    },
    "language_info": {
      "name": "python"
    }
  },
  "cells": [
    {
      "cell_type": "markdown",
      "metadata": {
        "id": "view-in-github",
        "colab_type": "text"
      },
      "source": [
        "<a href=\"https://colab.research.google.com/github/cagBRT/timeSeries/blob/main/9d_Multiple_Parallel_Timeseries.ipynb\" target=\"_parent\"><img src=\"https://colab.research.google.com/assets/colab-badge.svg\" alt=\"Open In Colab\"/></a>"
      ]
    },
    {
      "cell_type": "markdown",
      "metadata": {
        "id": "Smc6Kjm3fx2v"
      },
      "source": [
        "# **Multiple Parallel series**"
      ]
    },
    {
      "cell_type": "markdown",
      "metadata": {
        "id": "RA32_MVFgCo0"
      },
      "source": [
        "For this timeseries there are multiple parallel time series and a value needs to be predicted for each. "
      ]
    },
    {
      "cell_type": "code",
      "metadata": {
        "id": "fIQGcjHMg2AZ"
      },
      "source": [
        "from numpy import array\n",
        "from numpy import hstack\n",
        "from keras.models import Sequential \n",
        "from keras.layers import Dense"
      ],
      "execution_count": null,
      "outputs": []
    },
    {
      "cell_type": "code",
      "metadata": {
        "id": "_k0pIZVzeXds"
      },
      "source": [
        "# split into samples\n",
        "def split_sequences(sequences, n_steps):  \n",
        "  X, y = list(), list()\n",
        "  for i in range(len(sequences)):\n",
        "    # find the end of this pattern\n",
        "    end_ix = i + n_steps\n",
        "    # check if we are beyond the dataset\n",
        "    if end_ix > len(sequences): \n",
        "      break\n",
        "    # gather input and output parts of the pattern\n",
        "    seq_x, seq_y = sequences[i:end_ix, :-1], sequences[end_ix-1, -1] \n",
        "    X.append(seq_x)\n",
        "    y.append(seq_y)\n",
        "  return array(X), array(y)"
      ],
      "execution_count": null,
      "outputs": []
    },
    {
      "cell_type": "markdown",
      "metadata": {
        "id": "EntCGtpjiNFN"
      },
      "source": [
        "Create and prepare the data"
      ]
    },
    {
      "cell_type": "code",
      "metadata": {
        "id": "M5TTGdfqhEJR"
      },
      "source": [
        "in_seq1 = array([10, 20, 30, 40, 50, 60, 70,80, 90]) \n",
        "in_seq2 = array([15, 25, 35, 45, 55, 65, 75, 85, 95])\n",
        "out_seq = array([in_seq1[i]+in_seq2[i] for i in range(len(in_seq1))])\n",
        "# convert to [rows, columns] structure \n",
        "in_seq1 = in_seq1.reshape((len(in_seq1), 1)) \n",
        "in_seq2 = in_seq2.reshape((len(in_seq2), 1)) \n",
        "out_seq = out_seq.reshape((len(out_seq), 1)) \n",
        "dataset = hstack((in_seq1, in_seq2, out_seq))"
      ],
      "execution_count": null,
      "outputs": []
    },
    {
      "cell_type": "code",
      "source": [
        "dataset"
      ],
      "metadata": {
        "id": "oJz0xec61S8W"
      },
      "execution_count": null,
      "outputs": []
    },
    {
      "cell_type": "code",
      "metadata": {
        "id": "dWv4Aei3i76P"
      },
      "source": [
        "n_steps=3"
      ],
      "execution_count": null,
      "outputs": []
    },
    {
      "cell_type": "markdown",
      "metadata": {
        "id": "6eNt6I5emyhc"
      },
      "source": [
        "Note there are three outputs for this dataset.<br>\n",
        "\n",
        "The first sequence: [10,20,30] output is 40<br>\n",
        "Second sequence: [15,25,35] output is 45<br>\n",
        "Third sequence: [25,45,65] output is 85"
      ]
    },
    {
      "cell_type": "code",
      "metadata": {
        "id": "_0QieWlEpEXo"
      },
      "source": [
        "X, y = split_sequences(dataset, n_steps)\n"
      ],
      "execution_count": null,
      "outputs": []
    },
    {
      "cell_type": "code",
      "metadata": {
        "id": "OqGMwXstmeV9"
      },
      "source": [
        "print(X.shape, y.shape,\"\\n\")\n",
        "# summarize the data\n",
        "for i in range(len(X)):\n",
        "  print(X[i], y[i])"
      ],
      "execution_count": null,
      "outputs": []
    },
    {
      "cell_type": "markdown",
      "metadata": {
        "id": "JEFCJ1rQn1hl"
      },
      "source": [
        "Flatten the 3d structure to a 2d structure<br>\n",
        "[samples,features]"
      ]
    },
    {
      "cell_type": "code",
      "source": [
        "n_input = X.shape[1] * X.shape[2]\n",
        "X = X.reshape((X.shape[0], n_input))"
      ],
      "metadata": {
        "id": "RiWi3q8jHBxV"
      },
      "execution_count": null,
      "outputs": []
    },
    {
      "cell_type": "markdown",
      "metadata": {
        "id": "w-u3LRh9nnsa"
      },
      "source": [
        "**Create the model**<br>\n",
        "The model will have one output element for each of the time series"
      ]
    },
    {
      "cell_type": "code",
      "metadata": {
        "id": "GhQUYiH8oFA9"
      },
      "source": [
        "model = Sequential()\n",
        "model.add(Dense(100, activation='relu', input_dim=n_input)) \n",
        "model.add(Dense(n_output))\n",
        "model.compile(optimizer='adam', loss='mse')"
      ],
      "execution_count": null,
      "outputs": []
    },
    {
      "cell_type": "markdown",
      "metadata": {
        "id": "jRVnuSjUpcAH"
      },
      "source": [
        "**Train the model**"
      ]
    },
    {
      "cell_type": "code",
      "metadata": {
        "id": "JxhhArPBpXwI"
      },
      "source": [
        "model.fit(X, y, epochs=2000, verbose=0)"
      ],
      "execution_count": null,
      "outputs": []
    },
    {
      "cell_type": "markdown",
      "metadata": {
        "id": "NkXnCPD4pk7q"
      },
      "source": [
        "**Make predictions**"
      ]
    },
    {
      "cell_type": "code",
      "metadata": {
        "id": "Zv3uhURjphSK"
      },
      "source": [
        "x_input = array([[80,85], [90,95], [100,105]]) \n",
        "x_input = x_input.reshape((1, n_input))\n",
        "yhat = model.predict(x_input, verbose=0)\n",
        "print(yhat)"
      ],
      "execution_count": null,
      "outputs": []
    },
    {
      "cell_type": "markdown",
      "metadata": {
        "id": "1yMhbgXcp0WM"
      },
      "source": [
        "Assignment <br>\n",
        "1. Modify the dataset \n",
        "2. Add an additional sequence to the dataset and modify the model to fit the new data"
      ]
    }
  ]
}