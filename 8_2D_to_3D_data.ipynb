{
  "nbformat": 4,
  "nbformat_minor": 0,
  "metadata": {
    "colab": {
      "name": "8 2D to 3D data.ipynb",
      "private_outputs": true,
      "provenance": [],
      "authorship_tag": "ABX9TyPnl3k2kX8NgFpb6SgIgcdy",
      "include_colab_link": true
    },
    "kernelspec": {
      "name": "python3",
      "display_name": "Python 3"
    },
    "language_info": {
      "name": "python"
    }
  },
  "cells": [
    {
      "cell_type": "markdown",
      "metadata": {
        "id": "view-in-github",
        "colab_type": "text"
      },
      "source": [
        "<a href=\"https://colab.research.google.com/github/cagBRT/timeSeries/blob/main/8_2D_to_3D_data.ipynb\" target=\"_parent\"><img src=\"https://colab.research.google.com/assets/colab-badge.svg\" alt=\"Open In Colab\"/></a>"
      ]
    },
    {
      "cell_type": "code",
      "metadata": {
        "id": "dEtYiqJC5kZ3"
      },
      "source": [
        "!git clone -l -s https://github.com/cagBRT/timeSeries.git cloned-repo\n",
        "%cd cloned-repo"
      ],
      "execution_count": null,
      "outputs": []
    },
    {
      "cell_type": "markdown",
      "metadata": {
        "id": "0nuibJTVuzzC"
      },
      "source": [
        "Time series forecasting is difficult. Time series problems add the complexity of order dependence between observations."
      ]
    },
    {
      "cell_type": "markdown",
      "metadata": {
        "id": "6RWsSM1lvJfD"
      },
      "source": [
        "Time series forecasting has been dominated by linear methods like ARIMA because they are well understood and effective on many problems. \n",
        "\n",
        "Classical methods have some limitations:\n",
        "- Focus on complete data: missing or corrupt data is generally unsupported\n",
        "-Focus on linear relationships: assuming a linear relationship excludes more complex joint distributions.\n",
        "\n",
        "- Focus on fixed temporal dependence: the relationship between observations at different times, and in turn the number of lag observations provided as input, must be diagnosed and specified.\n",
        "- Focus on univariate data: many real-world problems have multiple input variables. \n",
        "- Focus on one-step forecasts: many real-world problems require forecasts with a long\n",
        "time horizon.\n",
        "\n",
        "Source: Deep Learning for Time-Series Analysis, 2017."
      ]
    },
    {
      "cell_type": "markdown",
      "metadata": {
        "id": "ftzS9_8v53t_"
      },
      "source": [
        "# **Using time series data in CNNs and LSTMs**"
      ]
    },
    {
      "cell_type": "markdown",
      "metadata": {
        "id": "TUf652ab6Os4"
      },
      "source": [
        "CNN's convolutions are popularly known to work on spatial or 2D data. <br>\n",
        "\n",
        "There are also convolutions for 1D data . This allows a CNN to be used with texts and other time series data. Instead of extracting spatial information, you use 1D convolutions to extract information along the time dimension"
      ]
    },
    {
      "cell_type": "markdown",
      "metadata": {
        "id": "kTfDyZAl6BA5"
      },
      "source": [
        "**Step 1: Convert the data to three dimensions**"
      ]
    },
    {
      "cell_type": "markdown",
      "metadata": {
        "id": "5KN2CQnT3Q-O"
      },
      "source": [
        "To use data in a CNN or LSTM, we will need to convert the data to three dimensional data.<br>\n",
        "\n",
        "The input to every CNN and LSTM layer must be three-dimensional.<br>"
      ]
    },
    {
      "cell_type": "code",
      "metadata": {
        "id": "xcWGiHyy5u6O"
      },
      "source": [
        "from IPython.display import Image\n",
        "Image(\"timeseries.png\" , width=640)"
      ],
      "execution_count": null,
      "outputs": []
    },
    {
      "cell_type": "markdown",
      "metadata": {
        "id": "QcI7ive36na8"
      },
      "source": [
        "There's also conv3D operations which applies spatial convolutions over volumes.<br>\n",
        "Conv3D is useful for sequence of images like MRI scans or videos"
      ]
    },
    {
      "cell_type": "code",
      "metadata": {
        "id": "kseMNtS34qEN"
      },
      "source": [
        "from numpy import array"
      ],
      "execution_count": null,
      "outputs": []
    },
    {
      "cell_type": "markdown",
      "metadata": {
        "id": "PBibm4Jf7-Y9"
      },
      "source": [
        "A supervised learning algorithm requires that data is provided as a collection of samples,\n",
        "where each sample has:<br>\n",
        "- an input component (X)<br>\n",
        "- an output component (y)."
      ]
    },
    {
      "cell_type": "markdown",
      "metadata": {
        "id": "1n9d3wAv6lvl"
      },
      "source": [
        "**In this notebook we'll transform 2D data to 3D data**"
      ]
    },
    {
      "cell_type": "markdown",
      "metadata": {
        "id": "TAxaA26W7CnJ"
      },
      "source": [
        "**Define a function to split the data into samples**"
      ]
    },
    {
      "cell_type": "code",
      "metadata": {
        "id": "XdYX-QXz4s2u"
      },
      "source": [
        "def split_sequence(sequence, n_steps): \n",
        "  X, y = list(), list()\n",
        "  for i in range(len(sequence)):\n",
        "    # find the end of this pattern\n",
        "    end_ix = i + n_steps\n",
        "    # check if we are beyond the sequence\n",
        "    if end_ix > len(sequence)-1: \n",
        "      break\n",
        "    # gather input and output parts of the pattern\n",
        "    seq_x, seq_y = sequence[i:end_ix], sequence[end_ix] \n",
        "    X.append(seq_x)\n",
        "    y.append(seq_y)\n",
        "  return array(X), array(y)"
      ],
      "execution_count": null,
      "outputs": []
    },
    {
      "cell_type": "markdown",
      "metadata": {
        "id": "JH9Lqc7B6tjJ"
      },
      "source": [
        "**The data**"
      ]
    },
    {
      "cell_type": "markdown",
      "metadata": {
        "id": "wxfxE9X27UZY"
      },
      "source": [
        "Begin with 1 dimensional data"
      ]
    },
    {
      "cell_type": "code",
      "metadata": {
        "id": "dQ-sJ4eR4zEa"
      },
      "source": [
        "series = array([1, 2, 3, 4, 5, 6, 7, 8, 9, 10]) \n",
        "print(series.shape)"
      ],
      "execution_count": null,
      "outputs": []
    },
    {
      "cell_type": "markdown",
      "metadata": {
        "id": "6I6UMXRo8fdi"
      },
      "source": [
        "Our 10-step univariate series can be expressed as a supervised learning problem with three time steps for input and one step as output, as follows:<br>\n",
        "X_______y<br>\n",
        "[1, 2, 3], [4]<br>\n",
        "[2, 3, 4], [5]<br>\n",
        "[3, 4, 5], [6]<br>\n",
        "...<br>"
      ]
    },
    {
      "cell_type": "markdown",
      "metadata": {
        "id": "CR-_N2yj7jgS"
      },
      "source": [
        "Split the dataset into series of length 3"
      ]
    },
    {
      "cell_type": "code",
      "metadata": {
        "id": "a1X2RvSr413D"
      },
      "source": [
        "X, y = split_sequence(series, 3)\n",
        "print(\"data shape\",X.shape,\"label shape=\", y.shape)"
      ],
      "execution_count": null,
      "outputs": []
    },
    {
      "cell_type": "code",
      "metadata": {
        "id": "09luxEeP5VZp"
      },
      "source": [
        "X"
      ],
      "execution_count": null,
      "outputs": []
    },
    {
      "cell_type": "code",
      "metadata": {
        "id": "bLsAwaep44wc"
      },
      "source": [
        "X = X.reshape((X.shape[0], X.shape[1], 1))\n",
        "print(X.shape)"
      ],
      "execution_count": null,
      "outputs": []
    },
    {
      "cell_type": "code",
      "metadata": {
        "id": "LjYhKC4b5Y4f"
      },
      "source": [
        "X"
      ],
      "execution_count": null,
      "outputs": []
    },
    {
      "cell_type": "code",
      "metadata": {
        "id": "YML4vqh-9NED"
      },
      "source": [
        "y"
      ],
      "execution_count": null,
      "outputs": []
    },
    {
      "cell_type": "markdown",
      "metadata": {
        "id": "5BlLHEzX8R_D"
      },
      "source": [
        "**Assignment**<br>\n",
        "Add more data to the sample dataset and split it into samples"
      ]
    },
    {
      "cell_type": "markdown",
      "metadata": {
        "id": "UsGPISRbNLiI"
      },
      "source": [
        "**Another example**"
      ]
    },
    {
      "cell_type": "code",
      "metadata": {
        "id": "d7jdnKspNUOs"
      },
      "source": [
        "# define univariate time series\n",
        "series = array([32, 44, 65, 4, 76, 23, 71, 1, 94, 101]) \n",
        "print(series.shape)"
      ],
      "execution_count": null,
      "outputs": []
    },
    {
      "cell_type": "code",
      "metadata": {
        "id": "6jM0hwlLNniK"
      },
      "source": [
        "# transform to a supervised learning problem\n",
        "X, y = split_sequence(series, 5)\n",
        "print(X.shape, y.shape) # show each sample"
      ],
      "execution_count": null,
      "outputs": []
    },
    {
      "cell_type": "code",
      "metadata": {
        "id": "9HYzBvfLNPON"
      },
      "source": [
        "for i in range(len(X)):\n",
        "  print(X[i], y[i])"
      ],
      "execution_count": null,
      "outputs": []
    },
    {
      "cell_type": "markdown",
      "metadata": {
        "id": "nIrpQKIZOSIG"
      },
      "source": [
        "Preparing time series data for CNNs and LSTMs requires one additional step beyond transforming the data into a supervised learning problem"
      ]
    },
    {
      "cell_type": "markdown",
      "metadata": {
        "id": "VaOGkJ4BOhaP"
      },
      "source": [
        "*The input layer* for CNN and LSTM models is specified by the *input shape argument* on the first hidden layer of the network."
      ]
    },
    {
      "cell_type": "markdown",
      "metadata": {
        "id": "Hnt47_wTO5xC"
      },
      "source": [
        "# LSTM without an input layer<br>\n",
        "...<br>\n",
        "model = Sequential() <br>\n",
        "model.add(LSTM(32)) <br>\n",
        "model.add(Dense(1))<br>"
      ]
    },
    {
      "cell_type": "markdown",
      "metadata": {
        "id": "j41N10CaPxb3"
      },
      "source": [
        "This LSTM() layer specifies the shape of the input data. \n",
        "The input to every CNN and LSTM layer must be three-dimensional\n",
        "The three dimensions are: <br>\n",
        ">Samples<br>\n",
        "Time Steps<br>\n",
        "Features<br>\n",
        "\n",
        "We use the notation: [samples, timesteps, features]<br>"
      ]
    },
    {
      "cell_type": "markdown",
      "metadata": {
        "id": "4lmd4bf9Pqum"
      },
      "source": [
        "# LLSTM with an input layer\n",
        "\n",
        "When defining the input layer of your LSTM network, the network assumes you have one or more samples and requires that you specify the number of time steps and the number of features. You can do this by specifying a tuple to the input shape argument.\n",
        "\n",
        "...<br>\n",
        "model = Sequential()<br>\n",
        "model.add(LSTM(32, input_shape=(3, 1))) <br>\n",
        "model.add(Dense(1))<br>"
      ]
    },
    {
      "cell_type": "markdown",
      "metadata": {
        "id": "M8_4C7tgQSD6"
      },
      "source": [
        "For example, if we have 7 samples and 3 time steps per sample for the input element of our time series, we can reshape it into [7, 3, 1] by providing a tuple to the reshape() function specifying the desired new shape of (7, 3, 1). <br>\n",
        "\n",
        "The array must have enough data to support the new shape, which in this case it does as [7, 3] and [7, 3, 1] are functionally the same thing.<br>\n"
      ]
    },
    {
      "cell_type": "markdown",
      "metadata": {
        "id": "Xy5Q23hIQ3Fo"
      },
      "source": [
        "To transform input from [samples, features] to [samples, timesteps, features]<br>\n",
        "...\n",
        "\n",
        "X = X.reshape((7, 3, 1))"
      ]
    },
    {
      "cell_type": "markdown",
      "metadata": {
        "id": "9J_WdTEIQ_xI"
      },
      "source": [
        "To transform input from [samples, features] to [samples, timesteps, features]\n",
        "\n",
        "\n",
        "...\n",
        "X = X.reshape((X.shape[0], X.shape[1], 1))"
      ]
    },
    {
      "cell_type": "markdown",
      "metadata": {
        "id": "px_WJc5vRHUE"
      },
      "source": [
        "# **Transform a univariate 2d to 3d**\n"
      ]
    },
    {
      "cell_type": "code",
      "metadata": {
        "id": "NLxv-rkoOiao"
      },
      "source": [
        "# define univariate time series\n",
        "series = array([1, 2, 3, 4, 5, 6, 7, 8, 9, 10]) \n",
        "print(series.shape)"
      ],
      "execution_count": null,
      "outputs": []
    },
    {
      "cell_type": "code",
      "metadata": {
        "id": "dK7cNw8pRap2"
      },
      "source": [
        "# transform to a supervised learning problem\n",
        "X, y = split_sequence(series, 3)\n",
        "print(X.shape, y.shape)"
      ],
      "execution_count": null,
      "outputs": []
    },
    {
      "cell_type": "code",
      "metadata": {
        "id": "E5hmf9yIBa8Z"
      },
      "source": [
        "X, y = split_sequence(series, 3)\n",
        "print(X.shape, y.shape)"
      ],
      "execution_count": null,
      "outputs": []
    },
    {
      "cell_type": "code",
      "metadata": {
        "id": "mzCAQBxSBezy"
      },
      "source": [
        "# transform input from [samples, features] to [samples, timesteps, features] \n",
        "X = X.reshape((X.shape[0], X.shape[1], 1))\n",
        "print(X.shape)\n",
        "\n",
        "#7 samples, 3 time steps, 1 feature"
      ],
      "execution_count": null,
      "outputs": []
    },
    {
      "cell_type": "markdown",
      "metadata": {
        "id": "pZoplvDDB7Q3"
      },
      "source": [
        "**Assignment**<br>\n",
        "Modify the following array to be 3 dimensional<br>\n",
        "It should have <br>\n",
        "- 500 samples<br>\n",
        "- Time steps = 5"
      ]
    },
    {
      "cell_type": "code",
      "metadata": {
        "id": "Vs-8HycACELT"
      },
      "source": [
        "import numpy as np\n",
        "randomSeries = np.random.randint(0,100, size=1000)\n",
        "print(randomSeries.shape)"
      ],
      "execution_count": null,
      "outputs": []
    },
    {
      "cell_type": "code",
      "metadata": {
        "cellView": "form",
        "id": "q__37rDCDP6V"
      },
      "source": [
        "#@title\n",
        "X, y = split_sequence(randomSeries, 500)\n",
        "print(X.shape, y.shape)"
      ],
      "execution_count": null,
      "outputs": []
    },
    {
      "cell_type": "code",
      "metadata": {
        "cellView": "form",
        "id": "tNvoEyhnDV4K"
      },
      "source": [
        "#@title\n",
        "X, y = split_sequence(randomSeries, 500)\n",
        "print(X.shape, y.shape)"
      ],
      "execution_count": null,
      "outputs": []
    },
    {
      "cell_type": "code",
      "metadata": {
        "cellView": "form",
        "id": "521gSJxuDYpe"
      },
      "source": [
        "#@title\n",
        "# transform input from [samples, features] to [samples, timesteps, features] \n",
        "X = X.reshape((X.shape[0], X.shape[1], 1))\n",
        "print(X.shape)\n",
        "\n",
        "#7 samples, 3 time steps, 1 feature"
      ],
      "execution_count": null,
      "outputs": []
    }
  ]
}