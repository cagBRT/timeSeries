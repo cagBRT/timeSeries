{
  "nbformat": 4,
  "nbformat_minor": 0,
  "metadata": {
    "colab": {
      "name": "9g Multivariate and Multi-step MLP.ipynb",
      "private_outputs": true,
      "provenance": [],
      "authorship_tag": "ABX9TyPTVfxGfb1apmsLtcb9mioc",
      "include_colab_link": true
    },
    "kernelspec": {
      "name": "python3",
      "display_name": "Python 3"
    },
    "language_info": {
      "name": "python"
    }
  },
  "cells": [
    {
      "cell_type": "markdown",
      "metadata": {
        "id": "view-in-github",
        "colab_type": "text"
      },
      "source": [
        "<a href=\"https://colab.research.google.com/github/cagBRT/timeSeries/blob/main/9g_Multivariate_and_Multi_step_MLP.ipynb\" target=\"_parent\"><img src=\"https://colab.research.google.com/assets/colab-badge.svg\" alt=\"Open In Colab\"/></a>"
      ]
    },
    {
      "cell_type": "markdown",
      "source": [
        "# **Multivariate, Multi-step MLPs**\n",
        "\n"
      ],
      "metadata": {
        "id": "rZOsnlmzFlks"
      }
    },
    {
      "cell_type": "markdown",
      "source": [
        "Multivariate, Multi-step models are a little harder than the previous MLPs that we looked at. <br>\n",
        "Preparing the data and defining the inputs and output can be a bit more difficult. "
      ],
      "metadata": {
        "id": "0fjmvobCFAg8"
      }
    },
    {
      "cell_type": "markdown",
      "source": [
        "In this notebook we will look at two different models:<BR>\n",
        "1. Multiple Input Multi-step Output\n",
        "2. Multiple Parallel Input and Multi-step Output"
      ],
      "metadata": {
        "id": "p5rZT_ZgGRZk"
      }
    },
    {
      "cell_type": "markdown",
      "source": [
        "**Multiple Input Multi-Step Output**"
      ],
      "metadata": {
        "id": "EJVNfS9WGkcd"
      }
    },
    {
      "cell_type": "markdown",
      "source": [
        "We can have a multivariate time series where the output series is separate but dependent on the the input series and mutiple time steps. "
      ],
      "metadata": {
        "id": "mZ0U3wwuG3L1"
      }
    },
    {
      "cell_type": "markdown",
      "source": [
        "For example:<BR>\n",
        "A multivariate time series <br>\n",
        "[input, input, output]<br>\n",
        "[[10 15 25]<br>\n",
        " [20,25,45]<br>\n",
        " [30,35,65]<br>\n",
        " [ 40 45 85]<br>\n",
        " [ 50 55 105]<br>\n",
        " [ 60 65 125] <br>\n",
        " [ 70 75 145]<br>\n",
        " [ 80 85 165]<br>\n",
        " [ 90 95 185]]"
      ],
      "metadata": {
        "id": "kiH-KzDTHmVD"
      }
    },
    {
      "cell_type": "markdown",
      "source": [
        "If we use three steps of each of the two input series to predict two outputs<br>\n",
        "For example: <br>\n",
        "**input________output**<br>\n",
        "10,15<br>\n",
        "20,25________65<br>\n",
        "30,35________85<br>"
      ],
      "metadata": {
        "id": "EJ9-_QkdMPBv"
      }
    },
    {
      "cell_type": "markdown",
      "source": [
        "This split sequencess function is used to create the muti-step forecast for a dependent series"
      ],
      "metadata": {
        "id": "6J3ROvs-RLsr"
      }
    },
    {
      "cell_type": "code",
      "execution_count": null,
      "metadata": {
        "id": "vAwUJuBtEzJt"
      },
      "outputs": [],
      "source": [
        "def split_sequences(sequences, n_steps_in, n_steps_out): \n",
        "  X, y = list(), list()\n",
        "  for i in range(len(sequences)):\n",
        "    # find the end of this pattern\n",
        "    end_ix = i + n_steps_in\n",
        "    out_end_ix = end_ix + n_steps_out-1 \n",
        "    # check if we are beyond the dataset \n",
        "    if out_end_ix > len(sequences):\n",
        "      break\n",
        "    # gather input and output parts of the pattern\n",
        "    seq_x, seq_y = sequences[i:end_ix, :-1], sequences[end_ix-1:out_end_ix, -1] \n",
        "    X.append(seq_x)\n",
        "    y.append(seq_y)\n",
        "  return array(X), array(y)"
      ]
    },
    {
      "cell_type": "markdown",
      "source": [
        "**Import Libraries**"
      ],
      "metadata": {
        "id": "K3ShxOFwVY08"
      }
    },
    {
      "cell_type": "code",
      "source": [
        "from numpy import array\n",
        "from numpy import hstack\n",
        "from numpy import array\n",
        "from numpy import hstack\n",
        "from keras.models import Sequential\n",
        "from keras.layers import Dense"
      ],
      "metadata": {
        "id": "zghuWWvhI9Y9"
      },
      "execution_count": null,
      "outputs": []
    },
    {
      "cell_type": "markdown",
      "source": [
        "**Create the dataset**"
      ],
      "metadata": {
        "id": "apxJ9XzjVdyG"
      }
    },
    {
      "cell_type": "code",
      "source": [
        "in_seq1 = array([10, 20, 30, 40, 50, 60, 70, 80, 90]) \n",
        "in_seq2 = array([15, 25, 35, 45, 55, 65, 75, 85, 95])\n",
        "out_seq = array([in_seq1[i]+in_seq2[i] for i in range(len(in_seq1))])"
      ],
      "metadata": {
        "id": "SBthkHorI9b8"
      },
      "execution_count": null,
      "outputs": []
    },
    {
      "cell_type": "code",
      "source": [
        "in_seq1 = in_seq1.reshape((len(in_seq1), 1))\n",
        "in_seq2 = in_seq2.reshape((len(in_seq2), 1))\n",
        "out_seq = out_seq.reshape((len(out_seq), 1))"
      ],
      "metadata": {
        "id": "V3DcQxoTJMOI"
      },
      "execution_count": null,
      "outputs": []
    },
    {
      "cell_type": "code",
      "source": [
        "dataset = hstack((in_seq1, in_seq2, out_seq))\n",
        "dataset"
      ],
      "metadata": {
        "id": "bCb1lPfaJP6q"
      },
      "execution_count": null,
      "outputs": []
    },
    {
      "cell_type": "markdown",
      "source": [
        "**Define the input and output steps**"
      ],
      "metadata": {
        "id": "JJUlki3JVtWG"
      }
    },
    {
      "cell_type": "code",
      "source": [
        "n_steps_in, n_steps_out = 3, 2"
      ],
      "metadata": {
        "id": "89i36N-_JT9f"
      },
      "execution_count": null,
      "outputs": []
    },
    {
      "cell_type": "code",
      "source": [
        "X, y = split_sequences(dataset, n_steps_in, n_steps_out) \n",
        "print(X.shape, y.shape)"
      ],
      "metadata": {
        "id": "rzLLPc34JY2_"
      },
      "execution_count": null,
      "outputs": []
    },
    {
      "cell_type": "code",
      "source": [
        "for i in range(len(X)):\n",
        "  print(X[i], y[i])"
      ],
      "metadata": {
        "id": "ABGvjMxuJds-"
      },
      "execution_count": null,
      "outputs": []
    },
    {
      "cell_type": "code",
      "source": [
        "# flatten input\n",
        "n_input = X.shape[1] * X.shape[2]\n",
        "X = X.reshape((X.shape[0], n_input))"
      ],
      "metadata": {
        "id": "Jfvqs0aoTzxv"
      },
      "execution_count": null,
      "outputs": []
    },
    {
      "cell_type": "markdown",
      "source": [
        "**Create the model**"
      ],
      "metadata": {
        "id": "xCBeoNthePfO"
      }
    },
    {
      "cell_type": "code",
      "source": [
        "model = Sequential()\n",
        "model.add(Dense(100, activation='relu', input_dim=n_input)) \n",
        "model.add(Dense(n_steps_out)) \n",
        "model.compile(optimizer='adam', loss='mse')"
      ],
      "metadata": {
        "id": "nTMNqRcUUJ19"
      },
      "execution_count": null,
      "outputs": []
    },
    {
      "cell_type": "code",
      "source": [
        "model.summary()"
      ],
      "metadata": {
        "id": "3a8XaRKiUwtX"
      },
      "execution_count": null,
      "outputs": []
    },
    {
      "cell_type": "markdown",
      "source": [
        "**Train the model**"
      ],
      "metadata": {
        "id": "5bPyLha1VWT4"
      }
    },
    {
      "cell_type": "code",
      "source": [
        "model.fit(X, y, epochs=2000, verbose=0)"
      ],
      "metadata": {
        "id": "v4pE7xejUR-N"
      },
      "execution_count": null,
      "outputs": []
    },
    {
      "cell_type": "markdown",
      "source": [
        "We are expecting the next two steps to be<br>\n",
        "185 and 205"
      ],
      "metadata": {
        "id": "QithPF6Deg36"
      }
    },
    {
      "cell_type": "code",
      "source": [
        "x_input = array([[70, 75], [80, 85], [90, 95]])\n",
        "x_input = x_input.reshape((1, n_input))\n",
        "yhat = model.predict(x_input, verbose=0)\n",
        "print(yhat)"
      ],
      "metadata": {
        "id": "dGiORJfdUWPp"
      },
      "execution_count": null,
      "outputs": []
    }
  ]
}