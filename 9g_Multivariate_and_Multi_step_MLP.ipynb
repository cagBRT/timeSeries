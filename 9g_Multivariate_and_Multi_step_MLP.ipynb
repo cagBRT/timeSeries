{
  "nbformat": 4,
  "nbformat_minor": 0,
  "metadata": {
    "colab": {
      "name": "9g Multivariate and Multi-step MLP.ipynb",
      "private_outputs": true,
      "provenance": [],
      "authorship_tag": "ABX9TyNl+Y0+Qc1gwFv8lVuRsRa1",
      "include_colab_link": true
    },
    "kernelspec": {
      "name": "python3",
      "display_name": "Python 3"
    },
    "language_info": {
      "name": "python"
    }
  },
  "cells": [
    {
      "cell_type": "markdown",
      "metadata": {
        "id": "view-in-github",
        "colab_type": "text"
      },
      "source": [
        "<a href=\"https://colab.research.google.com/github/cagBRT/timeSeries/blob/main/9g_Multivariate_and_Multi_step_MLP.ipynb\" target=\"_parent\"><img src=\"https://colab.research.google.com/assets/colab-badge.svg\" alt=\"Open In Colab\"/></a>"
      ]
    },
    {
      "cell_type": "markdown",
      "source": [
        "# **Multivariate, Multi-step MLPs**\n",
        "\n"
      ],
      "metadata": {
        "id": "rZOsnlmzFlks"
      }
    },
    {
      "cell_type": "markdown",
      "source": [
        "Multivariate, Multi-step models are a little harder than the previous MLPs that we looked at. <br>\n",
        "Preparing the data and defining the inputs and output can be a bit more difficult. "
      ],
      "metadata": {
        "id": "0fjmvobCFAg8"
      }
    },
    {
      "cell_type": "markdown",
      "source": [
        "In this notebook we will look at two different models:<BR>\n",
        "1. Multiple Input Multi-step Output\n",
        "2. Multiple Parallel Input and Multi-step Output"
      ],
      "metadata": {
        "id": "p5rZT_ZgGRZk"
      }
    },
    {
      "cell_type": "markdown",
      "source": [
        "**Multiple Input Multi-Step Output**"
      ],
      "metadata": {
        "id": "EJVNfS9WGkcd"
      }
    },
    {
      "cell_type": "markdown",
      "source": [
        "We can have a multivariate time series where the output series is separate but dependent on the the input series and mutiple time steps. "
      ],
      "metadata": {
        "id": "mZ0U3wwuG3L1"
      }
    },
    {
      "cell_type": "markdown",
      "source": [
        "For example:<BR>\n",
        "A multivariate time series <br>\n",
        "[input, input, output]<br>\n",
        "[[10 15 25]<br>\n",
        " [20,25,45]<br>\n",
        " [30,35,65]<br>\n",
        " [ 40 45 85]<br>\n",
        " [ 50 55 105]<br>\n",
        " [ 60 65 125] <br>\n",
        " [ 70 75 145]<br>\n",
        " [ 80 85 165]<br>\n",
        " [ 90 95 185]]"
      ],
      "metadata": {
        "id": "kiH-KzDTHmVD"
      }
    },
    {
      "cell_type": "markdown",
      "source": [
        "If we use three steps of each of the two input series to predict two outputs<br>\n",
        "For example: <br>\n",
        "**input________output**<br>\n",
        "10,15<br>\n",
        "20,25________65<br>\n",
        "30,35________85<br>"
      ],
      "metadata": {
        "id": "EJ9-_QkdMPBv"
      }
    },
    {
      "cell_type": "markdown",
      "source": [
        "This split sequencess function is used to create the muti-step forecast for a dependent series"
      ],
      "metadata": {
        "id": "6J3ROvs-RLsr"
      }
    },
    {
      "cell_type": "code",
      "execution_count": null,
      "metadata": {
        "id": "vAwUJuBtEzJt"
      },
      "outputs": [],
      "source": [
        "def split_sequences(sequences, n_steps_in, n_steps_out): \n",
        "  X, y = list(), list()\n",
        "  for i in range(len(sequences)):\n",
        "    # find the end of this pattern\n",
        "    end_ix = i + n_steps_in\n",
        "    out_end_ix = end_ix + n_steps_out-1 # check if we are beyond the dataset if out_end_ix > len(sequences):\n",
        "    break\n",
        "    # gather input and output parts of the pattern\n",
        "    seq_x, seq_y = sequences[i:end_ix, :-1], sequences[end_ix-1:out_end_ix, -1] \n",
        "    X.append(seq_x)\n",
        "    y.append(seq_y)\n",
        "  return array(X), array(y)"
      ]
    }
  ]
}