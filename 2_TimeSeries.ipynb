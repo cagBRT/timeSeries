{
  "nbformat": 4,
  "nbformat_minor": 0,
  "metadata": {
    "accelerator": "GPU",
    "colab": {
      "name": "2:  TimeSeries.ipynb",
      "provenance": [],
      "collapsed_sections": [],
      "include_colab_link": true
    },
    "kernelspec": {
      "display_name": "Python 3",
      "name": "python3"
    }
  },
  "cells": [
    {
      "cell_type": "markdown",
      "metadata": {
        "id": "view-in-github",
        "colab_type": "text"
      },
      "source": [
        "<a href=\"https://colab.research.google.com/github/cagBRT/timeSeries/blob/main/2_TimeSeries.ipynb\" target=\"_parent\"><img src=\"https://colab.research.google.com/assets/colab-badge.svg\" alt=\"Open In Colab\"/></a>"
      ]
    },
    {
      "cell_type": "markdown",
      "metadata": {
        "id": "Ka2AeYZv-cuP"
      },
      "source": [
        "By the end of this notebook the student will be able to:<br>\n",
        "1. Create a synthetic time series \n",
        "2. Split the data into test and train sets\n",
        "3. Perform a Naive forecast\n",
        "4. Perform a Rolling Average forecast"
      ]
    },
    {
      "cell_type": "markdown",
      "metadata": {
        "id": "MO5vvquv-Yqo"
      },
      "source": [
        "This notebook creates a time series and forecasts using\n",
        "- Naive Forecasting<br>\n",
        "- Moving Average Forecasting<br>\n",
        "The performance of each is compared using Mean Squared Error and Mean Absolute Error\n",
        "\n",
        "\n",
        "\n"
      ]
    },
    {
      "cell_type": "markdown",
      "metadata": {
        "id": "aeTVdhtT2Smk"
      },
      "source": [
        "**Import the necessary libraries**"
      ]
    },
    {
      "cell_type": "code",
      "metadata": {
        "id": "y7QztBIVR1tb"
      },
      "source": [
        "try:\n",
        "  # %tensorflow_version only exists in Colab.\n",
        "  %tensorflow_version 2.x\n",
        "except Exception:\n",
        "  pass\n"
      ],
      "execution_count": null,
      "outputs": []
    },
    {
      "cell_type": "code",
      "metadata": {
        "id": "t9HrvPfrSlzS"
      },
      "source": [
        "import tensorflow as tf\n",
        "print(tf.__version__)"
      ],
      "execution_count": null,
      "outputs": []
    },
    {
      "cell_type": "code",
      "metadata": {
        "id": "Lv6Kzv8GlG2Y"
      },
      "source": [
        "import numpy as np\n",
        "import matplotlib.pyplot as plt\n",
        "import tensorflow as tf\n",
        "from tensorflow import keras"
      ],
      "execution_count": null,
      "outputs": []
    },
    {
      "cell_type": "markdown",
      "metadata": {
        "id": "I9x4GjlEVTQN"
      },
      "source": [
        "The next code blocks will set up the time series with seasonality, trend and some noise. "
      ]
    },
    {
      "cell_type": "code",
      "metadata": {
        "id": "qRPu6ye_2PGg"
      },
      "source": [
        "def plot_series(time, series, format=\"-\", start=0, end=None):\n",
        "    plt.plot(time[start:end], series[start:end], format)\n",
        "    plt.xlabel(\"Time\")\n",
        "    plt.ylabel(\"Value\")\n",
        "    plt.grid(True)\n",
        "\n",
        "def trend(time, slope=0):\n",
        "    return slope * time\n",
        "\n",
        "def seasonal_pattern(season_time):\n",
        "    \"\"\"Just an arbitrary pattern, you can change it if you wish\"\"\"\n",
        "    return np.where(season_time < 0.4,\n",
        "                    np.cos(season_time * 2 * np.pi),\n",
        "                    1 / np.exp(3 * season_time))\n",
        "\n",
        "def seasonality(time, period, amplitude=1, phase=0):\n",
        "    \"\"\"Repeats the same pattern at each period\"\"\"\n",
        "    season_time = ((time + phase) % period) / period\n",
        "    return amplitude * seasonal_pattern(season_time)\n",
        "\n",
        "def noise(time, noise_level=1, seed=None):\n",
        "    rnd = np.random.RandomState(seed)\n",
        "    return rnd.randn(len(time)) * noise_level"
      ],
      "execution_count": null,
      "outputs": []
    },
    {
      "cell_type": "markdown",
      "metadata": {
        "id": "thA6Bcoq2dEu"
      },
      "source": [
        "**Define Constants**"
      ]
    },
    {
      "cell_type": "code",
      "metadata": {
        "id": "BKeZSiE32cXV"
      },
      "source": [
        "time = np.arange(4 * 365 + 1, dtype=\"float32\")\n",
        "baseline = 10\n",
        "series = trend(time, 0.1)  \n",
        "baseline = 10\n",
        "amplitude = 40\n",
        "slope = 0.05\n",
        "noise_level = 5"
      ],
      "execution_count": null,
      "outputs": []
    },
    {
      "cell_type": "markdown",
      "metadata": {
        "id": "XX-ldOM_2kbY"
      },
      "source": [
        "**Create the timeseries data and add noise**<br>\n",
        "A time series has three components: <br>\n",
        "- the baseline<br>\n",
        "- trend<br>\n",
        "- seasonality"
      ]
    },
    {
      "cell_type": "code",
      "metadata": {
        "id": "znG-47XU2jvZ"
      },
      "source": [
        "# Create the series\n",
        "series = baseline + trend(time, slope) + seasonality(time, period=365, amplitude=amplitude)\n",
        "# Update with noise\n",
        "series += noise(time, noise_level, seed=42)"
      ],
      "execution_count": null,
      "outputs": []
    },
    {
      "cell_type": "markdown",
      "metadata": {
        "id": "GL-_ydD_2sdl"
      },
      "source": [
        "**Plot the series**"
      ]
    },
    {
      "cell_type": "code",
      "metadata": {
        "id": "gqWabzlJ63nL"
      },
      "source": [
        "plt.figure(figsize=(10, 6))\n",
        "plot_series(time, series)\n",
        "plt.show()"
      ],
      "execution_count": null,
      "outputs": []
    },
    {
      "cell_type": "markdown",
      "metadata": {
        "id": "UfdyqJJ1VZVu"
      },
      "source": [
        "**Split the series**<br>\n",
        "Into train and test sets so we can start forecasting.<br>\n",
        "Time 0 - 1000 will be for training the model and 1001 to the end of the time series will be used to test the model."
      ]
    },
    {
      "cell_type": "code",
      "metadata": {
        "id": "ECaz79Ma2yC0"
      },
      "source": [
        "split_time = 1000\n",
        "time_train = time[:split_time]\n",
        "x_train = series[:split_time]\n",
        "time_valid = time[split_time:]\n",
        "x_valid = series[split_time:]"
      ],
      "execution_count": null,
      "outputs": []
    },
    {
      "cell_type": "markdown",
      "metadata": {
        "id": "JpoSxoGT282W"
      },
      "source": [
        "**Plot the training series**"
      ]
    },
    {
      "cell_type": "code",
      "metadata": {
        "id": "d2GbDRKO28F3"
      },
      "source": [
        "plt.figure(figsize=(10, 6))\n",
        "plot_series(time_train, x_train)\n",
        "plt.show()"
      ],
      "execution_count": null,
      "outputs": []
    },
    {
      "cell_type": "markdown",
      "metadata": {
        "id": "g0UrQ_i23CNm"
      },
      "source": [
        "**Plot the test data**"
      ]
    },
    {
      "cell_type": "code",
      "metadata": {
        "id": "_w0eKap5uFNP"
      },
      "source": [
        "plt.figure(figsize=(10, 6))\n",
        "plot_series(time_valid, x_valid)\n",
        "plt.show()"
      ],
      "execution_count": null,
      "outputs": []
    },
    {
      "cell_type": "markdown",
      "metadata": {
        "id": "bjD8ncEZbjEW"
      },
      "source": [
        "# Naive Forecast"
      ]
    },
    {
      "cell_type": "markdown",
      "metadata": {
        "id": "2IvHis_h4XIl"
      },
      "source": [
        "It is useful to test simple forecast strategies prior to testing more complex models.<br>\n",
        "\n",
        "Simple forecast strategies are those that assume little or nothing about the nature of the forecast problem and are fast to implement and calculate.<br>\n",
        "\n",
        "The results can be used as a baseline in performance and used as a point of a comparison. If a model can perform better than the performance of a simple forecast strategy, then it can be said to be skillful.<br>\n",
        "\n",
        "There are two main themes to simple forecast strategies; they are:<br>\n",
        "\n",
        "- Naive, or using observations values directly.\n",
        "- Average, or using a statistic calculated on previous observations."
      ]
    },
    {
      "cell_type": "markdown",
      "metadata": {
        "id": "sQKhi6wi44Qc"
      },
      "source": [
        "**Simple example of Naive Forecasting**<br>\n",
        "A naive forecast involves using the previous observation directly as the forecast without any change.<br><br>\n",
        "It is often called the persistence forecast as the prior observation is persisted.<br><br>\n",
        "This simple approach can be adjusted slightly for seasonal data. In this case, the observation at the same time in the previous cycle may be persisted instead.\n",
        "<br><br>\n",
        "\n",
        "For example, given the series:<br>\n",
        ">[1, 2, 3, 4, 5, 6, 7, 8, 9]<br>\n",
        "We could persist the last observation (relative index -1) as the value 9 or persist the second last prior observation (relative index -2) as 8, and so on.\n",
        "\n"
      ]
    },
    {
      "cell_type": "code",
      "metadata": {
        "id": "Pj_-uCeYxcAb"
      },
      "source": [
        "naive_forecast = series[split_time - 1:-1]"
      ],
      "execution_count": null,
      "outputs": []
    },
    {
      "cell_type": "markdown",
      "metadata": {
        "id": "Cc8Qpj3y6CS8"
      },
      "source": [
        "**Plot the series and the forecast**<br>\n",
        "The series is plotted in blue<br>\n",
        "The forecast is plotted in orange."
      ]
    },
    {
      "cell_type": "code",
      "metadata": {
        "id": "JtxwHj9Ig0jT"
      },
      "source": [
        "plt.figure(figsize=(15, 6))\n",
        "plot_series(time_valid, x_valid)\n",
        "plot_series(time_valid, naive_forecast)"
      ],
      "execution_count": null,
      "outputs": []
    },
    {
      "cell_type": "markdown",
      "metadata": {
        "id": "fw1SP5WeuixH"
      },
      "source": [
        "Zoom in on the start of the validation period. <br>\n",
        "You can see that the naive forecast lags 1 step behind the time series."
      ]
    },
    {
      "cell_type": "code",
      "metadata": {
        "id": "D0MKg7FNug9V"
      },
      "source": [
        "plt.figure(figsize=(10, 6))\n",
        "plot_series(time_valid, x_valid, start=0, end=150)\n",
        "plot_series(time_valid, naive_forecast, start=1, end=151)"
      ],
      "execution_count": null,
      "outputs": []
    },
    {
      "cell_type": "markdown",
      "metadata": {
        "id": "Uh_7244Gsxfx"
      },
      "source": [
        "Now let's compute the mean squared error and the mean absolute error between the forecasts and the predictions in the validation period:"
      ]
    },
    {
      "cell_type": "code",
      "metadata": {
        "id": "byNnC7IbsnMZ"
      },
      "source": [
        "mse = keras.metrics.mean_squared_error(x_valid, naive_forecast).numpy()\n",
        "mae = keras.metrics.mean_absolute_error(x_valid, naive_forecast).numpy()\n",
        "print(\"Mean Squared Error = \", mse)\n",
        "print(\"Mean Absolute Error = \", mae)"
      ],
      "execution_count": null,
      "outputs": []
    },
    {
      "cell_type": "markdown",
      "metadata": {
        "id": "WGPBC9QttI1u"
      },
      "source": [
        "That's the baseline for our timeseries. <br>\n",
        "Now try the moving average forecast"
      ]
    },
    {
      "cell_type": "markdown",
      "metadata": {
        "id": "dIX8pN4M-rhA"
      },
      "source": [
        "#Average Forecast<br>\n"
      ]
    },
    {
      "cell_type": "markdown",
      "metadata": {
        "id": "AELn__Xo-8Kh"
      },
      "source": [
        "All prior observations are collected and averaged, either using the mean or the median, with no other treatment to the data.<br>\n",
        "\n",
        "In some cases, we may want to shorten the history used in the average calculation to the last few observations.<br>\n",
        "\n",
        "We can generalize this to the case of testing each possible set of n-prior observations to be included into the average calculation.<br>\n",
        "\n",
        ">For example, given the series:<br>\n",
        "[1, 2, 3, 4, 5, 6, 7, 8, 9]<br>\n",
        "We could average the last one observation (9), the last two observations (8, 9), and so on.<br>\n",
        "\n",
        "In the case of seasonal data, we may want to average the last n-prior observations at the same time in the cycle as the time that is being forecasted.\n",
        "<br>\n",
        ">For example, given the series with a 3-step cycle:<br>\n",
        "[1, 2, 3, 1, 2, 3, 1, 2, 3]<br>\n",
        "We could use a window size of 3 and average the last one observation (-3 or 1),<br> the last two observations (-3 or 1, and -(3 * 2) or 1), and so on.\n",
        "\n"
      ]
    },
    {
      "cell_type": "code",
      "metadata": {
        "id": "YGz5UsUdf2tV"
      },
      "source": [
        "def moving_average_forecast(series, window_size):\n",
        "  \"\"\"Forecasts the mean of the last few values.\n",
        "     If window_size=1, then this is equivalent to naive forecast\"\"\"\n",
        "  forecast = []\n",
        "  for time in range(len(series) - window_size):\n",
        "    forecast.append(series[time:time + window_size].mean())\n",
        "  return np.array(forecast)"
      ],
      "execution_count": null,
      "outputs": []
    },
    {
      "cell_type": "markdown",
      "metadata": {
        "id": "08oDzQPo_q8R"
      },
      "source": [
        "**Plot the series and the average forecast**<br>\n",
        "The series is plotted in blue<br>\n",
        "The forecast is plotted in orange."
      ]
    },
    {
      "cell_type": "code",
      "metadata": {
        "id": "HHFhGXQji7_r"
      },
      "source": [
        "moving_avg = moving_average_forecast(series, 30)[split_time - 30:]\n",
        "\n",
        "plt.figure(figsize=(10, 6))\n",
        "plot_series(time_valid, x_valid)\n",
        "plot_series(time_valid, moving_avg)"
      ],
      "execution_count": null,
      "outputs": []
    },
    {
      "cell_type": "markdown",
      "metadata": {
        "id": "uxvQB61xKRkv"
      },
      "source": [
        "Looking at this forecast, do you think the MSE and the MAE are going to worse or better than the Naive forecast?"
      ]
    },
    {
      "cell_type": "code",
      "metadata": {
        "id": "wG7pTAd7z0e8"
      },
      "source": [
        "mse = keras.metrics.mean_squared_error(x_valid, moving_avg).numpy()\n",
        "mae = keras.metrics.mean_absolute_error(x_valid, moving_avg).numpy()\n",
        "print(\"Mean squared error = \", mse)\n",
        "print(\"Mean absolute error = \", mae)"
      ],
      "execution_count": null,
      "outputs": []
    },
    {
      "cell_type": "markdown",
      "metadata": {
        "id": "JMYPnJqwz8nS"
      },
      "source": [
        "That's worse than naive forecast! The moving average does not anticipate trend or seasonality, so let's try to remove them by using differencing.<br>\n",
        " Since the seasonality period is 365 days, we will subtract the value at time *t* – 365 from the value at time *t*."
      ]
    },
    {
      "cell_type": "markdown",
      "metadata": {
        "id": "a53GiCMdAQPN"
      },
      "source": [
        "**Difference the time series to remove seasonality**"
      ]
    },
    {
      "cell_type": "code",
      "metadata": {
        "id": "ArRfpcmCAaFx"
      },
      "source": [
        "diff_series = (series[365:] - series[:-365])\n",
        "diff_time = time[365:]"
      ],
      "execution_count": null,
      "outputs": []
    },
    {
      "cell_type": "markdown",
      "metadata": {
        "id": "ENmHqjh4AgPD"
      },
      "source": [
        "Plot the differenced time series"
      ]
    },
    {
      "cell_type": "code",
      "metadata": {
        "id": "5pqySF7-rJR4"
      },
      "source": [
        "plt.figure(figsize=(10, 6))\n",
        "plot_series(diff_time, diff_series)\n",
        "plt.show()"
      ],
      "execution_count": null,
      "outputs": []
    },
    {
      "cell_type": "markdown",
      "metadata": {
        "id": "xPlPlS7DskWg"
      },
      "source": [
        "The trend and seasonality seem to be gone, so use the moving average:"
      ]
    },
    {
      "cell_type": "code",
      "metadata": {
        "id": "FZ3Dz0v1AmmW"
      },
      "source": [
        "diff_moving_avg = moving_average_forecast(diff_series, 50)[split_time - 365 - 50:]"
      ],
      "execution_count": null,
      "outputs": []
    },
    {
      "cell_type": "markdown",
      "metadata": {
        "id": "vGXY9maoAudD"
      },
      "source": [
        "**Plot the time series an the differenced moving average forecast**<br>\n",
        "Timeseries is blue<br>\n",
        "Differenced Average Forecast is orange"
      ]
    },
    {
      "cell_type": "code",
      "metadata": {
        "id": "QmZpz7arsjbb"
      },
      "source": [
        "plt.figure(figsize=(10, 6))\n",
        "plot_series(time_valid, diff_series[split_time - 365:])\n",
        "plot_series(time_valid, diff_moving_avg)\n",
        "plt.show()"
      ],
      "execution_count": null,
      "outputs": []
    },
    {
      "cell_type": "markdown",
      "metadata": {
        "id": "Gno9S2lyecnc"
      },
      "source": [
        "Now let's bring back the trend and seasonality by adding the past values from t – 365:"
      ]
    },
    {
      "cell_type": "code",
      "metadata": {
        "id": "5lLyOBYKBKOy"
      },
      "source": [
        "diff_moving_avg_plus_past = series[split_time - 365:-365] + diff_moving_avg"
      ],
      "execution_count": null,
      "outputs": []
    },
    {
      "cell_type": "code",
      "metadata": {
        "id": "Dv6RWFq7TFGB"
      },
      "source": [
        "plt.figure(figsize=(10, 6))\n",
        "plot_series(time_valid, x_valid)\n",
        "plot_series(time_valid, diff_moving_avg_plus_past)\n",
        "plt.show()"
      ],
      "execution_count": null,
      "outputs": []
    },
    {
      "cell_type": "code",
      "metadata": {
        "id": "59jmBrwcTFCx"
      },
      "source": [
        "mse = keras.metrics.mean_squared_error(x_valid, diff_moving_avg_plus_past).numpy()\n",
        "mae = keras.metrics.mean_absolute_error(x_valid, diff_moving_avg_plus_past).numpy()\n",
        "print(\"Mean squared error = \", mse)\n",
        "print(\"Mean absolute error = \", mae)"
      ],
      "execution_count": null,
      "outputs": []
    },
    {
      "cell_type": "markdown",
      "metadata": {
        "id": "vx9Et1Hkeusl"
      },
      "source": [
        "The result is better than the naive forecast. <br>\n",
        "However the forecasts look a bit too random, because we're just adding past values, which were noisy. Let's use a moving average on past values to remove some of the noise:"
      ]
    },
    {
      "cell_type": "code",
      "metadata": {
        "id": "CyC2X5maBsm3"
      },
      "source": [
        "diff_moving_avg_plus_smooth_past = moving_average_forecast(series[split_time - 370:-360], 10)\\\n",
        "+ diff_moving_avg"
      ],
      "execution_count": null,
      "outputs": []
    },
    {
      "cell_type": "markdown",
      "metadata": {
        "id": "TX04FdTiC4vN"
      },
      "source": [
        "**Plot the moving series and the moving average without the noise**"
      ]
    },
    {
      "cell_type": "code",
      "metadata": {
        "id": "K81dtROoTE_r"
      },
      "source": [
        "plt.figure(figsize=(10, 6))\n",
        "plot_series(time_valid, x_valid)\n",
        "plot_series(time_valid, diff_moving_avg_plus_smooth_past)\n",
        "plt.show()"
      ],
      "execution_count": null,
      "outputs": []
    },
    {
      "cell_type": "code",
      "metadata": {
        "id": "iN2MsBxWTE3m"
      },
      "source": [
        "mse = keras.metrics.mean_squared_error(x_valid, diff_moving_avg_plus_smooth_past).numpy()\n",
        "mae = keras.metrics.mean_absolute_error(x_valid, diff_moving_avg_plus_smooth_past).numpy()\n",
        "print(\"Mean square error = \", mse)\n",
        "print(\"Mean absolute error = \", mae)"
      ],
      "execution_count": null,
      "outputs": []
    },
    {
      "cell_type": "markdown",
      "metadata": {
        "id": "NnYmz3aeLDEU"
      },
      "source": [
        "# **Assignment**<br>\n",
        "1. Change the synthetic timeseries by first changing just the baseline. Does this change the error rates?<br>\n",
        "2. Change the number of periods. Right now it is 4, try more periods and less periods, what does that do to the forecast. You may need to change the test and training periods also.\n",
        "3. Change the synthetic timeseries by changing the period, right now it is 365, try different periods, longer and shorter ones. Report to the class what happened. <br>"
      ]
    }
  ]
}