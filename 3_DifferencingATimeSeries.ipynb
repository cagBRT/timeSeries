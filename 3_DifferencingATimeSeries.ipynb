{
  "nbformat": 4,
  "nbformat_minor": 0,
  "metadata": {
    "colab": {
      "name": "3:  DifferencingATimeSeries.ipynb",
      "private_outputs": true,
      "provenance": [],
      "authorship_tag": "ABX9TyMltsoQKBZ9ZLn2biV/TMjd",
      "include_colab_link": true
    },
    "kernelspec": {
      "name": "python3",
      "display_name": "Python 3"
    }
  },
  "cells": [
    {
      "cell_type": "markdown",
      "metadata": {
        "id": "view-in-github",
        "colab_type": "text"
      },
      "source": [
        "<a href=\"https://colab.research.google.com/github/cagBRT/timeSeries/blob/main/3_DifferencingATimeSeries.ipynb\" target=\"_parent\"><img src=\"https://colab.research.google.com/assets/colab-badge.svg\" alt=\"Open In Colab\"/></a>"
      ]
    },
    {
      "cell_type": "markdown",
      "metadata": {
        "id": "Vt-WJnWy-xjd"
      },
      "source": [
        "# **Differencing a Time Series**"
      ]
    },
    {
      "cell_type": "code",
      "metadata": {
        "id": "Nu8wFqvZ7vit"
      },
      "source": [
        "# Clone the entire repo.\n",
        "!git clone -s https://github.com/cagBRT/timeSeries.git cloned-repo\n",
        "%cd cloned-repo"
      ],
      "execution_count": null,
      "outputs": []
    },
    {
      "cell_type": "markdown",
      "metadata": {
        "id": "k1Vid2cr8gPk"
      },
      "source": [
        "https://machinelearningmastery.com/difference-time-series-dataset-python/"
      ]
    },
    {
      "cell_type": "markdown",
      "metadata": {
        "id": "avcLEmZ8nE7Y"
      },
      "source": [
        "**A stationary time series** is one whose properties do not depend on the time at which the series is observed.  <br>\n",
        "Time series with trends, or with seasonality, are not stationary — the trend and seasonality will affect the value of the time series at different times."
      ]
    },
    {
      "cell_type": "markdown",
      "metadata": {
        "id": "2aLh4vOZnrIB"
      },
      "source": [
        "In the most intuitive sense, stationarity means that the statistical properties of a process generating a time series do not change over time. **It does not mean that the series does not change over time, just that the way it changes does not itself change over time**. "
      ]
    },
    {
      "cell_type": "markdown",
      "metadata": {
        "id": "Cf8o9Q3cn75g"
      },
      "source": [
        "The algebraic equivalent is a linear function, perhaps, and not a constant one; the value of a linear function changes as 𝒙 grows, but the way it changes remains constant — it has a constant slope; one value that captures that rate of change."
      ]
    },
    {
      "cell_type": "markdown",
      "metadata": {
        "id": "xHUUjTGanig3"
      },
      "source": [
        "https://towardsdatascience.com/stationarity-in-time-series-analysis-90c94f27322"
      ]
    },
    {
      "cell_type": "code",
      "metadata": {
        "id": "Wpam9jbppgXJ"
      },
      "source": [
        "from IPython.display import Image\n",
        "Image(\"StationaryNonStationary.png\" , width=640)"
      ],
      "execution_count": null,
      "outputs": []
    },
    {
      "cell_type": "markdown",
      "metadata": {
        "id": "9syPTOOOuaYq"
      },
      "source": [
        "Which of the times series shown below are stationary?"
      ]
    },
    {
      "cell_type": "markdown",
      "metadata": {
        "id": "o38hcpeTukXR"
      },
      "source": [
        "(a) Google stock price for 200 consecutive days; <br>\n",
        "(b) Daily change in the Google stock price for 200 consecutive days;<br> \n",
        "(c) Annual number of strikes in the US; <br>\n",
        "(d) Monthly sales of new one-family houses sold in the US; <br>\n",
        "(e) Annual price of a dozen eggs in the US (constant dollars);<br>\n",
        "(f) Monthly total of pigs slaughtered in Victoria, Australia; <br>\n",
        "(g) Annual total of lynx trapped in the McKenzie River district of north-west Canada;<br>\n",
        "(h) Monthly Australian beer production; <br>\n",
        "(i) Monthly Australian electricity production.<br><br>\n",
        "https://otexts.com/fpp2/stationarity.html\n",
        "\n"
      ]
    },
    {
      "cell_type": "code",
      "metadata": {
        "id": "zX1Tg4HIuRU0"
      },
      "source": [
        "Image(\"stationary-1.png\" , width=640)"
      ],
      "execution_count": null,
      "outputs": []
    },
    {
      "cell_type": "code",
      "metadata": {
        "id": "b-OagXyEvAml",
        "cellView": "form"
      },
      "source": [
        "#@title \n",
        "#Obvious seasonality rules out series \n",
        "#(d), (h) and (i). Trends and changing\n",
        "# levels rules out series (a), (c), \n",
        "#(e), (f) and (i). Increasing variance\n",
        "# also rules out (i). That leaves only \n",
        "#(b) and (g) as stationary series.\n",
        "\n",
        "#At first glance, the strong cycles \n",
        "#in series (g) might appear to make it\n",
        "# non-stationary. But these cycles are \n",
        "#aperiodic — they are caused when the\n",
        "# lynx population becomes too large\n",
        "# for the available feed, so that they \n",
        "#stop breeding and the population \n",
        "#falls to low numbers, then the \n",
        "#regeneration of their food sources \n",
        "#allows the population to grow again,\n",
        "# and so on. In the long-term, the timing\n",
        "# of these cycles is not predictable. \n",
        "#Hence the series is stationary."
      ],
      "execution_count": null,
      "outputs": []
    },
    {
      "cell_type": "markdown",
      "metadata": {
        "id": "yTpXFdQmTysC"
      },
      "source": [
        "So how to make a series stationary?\n",
        "\n",
        "The most common approach is to difference it. That is, subtract the previous value from the current value. Sometimes, depending on the complexity of the series, more than one differencing may be needed.\n",
        "\n",
        "The value of d is the minimum number of differencing needed to make the series stationary. <br>\n",
        "If the time series is already stationary, then d = 0."
      ]
    },
    {
      "cell_type": "markdown",
      "metadata": {
        "id": "lMuU-8Gz3K1Y"
      },
      "source": [
        "The first difference of a time series is the series of changes from one period to the next. If Yt denotes the value of the time series Y at period t, then the first difference of Y at period t is equal to Yt-Yt-1<br>\n",
        "What this transformation does, is that rather than considering the index directly, we are calculating the difference between consecutive time steps.\n",
        "\n",
        "Defining the model to predict the difference in values between time steps rather than the value itself, is a much stronger test of the models predictive powers."
      ]
    },
    {
      "cell_type": "markdown",
      "metadata": {
        "id": "QqRqSD1y-40F"
      },
      "source": [
        "**Import libraries**"
      ]
    },
    {
      "cell_type": "code",
      "metadata": {
        "id": "oV27L3MY8ktT"
      },
      "source": [
        "from pandas import read_csv\n",
        "from pandas import datetime\n",
        "from matplotlib import pyplot\n",
        "from pandas import Series"
      ],
      "execution_count": null,
      "outputs": []
    },
    {
      "cell_type": "code",
      "metadata": {
        "id": "0VJLVky68n7n"
      },
      "source": [
        "def parser(x):\n",
        "\treturn datetime.strptime('190'+x, '%Y-%m')"
      ],
      "execution_count": null,
      "outputs": []
    },
    {
      "cell_type": "markdown",
      "metadata": {
        "id": "YwbsoMrT69BO"
      },
      "source": [
        "# **Differencing is a method of transforming a time series dataset.**\n",
        "\n",
        "It can be used to remove the series dependence on time, so-called temporal dependence. This includes structures like trends and seasonality.\n",
        "\n",
        "Differencing can help stabilize the mean of the time series by removing changes in the level of a time series, and so eliminating (or reducing) trend and seasonality.\n"
      ]
    },
    {
      "cell_type": "markdown",
      "metadata": {
        "id": "zz1MnIiN7HBp"
      },
      "source": [
        "Differencing is performed by subtracting the previous observation from the current observation.\n",
        "\n",
        ">difference(t) = observation(t) - observation(t-1)\n"
      ]
    },
    {
      "cell_type": "markdown",
      "metadata": {
        "id": "SQjfm4tH7U7x"
      },
      "source": [
        "# **Lag Difference**\n",
        "Taking the difference between consecutive observations is called a lag-1 difference.\n",
        "\n",
        "The lag difference can be adjusted to suit the specific temporal structure.\n",
        "\n",
        "For time series with a seasonal component, the lag may be expected to be the period (width) of the seasonality."
      ]
    },
    {
      "cell_type": "markdown",
      "metadata": {
        "id": "U0S4QUM27eBU"
      },
      "source": [
        "# **Difference Order**\n",
        "Temporal structure may still exist after performing a differencing operation, such as in the case of a nonlinear trend.\n",
        "\n",
        "As such, the process of differencing can be repeated more than once until all temporal dependence has been removed.\n",
        "\n",
        "The number of times that differencing is performed is called the difference order."
      ]
    },
    {
      "cell_type": "markdown",
      "metadata": {
        "id": "MuvyA5pesTao"
      },
      "source": [
        "**Shampoo Sales Dataset**<br>\n",
        "This dataset describes the monthly number of sales of shampoo over a 3 year period.\n",
        "\n",
        "The units are a sales count and there are 36 observations. The original dataset is credited to Makridakis, Wheelwright, and Hyndman (1998).\n"
      ]
    },
    {
      "cell_type": "code",
      "metadata": {
        "id": "bDj1Ugpz6yEu"
      },
      "source": [
        "series = read_csv('shampoo.csv', header=0, parse_dates=[0], index_col=0, squeeze=True, date_parser=parser)\n",
        "series.plot()\n",
        "pyplot.show()"
      ],
      "execution_count": null,
      "outputs": []
    },
    {
      "cell_type": "markdown",
      "metadata": {
        "id": "X0SaiV9078xd"
      },
      "source": [
        "# **Manual Differencing**\n",
        "We can difference the dataset manually.\n",
        "\n",
        "This involves developing a new function that creates a differenced dataset. The function would loop through a provided series and calculate the differenced values at the specified interval or lag.\n",
        "\n",
        "The function below named difference() implements this procedure."
      ]
    },
    {
      "cell_type": "code",
      "metadata": {
        "id": "GkOfpIRd7-ew"
      },
      "source": [
        "# create a differenced series\n",
        "def difference(dataset, interval=1):\n",
        "\tdiff = list()\n",
        "\tfor i in range(interval, len(dataset)):\n",
        "\t\tvalue = dataset[i] - dataset[i - interval]\n",
        "\t\tdiff.append(value)\n",
        "\treturn Series(diff)"
      ],
      "execution_count": null,
      "outputs": []
    },
    {
      "cell_type": "markdown",
      "metadata": {
        "id": "spzVhah-8GHi"
      },
      "source": [
        "We can see that the function is careful to begin the differenced dataset after the specified interval to ensure differenced values can, in fact, be calculated. A default interval or lag value of 1 is defined. This is a sensible default.\n",
        "\n",
        "One further improvement would be to also be able to specify the order or number of times to perform the differencing operation.\n",
        "\n",
        "The example below applies the manual difference() function to the Shampoo Sales dataset"
      ]
    },
    {
      "cell_type": "code",
      "metadata": {
        "id": "QqAxd-QO8HNk"
      },
      "source": [
        "X = series.values\n",
        "diff = difference(X)\n",
        "pyplot.plot(diff)\n",
        "pyplot.show()"
      ],
      "execution_count": null,
      "outputs": []
    },
    {
      "cell_type": "markdown",
      "metadata": {
        "id": "epR1u1wN8QtW"
      },
      "source": [
        "# **Automatic Differencing**\n",
        "The Pandas library provides a function to automatically calculate the difference of a dataset.\n",
        "\n",
        "This diff() function is provided on both the Series and DataFrame objects.\n",
        "\n",
        "Like the manually defined difference function in the previous section, it takes an argument to specify the interval or lag, in this case called the periods.\n",
        "\n",
        "The example below demonstrates how to use the built-in difference function on the Pandas Series object."
      ]
    },
    {
      "cell_type": "code",
      "metadata": {
        "id": "p9cSAlUQ8UbU"
      },
      "source": [
        "diff = series.diff()\n",
        "pyplot.plot(diff)\n",
        "pyplot.show()"
      ],
      "execution_count": null,
      "outputs": []
    }
  ]
}