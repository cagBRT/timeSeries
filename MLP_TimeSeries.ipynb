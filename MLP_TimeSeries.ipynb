{
  "nbformat": 4,
  "nbformat_minor": 0,
  "metadata": {
    "colab": {
      "private_outputs": true,
      "provenance": [],
      "authorship_tag": "ABX9TyMt/KIUSzbLa1x+2R4aG5Rd",
      "include_colab_link": true
    },
    "kernelspec": {
      "name": "python3",
      "display_name": "Python 3"
    },
    "language_info": {
      "name": "python"
    }
  },
  "cells": [
    {
      "cell_type": "markdown",
      "metadata": {
        "id": "view-in-github",
        "colab_type": "text"
      },
      "source": [
        "<a href=\"https://colab.research.google.com/github/cagBRT/timeSeries/blob/main/MLP_TimeSeries.ipynb\" target=\"_parent\"><img src=\"https://colab.research.google.com/assets/colab-badge.svg\" alt=\"Open In Colab\"/></a>"
      ]
    },
    {
      "cell_type": "code",
      "execution_count": null,
      "metadata": {
        "id": "3kPY1-YrnY44"
      },
      "outputs": [],
      "source": [
        "import pandas as pd\n",
        "import numpy as np\n",
        "import matplotlib.pyplot as plt\n",
        "import tensorflow as tf"
      ]
    },
    {
      "cell_type": "code",
      "source": [
        "dataset=pd.read_csv(\"temperature.csv\")\n",
        "dataset.head()"
      ],
      "metadata": {
        "id": "iCDZ-g1VngBA"
      },
      "execution_count": null,
      "outputs": []
    },
    {
      "cell_type": "code",
      "source": [
        "dataset.tail()"
      ],
      "metadata": {
        "id": "cOH4hhW4oOJ9"
      },
      "execution_count": null,
      "outputs": []
    },
    {
      "cell_type": "code",
      "source": [
        "df2 = dataset[[\"month\", \"day\", \"year\"]].copy()\n",
        "df_date=pd.to_datetime(df2)\n",
        "df_date=pd.DataFrame(df_date)"
      ],
      "metadata": {
        "id": "3lDJDV-bnnG5"
      },
      "execution_count": null,
      "outputs": []
    },
    {
      "cell_type": "code",
      "source": [
        "dfAT=dataset[\"AverageTemperatureFahr\"]\n",
        "df_date.insert(1,\"AverageTemperatureFahr\",dfAT )\n"
      ],
      "metadata": {
        "id": "p95EQYG_ouoz"
      },
      "execution_count": null,
      "outputs": []
    },
    {
      "cell_type": "code",
      "source": [
        "df_date"
      ],
      "metadata": {
        "id": "RGAgEGh4rQkp"
      },
      "execution_count": null,
      "outputs": []
    },
    {
      "cell_type": "code",
      "source": [
        "df_nomissing=df_date.loc[df_date['AverageTemperatureFahr'] != np.NaN]"
      ],
      "metadata": {
        "id": "M4ORvmQes471"
      },
      "execution_count": null,
      "outputs": []
    },
    {
      "cell_type": "code",
      "source": [
        "df_nomissing=df_date.loc[df_date['AverageTemperatureFahr'] != np.Inf]"
      ],
      "metadata": {
        "id": "hX-RdHEAuUc3"
      },
      "execution_count": null,
      "outputs": []
    },
    {
      "cell_type": "code",
      "source": [
        "df_nomissing.columns"
      ],
      "metadata": {
        "id": "PyMHqV-rsVZK"
      },
      "execution_count": null,
      "outputs": []
    },
    {
      "cell_type": "code",
      "source": [
        "df_nomissing=df_date.set_index(0)"
      ],
      "metadata": {
        "id": "ecNmvqm4sJ4h"
      },
      "execution_count": null,
      "outputs": []
    },
    {
      "cell_type": "code",
      "source": [
        "df_nomissing.plot(figsize=(20,5))\n",
        "plt.title(\"time series\")\n",
        "plt.show"
      ],
      "metadata": {
        "id": "B-_myYUdrtXk"
      },
      "execution_count": null,
      "outputs": []
    },
    {
      "cell_type": "code",
      "source": [
        "import statsmodels.tsa.stattools as sts\n"
      ],
      "metadata": {
        "id": "PGbGmN0Ssc4Q"
      },
      "execution_count": null,
      "outputs": []
    },
    {
      "cell_type": "code",
      "source": [
        "sts.adfuller(df_nomissing.AverageTemperatureFahr)"
      ],
      "metadata": {
        "id": "t6KFBL5esfK-"
      },
      "execution_count": null,
      "outputs": []
    }
  ]
}