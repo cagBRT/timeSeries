{
  "nbformat": 4,
  "nbformat_minor": 0,
  "metadata": {
    "colab": {
      "private_outputs": true,
      "provenance": [],
      "authorship_tag": "ABX9TyPZQZ1g9dPUkrsfa7bcX9IV",
      "include_colab_link": true
    },
    "kernelspec": {
      "name": "python3",
      "display_name": "Python 3"
    },
    "language_info": {
      "name": "python"
    }
  },
  "cells": [
    {
      "cell_type": "markdown",
      "metadata": {
        "id": "view-in-github",
        "colab_type": "text"
      },
      "source": [
        "<a href=\"https://colab.research.google.com/github/cagBRT/timeSeries/blob/main/MLP_TimeSeries.ipynb\" target=\"_parent\"><img src=\"https://colab.research.google.com/assets/colab-badge.svg\" alt=\"Open In Colab\"/></a>"
      ]
    },
    {
      "cell_type": "code",
      "execution_count": null,
      "metadata": {
        "id": "3kPY1-YrnY44"
      },
      "outputs": [],
      "source": [
        "import pandas as pd\n",
        "import numpy as np\n",
        "import matplotlib.pyplot as plt\n",
        "import tensorflow as tf"
      ]
    },
    {
      "cell_type": "code",
      "source": [
        "dataset=pd.read_csv(\"temperature.csv\")\n",
        "dataset.head()"
      ],
      "metadata": {
        "id": "iCDZ-g1VngBA"
      },
      "execution_count": null,
      "outputs": []
    },
    {
      "cell_type": "code",
      "source": [
        "dataset.tail()"
      ],
      "metadata": {
        "id": "cOH4hhW4oOJ9"
      },
      "execution_count": null,
      "outputs": []
    },
    {
      "cell_type": "code",
      "source": [
        "df2 = dataset[[\"month\", \"day\", \"year\"]].copy()\n",
        "df_date=pd.to_datetime(df2)\n",
        "df_date=pd.DataFrame(df_date)"
      ],
      "metadata": {
        "id": "3lDJDV-bnnG5"
      },
      "execution_count": null,
      "outputs": []
    },
    {
      "cell_type": "code",
      "source": [
        "dfAT=dataset[\"AverageTemperatureFahr\"]\n",
        "df_date.insert(1,\"AverageTemperatureFahr\",dfAT )\n"
      ],
      "metadata": {
        "id": "p95EQYG_ouoz"
      },
      "execution_count": null,
      "outputs": []
    },
    {
      "cell_type": "code",
      "source": [
        "df_date"
      ],
      "metadata": {
        "id": "RGAgEGh4rQkp"
      },
      "execution_count": null,
      "outputs": []
    },
    {
      "cell_type": "code",
      "source": [
        "df_date_renamed=df_date.rename(columns={0:\"date\"})"
      ],
      "metadata": {
        "id": "csktweaIPOj3"
      },
      "execution_count": null,
      "outputs": []
    },
    {
      "cell_type": "code",
      "source": [
        "df_date_renamed"
      ],
      "metadata": {
        "id": "kyM6h-56Pwl7"
      },
      "execution_count": null,
      "outputs": []
    },
    {
      "cell_type": "code",
      "source": [
        "#df_date_renamed['date']=df_date_renamed['date'].apply(lambda x:x.value)"
      ],
      "metadata": {
        "id": "bmJHi6ZpDmaw"
      },
      "execution_count": null,
      "outputs": []
    },
    {
      "cell_type": "code",
      "source": [
        "df_nomissing=df_date_renamed.dropna()"
      ],
      "metadata": {
        "id": "M4ORvmQes471"
      },
      "execution_count": null,
      "outputs": []
    },
    {
      "cell_type": "code",
      "source": [
        "df_nomissing"
      ],
      "metadata": {
        "id": "ZZkaNHyNC1MN"
      },
      "execution_count": null,
      "outputs": []
    },
    {
      "cell_type": "code",
      "source": [
        "df_nomissing=df_nomissing.set_index('date')"
      ],
      "metadata": {
        "id": "ecNmvqm4sJ4h"
      },
      "execution_count": null,
      "outputs": []
    },
    {
      "cell_type": "code",
      "source": [
        "df_nomissing.columns"
      ],
      "metadata": {
        "id": "PyMHqV-rsVZK"
      },
      "execution_count": null,
      "outputs": []
    },
    {
      "cell_type": "code",
      "source": [
        "df_nomissing"
      ],
      "metadata": {
        "id": "yIEnCBz8uuq9"
      },
      "execution_count": null,
      "outputs": []
    },
    {
      "cell_type": "code",
      "source": [
        "from sklearn.preprocessing import MinMaxScaler\n",
        "scaler=MinMaxScaler(feature_range=(0,1))"
      ],
      "metadata": {
        "id": "EE7h0aw7wlNF"
      },
      "execution_count": null,
      "outputs": []
    },
    {
      "cell_type": "code",
      "source": [
        "#df_scaled=scaler.fit_transform(df_nomissing)"
      ],
      "metadata": {
        "id": "uL92LUlXF0ud"
      },
      "execution_count": null,
      "outputs": []
    },
    {
      "cell_type": "code",
      "source": [
        "#df_scaled"
      ],
      "metadata": {
        "id": "4wfv7JIXGWH6"
      },
      "execution_count": null,
      "outputs": []
    },
    {
      "cell_type": "code",
      "source": [
        "plt.plot(df_nomissing)\n",
        "plt.plot(figsize=(20,5))\n",
        "plt.title(\"time series\")\n",
        "plt.show"
      ],
      "metadata": {
        "id": "B-_myYUdrtXk"
      },
      "execution_count": null,
      "outputs": []
    },
    {
      "cell_type": "code",
      "source": [
        "import statsmodels.tsa.stattools as sts"
      ],
      "metadata": {
        "id": "PGbGmN0Ssc4Q"
      },
      "execution_count": null,
      "outputs": []
    },
    {
      "cell_type": "code",
      "source": [
        "sts.adfuller(df_nomissing.AverageTemperatureFahr)"
      ],
      "metadata": {
        "id": "t6KFBL5esfK-"
      },
      "execution_count": null,
      "outputs": []
    },
    {
      "cell_type": "markdown",
      "source": [
        "5% estimate is -2.8616<br>\n",
        "This is less than -2.8135<br>\n",
        "\n",
        "The timeseries is stationary"
      ],
      "metadata": {
        "id": "R6pfSl6Ivn7m"
      }
    },
    {
      "cell_type": "code",
      "source": [
        "from numpy import array\n"
      ],
      "metadata": {
        "id": "KdkuqgdMvydx"
      },
      "execution_count": null,
      "outputs": []
    },
    {
      "cell_type": "code",
      "source": [
        "data_NM=np.array(df_nomissing)\n"
      ],
      "metadata": {
        "id": "IvLDuFW4v1xl"
      },
      "execution_count": null,
      "outputs": []
    },
    {
      "cell_type": "code",
      "source": [
        "def series_to_supervised(data,n_in,n_out):\n",
        "\n",
        "    df = pd.DataFrame(data)\n",
        "    cols = list()\n",
        "    for i in range(n_in,0,-1): cols.append(df.shift(i))\n",
        "    for i in range(0, n_out): cols.append(df.shift(-i))\n",
        "    agg = pd.concat(cols,axis=1)\n",
        "    agg.dropna(inplace=True)\n",
        "\n",
        "    return agg.values"
      ],
      "metadata": {
        "id": "WIGXmrzIxSKL"
      },
      "execution_count": null,
      "outputs": []
    },
    {
      "cell_type": "code",
      "source": [
        "def to_supervised(train,n_input,n_out):\n",
        "    #flaten data\n",
        "    data=train\n",
        "    X,y=list(),list()\n",
        "    in_start=0\n",
        "    for _ in range(len(data)):\n",
        "        in_end=in_start+ n_input\n",
        "        out_end=in_end + n_out\n",
        "        if out_end<=len(data):\n",
        "            x_input=data[ in_start:in_end,0]\n",
        "            x_input=x_input.reshape((len(x_input)))\n",
        "            X.append(x_input)\n",
        "            y.append(data[in_end:out_end,0])\n",
        "        in_start+=1\n",
        "    return array(X), array(y)"
      ],
      "metadata": {
        "id": "UKowdEejH4Z2"
      },
      "execution_count": null,
      "outputs": []
    },
    {
      "cell_type": "code",
      "source": [
        "n_in,n_out = 2,1"
      ],
      "metadata": {
        "id": "243lXaR2AJXQ"
      },
      "execution_count": null,
      "outputs": []
    },
    {
      "cell_type": "code",
      "source": [
        "#df_supervised=series_to_supervised(df_nomissing, n_in,n_out)"
      ],
      "metadata": {
        "id": "7u0JMydE9Zjj"
      },
      "execution_count": null,
      "outputs": []
    },
    {
      "cell_type": "code",
      "source": [
        "X,y=to_supervised(data_NM, 7,1)"
      ],
      "metadata": {
        "id": "wV8US6A7H7Y9"
      },
      "execution_count": null,
      "outputs": []
    },
    {
      "cell_type": "markdown",
      "source": [
        "Predict from 1 step and 7 days before"
      ],
      "metadata": {
        "id": "_GVgsuBvwCRe"
      }
    },
    {
      "cell_type": "code",
      "source": [
        "#df_supervised[0]"
      ],
      "metadata": {
        "id": "4DepayJO7XKe"
      },
      "execution_count": null,
      "outputs": []
    },
    {
      "cell_type": "code",
      "source": [
        "#df_super[0]"
      ],
      "metadata": {
        "id": "Tt36aizXH-RW"
      },
      "execution_count": null,
      "outputs": []
    },
    {
      "cell_type": "code",
      "source": [
        "#x, y= df_supervised[:,None,:-n_out*3],df_supervised[:,n_in*3:]\n",
        "#X_train,X_test,y_train,y_test = train_test_split(x,y,test_size=0.1,random_state=49)"
      ],
      "metadata": {
        "id": "ucJCeiN8wZxe"
      },
      "execution_count": null,
      "outputs": []
    },
    {
      "cell_type": "code",
      "source": [
        "#x"
      ],
      "metadata": {
        "id": "ZpBXyQN6Juo8"
      },
      "execution_count": null,
      "outputs": []
    },
    {
      "cell_type": "code",
      "source": [
        "#y"
      ],
      "metadata": {
        "id": "i_i6GYEdJwBO"
      },
      "execution_count": null,
      "outputs": []
    },
    {
      "cell_type": "code",
      "source": [
        "X_train0, X_test, y_train0, y_test = train_test_split(X, y, random_state=42)\n"
      ],
      "metadata": {
        "id": "3dGm7QTqJIHU"
      },
      "execution_count": null,
      "outputs": []
    },
    {
      "cell_type": "code",
      "source": [
        "X_train1, X_validation, y_train1, y_validation = train_test_split(X_train0, y_train0, random_state=42)\n"
      ],
      "metadata": {
        "id": "in4psKtJKID9"
      },
      "execution_count": null,
      "outputs": []
    },
    {
      "cell_type": "code",
      "source": [
        "X_train1"
      ],
      "metadata": {
        "id": "Cy_Uov4qETIi"
      },
      "execution_count": null,
      "outputs": []
    },
    {
      "cell_type": "code",
      "source": [
        "X_train_s"
      ],
      "metadata": {
        "id": "Jq64hEqcINGI"
      },
      "execution_count": null,
      "outputs": []
    },
    {
      "cell_type": "code",
      "source": [
        "scaler=MinMaxScaler(feature_range=(0,1))"
      ],
      "metadata": {
        "id": "kuaMCCPXLfbc"
      },
      "execution_count": null,
      "outputs": []
    },
    {
      "cell_type": "code",
      "source": [
        "from keras.src.layers.serialization import preprocessing_normalization\n",
        "from sklearn import preprocessing\n",
        "import numpy as np\n",
        "\n"
      ],
      "metadata": {
        "id": "hy9rsXXjMogN"
      },
      "execution_count": null,
      "outputs": []
    },
    {
      "cell_type": "code",
      "source": [
        "X_train_s=scaler.fit_transform(X_train1)\n",
        "X_validation_s=scaler.fit_transform(X_validation)\n",
        "X_test_s=scaler.fit_transform(X_test)\n",
        "y_train_s=scaler.fit_transform(y_train1)\n",
        "y_validation_s=scaler.fit_transform(y_validation)\n",
        "y_test_s=scaler.fit_transform(y_test)\n",
        "\n"
      ],
      "metadata": {
        "id": "IEEhsBliFQHu"
      },
      "execution_count": null,
      "outputs": []
    },
    {
      "cell_type": "code",
      "source": [
        "from sklearn.model_selection import train_test_split\n",
        "from keras.models import Model,Sequential\n",
        "from keras.layers import Dense,LSTM,Dropout"
      ],
      "metadata": {
        "id": "mBKvsgeWAmu7"
      },
      "execution_count": null,
      "outputs": []
    },
    {
      "cell_type": "code",
      "source": [
        "model_mlp=Sequential()\n",
        "model_mlp.add(Dense(10,activation=\"relu\",input_dim=X_train_s.shape[1]))\n",
        "model_mlp.add(Dense(20,activation=\"relu\"))\n",
        "model_mlp.add(Dense(30,activation=\"relu\"))\n",
        "model_mlp.add(Dense(n_step,activation=\"selu\"))\n",
        "model_mlp.compile(loss='mse',optimizer=\"adam\")"
      ],
      "metadata": {
        "id": "ew057cRAEq7A"
      },
      "execution_count": null,
      "outputs": []
    },
    {
      "cell_type": "code",
      "source": [
        "history_mlp=model_mlp.fit(X_train_s,y_train_s,epochs=100,\n",
        "                          validation_data=(X_validation_s,y_validation_s)\n",
        "              , batch_size=16)\n"
      ],
      "metadata": {
        "id": "nrIaXMQwwnJV"
      },
      "execution_count": null,
      "outputs": []
    },
    {
      "cell_type": "code",
      "source": [
        "fig,ax=plt.subplots(figsize=(12,5))\n",
        "ax.plot(history_mlp.history['loss'],label='train_loss')\n",
        "ax.plot(history_mlp.history['val_loss'],label='validation_loss')\n",
        "ax.legend()"
      ],
      "metadata": {
        "id": "NS58Iho9TYRA"
      },
      "execution_count": null,
      "outputs": []
    },
    {
      "cell_type": "code",
      "source": [
        "predict_mlp=model_mlp.predict(X_test_s)\n",
        "predict_mlp.shape\n"
      ],
      "metadata": {
        "id": "dVUGcpw4UfeA"
      },
      "execution_count": null,
      "outputs": []
    },
    {
      "cell_type": "code",
      "source": [
        "from sklearn.metrics import mean_squared_error"
      ],
      "metadata": {
        "id": "2JqSRLk4UisZ"
      },
      "execution_count": null,
      "outputs": []
    },
    {
      "cell_type": "code",
      "source": [
        "inv_y_test=scaler.inverse_transform(y_test_s)\n",
        "inv_y_pred=scaler.inverse_transform(predict_mlp)\n"
      ],
      "metadata": {
        "id": "kR_KOUZoUitj"
      },
      "execution_count": null,
      "outputs": []
    },
    {
      "cell_type": "code",
      "source": [
        "fig=plt.figure(figsize=(20,10))\n",
        "plt.plot(inv_y_test[:,:2],color='b',label=\"Real\")\n",
        "plt.plot(inv_y_pred,color='r',label=\"predicted\")\n",
        "plt.legend()\n",
        "plt.show()"
      ],
      "metadata": {
        "id": "Z9ag_dpAUlkL"
      },
      "execution_count": null,
      "outputs": []
    },
    {
      "cell_type": "code",
      "source": [
        "X_test_s[-1]"
      ],
      "metadata": {
        "id": "-qfwmBScXiJW"
      },
      "execution_count": null,
      "outputs": []
    },
    {
      "cell_type": "code",
      "source": [
        "input_samples=X_test_s[-1:,:]\n",
        "input_samples"
      ],
      "metadata": {
        "id": "jMWRYyhXWsJp"
      },
      "execution_count": null,
      "outputs": []
    },
    {
      "cell_type": "code",
      "source": [
        "predict_mlp[-1]"
      ],
      "metadata": {
        "id": "WVvcd3YuW9xT"
      },
      "execution_count": null,
      "outputs": []
    },
    {
      "cell_type": "code",
      "source": [
        "y_test_s[-1]"
      ],
      "metadata": {
        "id": "IjX2FumrYovA"
      },
      "execution_count": null,
      "outputs": []
    },
    {
      "cell_type": "code",
      "source": [
        "next_step=model_mlp.predict(input_samples)\n",
        "#next_step=scaler.inverse_transform(next_step)"
      ],
      "metadata": {
        "id": "oz968eWpWvR2"
      },
      "execution_count": null,
      "outputs": []
    },
    {
      "cell_type": "code",
      "source": [
        "next_step"
      ],
      "metadata": {
        "id": "hrNVtFtrWx0W"
      },
      "execution_count": null,
      "outputs": []
    }
  ]
}