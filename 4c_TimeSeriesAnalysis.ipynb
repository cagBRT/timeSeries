{
  "nbformat": 4,
  "nbformat_minor": 0,
  "metadata": {
    "colab": {
      "name": "4c: TimeSeriesAnalysis.ipynb",
      "private_outputs": true,
      "provenance": [],
      "authorship_tag": "ABX9TyPZN5TdZu0+51wSYB8gPAHP",
      "include_colab_link": true
    },
    "kernelspec": {
      "name": "python3",
      "display_name": "Python 3"
    },
    "language_info": {
      "name": "python"
    }
  },
  "cells": [
    {
      "cell_type": "markdown",
      "metadata": {
        "id": "view-in-github",
        "colab_type": "text"
      },
      "source": [
        "<a href=\"https://colab.research.google.com/github/cagBRT/timeSeries/blob/main/4c_TimeSeriesAnalysis.ipynb\" target=\"_parent\"><img src=\"https://colab.research.google.com/assets/colab-badge.svg\" alt=\"Open In Colab\"/></a>"
      ]
    },
    {
      "cell_type": "markdown",
      "metadata": {
        "id": "GBHFx3G1QG8O"
      },
      "source": [
        "# **Non-linear trends in time series**"
      ]
    },
    {
      "cell_type": "markdown",
      "metadata": {
        "id": "-9ZLuEtmTKCY"
      },
      "source": [
        "In notebook 4b we did detrending when the trend is linear, in this notebook, we do detrending when the trend is non-linear "
      ]
    },
    {
      "cell_type": "code",
      "metadata": {
        "id": "_IPi3kr0SAjq"
      },
      "source": [
        "# Clone the entire repo.\n",
        "!git clone -l -s https://github.com/cagBRT/timeSeries.git cloned-repo\n",
        "%cd cloned-repo"
      ],
      "execution_count": null,
      "outputs": []
    },
    {
      "cell_type": "markdown",
      "metadata": {
        "id": "H9LiGRtcTgyv"
      },
      "source": [
        "**Import libraries**"
      ]
    },
    {
      "cell_type": "code",
      "metadata": {
        "id": "prwJnax9P-Pm"
      },
      "source": [
        "import pandas as pd\n",
        "import numpy as np\n",
        "import matplotlib.pyplot as plt\n",
        "from sklearn.linear_model import LinearRegression\n",
        "from sklearn.preprocessing import PolynomialFeatures\n",
        "from sklearn.metrics import mean_squared_error, r2_score"
      ],
      "execution_count": null,
      "outputs": []
    },
    {
      "cell_type": "markdown",
      "metadata": {
        "id": "k2exDm7nTlnt"
      },
      "source": [
        "**Create a pandas dataframe from the data**"
      ]
    },
    {
      "cell_type": "code",
      "metadata": {
        "id": "TwF-InxIQmC2"
      },
      "source": [
        "timeseries = pd.read_csv('qdata.csv', index_col=0, squeeze=True)\n",
        "timeseries"
      ],
      "execution_count": null,
      "outputs": []
    },
    {
      "cell_type": "markdown",
      "metadata": {
        "id": "akG4vIicTsbh"
      },
      "source": [
        "**Plot the data**"
      ]
    },
    {
      "cell_type": "markdown",
      "metadata": {
        "id": "VM_iIF7kTuvg"
      },
      "source": [
        "There is a trend in this data and it looks like it might be linear"
      ]
    },
    {
      "cell_type": "code",
      "metadata": {
        "id": "vDp95WKfQpf4"
      },
      "source": [
        "plt.plot(timeseries)\n",
        "plt.show()"
      ],
      "execution_count": null,
      "outputs": []
    },
    {
      "cell_type": "markdown",
      "metadata": {
        "id": "TwWCN3_dVAiV"
      },
      "source": [
        "**Reshape the timeseries data in a Nummpy dataset**"
      ]
    },
    {
      "cell_type": "code",
      "metadata": {
        "id": "z5MOj8ReVO4b"
      },
      "source": [
        "X = timeseries.index\n",
        "X = np.reshape(X, (len(X), 1))\n",
        "y = timeseries.values"
      ],
      "execution_count": null,
      "outputs": []
    },
    {
      "cell_type": "markdown",
      "metadata": {
        "id": "sWMAJYCGVQSF"
      },
      "source": [
        "**Create, train, and test a Linear Regression model**"
      ]
    },
    {
      "cell_type": "code",
      "metadata": {
        "id": "c3US-m8WVZXO"
      },
      "source": [
        "LR_model = LinearRegression()\n",
        "LR_model.fit(X, y)\n",
        "trend = LR_model.predict(X)"
      ],
      "execution_count": null,
      "outputs": []
    },
    {
      "cell_type": "markdown",
      "metadata": {
        "id": "v712LOLNVm4J"
      },
      "source": [
        "**Plot the predictions of the linear regression model**"
      ]
    },
    {
      "cell_type": "code",
      "metadata": {
        "id": "pebvt_A_QvLy"
      },
      "source": [
        "plt.plot(y)\n",
        "plt.plot(trend)\n",
        "plt.legend(['data', 'trend'])\n",
        "plt.show()"
      ],
      "execution_count": null,
      "outputs": []
    },
    {
      "cell_type": "markdown",
      "metadata": {
        "id": "ceutczI5Vt4A"
      },
      "source": [
        "The model kind of fits the data. <br>\n",
        "When the timeseries is detrended, it is clear the assumption of a linear trend is not correct.*italicized text*"
      ]
    },
    {
      "cell_type": "code",
      "metadata": {
        "id": "uTrlatuPQzJ3"
      },
      "source": [
        "detrend_data = [y[i] - trend[i] for i in range(0, len(y))]\n",
        "plt.plot(detrend_data)\n",
        "plt.title('data detrended in a linear fashion')\n",
        "plt.show()"
      ],
      "execution_count": null,
      "outputs": []
    },
    {
      "cell_type": "markdown",
      "metadata": {
        "id": "uV8B568JV8Zj"
      },
      "source": [
        "**Calculate the error scores for the model**"
      ]
    },
    {
      "cell_type": "code",
      "metadata": {
        "id": "YsCGupIhQ2gt"
      },
      "source": [
        "r2 = r2_score(y, trend)\n",
        "rmse = np.sqrt(mean_squared_error(y, trend))\n",
        "print('r2:', r2)\n",
        "print('rmse', rmse)"
      ],
      "execution_count": null,
      "outputs": []
    },
    {
      "cell_type": "markdown",
      "metadata": {
        "id": "RP8jDQcFWZBZ"
      },
      "source": [
        "**Try to fit the time series to a polynomial curve**<br>\n",
        "\n",
        "\n",
        "[PolynomialFeatures](https://scikit-learn.org/stable/modules/generated/sklearn.preprocessing.PolynomialFeatures.html)<br>\n",
        "\n",
        "Be aware that the number of features in the output array scales polynomially in the number of features of the input array, and exponentially in the degree. High degrees can cause overfitting."
      ]
    },
    {
      "cell_type": "markdown",
      "metadata": {
        "id": "ihnUC5gkY65x"
      },
      "source": [
        "**Assume a quadratic trend to start**"
      ]
    },
    {
      "cell_type": "markdown",
      "metadata": {
        "id": "unJJ90LzZbFP"
      },
      "source": [
        "The output polynomialTrend is:\n",
        ">column 1: X^0 = 1<br>\n",
        "column 2: X^1<br>\n",
        "column 3: X^2<br>\n",
        "\n",
        "Note: y=a+bx+cx**2"
      ]
    },
    {
      "cell_type": "code",
      "metadata": {
        "id": "LWjvDUskQ72a"
      },
      "source": [
        "polynomial = PolynomialFeatures(degree=2)\n",
        "polynomialTrend = polynomial.fit_transform(X)\n",
        "polynomialTrend"
      ],
      "execution_count": null,
      "outputs": []
    },
    {
      "cell_type": "markdown",
      "metadata": {
        "id": "oYIWQE9qaHtj"
      },
      "source": [
        "**Use the new data to train a linear regression model**"
      ]
    },
    {
      "cell_type": "code",
      "metadata": {
        "id": "ryEUG0yQQ-6G"
      },
      "source": [
        "poly_trend_model = LinearRegression()\n",
        "poly_trend_model.fit(polynomialTrend, y)\n",
        "poly_trend = poly_trend_model.predict(polynomialTrend)"
      ],
      "execution_count": null,
      "outputs": []
    },
    {
      "cell_type": "markdown",
      "metadata": {
        "id": "37q8DUR7a8tM"
      },
      "source": [
        "**Plot the non-linear trend**"
      ]
    },
    {
      "cell_type": "code",
      "metadata": {
        "id": "k3LytX33RCIX"
      },
      "source": [
        "plt.plot(X, y)\n",
        "plt.plot(X, poly_trend)\n",
        "plt.legend(['data', 'polynomial trend'])\n",
        "plt.show()"
      ],
      "execution_count": null,
      "outputs": []
    },
    {
      "cell_type": "markdown",
      "metadata": {
        "id": "QBOpVknUbB60"
      },
      "source": [
        "**Detrend and plot the timeseries**"
      ]
    },
    {
      "cell_type": "code",
      "metadata": {
        "id": "7S_gN0RLRFEt"
      },
      "source": [
        "detrendpoly = [y[i] - poly_trend[i] for i in range(0, len(y))]\n",
        "plt.plot(X, detrendpoly)\n",
        "plt.title('Polynomially detrended data')\n",
        "plt.show()\n"
      ],
      "execution_count": null,
      "outputs": []
    },
    {
      "cell_type": "markdown",
      "metadata": {
        "id": "KLei8fXBbSC9"
      },
      "source": [
        "**Calculate the error for the timeseries detrended using a polynomial.**"
      ]
    },
    {
      "cell_type": "code",
      "metadata": {
        "id": "dooBBKnyRIhZ"
      },
      "source": [
        "rp2 = r2_score(y, trendp)\n",
        "rpmse = np.sqrt(mean_squared_error(y, poly_trend))\n",
        "print(\"Linear Assumption\")\n",
        "print('r2:', r2)\n",
        "print('rmse', rmse)\n",
        "print(\"\\nPolynomial Fit\")\n",
        "print('r2:', rp2)\n",
        "print('rmse', rpmse)"
      ],
      "execution_count": null,
      "outputs": []
    }
  ]
}