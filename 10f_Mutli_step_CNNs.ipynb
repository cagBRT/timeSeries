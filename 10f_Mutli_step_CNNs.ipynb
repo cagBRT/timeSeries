{
  "nbformat": 4,
  "nbformat_minor": 0,
  "metadata": {
    "colab": {
      "name": "10f Mutli-step CNNs.ipynb",
      "private_outputs": true,
      "provenance": [],
      "authorship_tag": "ABX9TyP4nhMspLIM+iogdvPbW8pw",
      "include_colab_link": true
    },
    "kernelspec": {
      "name": "python3",
      "display_name": "Python 3"
    },
    "language_info": {
      "name": "python"
    }
  },
  "cells": [
    {
      "cell_type": "markdown",
      "metadata": {
        "id": "view-in-github",
        "colab_type": "text"
      },
      "source": [
        "<a href=\"https://colab.research.google.com/github/cagBRT/timeSeries/blob/main/10f_Mutli_step_CNNs.ipynb\" target=\"_parent\"><img src=\"https://colab.research.google.com/assets/colab-badge.svg\" alt=\"Open In Colab\"/></a>"
      ]
    },
    {
      "cell_type": "markdown",
      "source": [
        "# **Multi-step CNNs**"
      ],
      "metadata": {
        "id": "Gh-LQ3hEmN5f"
      }
    },
    {
      "cell_type": "code",
      "source": [
        "from numpy import array\n",
        "from keras.models import Sequential\n",
        "from keras.layers import Dense\n",
        "from keras.layers import Flatten\n",
        "from keras.layers.convolutional import Conv1D\n",
        "from keras.layers.convolutional import MaxPooling1D\n",
        "from keras.utils.vis_utils import plot_model"
      ],
      "metadata": {
        "id": "bAD9rIIqnld4"
      },
      "execution_count": null,
      "outputs": []
    },
    {
      "cell_type": "markdown",
      "source": [
        "With multi-step CNNs the data inputs and outputs will be multiple time steps"
      ],
      "metadata": {
        "id": "qSfcAxLFmZc6"
      }
    },
    {
      "cell_type": "markdown",
      "source": [
        "For example:<br>\n",
        "Given:<br>\n",
        "[10,20,30,40,50,60,70,80,90]<br>\n",
        "\n",
        "Three time steps can be the input<br>\n",
        "[10,20,30]\n",
        "These are used to predict the 2 time step output<br>\n",
        "[40,50]"
      ],
      "metadata": {
        "id": "T1MOANXBmkrv"
      }
    },
    {
      "cell_type": "markdown",
      "source": [
        "**Define the split_sequence for multi-step forecasting**"
      ],
      "metadata": {
        "id": "GY8THBFrnHMS"
      }
    },
    {
      "cell_type": "code",
      "execution_count": null,
      "metadata": {
        "id": "_K09UOwCkzk5"
      },
      "outputs": [],
      "source": [
        "def split_sequence(sequence, n_steps_in, n_steps_out): \n",
        "  X, y = list(), list()\n",
        "  for i in range(len(sequence)):\n",
        "    # find the end of this pattern\n",
        "    end_ix = i + n_steps_in\n",
        "    out_end_ix = end_ix + n_steps_out\n",
        "    # check if we are beyond the sequence \n",
        "    if out_end_ix > len(sequence):\n",
        "      break\n",
        "    # gather input and output parts of the pattern\n",
        "    seq_x, seq_y = sequence[i:end_ix], sequence[end_ix:out_end_ix] \n",
        "    X.append(seq_x)\n",
        "    y.append(seq_y)\n",
        "  return array(X), array(y)"
      ]
    },
    {
      "cell_type": "markdown",
      "source": [
        "**Create a time series**"
      ],
      "metadata": {
        "id": "Wnx4fTI3wyVj"
      }
    },
    {
      "cell_type": "code",
      "source": [
        "raw_seq = [15,25,35,45,55,65,75,85,95,105]\n",
        "# choose a number of time steps\n",
        "n_steps_in, n_steps_out = 3, 2\n",
        "# split into samples\n",
        "X, y = split_sequence(raw_seq, n_steps_in, n_steps_out)\n",
        "# summarize the data\n",
        "for i in range(len(X)):\n",
        "  print(X[i], y[i])"
      ],
      "metadata": {
        "id": "kkEoNYJXnpyR"
      },
      "execution_count": null,
      "outputs": []
    },
    {
      "cell_type": "code",
      "source": [
        "n_features = 1\n",
        "X = X.reshape((X.shape[0], X.shape[1], n_features))"
      ],
      "metadata": {
        "id": "aI7HyR_OxDYh"
      },
      "execution_count": null,
      "outputs": []
    },
    {
      "cell_type": "markdown",
      "source": [
        "**Create the model**"
      ],
      "metadata": {
        "id": "0Tf0N4jRxxLP"
      }
    },
    {
      "cell_type": "code",
      "source": [
        "model = Sequential()\n",
        "model.add(Conv1D(24, 2, activation='relu', input_shape=(n_steps_in, n_features))) \n",
        "model.add(MaxPooling1D())\n",
        "model.add(Flatten())\n",
        "model.add(Dense(18, activation='relu'))\n",
        "model.add(Dense(n_steps_out))\n",
        "model.compile(optimizer='adam', loss='mse')"
      ],
      "metadata": {
        "id": "PSgETpRvxcpX"
      },
      "execution_count": null,
      "outputs": []
    },
    {
      "cell_type": "code",
      "source": [
        "plot_model(model, show_shapes=True, show_layer_names=True)"
      ],
      "metadata": {
        "id": "f57XosHfyDHb"
      },
      "execution_count": null,
      "outputs": []
    },
    {
      "cell_type": "markdown",
      "source": [
        "**Train the model**"
      ],
      "metadata": {
        "id": "b-ZSFF5Yx0Lk"
      }
    },
    {
      "cell_type": "code",
      "source": [
        "model.fit(X, y, epochs=2000, verbose=0)"
      ],
      "metadata": {
        "id": "XTSMrW1lxkUI"
      },
      "execution_count": null,
      "outputs": []
    },
    {
      "cell_type": "markdown",
      "source": [
        "**Make a prediction**<br>\n",
        "Expecting 105, 115"
      ],
      "metadata": {
        "id": "VRVq7ma1x2-6"
      }
    },
    {
      "cell_type": "code",
      "source": [
        "x_input = array([75, 85, 95])\n",
        "x_input = x_input.reshape((1, n_steps_in, n_features))\n",
        "yhat = model.predict(x_input, verbose=0)\n",
        "print(yhat)"
      ],
      "metadata": {
        "id": "zNcogxd9xm4Q"
      },
      "execution_count": null,
      "outputs": []
    },
    {
      "cell_type": "markdown",
      "source": [
        "**Assignment:**<br>\n",
        "1. Modify the number of neurons in the model to improve the prediction. <br>\n",
        "2. Then try predicting time steps further out.\n"
      ],
      "metadata": {
        "id": "jToso5dVoA8w"
      }
    }
  ]
}