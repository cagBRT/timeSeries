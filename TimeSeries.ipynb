{
  "nbformat": 4,
  "nbformat_minor": 0,
  "metadata": {
    "colab": {
      "name": "TimeSeries.ipynb",
      "private_outputs": true,
      "provenance": [],
      "authorship_tag": "ABX9TyMdk+zeea1OpG5xYGg8s6DE",
      "include_colab_link": true
    },
    "kernelspec": {
      "name": "python3",
      "display_name": "Python 3"
    }
  },
  "cells": [
    {
      "cell_type": "markdown",
      "metadata": {
        "id": "view-in-github",
        "colab_type": "text"
      },
      "source": [
        "<a href=\"https://colab.research.google.com/github/cagBRT/timeSeries/blob/main/TimeSeries.ipynb\" target=\"_parent\"><img src=\"https://colab.research.google.com/assets/colab-badge.svg\" alt=\"Open In Colab\"/></a>"
      ]
    },
    {
      "cell_type": "markdown",
      "metadata": {
        "id": "1m7GfGU-EYIE"
      },
      "source": [
        "https://towardsdatascience.com/getting-started-with-time-series-using-pandas-b6b9c9d11949\n"
      ]
    },
    {
      "cell_type": "code",
      "metadata": {
        "id": "TjRwOmqLKYPz"
      },
      "source": [
        "!git clone -l -s https://github.com/cagBRT/timeSeries.git cloned-repo\n",
        "%cd cloned-repo"
      ],
      "execution_count": null,
      "outputs": []
    },
    {
      "cell_type": "code",
      "metadata": {
        "id": "ixdHwvl7ItLt"
      },
      "source": [
        "# Importing required modules\n",
        "import pandas as pd\n",
        "import numpy as np\n",
        "import matplotlib.pyplot as plt\n",
        "import matplotlib.dates as mdates\n",
        "import datetime as dt\n",
        "from datetime import datetime    # To access datetime \n",
        "from pandas import Series        # To work on series"
      ],
      "execution_count": null,
      "outputs": []
    },
    {
      "cell_type": "code",
      "metadata": {
        "id": "RiEDAfvsJKRh"
      },
      "source": [
        "# Settings for pretty nice plots \n",
        "plt.style.use('fivethirtyeight')\n",
        "%matplotlib inline"
      ],
      "execution_count": null,
      "outputs": []
    },
    {
      "cell_type": "code",
      "metadata": {
        "id": "gUOzY-GxJNuA"
      },
      "source": [
        "# ignore warnings\n",
        "import warnings\n",
        "warnings.filterwarnings('ignore')"
      ],
      "execution_count": null,
      "outputs": []
    },
    {
      "cell_type": "code",
      "metadata": {
        "id": "3jTACJ0pJRSD"
      },
      "source": [
        "# Reading in the data\n",
        "df = pd.read_csv('/content/cloned-repo/MARUTI.csv')"
      ],
      "execution_count": null,
      "outputs": []
    },
    {
      "cell_type": "code",
      "metadata": {
        "id": "Uza_l2FHKyUu"
      },
      "source": [
        "# Inspecting the data\n",
        "df.head()"
      ],
      "execution_count": null,
      "outputs": []
    },
    {
      "cell_type": "code",
      "metadata": {
        "id": "XM4AbBjZK35Y"
      },
      "source": [
        "data = df[['Date','Open','High','Low','Close','Volume','VWAP']]"
      ],
      "execution_count": null,
      "outputs": []
    },
    {
      "cell_type": "code",
      "metadata": {
        "id": "FN4zeERVK728"
      },
      "source": [
        "data.info()"
      ],
      "execution_count": null,
      "outputs": []
    },
    {
      "cell_type": "code",
      "metadata": {
        "id": "acPGxMyaLBZe"
      },
      "source": [
        "# Convert string to datetime64\n",
        "data['Date'] = data['Date'].apply(pd.to_datetime)\n",
        "data.set_index('Date',inplace=True)\n",
        "data.head()"
      ],
      "execution_count": null,
      "outputs": []
    },
    {
      "cell_type": "code",
      "metadata": {
        "id": "NGVn4GDxLN3M"
      },
      "source": [
        "data.tail()"
      ],
      "execution_count": null,
      "outputs": []
    },
    {
      "cell_type": "code",
      "metadata": {
        "id": "I_tuqq11LLgv"
      },
      "source": [
        "from datetime import datetime\n",
        "my_year = 2019\n",
        "my_month = 4\n",
        "my_day = 21\n",
        "my_hour = 10\n",
        "my_minute = 5\n",
        "my_second = 30"
      ],
      "execution_count": null,
      "outputs": []
    },
    {
      "cell_type": "code",
      "metadata": {
        "id": "p6xekRYMLUrj"
      },
      "source": [
        "test_data = datetime(my_year,my_month,my_day)\n",
        "test_data"
      ],
      "execution_count": null,
      "outputs": []
    },
    {
      "cell_type": "code",
      "metadata": {
        "id": "zTnu9tf7LcVz"
      },
      "source": [
        "test_data = datetime(my_year,my_month,my_day,my_hour,my_minute,my_second)\n",
        "print(\"The day is : \",test_data.day)\n",
        "print(\"The hour is : \",test_data.hour)\n",
        "print(\"The month is : \",test_data.month)"
      ],
      "execution_count": null,
      "outputs": []
    },
    {
      "cell_type": "code",
      "metadata": {
        "id": "-nr-Uxj1Li0S"
      },
      "source": [
        "print(data.index.max())\n",
        "print(data.index.min())"
      ],
      "execution_count": null,
      "outputs": []
    },
    {
      "cell_type": "code",
      "metadata": {
        "id": "DlOeWgrKLndS"
      },
      "source": [
        "# Earliest date index location\n",
        "print('Earliest date index location is: ',data.index.argmin())\n",
        "\n",
        "# Latest date location\n",
        "print('Latest date location: ',data.index.argmax())"
      ],
      "execution_count": null,
      "outputs": []
    },
    {
      "cell_type": "code",
      "metadata": {
        "id": "VKURooc7LzMp"
      },
      "source": [
        "df_vwap = df[['Date','VWAP']] # df is the original dataframe\n",
        "df_vwap['Date'] = df_vwap['Date'].apply(pd.to_datetime)\n",
        "df_vwap.set_index(\"Date\", inplace = True)\n",
        "df_vwap.head()"
      ],
      "execution_count": null,
      "outputs": []
    },
    {
      "cell_type": "code",
      "metadata": {
        "id": "-b6HL90SL31r"
      },
      "source": [
        "# Slicing on year\n",
        "vwap_subset = df_vwap['2017':'2020']\n",
        "\n",
        "# Slicing on month\n",
        "vwap_subset = df_vwap['2017-01':'2020-12']\n",
        "\n",
        "#Slicing on day\n",
        "vwap_subset = df_vwap['2017-01-01':'2020-12-15']"
      ],
      "execution_count": null,
      "outputs": []
    },
    {
      "cell_type": "code",
      "metadata": {
        "id": "OCgaWCT6L9NR"
      },
      "source": [
        "df_vwap['VWAP'].plot(figsize=(16,8),title=' volume weighted average price')"
      ],
      "execution_count": null,
      "outputs": []
    },
    {
      "cell_type": "code",
      "metadata": {
        "id": "BT4Jza21MEyi"
      },
      "source": [
        "ax = df_vwap.loc['2018', 'VWAP'].plot(figsize=(15,6))\n",
        "ax.set_title('Month-wise Trend in 2018'); \n",
        "ax.set_ylabel('VWAP');\n",
        "ax.xaxis.set_major_locator(mdates.MonthLocator())\n",
        "ax.xaxis.set_major_formatter(mdates.DateFormatter('%b'));"
      ],
      "execution_count": null,
      "outputs": []
    },
    {
      "cell_type": "code",
      "metadata": {
        "id": "LDVVfv6qMLLJ"
      },
      "source": [
        "ax = df_vwap.loc['2018-10':'2018-11','VWAP'].plot(marker='o', linestyle='-',figsize=(15,6))\n",
        "ax.set_title('Oct-Nov 2018 trend'); \n",
        "ax.set_ylabel('VWAP');\n",
        "ax.xaxis.set_major_locator(mdates.WeekdayLocator(byweekday=mdates.MONDAY))\n",
        "ax.xaxis.set_major_formatter(mdates.DateFormatter('%b %d'));"
      ],
      "execution_count": null,
      "outputs": []
    },
    {
      "cell_type": "code",
      "metadata": {
        "id": "xOARj5E9Ddwp"
      },
      "source": [
        "df_vwap.reset_index(inplace=True)\n",
        "df_vwap['year'] = df_vwap.Date.dt.year\n",
        "df_vwap['month'] = df_vwap.Date.dt.month\n",
        "df_vwap['day'] = df_vwap.Date.dt.day\n",
        "df_vwap['day of week'] = df_vwap.Date.dt.dayofweek\n",
        "\n",
        "#Set Date column as the index column.\n",
        "df_vwap.set_index('Date', inplace=True)\n",
        "df_vwap.head()"
      ],
      "execution_count": null,
      "outputs": []
    },
    {
      "cell_type": "code",
      "metadata": {
        "id": "-S_1f2bIDiiJ"
      },
      "source": [
        "df_vwap.resample(rule = 'A').mean()[:5]"
      ],
      "execution_count": null,
      "outputs": []
    },
    {
      "cell_type": "code",
      "metadata": {
        "id": "YyQLjzL9Dpvb"
      },
      "source": [
        "plt.rcParams['figure.figsize'] = (8, 6)\n",
        "df_vwap['VWAP'].resample('A').mean().plot(kind='bar')\n",
        "plt.title('Yearly Mean VWAP for Maruti')"
      ],
      "execution_count": null,
      "outputs": []
    },
    {
      "cell_type": "code",
      "metadata": {
        "id": "rMnhKWYADux7"
      },
      "source": [
        "df_vwap['VWAP'].resample('AS').mean().plot(kind='bar',figsize = (10,4))\n",
        "plt.title('Yearly start Mean VWAP for Maruti')\n"
      ],
      "execution_count": null,
      "outputs": []
    },
    {
      "cell_type": "code",
      "metadata": {
        "id": "TdjA9OIGDzF9"
      },
      "source": [
        "df_vwap.head()"
      ],
      "execution_count": null,
      "outputs": []
    },
    {
      "cell_type": "code",
      "metadata": {
        "id": "bKkwtZgZD2-z"
      },
      "source": [
        "df_vwap.shift(1).head()\n"
      ],
      "execution_count": null,
      "outputs": []
    },
    {
      "cell_type": "code",
      "metadata": {
        "id": "roS6SihAD6wP"
      },
      "source": [
        "df_vwap.shift(-1).head()"
      ],
      "execution_count": null,
      "outputs": []
    },
    {
      "cell_type": "code",
      "metadata": {
        "id": "aix-VewLD_9R"
      },
      "source": [
        "df_vwap.tshift(periods=3, freq = 'M').head()\n"
      ],
      "execution_count": null,
      "outputs": []
    },
    {
      "cell_type": "code",
      "metadata": {
        "id": "yd-hjT3tEEg3"
      },
      "source": [
        "df_vwap['VWAP'].plot(figsize = (10,6))"
      ],
      "execution_count": null,
      "outputs": []
    },
    {
      "cell_type": "code",
      "metadata": {
        "id": "FziilssNEI42"
      },
      "source": [
        "df_vwap.rolling(7).mean().head(10)"
      ],
      "execution_count": null,
      "outputs": []
    },
    {
      "cell_type": "code",
      "metadata": {
        "id": "NAZacPJTENWU"
      },
      "source": [
        "df_vwap['VWAP'].plot()\n",
        "df_vwap.rolling(window=30).mean()['VWAP'].plot(figsize=(16, 6))\n"
      ],
      "execution_count": null,
      "outputs": []
    }
  ]
}