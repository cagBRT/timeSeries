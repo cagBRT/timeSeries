{
  "nbformat": 4,
  "nbformat_minor": 0,
  "metadata": {
    "colab": {
      "name": "10 Univariate CNN Models.ipynb",
      "private_outputs": true,
      "provenance": [],
      "authorship_tag": "ABX9TyP37Ip/w4QeQykvgtRAG0ef",
      "include_colab_link": true
    },
    "kernelspec": {
      "name": "python3",
      "display_name": "Python 3"
    },
    "language_info": {
      "name": "python"
    }
  },
  "cells": [
    {
      "cell_type": "markdown",
      "metadata": {
        "id": "view-in-github",
        "colab_type": "text"
      },
      "source": [
        "<a href=\"https://colab.research.google.com/github/cagBRT/timeSeries/blob/main/10_Univariate_CNN_Models.ipynb\" target=\"_parent\"><img src=\"https://colab.research.google.com/assets/colab-badge.svg\" alt=\"Open In Colab\"/></a>"
      ]
    },
    {
      "cell_type": "markdown",
      "source": [
        "# **Univariate CNN Models**"
      ],
      "metadata": {
        "id": "cHfnRdG0wN5o"
      }
    },
    {
      "cell_type": "markdown",
      "source": [
        "Univariate (one observation per time) time series can be modeled by CNNs"
      ],
      "metadata": {
        "id": "1S38K9R6wSrT"
      }
    },
    {
      "cell_type": "markdown",
      "source": [
        "We prepare the data for the CNN.\n",
        "If we begin with a series like this:<br>\n",
        "\n",
        "[5,15,25,35,45,55,65,75,85,95]<br>\n",
        "We can break it into samples for the CNN:<br>\n",
        "[5,15,25]  [35]<br>\n",
        "[15,25,35]  [45]<br>\n",
        "[25,35,45] [55]<br>\n",
        "[35,45,55] [65]<br>\n",
        "[45,55,65] [75]<br>\n",
        "[55,65,75] [85]<br>\n",
        "[65.75.85] [95]<br>"
      ],
      "metadata": {
        "id": "xcse5jTQwvUM"
      }
    },
    {
      "cell_type": "markdown",
      "source": [
        "**The function for splitting the sequence into time steps**"
      ],
      "metadata": {
        "id": "u1ZFxfDYzsSR"
      }
    },
    {
      "cell_type": "code",
      "execution_count": null,
      "metadata": {
        "id": "vyTlU6i_v_Gi"
      },
      "outputs": [],
      "source": [
        "# split a univariate sequence into samples\n",
        "def split_sequence(sequence, n_steps): \n",
        "  X, y = list(), list()\n",
        "  for i in range(len(sequence)):\n",
        "    # find the end of this pattern\n",
        "    end_ix = i + n_steps\n",
        "    # check if we are beyond the sequence\n",
        "    if end_ix > len(sequence)-1: \n",
        "      break\n",
        "    # gather input and output parts of the pattern\n",
        "    seq_x, seq_y = sequence[i:end_ix], sequence[end_ix] \n",
        "    X.append(seq_x)\n",
        "    y.append(seq_y)\n",
        "  return array(X), array(y)"
      ]
    },
    {
      "cell_type": "markdown",
      "source": [
        "**Import the libraries**"
      ],
      "metadata": {
        "id": "SzjhNFxKzxuG"
      }
    },
    {
      "cell_type": "code",
      "source": [
        "from numpy import array\n",
        "from keras.models import Sequential\n",
        "from keras.layers import Dense\n",
        "from keras.layers import Flatten\n",
        "from keras.layers.convolutional import Conv1D\n",
        "from keras.layers.convolutional import MaxPooling1D"
      ],
      "metadata": {
        "id": "zTnLz1c2xueF"
      },
      "execution_count": null,
      "outputs": []
    },
    {
      "cell_type": "markdown",
      "source": [
        "**Create the time series**"
      ],
      "metadata": {
        "id": "wlCVB9Kdz02-"
      }
    },
    {
      "cell_type": "code",
      "source": [
        "raw_seq = [5,15,25,35,45,55,65,75,85,95]\n",
        "# choose a number of time steps\n",
        "n_steps = 3\n",
        "# split into samples\n",
        "X, y = split_sequence(raw_seq, n_steps)\n",
        "# summarize the data\n",
        "for i in range(len(X)):\n",
        "  print(X[i], y[i])\n"
      ],
      "metadata": {
        "id": "n6lde-R8ydHr"
      },
      "execution_count": null,
      "outputs": []
    },
    {
      "cell_type": "code",
      "source": [
        "X, y = split_sequence(raw_seq, n_steps)\n",
        "# reshape from [samples, timesteps] into [samples, timesteps, features]\n",
        "n_features = 1\n",
        "X = X.reshape((X.shape[0], X.shape[1], n_features))"
      ],
      "metadata": {
        "id": "RLUBW03rzOeC"
      },
      "execution_count": null,
      "outputs": []
    },
    {
      "cell_type": "markdown",
      "source": [
        "**Create a model for the time series**"
      ],
      "metadata": {
        "id": "4kZIZh7lymlE"
      }
    },
    {
      "cell_type": "markdown",
      "source": [
        "It is a convolutional model - it has \n",
        "1. Convolutional layer\n",
        "2. Max Pooling\n",
        "3. Flatten layer\n",
        "4. Dense layer"
      ],
      "metadata": {
        "id": "8CltS4vBz_VW"
      }
    },
    {
      "cell_type": "code",
      "source": [
        "model = Sequential()\n",
        "model.add(Conv1D(24, 2, activation='relu', input_shape=(n_steps, n_features))) \n",
        "model.add(MaxPooling1D())\n",
        "model.add(Flatten())\n",
        "model.add(Dense(20, activation='relu'))\n",
        "model.add(Dense(1))\n",
        "model.compile(optimizer='adam', loss='mse')"
      ],
      "metadata": {
        "id": "S6awWwGAypev"
      },
      "execution_count": null,
      "outputs": []
    },
    {
      "cell_type": "markdown",
      "source": [
        "tf.layers.conv1d is used when you slide your convolution kernels along 1 dimensions, whereas tf.layers.conv2d is used when you slide your convolution kernels along 2 dimensions (for images)."
      ],
      "metadata": {
        "id": "Ejr0Oq6J0AOe"
      }
    },
    {
      "cell_type": "markdown",
      "source": [
        "**Notice the dense layer has the most parameters**"
      ],
      "metadata": {
        "id": "yulxZfPD0PI2"
      }
    },
    {
      "cell_type": "code",
      "source": [
        "model.summary()"
      ],
      "metadata": {
        "id": "WlhkvZAc0LTI"
      },
      "execution_count": null,
      "outputs": []
    },
    {
      "cell_type": "markdown",
      "source": [
        "**Train the model**"
      ],
      "metadata": {
        "id": "ee3gmhIV0W_4"
      }
    },
    {
      "cell_type": "code",
      "source": [
        "model.fit(X,y,epochs=100,verbose=0)"
      ],
      "metadata": {
        "id": "qICXffFkzZFo"
      },
      "execution_count": null,
      "outputs": []
    },
    {
      "cell_type": "markdown",
      "source": [
        "**Make a prediction**"
      ],
      "metadata": {
        "id": "q54xg6_20ZXh"
      }
    },
    {
      "cell_type": "code",
      "source": [
        "x_input = array([75, 85, 95])\n",
        "x_input = x_input.reshape((1, n_steps, n_features))\n",
        "yhat = model.predict(x_input, verbose=0)\n",
        "print(yhat)"
      ],
      "metadata": {
        "id": "e4wd_FeazjBv"
      },
      "execution_count": null,
      "outputs": []
    },
    {
      "cell_type": "markdown",
      "source": [
        "**Assignment**<br>\n",
        "You can get a better prediction by changing the model and the number of epochs.<br>\n",
        "Change the number of parameters in the ConVD and Dense layers. <br>\n",
        "Change the number of epochs"
      ],
      "metadata": {
        "id": "k8y-Irnh0xOv"
      }
    }
  ]
}