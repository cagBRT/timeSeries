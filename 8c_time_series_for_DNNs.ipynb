{
  "nbformat": 4,
  "nbformat_minor": 0,
  "metadata": {
    "colab": {
      "private_outputs": true,
      "provenance": [],
      "authorship_tag": "ABX9TyNdF3JdCVD49e0mEyClwH5q",
      "include_colab_link": true
    },
    "kernelspec": {
      "name": "python3",
      "display_name": "Python 3"
    },
    "language_info": {
      "name": "python"
    }
  },
  "cells": [
    {
      "cell_type": "markdown",
      "metadata": {
        "id": "view-in-github",
        "colab_type": "text"
      },
      "source": [
        "<a href=\"https://colab.research.google.com/github/cagBRT/timeSeries/blob/main/8c_time_series_for_DNNs.ipynb\" target=\"_parent\"><img src=\"https://colab.research.google.com/assets/colab-badge.svg\" alt=\"Open In Colab\"/></a>"
      ]
    },
    {
      "cell_type": "markdown",
      "source": [
        "Functions for preparing time series data for DNNs"
      ],
      "metadata": {
        "id": "nFgd7bYrhWAD"
      }
    },
    {
      "cell_type": "code",
      "execution_count": null,
      "metadata": {
        "id": "Vodj_EGydYft"
      },
      "outputs": [],
      "source": [
        "!git clone -l -s https://github.com/cagBRT/timeSeries.git cloned-repo\n",
        "%cd cloned-repo"
      ]
    },
    {
      "cell_type": "code",
      "source": [
        "import pandas as pd\n",
        "import numpy as np\n",
        "from numpy import array\n",
        "import matplotlib.pyplot as plt\n",
        "import pickle\n",
        "\n",
        "from sklearn.preprocessing import MinMaxScaler\n",
        "import statsmodels.tsa.stattools as sts\n",
        "from sklearn import preprocessing\n",
        "from sklearn.model_selection import train_test_split\n",
        "from sklearn.metrics import mean_squared_error\n",
        "\n",
        "import tensorflow as tf\n",
        "from keras.src.layers.serialization import preprocessing_normalization\n",
        "from keras.models import Model,Sequential\n",
        "from keras.layers import Dense,LSTM,Dropout"
      ],
      "metadata": {
        "id": "Solmlpf5dfxi"
      },
      "execution_count": null,
      "outputs": []
    },
    {
      "cell_type": "code",
      "source": [
        "dataset=pd.read_csv(\"temperature.csv\")\n",
        "dataset.head()"
      ],
      "metadata": {
        "id": "HgQQrPtYdiMs"
      },
      "execution_count": null,
      "outputs": []
    },
    {
      "cell_type": "code",
      "source": [
        "dataset.tail()"
      ],
      "metadata": {
        "id": "h-FIX0_Xdkxm"
      },
      "execution_count": null,
      "outputs": []
    },
    {
      "cell_type": "code",
      "source": [
        "df2 = dataset[[\"month\", \"day\", \"year\"]].copy()\n",
        "df_date=pd.to_datetime(df2)\n",
        "df_date=pd.DataFrame(df_date)"
      ],
      "metadata": {
        "id": "3CPa_1kldm4Q"
      },
      "execution_count": null,
      "outputs": []
    },
    {
      "cell_type": "code",
      "source": [
        "dfAT=dataset[\"AverageTemperatureFahr\"]\n",
        "df_date.insert(1,\"AverageTemperatureFahr\",dfAT )\n"
      ],
      "metadata": {
        "id": "LRoMDWoZdpaP"
      },
      "execution_count": null,
      "outputs": []
    },
    {
      "cell_type": "code",
      "source": [
        "df_date"
      ],
      "metadata": {
        "id": "p1unYAYBdrzb"
      },
      "execution_count": null,
      "outputs": []
    },
    {
      "cell_type": "code",
      "source": [
        "df_date_renamed=df_date.rename(columns={0:\"date\"})\n",
        "df_date_renamed"
      ],
      "metadata": {
        "id": "wkE_ZfBWduiV"
      },
      "execution_count": null,
      "outputs": []
    },
    {
      "cell_type": "code",
      "source": [
        "df_nomissing=df_date_renamed.dropna()\n",
        "df_nomissing"
      ],
      "metadata": {
        "id": "A4x2-dcdd2T0"
      },
      "execution_count": null,
      "outputs": []
    },
    {
      "cell_type": "code",
      "source": [
        "df_nomissing=df_nomissing.set_index('date')\n",
        "df_nomissing.columns\n",
        "df_nomissing"
      ],
      "metadata": {
        "id": "rgsr7kHxd41z"
      },
      "execution_count": null,
      "outputs": []
    },
    {
      "cell_type": "markdown",
      "source": [
        "\n",
        "\n",
        "---\n",
        "\n",
        "\n",
        "\n",
        "---\n",
        "\n"
      ],
      "metadata": {
        "id": "tew7m-e_efer"
      }
    },
    {
      "cell_type": "code",
      "source": [
        "def to_supervised(train,n_input,n_out):\n",
        "    #flaten data\n",
        "    data=train\n",
        "    X,y=list(),list()\n",
        "    in_start=0\n",
        "    for _ in range(len(data)):\n",
        "        in_end=in_start+ n_input\n",
        "        out_end=in_end + n_out\n",
        "        if out_end<=len(data):\n",
        "            x_input=data[ in_start:in_end,0]\n",
        "            x_input=x_input.reshape((len(x_input)))\n",
        "            X.append(x_input)\n",
        "            y.append(data[in_end:out_end,0])\n",
        "        in_start+=1\n",
        "    return array(X), array(y)"
      ],
      "metadata": {
        "id": "DUYtJ3ioeBGf"
      },
      "execution_count": null,
      "outputs": []
    },
    {
      "cell_type": "markdown",
      "source": [
        "To use to_supervise: <br>\n",
        "Convert the data to a numpy array"
      ],
      "metadata": {
        "id": "QhCJnPtdeOmO"
      }
    },
    {
      "cell_type": "code",
      "source": [
        "data_NM=np.array(df_nomissing)\n",
        "n_step=1\n",
        "lags = 7\n",
        "X,y=to_supervised(data_NM, lags,n_step)"
      ],
      "metadata": {
        "id": "EOFJ8pn9eGA1"
      },
      "execution_count": null,
      "outputs": []
    },
    {
      "cell_type": "code",
      "source": [
        "X[0]"
      ],
      "metadata": {
        "id": "Kv_dIyiNeaSF"
      },
      "execution_count": null,
      "outputs": []
    },
    {
      "cell_type": "code",
      "source": [
        "y[0]"
      ],
      "metadata": {
        "id": "ylxjZlYTfJ5C"
      },
      "execution_count": null,
      "outputs": []
    },
    {
      "cell_type": "code",
      "source": [
        "X[1]"
      ],
      "metadata": {
        "id": "VhpCuqZmfNqc"
      },
      "execution_count": null,
      "outputs": []
    },
    {
      "cell_type": "markdown",
      "source": [
        "\n",
        "\n",
        "---\n",
        "\n",
        "\n",
        "\n",
        "---\n",
        "\n"
      ],
      "metadata": {
        "id": "CFAS6qcBecva"
      }
    },
    {
      "cell_type": "markdown",
      "source": [
        "For this function, the series is used as a Pandas dataframe"
      ],
      "metadata": {
        "id": "5WISK10Gf-jo"
      }
    },
    {
      "cell_type": "code",
      "source": [
        "def series_to_supervised(data,n_in,n_out):\n",
        "\n",
        "    df = pd.DataFrame(data)\n",
        "    cols = list()\n",
        "    for i in range(n_in,0,-1): cols.append(df.shift(i))\n",
        "    for i in range(0, n_out): cols.append(df.shift(-i))\n",
        "    agg = pd.concat(cols,axis=1)\n",
        "    agg.dropna(inplace=True)\n",
        "\n",
        "    return agg.values"
      ],
      "metadata": {
        "id": "FKrCKRx6eDOw"
      },
      "execution_count": null,
      "outputs": []
    },
    {
      "cell_type": "code",
      "source": [
        "data_ready=series_to_supervised(df_nomissing,lags,n_step)"
      ],
      "metadata": {
        "id": "QsBaD583f9If"
      },
      "execution_count": null,
      "outputs": []
    },
    {
      "cell_type": "code",
      "source": [
        "data_ready[0]"
      ],
      "metadata": {
        "id": "9KqUWP8Tggqr"
      },
      "execution_count": null,
      "outputs": []
    },
    {
      "cell_type": "code",
      "source": [
        "X= np.delete(data_ready,7,1)\n",
        "X[0]"
      ],
      "metadata": {
        "id": "28RLJu0ag0hn"
      },
      "execution_count": null,
      "outputs": []
    },
    {
      "cell_type": "code",
      "source": [
        "X[1]"
      ],
      "metadata": {
        "id": "eRPcnFWihR-8"
      },
      "execution_count": null,
      "outputs": []
    },
    {
      "cell_type": "code",
      "source": [
        "y=data_ready[0][7]\n",
        "y"
      ],
      "metadata": {
        "id": "Gci9aBI9gpG0"
      },
      "execution_count": null,
      "outputs": []
    }
  ]
}