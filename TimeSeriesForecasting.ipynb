{
  "nbformat": 4,
  "nbformat_minor": 0,
  "metadata": {
    "colab": {
      "name": "TimeSeriesForecasting.ipynb",
      "private_outputs": true,
      "provenance": [],
      "authorship_tag": "ABX9TyO0NafsRCvRzHHs3Di8f9wq",
      "include_colab_link": true
    },
    "kernelspec": {
      "name": "python3",
      "display_name": "Python 3"
    }
  },
  "cells": [
    {
      "cell_type": "markdown",
      "metadata": {
        "id": "view-in-github",
        "colab_type": "text"
      },
      "source": [
        "<a href=\"https://colab.research.google.com/github/cagBRT/timeSeries/blob/main/TimeSeriesForecasting.ipynb\" target=\"_parent\"><img src=\"https://colab.research.google.com/assets/colab-badge.svg\" alt=\"Open In Colab\"/></a>"
      ]
    },
    {
      "cell_type": "markdown",
      "metadata": {
        "id": "SU66XigBeR2c"
      },
      "source": [
        "https://www.machinelearningplus.com/time-series/arima-model-time-series-forecasting-python/\n"
      ]
    },
    {
      "cell_type": "markdown",
      "metadata": {
        "id": "eiZsm3AuTNwx"
      },
      "source": [
        "Now forecasting a time series can be broadly divided into two types.\n",
        "\n",
        "If you use only the previous values of the time series to predict its future values, it is called Univariate Time Series Forecasting.\n",
        "\n",
        "And if you use predictors other than the series (a.k.a exogenous variables) to forecast it is called Multi Variate Time Series Forecasting.\n",
        "\n",
        "This post focuses on a particular type of forecasting method called ARIMA modeling.\n",
        "\n",
        "ARIMA, short for ‘AutoRegressive Integrated Moving Average’, is a forecasting algorithm based on the idea that the information in the past values of the time series can alone be used to predict the future values."
      ]
    },
    {
      "cell_type": "markdown",
      "metadata": {
        "id": "7375s4--TXGX"
      },
      "source": [
        "ARIMA, short for ‘Auto Regressive Integrated Moving Average’ is actually a class of models that ‘explains’ a given time series based on its own past values, that is, its own lags and the lagged forecast errors, so that equation can be used to forecast future values.\n",
        "\n",
        "Any ‘non-seasonal’ time series that exhibits patterns and is not a random white noise can be modeled with ARIMA models.\n",
        "\n",
        "An ARIMA model is characterized by 3 terms: p, d, q\n",
        "\n",
        "where,\n",
        "\n",
        "p is the order of the AR term\n",
        "\n",
        "q is the order of the MA term\n",
        "\n",
        "d is the number of differencing required to make the time series stationary"
      ]
    },
    {
      "cell_type": "markdown",
      "metadata": {
        "id": "r3JeFELHTf2o"
      },
      "source": [
        "If a time series, has seasonal patterns, then you need to add seasonal terms and it becomes SARIMA, short for ‘Seasonal ARIMA’."
      ]
    },
    {
      "cell_type": "markdown",
      "metadata": {
        "id": "l0WgT1LnTk-S"
      },
      "source": [
        "Step 1: Make the time series <br>\n",
        "The first step to build an ARIMA model is to make the time series stationary.\n",
        "\n",
        "Why?\n",
        "\n",
        "Because, term ‘Auto Regressive’ in ARIMA means it is a linear regression model that uses its own lags as predictors. Linear regression models, as you know, work best when the predictors are not correlated and are independent of each other.\n",
        "\n"
      ]
    },
    {
      "cell_type": "markdown",
      "metadata": {
        "id": "yTpXFdQmTysC"
      },
      "source": [
        "So how to make a series stationary?\n",
        "\n",
        "The most common approach is to difference it. That is, subtract the previous value from the current value. Sometimes, depending on the complexity of the series, more than one differencing may be needed.\n",
        "\n",
        "The value of d, therefore, is the minimum number of differencing needed to make the series stationary. And if the time series is already stationary, then d = 0."
      ]
    },
    {
      "cell_type": "markdown",
      "metadata": {
        "id": "mHiL_pO5T4YV"
      },
      "source": [
        "Next, what are the ‘p’ and ‘q’ terms?\n",
        "\n",
        "‘p’ is the order of the ‘Auto Regressive’ (AR) term. It refers to the number of lags of Y to be used as predictors. And ‘q’ is the order of the ‘Moving Average’ (MA) term. It refers to the number of lagged forecast errors that should go into the ARIMA Model."
      ]
    },
    {
      "cell_type": "markdown",
      "metadata": {
        "id": "MuvyA5pesTao"
      },
      "source": [
        "Shampoo Sales Dataset<br>\n",
        "This dataset describes the monthly number of sales of shampoo over a 3 year period.\n",
        "\n",
        "The units are a sales count and there are 36 observations. The original dataset is credited to Makridakis, Wheelwright, and Hyndman (1998).\n"
      ]
    },
    {
      "cell_type": "code",
      "metadata": {
        "id": "XE6M-R1asSxo"
      },
      "source": [
        "# Clone the entire repo.\n",
        "!git clone -l -s https://github.com/cagBRT/timeSeries.git cloned-repo\n",
        "%cd cloned-repo"
      ],
      "execution_count": null,
      "outputs": []
    },
    {
      "cell_type": "code",
      "metadata": {
        "id": "8Y9SvrpOs9pw"
      },
      "source": [
        "from pandas import read_csv\n",
        "from pandas import datetime\n",
        "from matplotlib import pyplot\n",
        "\n",
        "def parser(x):\n",
        "\treturn datetime.strptime('190'+x, '%Y-%m')\n",
        "\n",
        "series = read_csv('shampoo.csv', header=0, parse_dates=[0], index_col=0, squeeze=True, date_parser=parser)\n",
        "print(series.head())\n",
        "series.plot()\n",
        "pyplot.show()"
      ],
      "execution_count": null,
      "outputs": []
    },
    {
      "cell_type": "markdown",
      "metadata": {
        "id": "vtjLDNRVtHJQ"
      },
      "source": [
        "There is a clear trend <br>\n",
        "This suggests that the time series is not stationary and will require differencing to make it stationary, at least a difference order of 1"
      ]
    },
    {
      "cell_type": "code",
      "metadata": {
        "id": "MmZgbmEstQCq"
      },
      "source": [
        "from pandas import read_csv\n",
        "from pandas import datetime\n",
        "from matplotlib import pyplot\n",
        "from pandas.plotting import autocorrelation_plot\n",
        " \n",
        "def parser(x):\n",
        "\treturn datetime.strptime('190'+x, '%Y-%m')\n",
        " \n",
        "series = read_csv('shampoo.csv', header=0, parse_dates=[0], index_col=0, squeeze=True, date_parser=parser)\n",
        "autocorrelation_plot(series)\n",
        "pyplot.show()"
      ],
      "execution_count": null,
      "outputs": []
    },
    {
      "cell_type": "markdown",
      "metadata": {
        "id": "XdAorl2LtuOZ"
      },
      "source": [
        "Running the example, we can see that there is a positive correlation with the first 10-to-12 lags that is perhaps significant for the first 5 lags.\n",
        "\n",
        "A good starting point for the AR parameter of the model may be 5.\n",
        "\n"
      ]
    }
  ]
}