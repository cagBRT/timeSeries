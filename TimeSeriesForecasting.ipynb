{
  "nbformat": 4,
  "nbformat_minor": 0,
  "metadata": {
    "colab": {
      "name": "TimeSeriesForecasting.ipynb",
      "private_outputs": true,
      "provenance": [],
      "authorship_tag": "ABX9TyMOzeZTtu0L4ThfgEvg4JBI",
      "include_colab_link": true
    },
    "kernelspec": {
      "name": "python3",
      "display_name": "Python 3"
    }
  },
  "cells": [
    {
      "cell_type": "markdown",
      "metadata": {
        "id": "view-in-github",
        "colab_type": "text"
      },
      "source": [
        "<a href=\"https://colab.research.google.com/github/cagBRT/timeSeries/blob/main/TimeSeriesForecasting.ipynb\" target=\"_parent\"><img src=\"https://colab.research.google.com/assets/colab-badge.svg\" alt=\"Open In Colab\"/></a>"
      ]
    },
    {
      "cell_type": "code",
      "metadata": {
        "id": "W6Hqn6WTGD4P"
      },
      "source": [
        "!pip install statsmodels"
      ],
      "execution_count": null,
      "outputs": []
    },
    {
      "cell_type": "code",
      "metadata": {
        "id": "V_ZFN_31YcGZ"
      },
      "source": [
        "import statsmodels.api as sm\n",
        "import pandas as pd\n",
        "import pandas.util.testing as tm\n",
        "\n",
        "from statsmodels.tsa.arima_model import ARIMA\n",
        "from sklearn.metrics import mean_squared_error\n",
        "from math import sqrt\n",
        "from pandas import read_csv\n",
        "from matplotlib import pyplot\n",
        "from pandas.plotting import autocorrelation_plot"
      ],
      "execution_count": null,
      "outputs": []
    },
    {
      "cell_type": "markdown",
      "metadata": {
        "id": "SU66XigBeR2c"
      },
      "source": [
        "https://www.machinelearningplus.com/time-series/arima-model-time-series-forecasting-python/\n",
        "\n",
        "https://machinelearningmastery.com/arima-for-time-series-forecasting-with-python/\n"
      ]
    },
    {
      "cell_type": "markdown",
      "metadata": {
        "id": "eiZsm3AuTNwx"
      },
      "source": [
        "Forecasting a time series can be broadly divided into two types.\n",
        "\n",
        "- **Univariate Time Series Forecasting**: use only the previous values of the time series to predict its future values.<br>\n",
        "\n",
        "- **Multi Variate Time Series Forecasting**: use predictors other than the series (a.k.a exogenous variables) to forecast.\n",
        "\n"
      ]
    },
    {
      "cell_type": "markdown",
      "metadata": {
        "id": "YlsySloUIy7x"
      },
      "source": [
        "# **ARIMA** (AutoRegressive Integrated Moving Average)"
      ]
    },
    {
      "cell_type": "markdown",
      "metadata": {
        "id": "2NXLa70BIktb"
      },
      "source": [
        "This notebook focuses on a Univariate Time forecasting method called ARIMA modeling.\n",
        "\n",
        "ARIMA, short for ‘AutoRegressive Integrated Moving Average’, is a forecasting algorithm based on the idea that the information in the past values of the time series can alone be used to predict the future values."
      ]
    },
    {
      "cell_type": "markdown",
      "metadata": {
        "id": "7375s4--TXGX"
      },
      "source": [
        "ARIMA is actually a class of models that ‘explains’ a given time series based on its own past values, that is, its own lags and the lagged forecast errors, so that equation can be used to forecast future values.\n",
        "\n",
        "**Any ‘non-seasonal’ time series that exhibits patterns and is not a random white noise can be modeled with ARIMA models**.\n",
        "\n",
        "An ARIMA model is characterized by 3 terms: p, d, q\n",
        "\n",
        "where,\n",
        "\n",
        "- p is the order of the AR term\n",
        "- q is the order of the MA term\n",
        "- d is the number of differencing required to make the time series stationary"
      ]
    },
    {
      "cell_type": "markdown",
      "metadata": {
        "id": "r3JeFELHTf2o"
      },
      "source": [
        "**If a time series, has seasonal patterns, then you need to add seasonal terms and it becomes SARIMA, short for ‘Seasonal ARIMA’.**"
      ]
    },
    {
      "cell_type": "markdown",
      "metadata": {
        "id": "l0WgT1LnTk-S"
      },
      "source": [
        "# **Step 1: Make the time series stationary**<br>\n",
        "The first step to build an ARIMA model is to make the time series stationary.\n",
        "\n",
        "Why?\n",
        "\n",
        "Because, term ‘Auto Regressive’ in ARIMA means it is a linear regression model that uses its own lags as predictors. Linear regression models work best when the predictors are not correlated and are independent of each other.\n",
        "\n"
      ]
    },
    {
      "cell_type": "markdown",
      "metadata": {
        "id": "yTpXFdQmTysC"
      },
      "source": [
        "**Use Differencing to make a time series stationary**<br>\n",
        "\n",
        "The most common approach is to difference it. That is, subtract the previous value from the current value. Sometimes, depending on the complexity of the series, more than one differencing may be needed.\n",
        "\n",
        "The value of d, therefore, is the minimum number of differencing needed to make the series stationary. And if the time series is already stationary, then d = 0."
      ]
    },
    {
      "cell_type": "markdown",
      "metadata": {
        "id": "mHiL_pO5T4YV"
      },
      "source": [
        "‘p’ is the order of the ‘Auto Regressive’ (AR) term. It refers to the number of lags of Y to be used as predictors. And ‘q’ is the order of the ‘Moving Average’ (MA) term. It refers to the number of lagged forecast errors that should go into the ARIMA Model."
      ]
    },
    {
      "cell_type": "markdown",
      "metadata": {
        "id": "MuvyA5pesTao"
      },
      "source": [
        "Shampoo Sales Dataset<br>\n",
        "This dataset describes the monthly number of sales of shampoo over a 3 year period.\n",
        "\n",
        "The units are a sales count and there are 36 observations. The original dataset is credited to Makridakis, Wheelwright, and Hyndman (1998).\n"
      ]
    },
    {
      "cell_type": "code",
      "metadata": {
        "id": "XE6M-R1asSxo"
      },
      "source": [
        "# Clone the entire repo.\n",
        "!git clone -s https://github.com/cagBRT/timeSeries.git cloned-repo\n",
        "%cd cloned-repo"
      ],
      "execution_count": null,
      "outputs": []
    },
    {
      "cell_type": "code",
      "metadata": {
        "id": "i6w-tMNiKRTp"
      },
      "source": [
        "def parser(x):\n",
        "\treturn datetime.strptime('190'+x, '%Y-%m')"
      ],
      "execution_count": null,
      "outputs": []
    },
    {
      "cell_type": "code",
      "metadata": {
        "id": "lVLchsDaLueR"
      },
      "source": [
        "!cat shampoo.csv"
      ],
      "execution_count": null,
      "outputs": []
    },
    {
      "cell_type": "code",
      "metadata": {
        "id": "Tb30qtUqL_8Y"
      },
      "source": [
        "series = read_csv('shampoo.csv', header=0, parse_dates=['Month'], index_col='Month')\n",
        "series.head()"
      ],
      "execution_count": null,
      "outputs": []
    },
    {
      "cell_type": "code",
      "metadata": {
        "id": "8Y9SvrpOs9pw"
      },
      "source": [
        "series.plot()\n",
        "pyplot.show()"
      ],
      "execution_count": null,
      "outputs": []
    },
    {
      "cell_type": "markdown",
      "metadata": {
        "id": "vtjLDNRVtHJQ"
      },
      "source": [
        "There is a clear trend <br>\n",
        "This suggests that the time series is not stationary and will require differencing to make it stationary, at least a difference order of 1"
      ]
    },
    {
      "cell_type": "markdown",
      "metadata": {
        "id": "WUjSa9wPYBen"
      },
      "source": [
        "# **AutoCorrelation**"
      ]
    },
    {
      "cell_type": "markdown",
      "metadata": {
        "id": "4viKFsXmKW1L"
      },
      "source": [
        "Autocorrelation represents the degree of similarity between a given time series and a lagged version of itself over successive time intervals. Autocorrelation measures the relationship between a variable's current value and its past values."
      ]
    },
    {
      "cell_type": "markdown",
      "metadata": {
        "id": "GmNbmLbJDntH"
      },
      "source": [
        "Looking at the autocorrelation plot, we see there is a positive correlation with the first 10 - 12 lags that is significant for the first 5 lags. <br>\n",
        "A good starting point for the AR parameter of the model may be 5."
      ]
    },
    {
      "cell_type": "markdown",
      "metadata": {
        "id": "iCiBZexTMRMn"
      },
      "source": [
        "Repeated from above:<BR>\n",
        "An ARIMA model is characterized by 3 terms: p, d, q\n",
        "\n",
        "where,\n",
        "\n",
        "- p is the order of the AR term\n",
        "- q is the order of the MA term\n",
        "- d is the number of differencing required to make the time series stationary"
      ]
    },
    {
      "cell_type": "code",
      "metadata": {
        "id": "HLpBDucjDkSa"
      },
      "source": [
        "autocorrelation_plot(series)\n",
        "pyplot.show()"
      ],
      "execution_count": null,
      "outputs": []
    },
    {
      "cell_type": "markdown",
      "metadata": {
        "id": "dGIyDh-SFNp0"
      },
      "source": [
        "https://www.statsmodels.org/stable/index.html<br>\n",
        "\n",
        "https://www.statsmodels.org/stable/generated/statsmodels.tsa.arima.model.ARIMA.html\n"
      ]
    },
    {
      "cell_type": "markdown",
      "metadata": {
        "id": "l1Qj8aMgOH8r"
      },
      "source": [
        "**Train the model on the time series**"
      ]
    },
    {
      "cell_type": "code",
      "metadata": {
        "id": "qbS0-ClyEgnP"
      },
      "source": [
        "# fit model\n",
        "model = ARIMA(series, order=(5,1,0))\n",
        "model_fit = model.fit()\n",
        "# summary of fit model\n",
        "print(model_fit.summary())"
      ],
      "execution_count": null,
      "outputs": []
    },
    {
      "cell_type": "markdown",
      "metadata": {
        "id": "HmTd0lnDPNno"
      },
      "source": [
        "The “residuals” in a time series model are what is left over after fitting a model. <br>\n",
        "For many (but not all) time series models, the residuals are equal to the difference between the observations and the corresponding fitted values"
      ]
    },
    {
      "cell_type": "code",
      "metadata": {
        "id": "oTBaQIZnEEru"
      },
      "source": [
        "# line plot of residuals\n",
        "residuals = pd.DataFrame(model_fit.resid)\n",
        "residuals.plot()\n",
        "pyplot.show()"
      ],
      "execution_count": null,
      "outputs": []
    },
    {
      "cell_type": "code",
      "metadata": {
        "id": "aVpCTgLZG9En"
      },
      "source": [
        "# density plot of residuals\n",
        "residuals.plot(kind='kde')\n",
        "pyplot.show()"
      ],
      "execution_count": null,
      "outputs": []
    },
    {
      "cell_type": "code",
      "metadata": {
        "id": "TBoqk8wxG_Ug"
      },
      "source": [
        "# summary stats of residuals\n",
        "print(residuals.describe())"
      ],
      "execution_count": null,
      "outputs": []
    },
    {
      "cell_type": "markdown",
      "metadata": {
        "id": "XkQmWYVcHPRP"
      },
      "source": [
        "Note, that although above we used the entire dataset for time series analysis, ideally we would perform this analysis on just the training dataset when developing a predictive model.\n",
        "\n",
        "Next, let’s look at how we can use the ARIMA model to make forecasts.<br>\n",
        "The ARIMA model can be used to forecast future time steps.\n",
        "\n"
      ]
    },
    {
      "cell_type": "markdown",
      "metadata": {
        "id": "1Cg6jkZVY5rw"
      },
      "source": [
        "# **Training an ARIMA model**"
      ]
    },
    {
      "cell_type": "code",
      "metadata": {
        "id": "YNRGKsHVZBho"
      },
      "source": [
        "# load dataset\n",
        "#series = read_csv('shampoo.csv', header=0, index_col=0, parse_dates=True, squeeze=True, date_parser=parser)\n",
        "series.index = series.index.to_period('M')\n",
        "series"
      ],
      "execution_count": null,
      "outputs": []
    },
    {
      "cell_type": "code",
      "metadata": {
        "id": "OT4ived3ZMx_"
      },
      "source": [
        "# split into train and test sets\n",
        "X = series.values\n",
        "size = int(len(X) * 0.66)\n",
        "train, test = X[0:size], X[size:len(X)]\n",
        "\n",
        "#History contains all the sales values in the training set\n",
        "history = [x for x in train]\n",
        "#Predictions is an empty list\n",
        "predictions = list()"
      ],
      "execution_count": null,
      "outputs": []
    },
    {
      "cell_type": "code",
      "metadata": {
        "id": "Bgi-aNu9Zibs"
      },
      "source": [
        "predictions"
      ],
      "execution_count": null,
      "outputs": []
    },
    {
      "cell_type": "code",
      "metadata": {
        "id": "8E3Rr9xKZVNT"
      },
      "source": [
        "history"
      ],
      "execution_count": null,
      "outputs": []
    },
    {
      "cell_type": "code",
      "metadata": {
        "id": "xVNwFn0kZtVX"
      },
      "source": [
        "# walk-forward validation\n",
        "#Train the model on the past data and compare the predictions to the ground truth\n",
        "for t in range(len(test)):\n",
        "\tmodel = ARIMA(history, order=(5,1,0))\n",
        "\tmodel_fit = model.fit()\n",
        "\toutput = model_fit.forecast()\n",
        "\tyhat = output[0]\n",
        "\tpredictions.append(yhat)\n",
        "\tobs = test[t]\n",
        "\thistory.append(obs)\n",
        "\tprint('predicted=%f, expected=%f' % (yhat, obs))"
      ],
      "execution_count": null,
      "outputs": []
    },
    {
      "cell_type": "code",
      "metadata": {
        "id": "4IXJGHI6HQb_"
      },
      "source": [
        "# evaluate forecasts\n",
        "rmse = sqrt(mean_squared_error(test, predictions))\n",
        "# plot forecasts against actual outcomes\n",
        "pyplot.plot(test)\n",
        "pyplot.plot(predictions, color='red')\n",
        "pyplot.title('Test RMSE: %.3f' %rmse)\n",
        "pyplot.legend()\n",
        "pyplot.show()"
      ],
      "execution_count": null,
      "outputs": []
    },
    {
      "cell_type": "markdown",
      "metadata": {
        "id": "0vlcQBRRIU_V"
      },
      "source": [
        "The model could use further tuning of the p, d, and maybe even the q parameters."
      ]
    },
    {
      "cell_type": "markdown",
      "metadata": {
        "id": "nJL2Y59QIac_"
      },
      "source": [
        "**Assignment** <br>\n",
        "Tune the model using the p,d, and q parameters"
      ]
    }
  ]
}