{
  "nbformat": 4,
  "nbformat_minor": 0,
  "metadata": {
    "colab": {
      "name": "7 FBProphet.ipynb",
      "private_outputs": true,
      "provenance": [],
      "authorship_tag": "ABX9TyNXD+9VYBknUGlfEcFqyzxS",
      "include_colab_link": true
    },
    "kernelspec": {
      "name": "python3",
      "display_name": "Python 3"
    }
  },
  "cells": [
    {
      "cell_type": "markdown",
      "metadata": {
        "id": "view-in-github",
        "colab_type": "text"
      },
      "source": [
        "<a href=\"https://colab.research.google.com/github/cagBRT/timeSeries/blob/main/7_FBProphet.ipynb\" target=\"_parent\"><img src=\"https://colab.research.google.com/assets/colab-badge.svg\" alt=\"Open In Colab\"/></a>"
      ]
    },
    {
      "cell_type": "markdown",
      "metadata": {
        "id": "SdZ6uCM20neL"
      },
      "source": [
        "# **Using Facebook Prophet**"
      ]
    },
    {
      "cell_type": "markdown",
      "metadata": {
        "id": "Yw6Vvu9qFAX3"
      },
      "source": [
        "Released by Facebook in 2017, forecasting tool [Prophet](https://research.fb.com/prophet-forecasting-at-scale/) is designed for analyzing time-series that display patterns on different time scales such as yearly, weekly and daily. It also has advanced capabilities for modeling the effects of holidays on a time-series and implementing custom changepoints. "
      ]
    },
    {
      "cell_type": "markdown",
      "metadata": {
        "id": "6NLLHZD5y-VT"
      },
      "source": [
        "Prophet assumes a decomposable model of 3 parts:<br>\n",
        "timer series = trend + seasonality + holidays + error<br>\n",
        "<br>\n",
        "error is any unusual changes not accommodated by the model"
      ]
    },
    {
      "cell_type": "code",
      "metadata": {
        "id": "pPDTx8q0tR4b"
      },
      "source": [
        "# Clone the entire repo.\n",
        "!git clone -l -s https://github.com/cagBRT/timeSeries.git cloned-repo\n",
        "%cd cloned-repo"
      ],
      "execution_count": null,
      "outputs": []
    },
    {
      "cell_type": "code",
      "source": [
        "!pip install --upgrade xlrd"
      ],
      "metadata": {
        "id": "Aq4aeZT1v6-p"
      },
      "execution_count": null,
      "outputs": []
    },
    {
      "cell_type": "markdown",
      "metadata": {
        "id": "_-dnKDvdis01"
      },
      "source": [
        "**Import the libraries**<br>\n",
        "Notice we import the Facebook open source library, Prophet. "
      ]
    },
    {
      "cell_type": "code",
      "metadata": {
        "id": "RyANzhywEVKb"
      },
      "source": [
        "import pandas as pd\n",
        "import matplotlib.pyplot as plt\n",
        "from prophet import Prophet"
      ],
      "execution_count": null,
      "outputs": []
    },
    {
      "cell_type": "markdown",
      "metadata": {
        "id": "wSydkEHSi88e"
      },
      "source": [
        "**Import the dataset of furniture and office supply sales**"
      ]
    },
    {
      "cell_type": "code",
      "metadata": {
        "id": "iFbMSAw1sAJ0"
      },
      "source": [
        "df = pd.read_excel(\"Sample - Superstore.xls\")\n",
        "df.head()"
      ],
      "execution_count": null,
      "outputs": []
    },
    {
      "cell_type": "code",
      "metadata": {
        "id": "S_VEoVNp6jyt"
      },
      "source": [
        "furniture = df.loc[df['Category'] == 'Furniture']\n",
        "furniture.head()"
      ],
      "execution_count": null,
      "outputs": []
    },
    {
      "cell_type": "markdown",
      "metadata": {
        "id": "vz3ZT2r5jISR"
      },
      "source": [
        "Prepare two datasets, one for furniture and one for office supplies. <br>"
      ]
    },
    {
      "cell_type": "code",
      "metadata": {
        "id": "RXNyQh4NQJyv"
      },
      "source": [
        "furniture = df.loc[df['Category'] == 'Furniture']\n",
        "office = df.loc[df['Category'] == 'Office Supplies']\n",
        "furniture.shape, office.shape"
      ],
      "execution_count": null,
      "outputs": []
    },
    {
      "cell_type": "markdown",
      "metadata": {
        "id": "CiqOhHaejR63"
      },
      "source": [
        "**Drop all the columns for each dataset except: Date and Sales**"
      ]
    },
    {
      "cell_type": "code",
      "metadata": {
        "id": "wtgTqWUCQNVI"
      },
      "source": [
        "cols = ['Row ID', 'Order ID', 'Ship Date', 'Ship Mode', 'Customer ID', 'Customer Name', 'Segment', 'Country', 'City', 'State', 'Postal Code', 'Region', 'Product ID', 'Category', 'Sub-Category', 'Product Name', 'Quantity', 'Discount', 'Profit']\n",
        "furniture.drop(cols, axis=1, inplace=True)\n",
        "office.drop(cols, axis=1, inplace=True)"
      ],
      "execution_count": null,
      "outputs": []
    },
    {
      "cell_type": "markdown",
      "metadata": {
        "id": "LgMzkgq8jjHY"
      },
      "source": [
        "**For both datasets**, \n",
        "- group (using resample) into monthly periods of sales. <br>\n",
        "- the set the index to order date"
      ]
    },
    {
      "cell_type": "code",
      "metadata": {
        "id": "LhV_FQcejrQf"
      },
      "source": [
        "furniture = furniture.sort_values('Order Date')\n",
        "office = office.sort_values('Order Date')\n",
        "furniture = furniture.groupby('Order Date')['Sales'].sum().reset_index()\n",
        "office = office.groupby('Order Date')['Sales'].sum().reset_index()\n",
        "furniture = furniture.set_index('Order Date')\n",
        "office = office.set_index('Order Date')\n",
        "y_furniture = furniture['Sales'].resample('MS').mean()\n",
        "y_office = office['Sales'].resample('MS').mean()"
      ],
      "execution_count": null,
      "outputs": []
    },
    {
      "cell_type": "markdown",
      "metadata": {
        "id": "TounUq61kAe2"
      },
      "source": [
        "**Merge the two datasets into one dataset called store**"
      ]
    },
    {
      "cell_type": "code",
      "metadata": {
        "id": "Jv3fEonbjgEm"
      },
      "source": [
        "furniture = pd.DataFrame({'Order Date':y_furniture.index, 'Sales':y_furniture.values})\n",
        "office = pd.DataFrame({'Order Date': y_office.index, 'Sales': y_office.values})\n",
        "store = furniture.merge(office, how='inner', on='Order Date')\n",
        "store.rename(columns={'Sales_x': 'furniture_sales', 'Sales_y': 'office_sales'}, inplace=True)\n",
        "store.head()"
      ],
      "execution_count": null,
      "outputs": []
    },
    {
      "cell_type": "markdown",
      "metadata": {
        "id": "MzhvmvVOkS5t"
      },
      "source": [
        "**Plot the monthly furniture and office supply sales **"
      ]
    },
    {
      "cell_type": "code",
      "metadata": {
        "id": "WQBl_cMCQQQg"
      },
      "source": [
        "plt.figure(figsize=(20, 8))\n",
        "plt.plot(store['Order Date'], store['furniture_sales'], 'b-', label = 'furniture')\n",
        "plt.plot(store['Order Date'], store['office_sales'], 'r-', label = 'office supplies')\n",
        "plt.xlabel('Date'); plt.ylabel('Sales'); plt.title('Sales of Furniture and Office Supplies')\n",
        "plt.legend();"
      ],
      "execution_count": null,
      "outputs": []
    },
    {
      "cell_type": "markdown",
      "metadata": {
        "id": "wlZ9Y4FDkf7p"
      },
      "source": [
        "**Rename the columns in the datasets**"
      ]
    },
    {
      "cell_type": "code",
      "metadata": {
        "id": "AsyR2XbykgPG"
      },
      "source": [
        "furniture = furniture.rename(columns={'Order Date': 'ds', 'Sales': 'y'})\n",
        "office = office.rename(columns={'Order Date': 'ds', 'Sales': 'y'})"
      ],
      "execution_count": null,
      "outputs": []
    },
    {
      "cell_type": "markdown",
      "metadata": {
        "id": "ANBeD1wgkqB_"
      },
      "source": [
        "**Call the model Prophet and train it on the datasets**"
      ]
    },
    {
      "cell_type": "code",
      "metadata": {
        "id": "g65uERJHku8n"
      },
      "source": [
        "furniture_model = Prophet(interval_width=0.95)\n",
        "furniture_model.fit(furniture)\n",
        "\n",
        "office_model = Prophet(interval_width=0.95)\n",
        "office_model.fit(office)"
      ],
      "execution_count": null,
      "outputs": []
    },
    {
      "cell_type": "markdown",
      "metadata": {
        "id": "zshQKpz3k1pt"
      },
      "source": [
        "**Use the model to make predictions about future furniture and office supply sales**"
      ]
    },
    {
      "cell_type": "code",
      "metadata": {
        "id": "UaI-FhLYk8uy"
      },
      "source": [
        "furniture_forecast = furniture_model.make_future_dataframe(periods=36, freq='MS')\n",
        "furniture_forecast = furniture_model.predict(furniture_forecast)\n",
        "office_forecast = office_model.make_future_dataframe(periods=36, freq='MS')\n",
        "office_forecast = office_model.predict(office_forecast)"
      ],
      "execution_count": null,
      "outputs": []
    },
    {
      "cell_type": "markdown",
      "metadata": {
        "id": "233Qc03olHpR"
      },
      "source": [
        "**Plot the furniture forecast**"
      ]
    },
    {
      "cell_type": "code",
      "metadata": {
        "id": "53UsgarhQWN4"
      },
      "source": [
        "plt.figure(figsize=(18, 6))\n",
        "furniture_model.plot(furniture_forecast, xlabel = 'Date', ylabel = 'Sales')\n",
        "plt.title('Furniture Sales');"
      ],
      "execution_count": null,
      "outputs": []
    },
    {
      "cell_type": "markdown",
      "metadata": {
        "id": "OGCQ-UGGlQxZ"
      },
      "source": [
        "**Plot the office supply forecast**"
      ]
    },
    {
      "cell_type": "code",
      "metadata": {
        "id": "pjP-Jqs8QaSa"
      },
      "source": [
        "plt.figure(figsize=(18, 6))\n",
        "office_model.plot(office_forecast, xlabel = 'Date', ylabel = 'Sales')\n",
        "plt.title('Office Supplies Sales');"
      ],
      "execution_count": null,
      "outputs": []
    },
    {
      "cell_type": "markdown",
      "metadata": {
        "id": "FqlVk8AQlZRI"
      },
      "source": [
        "**Merge the two forecast datasets into one dataset called merge_furniture_forecast**"
      ]
    },
    {
      "cell_type": "code",
      "metadata": {
        "id": "nMRuceBJm9TC"
      },
      "source": [
        "furniture_forecast.head()"
      ],
      "execution_count": null,
      "outputs": []
    },
    {
      "cell_type": "code",
      "metadata": {
        "id": "f1s00Za9mzgu"
      },
      "source": [
        "furniture_names = ['furniture_%s' % column for column in \n",
        "                   furniture_forecast.columns]\n",
        "office_names = ['office_%s' % column for column in office_forecast.columns]\n",
        "merge_furniture_forecast = furniture_forecast.copy()\n",
        "merge_office_forecast = office_forecast.copy()\n",
        "merge_furniture_forecast.columns = furniture_names\n",
        "merge_office_forecast.columns = office_names"
      ],
      "execution_count": null,
      "outputs": []
    },
    {
      "cell_type": "code",
      "metadata": {
        "id": "6gtFvWEhQeT4"
      },
      "source": [
        "forecast = pd.merge(merge_furniture_forecast, merge_office_forecast, \n",
        "                    how = 'inner', left_on = 'furniture_ds', \n",
        "                    right_on = 'office_ds')\n",
        "forecast = forecast.rename(columns=\n",
        "                           {'furniture_ds': 'Date'}).drop('office_ds',axis=1)\n",
        "forecast.head()"
      ],
      "execution_count": null,
      "outputs": []
    },
    {
      "cell_type": "markdown",
      "metadata": {
        "id": "o6enhQMBmBP9"
      },
      "source": [
        "**Plot the forecasts for furniture and office sales**"
      ]
    },
    {
      "cell_type": "code",
      "metadata": {
        "id": "Z4goNrgHQhzG"
      },
      "source": [
        "plt.figure(figsize=(10, 7))\n",
        "plt.plot(forecast['Date'], forecast['furniture_trend'], 'b-', label=\"Furniture\")\n",
        "plt.plot(forecast['Date'], forecast['office_trend'], 'r-', label=\"Office Supplies\")\n",
        "plt.legend(); plt.xlabel('Date'); plt.ylabel('Sales')\n",
        "plt.title('Furniture vs. Office Supplies Sales Trend');\n",
        "plt.show()"
      ],
      "execution_count": null,
      "outputs": []
    },
    {
      "cell_type": "code",
      "metadata": {
        "id": "9CBPAXjtQl61"
      },
      "source": [
        "plt.figure(figsize=(10, 7))\n",
        "plt.plot(forecast['Date'], forecast['furniture_yhat'], 'b-', label=\"Furniture\")\n",
        "plt.plot(forecast['Date'], forecast['office_yhat'], 'r-', label='Office Supplies')\n",
        "plt.legend(); plt.xlabel('Date'); plt.ylabel('Sales')\n",
        "plt.title('Furniture vs. Office Supplies Estimate');\n",
        "plt.show()"
      ],
      "execution_count": null,
      "outputs": []
    },
    {
      "cell_type": "markdown",
      "metadata": {
        "id": "hUrzSjn9nb3n"
      },
      "source": [
        "**Plot the trend lines for furniture and office supplies**"
      ]
    },
    {
      "cell_type": "code",
      "metadata": {
        "id": "0XLKl_xJQpbl"
      },
      "source": [
        "furniture_model.plot_components(furniture_forecast);"
      ],
      "execution_count": null,
      "outputs": []
    },
    {
      "cell_type": "code",
      "metadata": {
        "id": "x9Trt7pLQtBB"
      },
      "source": [
        "office_model.plot_components(office_forecast);"
      ],
      "execution_count": null,
      "outputs": []
    }
  ]
}