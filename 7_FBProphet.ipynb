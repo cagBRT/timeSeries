{
  "nbformat": 4,
  "nbformat_minor": 0,
  "metadata": {
    "colab": {
      "name": "7 FBProphet.ipynb",
      "private_outputs": true,
      "provenance": [],
      "authorship_tag": "ABX9TyMQx17T/uICb1nSDC+M03ZH",
      "include_colab_link": true
    },
    "kernelspec": {
      "name": "python3",
      "display_name": "Python 3"
    }
  },
  "cells": [
    {
      "cell_type": "markdown",
      "metadata": {
        "id": "view-in-github",
        "colab_type": "text"
      },
      "source": [
        "<a href=\"https://colab.research.google.com/github/cagBRT/timeSeries/blob/main/7_FBProphet.ipynb\" target=\"_parent\"><img src=\"https://colab.research.google.com/assets/colab-badge.svg\" alt=\"Open In Colab\"/></a>"
      ]
    },
    {
      "cell_type": "markdown",
      "metadata": {
        "id": "SdZ6uCM20neL"
      },
      "source": [
        "# **Using Facebook Prophet**"
      ]
    },
    {
      "cell_type": "markdown",
      "metadata": {
        "id": "Yw6Vvu9qFAX3"
      },
      "source": [
        "Released by Facebook in 2017, forecasting tool Prophet is designed for analyzing time-series that display patterns on different time scales such as yearly, weekly and daily. It also has advanced capabilities for modeling the effects of holidays on a time-series and implementing custom changepoints. Therefore, we are using Prophet to get a model up and running."
      ]
    },
    {
      "cell_type": "code",
      "metadata": {
        "id": "pPDTx8q0tR4b"
      },
      "source": [
        "# Clone the entire repo.\n",
        "!git clone -l -s https://github.com/cagBRT/timeSeries.git cloned-repo\n",
        "%cd cloned-repo"
      ],
      "execution_count": null,
      "outputs": []
    },
    {
      "cell_type": "code",
      "metadata": {
        "id": "RyANzhywEVKb"
      },
      "source": [
        "import pandas as pd\n",
        "import matplotlib.pyplot as plt\n",
        "\n",
        "from fbprophet import Prophet"
      ],
      "execution_count": null,
      "outputs": []
    },
    {
      "cell_type": "code",
      "metadata": {
        "id": "iFbMSAw1sAJ0"
      },
      "source": [
        "df = pd.read_excel(\"Sample - Superstore.xls\")\n",
        "df.head()"
      ],
      "execution_count": null,
      "outputs": []
    },
    {
      "cell_type": "code",
      "metadata": {
        "id": "S_VEoVNp6jyt"
      },
      "source": [
        "furniture = df.loc[df['Category'] == 'Furniture']\n",
        "furniture.head()"
      ],
      "execution_count": null,
      "outputs": []
    },
    {
      "cell_type": "code",
      "metadata": {
        "id": "RXNyQh4NQJyv"
      },
      "source": [
        "furniture = df.loc[df['Category'] == 'Furniture']\n",
        "office = df.loc[df['Category'] == 'Office Supplies']\n",
        "furniture.shape, office.shape"
      ],
      "execution_count": null,
      "outputs": []
    },
    {
      "cell_type": "code",
      "metadata": {
        "id": "wtgTqWUCQNVI"
      },
      "source": [
        "cols = ['Row ID', 'Order ID', 'Ship Date', 'Ship Mode', 'Customer ID', 'Customer Name', 'Segment', 'Country', 'City', 'State', 'Postal Code', 'Region', 'Product ID', 'Category', 'Sub-Category', 'Product Name', 'Quantity', 'Discount', 'Profit']\n",
        "furniture.drop(cols, axis=1, inplace=True)\n",
        "office.drop(cols, axis=1, inplace=True)\n",
        "furniture = furniture.sort_values('Order Date')\n",
        "office = office.sort_values('Order Date')\n",
        "furniture = furniture.groupby('Order Date')['Sales'].sum().reset_index()\n",
        "office = office.groupby('Order Date')['Sales'].sum().reset_index()\n",
        "furniture = furniture.set_index('Order Date')\n",
        "office = office.set_index('Order Date')\n",
        "y_furniture = furniture['Sales'].resample('MS').mean()\n",
        "y_office = office['Sales'].resample('MS').mean()\n",
        "furniture = pd.DataFrame({'Order Date':y_furniture.index, 'Sales':y_furniture.values})\n",
        "office = pd.DataFrame({'Order Date': y_office.index, 'Sales': y_office.values})\n",
        "store = furniture.merge(office, how='inner', on='Order Date')\n",
        "store.rename(columns={'Sales_x': 'furniture_sales', 'Sales_y': 'office_sales'}, inplace=True)\n",
        "store.head()"
      ],
      "execution_count": null,
      "outputs": []
    },
    {
      "cell_type": "code",
      "metadata": {
        "id": "WQBl_cMCQQQg"
      },
      "source": [
        "plt.figure(figsize=(20, 8))\n",
        "plt.plot(store['Order Date'], store['furniture_sales'], 'b-', label = 'furniture')\n",
        "plt.plot(store['Order Date'], store['office_sales'], 'r-', label = 'office supplies')\n",
        "plt.xlabel('Date'); plt.ylabel('Sales'); plt.title('Sales of Furniture and Office Supplies')\n",
        "plt.legend();"
      ],
      "execution_count": null,
      "outputs": []
    },
    {
      "cell_type": "code",
      "metadata": {
        "id": "53UsgarhQWN4"
      },
      "source": [
        "furniture = furniture.rename(columns={'Order Date': 'ds', 'Sales': 'y'})\n",
        "furniture_model = Prophet(interval_width=0.95)\n",
        "furniture_model.fit(furniture)\n",
        "office = office.rename(columns={'Order Date': 'ds', 'Sales': 'y'})\n",
        "office_model = Prophet(interval_width=0.95)\n",
        "office_model.fit(office)\n",
        "furniture_forecast = furniture_model.make_future_dataframe(periods=36, freq='MS')\n",
        "furniture_forecast = furniture_model.predict(furniture_forecast)\n",
        "office_forecast = office_model.make_future_dataframe(periods=36, freq='MS')\n",
        "office_forecast = office_model.predict(office_forecast)\n",
        "plt.figure(figsize=(18, 6))\n",
        "furniture_model.plot(furniture_forecast, xlabel = 'Date', ylabel = 'Sales')\n",
        "plt.title('Furniture Sales');"
      ],
      "execution_count": null,
      "outputs": []
    },
    {
      "cell_type": "code",
      "metadata": {
        "id": "pjP-Jqs8QaSa"
      },
      "source": [
        "plt.figure(figsize=(18, 6))\n",
        "office_model.plot(office_forecast, xlabel = 'Date', ylabel = 'Sales')\n",
        "plt.title('Office Supplies Sales');\n"
      ],
      "execution_count": null,
      "outputs": []
    },
    {
      "cell_type": "code",
      "metadata": {
        "id": "6gtFvWEhQeT4"
      },
      "source": [
        "furniture_names = ['furniture_%s' % column for column in furniture_forecast.columns]\n",
        "office_names = ['office_%s' % column for column in office_forecast.columns]\n",
        "merge_furniture_forecast = furniture_forecast.copy()\n",
        "merge_office_forecast = office_forecast.copy()\n",
        "merge_furniture_forecast.columns = furniture_names\n",
        "merge_office_forecast.columns = office_names\n",
        "forecast = pd.merge(merge_furniture_forecast, merge_office_forecast, how = 'inner', left_on = 'furniture_ds', right_on = 'office_ds')\n",
        "forecast = forecast.rename(columns={'furniture_ds': 'Date'}).drop('office_ds', axis=1)\n",
        "forecast.head()"
      ],
      "execution_count": null,
      "outputs": []
    },
    {
      "cell_type": "code",
      "metadata": {
        "id": "Z4goNrgHQhzG"
      },
      "source": [
        "plt.figure(figsize=(10, 7))\n",
        "plt.plot(forecast['Date'], forecast['furniture_trend'], 'b-')\n",
        "plt.plot(forecast['Date'], forecast['office_trend'], 'r-')\n",
        "plt.legend(); plt.xlabel('Date'); plt.ylabel('Sales')\n",
        "plt.title('Furniture vs. Office Supplies Sales Trend');"
      ],
      "execution_count": null,
      "outputs": []
    },
    {
      "cell_type": "code",
      "metadata": {
        "id": "9CBPAXjtQl61"
      },
      "source": [
        "plt.figure(figsize=(10, 7))\n",
        "plt.plot(forecast['Date'], forecast['furniture_yhat'], 'b-')\n",
        "plt.plot(forecast['Date'], forecast['office_yhat'], 'r-')\n",
        "plt.legend(); plt.xlabel('Date'); plt.ylabel('Sales')\n",
        "plt.title('Furniture vs. Office Supplies Estimate');\n"
      ],
      "execution_count": null,
      "outputs": []
    },
    {
      "cell_type": "code",
      "metadata": {
        "id": "0XLKl_xJQpbl"
      },
      "source": [
        "furniture_model.plot_components(furniture_forecast);\n"
      ],
      "execution_count": null,
      "outputs": []
    },
    {
      "cell_type": "code",
      "metadata": {
        "id": "x9Trt7pLQtBB"
      },
      "source": [
        "office_model.plot_components(office_forecast);"
      ],
      "execution_count": null,
      "outputs": []
    }
  ]
}