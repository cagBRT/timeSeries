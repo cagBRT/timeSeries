{
  "nbformat": 4,
  "nbformat_minor": 0,
  "metadata": {
    "colab": {
      "name": "9h Multiple Parallel Input and MultiStep Output.ipynb",
      "private_outputs": true,
      "provenance": [],
      "authorship_tag": "ABX9TyNsXiTazku8JNb4OVQgMwi6",
      "include_colab_link": true
    },
    "kernelspec": {
      "name": "python3",
      "display_name": "Python 3"
    },
    "language_info": {
      "name": "python"
    }
  },
  "cells": [
    {
      "cell_type": "markdown",
      "metadata": {
        "id": "view-in-github",
        "colab_type": "text"
      },
      "source": [
        "<a href=\"https://colab.research.google.com/github/cagBRT/timeSeries/blob/main/9h_Multiple_Parallel_Input_and_MultiStep_Output.ipynb\" target=\"_parent\"><img src=\"https://colab.research.google.com/assets/colab-badge.svg\" alt=\"Open In Colab\"/></a>"
      ]
    },
    {
      "cell_type": "markdown",
      "source": [
        "# **Multiple Parallel Input and Multi-Step Output**"
      ],
      "metadata": {
        "id": "nPDBM9SJf2Ir"
      }
    },
    {
      "cell_type": "code",
      "execution_count": null,
      "metadata": {
        "id": "DNbvLP7Bfa3d"
      },
      "outputs": [],
      "source": [
        "# split a multivariate sequence into samples\n",
        "def split_sequences(sequences, n_steps_in, n_steps_out): \n",
        "  X, y = list(), list()\n",
        "  for i in range(len(sequences)):\n",
        "    # find the end of this pattern\n",
        "    end_ix = i + n_steps_in\n",
        "    out_end_ix = end_ix + n_steps_out\n",
        "    # check if we are beyond the dataset \n",
        "    if out_end_ix > len(sequences):\n",
        "      break\n",
        "    # gather input and output parts of the pattern\n",
        "    seq_x, seq_y = sequences[i:end_ix, :], sequences[end_ix:out_end_ix, :] \n",
        "    X.append(seq_x)\n",
        "    y.append(seq_y)\n",
        "  return array(X), array(y)"
      ]
    },
    {
      "cell_type": "code",
      "source": [
        "from numpy import array\n",
        "from numpy import hstack\n",
        "from keras.models import Sequential \n",
        "from keras.layers import Dense"
      ],
      "metadata": {
        "id": "oQVSXXOkgYiQ"
      },
      "execution_count": null,
      "outputs": []
    },
    {
      "cell_type": "markdown",
      "source": [
        "**The input sequence**"
      ],
      "metadata": {
        "id": "gwvjSZU7uVoP"
      }
    },
    {
      "cell_type": "code",
      "source": [
        "in_seq1 = array([10, 20, 30, 40, 50, 60, 70, 80, 90])\n",
        "in_seq2 = array([15, 25, 35, 45, 55, 65, 75, 85, 95])\n",
        "out_seq = array([in_seq1[i]+in_seq2[i] for i in range(len(in_seq1))])"
      ],
      "metadata": {
        "id": "JGEIQPQDg3tJ"
      },
      "execution_count": null,
      "outputs": []
    },
    {
      "cell_type": "code",
      "source": [
        "# convert to [rows, columns] structure \n",
        "in_seq1 = in_seq1.reshape((len(in_seq1), 1)) \n",
        "in_seq2 = in_seq2.reshape((len(in_seq2), 1)) \n",
        "out_seq = out_seq.reshape((len(out_seq), 1)) "
      ],
      "metadata": {
        "id": "5wbcTPbzg9jg"
      },
      "execution_count": null,
      "outputs": []
    },
    {
      "cell_type": "markdown",
      "source": [
        "**Create a dataset**"
      ],
      "metadata": {
        "id": "qXo-J1pfuaGW"
      }
    },
    {
      "cell_type": "code",
      "source": [
        "# horizontally stack columns\n",
        "dataset = hstack((in_seq1, in_seq2, out_seq))\n",
        "dataset"
      ],
      "metadata": {
        "id": "SJ8yt91xhCJ4"
      },
      "execution_count": null,
      "outputs": []
    },
    {
      "cell_type": "code",
      "source": [
        "# choose a number of time steps\n",
        "n_steps_in, n_steps_out = 3, 2"
      ],
      "metadata": {
        "id": "k8L7JACphGEX"
      },
      "execution_count": null,
      "outputs": []
    },
    {
      "cell_type": "code",
      "source": [
        "# convert into input/output\n",
        "X, y = split_sequences(dataset, n_steps_in, n_steps_out) \n",
        "print(X.shape, y.shape)"
      ],
      "metadata": {
        "id": "9F0_FfwDhKFR"
      },
      "execution_count": null,
      "outputs": []
    },
    {
      "cell_type": "code",
      "source": [
        "# summarize the data\n",
        "for i in range(len(X)):\n",
        "  print(\"\\nX:\", X[i],\"\\n\\ny:\", y[i])"
      ],
      "metadata": {
        "id": "tGGrP_H4gcdk"
      },
      "execution_count": null,
      "outputs": []
    },
    {
      "cell_type": "code",
      "source": [
        "n_input = X.shape[1] * X.shape[2]\n",
        "X = X.reshape((X.shape[0], n_input)) # flatten output\n",
        "n_output = y.shape[1] * y.shape[2]\n",
        "y = y.reshape((y.shape[0], n_output))\n",
        "y"
      ],
      "metadata": {
        "id": "cXCihA_8hhTv"
      },
      "execution_count": null,
      "outputs": []
    },
    {
      "cell_type": "markdown",
      "source": [
        "**Create the model**"
      ],
      "metadata": {
        "id": "I7qw6hwMuALA"
      }
    },
    {
      "cell_type": "code",
      "source": [
        "model = Sequential()\n",
        "model.add(Dense(100, activation='relu', input_dim=n_input)) \n",
        "model.add(Dense(n_output))\n",
        "model.compile(optimizer='adam', loss='mse')"
      ],
      "metadata": {
        "id": "MJ7s7pDot-f3"
      },
      "execution_count": null,
      "outputs": []
    },
    {
      "cell_type": "markdown",
      "source": [
        "**Train the model**"
      ],
      "metadata": {
        "id": "87gLhj4SuHBT"
      }
    },
    {
      "cell_type": "code",
      "source": [
        "model.fit(X, y, epochs=2000, verbose=0)"
      ],
      "metadata": {
        "id": "_2dk1DXNuGJx"
      },
      "execution_count": null,
      "outputs": []
    },
    {
      "cell_type": "markdown",
      "source": [
        "**Enter values for a prediction**"
      ],
      "metadata": {
        "id": "5DYDNpe-uLAd"
      }
    },
    {
      "cell_type": "markdown",
      "source": [
        "We expect values to be:<br>\n",
        "90, 95, 185<br>\n",
        "100, 105, 205"
      ],
      "metadata": {
        "id": "re5KwwWE3sqq"
      }
    },
    {
      "cell_type": "code",
      "source": [
        "x_input = array([[60, 65, 125], [70, 75, 145], [80, 85, 165]]) \n",
        "x_input = x_input.reshape((1, n_input))\n",
        "yhat = model.predict(x_input, verbose=0)\n",
        "print(yhat)"
      ],
      "metadata": {
        "id": "HXGZu-hchpDx"
      },
      "execution_count": null,
      "outputs": []
    }
  ]
}