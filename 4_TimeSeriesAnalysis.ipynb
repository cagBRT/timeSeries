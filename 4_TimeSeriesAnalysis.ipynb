{
  "nbformat": 4,
  "nbformat_minor": 0,
  "metadata": {
    "colab": {
      "name": "4: TimeSeriesAnalysis.ipynb",
      "private_outputs": true,
      "provenance": [],
      "authorship_tag": "ABX9TyOLlv7n9LEJr9hY0fvWuME6",
      "include_colab_link": true
    },
    "kernelspec": {
      "name": "python3",
      "display_name": "Python 3"
    }
  },
  "cells": [
    {
      "cell_type": "markdown",
      "metadata": {
        "id": "view-in-github",
        "colab_type": "text"
      },
      "source": [
        "<a href=\"https://colab.research.google.com/github/cagBRT/timeSeries/blob/main/4_TimeSeriesAnalysis.ipynb\" target=\"_parent\"><img src=\"https://colab.research.google.com/assets/colab-badge.svg\" alt=\"Open In Colab\"/></a>"
      ]
    },
    {
      "cell_type": "markdown",
      "metadata": {
        "id": "NKjgT-VVJD67"
      },
      "source": [
        "# **Time Series Analysis**"
      ]
    },
    {
      "cell_type": "markdown",
      "metadata": {
        "id": "3RKq8KCzJKHB"
      },
      "source": [
        "This notebook covers some of the more common techniques for analysis of time series"
      ]
    },
    {
      "cell_type": "markdown",
      "metadata": {
        "id": "RxVKfY0ZJrRj"
      },
      "source": [
        "Why even analyze a time series?<br>\n",
        "\n",
        "Because it is the preparatory step before you develop a forecast of the series.\n",
        "<br><br>\n",
        "Besides, time series forecasting has enormous commercial significance because stuff that is important to a business like demand and sales, number of visitors to a website, stock price etc are essentially time series data.\n",
        "<br><br>\n",
        "So what does analyzing a time series involve?\n",
        "<br><br>\n",
        "Time series analysis involves understanding various aspects about the inherent nature of the series so that you are better informed to create meaningful and accurate forecasts."
      ]
    },
    {
      "cell_type": "markdown",
      "metadata": {
        "id": "T3Ag9N4ZFT-u"
      },
      "source": [
        "https://www.machinelearningplus.com/time-series/time-series-analysis-python/\n"
      ]
    },
    {
      "cell_type": "code",
      "metadata": {
        "id": "7YfGGzR4GEM1"
      },
      "source": [
        "!git clone -l -s https://github.com/cagBRT/timeSeries.git cloned-repo\n",
        "%cd cloned-repo\n"
      ],
      "execution_count": null,
      "outputs": []
    },
    {
      "cell_type": "markdown",
      "metadata": {
        "id": "KBYgnZflJXgA"
      },
      "source": [
        "**Import the necessary libraries**"
      ]
    },
    {
      "cell_type": "code",
      "metadata": {
        "id": "jCLtnHJhFP2G"
      },
      "source": [
        "from dateutil.parser import parse \n",
        "import matplotlib as mpl\n",
        "import matplotlib.pyplot as plt\n",
        "import seaborn as sns\n",
        "import numpy as np\n",
        "import pandas as pd\n",
        "plt.rcParams.update({'figure.figsize': (10, 7), 'figure.dpi': 120})\n"
      ],
      "execution_count": null,
      "outputs": []
    },
    {
      "cell_type": "markdown",
      "metadata": {
        "id": "wHXQaz8rJbDh"
      },
      "source": [
        "**Import the time series data**<br>\n",
        "Import the time series with the date as the index"
      ]
    },
    {
      "cell_type": "markdown",
      "metadata": {
        "id": "N0M47k-2KjBU"
      },
      "source": [
        "** Note, in the series, the ‘value’ column is placed higher than date to imply that it is a series."
      ]
    },
    {
      "cell_type": "code",
      "metadata": {
        "id": "M9DvH6YbFmT_"
      },
      "source": [
        "# Import as Dataframe\n",
        "df_tse = pd.read_csv('timeSeriesExample.csv', parse_dates=['date'], index_col='date')\n",
        "df_tse.head()"
      ],
      "execution_count": null,
      "outputs": []
    },
    {
      "cell_type": "code",
      "metadata": {
        "id": "e3Z-nLPuHPBh"
      },
      "source": [
        "df_MA = pd.read_csv('MarketArrivals.csv')\n",
        "df_MA = df_MA.loc[df_MA.market=='MUMBAI', :]\n",
        "df_MA.head()"
      ],
      "execution_count": null,
      "outputs": []
    },
    {
      "cell_type": "code",
      "metadata": {
        "id": "96vcaQZaHy-3"
      },
      "source": [
        "import matplotlib.pyplot as plt\n",
        "def plot_df(df, x, y, title=\"\", xlabel='Date', ylabel='Value', dpi=100):\n",
        "    plt.figure(figsize=(16,5), dpi=dpi)\n",
        "    plt.plot(x, y, color='tab:red')\n",
        "    plt.gca().set(title=title, xlabel=xlabel, ylabel=ylabel)\n",
        "    plt.show()\n"
      ],
      "execution_count": null,
      "outputs": []
    },
    {
      "cell_type": "code",
      "metadata": {
        "id": "JTIHcFu6H54E"
      },
      "source": [
        "plot_df(df_tse, x=df_tse.index, y=df_tse.value, title='Monthly anti-diabetic drug sales in Australia from 1992 to 2008.')    "
      ],
      "execution_count": null,
      "outputs": []
    },
    {
      "cell_type": "code",
      "metadata": {
        "id": "aTW2Q15dIW1W"
      },
      "source": [
        "df_ap = pd.read_csv('AirPassengers.csv', parse_dates=['Month'])\n",
        "x = df_ap['Month'].values\n",
        "y1 = df_ap['#Passengers'].values"
      ],
      "execution_count": null,
      "outputs": []
    },
    {
      "cell_type": "code",
      "metadata": {
        "id": "K034GH-BJKjb"
      },
      "source": [
        "fig, ax = plt.subplots(1, 1, figsize=(16,5), dpi= 120)\n",
        "plt.fill_between(x, y1=y1, y2=-y1, alpha=0.5, linewidth=2, color='seagreen')\n",
        "plt.ylim(-800, 800)\n",
        "plt.title('Air Passengers (Two Side View)', fontsize=16)\n",
        "plt.hlines(y=0, xmin=np.min(df_ap.Month), xmax=np.max(df_ap.Month), linewidth=.5)\n",
        "plt.show()"
      ],
      "execution_count": null,
      "outputs": []
    },
    {
      "cell_type": "code",
      "metadata": {
        "id": "jjcfWdNsMt-c"
      },
      "source": [
        "df_tse['year'] = [d.year for d in df_tse.date]\n",
        "df_tse['month'] = [d.strftime('%b') for d in df_tse.date]\n",
        "years = df_tse['year'].unique()"
      ],
      "execution_count": null,
      "outputs": []
    },
    {
      "cell_type": "code",
      "metadata": {
        "id": "Jkmf4dOAM_YT"
      },
      "source": [
        "np.random.seed(100)\n",
        "mycolors = np.random.choice(list(mpl.colors.XKCD_COLORS.keys()), len(years), replace=False)\n",
        "\n",
        "# Draw Plot\n",
        "plt.figure(figsize=(16,12), dpi= 80)\n",
        "for i, y in enumerate(years):\n",
        "    if i > 0:        \n",
        "        plt.plot('month', 'value', data=df_tse.loc[df_tse.year==y, :], color=mycolors[i], label=y)\n",
        "        plt.text(df_tse.loc[df_tse.year==y, :].shape[0]-.9, df_tse.loc[df_tse.year==y, 'value'][-1:].values[0], y, fontsize=12, color=mycolors[i])\n",
        "\n",
        "# Decoration\n",
        "plt.gca().set(xlim=(-0.3, 11), ylim=(2, 30), ylabel='$Drug Sales$', xlabel='$Month$')\n",
        "plt.yticks(fontsize=12, alpha=.7)\n",
        "plt.title(\"Seasonal Plot of Drug Sales Time Series\", fontsize=20)\n",
        "plt.show()"
      ],
      "execution_count": null,
      "outputs": []
    },
    {
      "cell_type": "code",
      "metadata": {
        "id": "cPyxbSxgNivp"
      },
      "source": [
        "# Prepare data\n",
        "df_tse['year'] = [d.year for d in df_tse.date]\n",
        "df_tse['month'] = [d.strftime('%b') for d in df_tse.date]\n",
        "years = df_tse['year'].unique()\n",
        "\n",
        "# Draw Plot\n",
        "fig, axes = plt.subplots(1, 2, figsize=(20,7), dpi= 80)\n",
        "sns.boxplot(x='year', y='value', data=df_tse, ax=axes[0])\n",
        "sns.boxplot(x='month', y='value', data=df_tse.loc[~df_tse.year.isin([1991, 2008]), :])\n",
        "\n",
        "# Set Title\n",
        "axes[0].set_title('Year-wise Box Plot\\n(The Trend)', fontsize=18); \n",
        "axes[1].set_title('Month-wise Box Plot\\n(The Seasonality)', fontsize=18)\n",
        "plt.show()"
      ],
      "execution_count": null,
      "outputs": []
    },
    {
      "cell_type": "code",
      "metadata": {
        "id": "xLZ6-kXROnFJ"
      },
      "source": [
        "fig, axes = plt.subplots(1,3, figsize=(20,4), dpi=100)\n",
        "pd.read_csv('guinearice.csv', parse_dates=['date'], index_col='date').plot(title='Trend Only', legend=False, ax=axes[0])\n",
        "\n",
        "pd.read_csv('sunspotarea.csv', parse_dates=['date'], index_col='date').plot(title='Seasonality Only', legend=False, ax=axes[1])\n",
        "\n",
        "pd.read_csv('AirPassengers.csv', parse_dates=['Month'], index_col='Month').plot(title='Trend and Seasonality', legend=False, ax=axes[2])"
      ],
      "execution_count": null,
      "outputs": []
    }
  ]
}