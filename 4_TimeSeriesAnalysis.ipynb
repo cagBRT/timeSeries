{
  "nbformat": 4,
  "nbformat_minor": 0,
  "metadata": {
    "colab": {
      "name": "4: TimeSeriesAnalysis.ipynb",
      "private_outputs": true,
      "provenance": [],
      "authorship_tag": "ABX9TyMVB+WJkx7SjZ3kX5S8IH0y",
      "include_colab_link": true
    },
    "kernelspec": {
      "name": "python3",
      "display_name": "Python 3"
    }
  },
  "cells": [
    {
      "cell_type": "markdown",
      "metadata": {
        "id": "view-in-github",
        "colab_type": "text"
      },
      "source": [
        "<a href=\"https://colab.research.google.com/github/cagBRT/timeSeries/blob/main/4_TimeSeriesAnalysis.ipynb\" target=\"_parent\"><img src=\"https://colab.research.google.com/assets/colab-badge.svg\" alt=\"Open In Colab\"/></a>"
      ]
    },
    {
      "cell_type": "markdown",
      "metadata": {
        "id": "YRzRothDAOYG"
      },
      "source": [
        "By the end of this notebook the student will be able to:<br>\n",
        "1. Explain the components of a time series\n",
        "2. Decompose a time series into its components\n",
        "3. Use Python, Pandas, and MatPlotLib to analyze a time series"
      ]
    },
    {
      "cell_type": "markdown",
      "metadata": {
        "id": "NKjgT-VVJD67"
      },
      "source": [
        "# **Time Series Analysis**"
      ]
    },
    {
      "cell_type": "markdown",
      "metadata": {
        "id": "3RKq8KCzJKHB"
      },
      "source": [
        "This notebook covers some of the more common techniques for analysis of time series"
      ]
    },
    {
      "cell_type": "markdown",
      "metadata": {
        "id": "RxVKfY0ZJrRj"
      },
      "source": [
        "Why even analyze a time series?<br>\n",
        "\n",
        "Because it is the preparatory step before you develop a forecast of the series.\n",
        "<br><br>\n",
        "Besides, time series forecasting has enormous commercial significance because stuff that is important to a business like demand and sales, number of visitors to a website, stock price etc are essentially time series data.\n",
        "<br><br>\n",
        "So what does analyzing a time series involve?\n",
        "<br><br>\n",
        "Time series analysis involves understanding various aspects about the inherent nature of the series so that you are better informed to create meaningful and accurate forecasts."
      ]
    },
    {
      "cell_type": "markdown",
      "metadata": {
        "id": "T3Ag9N4ZFT-u"
      },
      "source": [
        "https://www.machinelearningplus.com/time-series/time-series-analysis-python/\n"
      ]
    },
    {
      "cell_type": "code",
      "metadata": {
        "id": "7YfGGzR4GEM1"
      },
      "source": [
        "!git clone -l -s https://github.com/cagBRT/timeSeries.git cloned-repo\n",
        "%cd cloned-repo\n"
      ],
      "execution_count": null,
      "outputs": []
    },
    {
      "cell_type": "markdown",
      "metadata": {
        "id": "KBYgnZflJXgA"
      },
      "source": [
        "**Import the necessary libraries**"
      ]
    },
    {
      "cell_type": "code",
      "metadata": {
        "id": "jCLtnHJhFP2G"
      },
      "source": [
        "from dateutil.parser import parse \n",
        "import matplotlib as mpl\n",
        "import matplotlib.pyplot as plt\n",
        "import seaborn as sns\n",
        "import numpy as np\n",
        "import pandas as pd\n",
        "plt.rcParams.update({'figure.figsize': (10, 7), 'figure.dpi': 120})\n",
        "from statsmodels.tsa.seasonal import seasonal_decompose\n",
        "from dateutil.parser import parse"
      ],
      "execution_count": null,
      "outputs": []
    },
    {
      "cell_type": "markdown",
      "metadata": {
        "id": "XB9eIwlybMy2"
      },
      "source": [
        "**Define functions for plotting**"
      ]
    },
    {
      "cell_type": "code",
      "metadata": {
        "id": "96vcaQZaHy-3"
      },
      "source": [
        "def plot_df(df, x, y, title=\"\", xlabel='Date', ylabel='Value', dpi=100):\n",
        "    plt.figure(figsize=(16,5), dpi=dpi)\n",
        "    plt.plot(x, y, color='tab:red')\n",
        "    plt.gca().set(title=title, xlabel=xlabel, ylabel=ylabel)\n",
        "    plt.show()"
      ],
      "execution_count": null,
      "outputs": []
    },
    {
      "cell_type": "markdown",
      "metadata": {
        "id": "wHXQaz8rJbDh"
      },
      "source": [
        "**Import the time series data**<br>\n",
        "Import the time series with the date as the index"
      ]
    },
    {
      "cell_type": "markdown",
      "metadata": {
        "id": "N0M47k-2KjBU"
      },
      "source": [
        "** Note, in the series, the ‘value’ column is placed higher than date to imply that it is a series."
      ]
    },
    {
      "cell_type": "code",
      "metadata": {
        "id": "M9DvH6YbFmT_"
      },
      "source": [
        "# Import as Dataframe\n",
        "#Monthly Anti-Diabetic drug sales from Australia\n",
        "df_tse = pd.read_csv('timeSeriesExample.csv', parse_dates=['date'], index_col='date')\n",
        "df_tse.head()"
      ],
      "execution_count": null,
      "outputs": []
    },
    {
      "cell_type": "markdown",
      "metadata": {
        "id": "LWy-twJsbTuW"
      },
      "source": [
        "# **Visualizing time series data**"
      ]
    },
    {
      "cell_type": "markdown",
      "metadata": {
        "id": "Dt-OqeslcYXy"
      },
      "source": [
        "Plot the time on the x-axis and the sales on the y-axis for the df_tse dataframe"
      ]
    },
    {
      "cell_type": "markdown",
      "metadata": {
        "id": "yB-NJ_6gdwlA"
      },
      "source": [
        "**Reflecting over the x-axis**"
      ]
    },
    {
      "cell_type": "markdown",
      "metadata": {
        "id": "ZmhAKT3Ld1WD"
      },
      "source": [
        "Load data from a file called AirPassengers.csv"
      ]
    },
    {
      "cell_type": "markdown",
      "metadata": {
        "id": "xhe5FYlzcl91"
      },
      "source": [
        "\n",
        "When all the values are positive, you can also reflect the graph over the x-axis to empathsize growth"
      ]
    },
    {
      "cell_type": "code",
      "metadata": {
        "id": "aTW2Q15dIW1W"
      },
      "source": [
        "df_ap = pd.read_csv('AirPassengers.csv', parse_dates=['Month'])\n",
        "x = df_ap['Month'].values\n",
        "y1 = df_ap['#Passengers'].values"
      ],
      "execution_count": null,
      "outputs": []
    },
    {
      "cell_type": "code",
      "metadata": {
        "id": "00Ipi_wMdTgJ"
      },
      "source": [
        "plot_df(df_ap, x,y1,title='Air Passengers per Month')  "
      ],
      "execution_count": null,
      "outputs": []
    },
    {
      "cell_type": "markdown",
      "metadata": {
        "id": "7B9WYezqefw-"
      },
      "source": [
        "# **Seasonal Plot of a Time Series**"
      ]
    },
    {
      "cell_type": "markdown",
      "metadata": {
        "id": "Dh5X-QYVfBpa"
      },
      "source": [
        "Plot the data for Monthly Anti-Diabetic drug sales in Australia"
      ]
    },
    {
      "cell_type": "code",
      "metadata": {
        "id": "JTIHcFu6H54E"
      },
      "source": [
        "plot_df(df_tse, x=df_tse.index, y=df_tse.value, \n",
        "        title='Monthly anti-diabetic drug sales in Australia from 1992 to 2008.')    "
      ],
      "execution_count": null,
      "outputs": []
    },
    {
      "cell_type": "markdown",
      "metadata": {
        "id": "wQoevW8Ae1AG"
      },
      "source": [
        "**Prepare the data for seasonal plotting**<br>\n",
        "There is a steep fall in drug sales every February, rising again in March, falling again in April and so on. <br>\n",
        "Clearly, the pattern repeats within a given year, every year.\n",
        "\n",
        "As the years progress, the drug sales increase overall."
      ]
    },
    {
      "cell_type": "markdown",
      "metadata": {
        "id": "hyu3Jx7mgtBU"
      },
      "source": [
        "Reset the index so that the date is the index"
      ]
    },
    {
      "cell_type": "code",
      "metadata": {
        "id": "jjcfWdNsMt-c"
      },
      "source": [
        "df_tse.reset_index(inplace=True)\n",
        "df_tse['year'] = [d.year for d in df_tse.date]\n",
        "df_tse['month'] = [d.strftime('%b') for d in df_tse.date]\n",
        "years = df_tse['year'].unique()"
      ],
      "execution_count": null,
      "outputs": []
    },
    {
      "cell_type": "markdown",
      "metadata": {
        "id": "JproFV70f5L5"
      },
      "source": [
        "Set the colors for the plot"
      ]
    },
    {
      "cell_type": "code",
      "metadata": {
        "id": "04XFMW-df63d"
      },
      "source": [
        "# Prep Colors\n",
        "np.random.seed(100)\n",
        "mycolors = np.random.choice(list(mpl.colors.XKCD_COLORS.keys()), \n",
        "                            len(years), replace=False)"
      ],
      "execution_count": null,
      "outputs": []
    },
    {
      "cell_type": "code",
      "metadata": {
        "id": "wwC2MQp9gEbz"
      },
      "source": [
        "# Draw Plot\n",
        "plt.figure(figsize=(16,8), dpi= 80)\n",
        "for i, y in enumerate(years):\n",
        "    if i > 0:        \n",
        "        plt.plot('month', 'value', data=df_tse.loc[df_tse.year==y, :], \n",
        "                 color=mycolors[i], label=y)\n",
        "        plt.text(df_tse.loc[df_tse.year==y, :].shape[0]-.9, \n",
        "                 df_tse.loc[df_tse.year==y, 'value'][-1:].values[0], y, \n",
        "                 fontsize=12, color=mycolors[i])\n",
        "\n",
        "plt.gca().set(xlim=(-0.3, 11), ylim=(2, 30), ylabel='$Drug Sales$', \n",
        "              xlabel='$Month$')\n",
        "plt.yticks(fontsize=12, alpha=.7)\n",
        "plt.title(\"Seasonal Plot of Drug Sales Time Series\", fontsize=20)\n",
        "plt.show()"
      ],
      "execution_count": null,
      "outputs": []
    },
    {
      "cell_type": "markdown",
      "metadata": {
        "id": "D10TNZwQg9eI"
      },
      "source": [
        "**Boxplot of Month-wise (Seasonal) and Year-wise (trend) Distribution**<br>\n",
        "The boxplots make the year-wise and month-wise distributions evident. Also, in a month-wise boxplot, the months of December and January clearly has higher drug sales, which can be attributed to the holiday discounts season."
      ]
    },
    {
      "cell_type": "markdown",
      "metadata": {
        "id": "70aWg7D9fusD"
      },
      "source": [
        "Plot the data<br>\n",
        "Diamonds show outlier points"
      ]
    },
    {
      "cell_type": "code",
      "metadata": {
        "id": "cPyxbSxgNivp"
      },
      "source": [
        "# Draw Plot\n",
        "fig, axes = plt.subplots(1, 2, figsize=(20,15), dpi= 80)\n",
        "sns.boxplot(x='year', y='value', data=df_tse, ax=axes[0])\n",
        "sns.boxplot(x='month', y='value', data=df_tse.loc[~df_tse.year.isin([1991, 2008]), :])\n",
        "\n",
        "# Set Title\n",
        "axes[0].set_title('Year-wise Box Plot\\n(The Trend)', fontsize=18); \n",
        "axes[1].set_title('Month-wise Box Plot\\n(The Seasonality)', fontsize=18)\n",
        "plt.show()"
      ],
      "execution_count": null,
      "outputs": []
    },
    {
      "cell_type": "markdown",
      "metadata": {
        "id": "sHiKdI1Yhya7"
      },
      "source": [
        "# **Patterns in Time Series**"
      ]
    },
    {
      "cell_type": "markdown",
      "metadata": {
        "id": "zJKMou25h7rA"
      },
      "source": [
        "Time series may be split into the following components: <br>\n",
        ">- Base Level <br>\n",
        "- Trend: is observed when there is an increasing or decreasing slope observed in the time series <br>\n",
        "- Seasonality: is observed when there is a distinct repeated pattern observed between regular intervals due to seasonal factors <br>\n",
        "- Error<br>\n",
        "<br>\n",
        "\n",
        "Time series do not have to have trends or seasonality\n",
        "\n",
        "\n",
        "\n"
      ]
    },
    {
      "cell_type": "code",
      "metadata": {
        "id": "uO1OZ-iOi-HH"
      },
      "source": [
        "fig, axes = plt.subplots(1,3, figsize=(20,4), dpi=100)\n",
        "df_gr = pd.read_csv('guinearice.csv', parse_dates=['date'], index_col='date').plot(title='Trend Only', legend=False, ax=axes[0])\n",
        "df_ss = pd.read_csv('sunspotarea.csv', parse_dates=['date'], index_col='date').plot(title='Seasonality Only', legend=False, ax=axes[1])\n",
        "\n",
        "df_ap = pd.read_csv('AirPassengers.csv', parse_dates=['Month'], index_col='Month').plot(title='Trend and Seasonality', legend=False, ax=axes[2])"
      ],
      "execution_count": null,
      "outputs": []
    },
    {
      "cell_type": "markdown",
      "metadata": {
        "id": "mrXiVlsTrpdd"
      },
      "source": [
        "**Cyclic Behavior**<br>\n",
        "Another aspect to consider is the cyclic behaviour. It happens when the rise and fall pattern in the series does not happen in fixed calendar-based intervals. **Care should be taken to not confuse ‘cyclic’ effect with ‘seasonal’ effect.**<br><br>\n",
        "\n",
        "**An example of a cyclic timeseries**: Stock market fluctuations: The stock market is known to fluctuate in a cyclical pattern, often following a regular pattern of highs and lows throughout the year"
      ]
    },
    {
      "cell_type": "markdown",
      "metadata": {
        "id": "fH5iGo1sr0V9"
      },
      "source": [
        "**Diffentiate between a ‘cyclic’ vs ‘seasonal’ pattern**\n",
        "\n",
        "If the patterns are not of fixed calendar based frequencies, then it is cyclic. Because, unlike the seasonality, cyclic effects are typically influenced by the business and other socio-economic factors."
      ]
    },
    {
      "cell_type": "markdown",
      "metadata": {
        "id": "93PazTonsHpD"
      },
      "source": [
        "# **Decompose a time series into its components**"
      ]
    },
    {
      "cell_type": "markdown",
      "metadata": {
        "id": "pncJ_9brsO8z"
      },
      "source": [
        "You can do a classical decomposition of a time series by considering the series as an additive or multiplicative combination of the base level, trend, seasonal index and the residual."
      ]
    },
    {
      "cell_type": "markdown",
      "metadata": {
        "id": "fOpPUCQ2sRrn"
      },
      "source": [
        "Depending on the nature of the trend and seasonality, a time series can be modeled as an additive or multiplicative, wherein, each observation in the series can be expressed as either a sum or a product of the components:<br>\n",
        "\n",
        "**Additive time series**:<br>\n",
        ">Value = Base Level + Trend + Seasonality + Error<br>\n",
        "\n",
        "**Multiplicative Time Series**:<br>\n",
        ">Value = Base Level x Trend x Seasonality x Error<br>"
      ]
    },
    {
      "cell_type": "markdown",
      "metadata": {
        "id": "KQJcb4pSzsYo"
      },
      "source": [
        "Decompose the time series into:<br>\n",
        "- trend\n",
        "- seasonal\n",
        "- residual<br>\n",
        "\n",
        "The seasonal_decompose function is breaks the time series into trend, seasonal, and residual components. \n"
      ]
    },
    {
      "cell_type": "markdown",
      "metadata": {
        "id": "NbPXcex46K6k"
      },
      "source": [
        "Setting extrapolate_trend='freq' takes care of any missing values in the trend and residuals at the beginning of the series."
      ]
    },
    {
      "cell_type": "code",
      "metadata": {
        "id": "AEvoeWbN5jQg"
      },
      "source": [
        "df_tse = pd.read_csv('timeSeriesExample.csv', parse_dates=['date'], \n",
        "                     index_col='date')\n",
        "df_tse.head()"
      ],
      "execution_count": null,
      "outputs": []
    },
    {
      "cell_type": "code",
      "metadata": {
        "id": "lK6lpGU6ujRi"
      },
      "source": [
        "# Multiplicative Decomposition \n",
        "result_mul = seasonal_decompose(df_tse['value'], model='multiplicative', \n",
        "                                extrapolate_trend='freq')\n",
        "\n",
        "# Additive Decomposition\n",
        "result_add = seasonal_decompose(df_tse['value'], model='additive', \n",
        "                                extrapolate_trend='freq')"
      ],
      "execution_count": null,
      "outputs": []
    },
    {
      "cell_type": "markdown",
      "metadata": {
        "id": "y1crv7DQ1g8X"
      },
      "source": [
        "A Python function that plots the decomposition of a time series"
      ]
    },
    {
      "cell_type": "code",
      "metadata": {
        "id": "x1BrqU8L1BEs"
      },
      "source": [
        "def plotseasonal(res, axes ):\n",
        "    res.observed.plot(ax=axes[0], legend=False)\n",
        "    axes[0].set_ylabel('Observed')\n",
        "    res.trend.plot(ax=axes[1], legend=False)\n",
        "    axes[1].set_ylabel('Trend')\n",
        "    res.seasonal.plot(ax=axes[2], legend=False)\n",
        "    axes[2].set_ylabel('Seasonal')\n",
        "    res.resid.plot(ax=axes[3], legend=False)\n",
        "    axes[3].set_ylabel('Residual')"
      ],
      "execution_count": null,
      "outputs": []
    },
    {
      "cell_type": "markdown",
      "metadata": {
        "id": "LDqdd-JV5-MO"
      },
      "source": [
        "A residual is a deviation from the sample mean. <br>\n",
        "Errors, like other population parameters (e.g. a population mean), are usually theoretical. <br>\n",
        "Residuals, like other sample statistics (e.g. a sample mean), are measured values from a sample."
      ]
    },
    {
      "cell_type": "markdown",
      "metadata": {
        "id": "FuQrbXhr6RY4"
      },
      "source": [
        "If you look at the residuals of the additive decomposition closely, it has some pattern left over. <br>\n",
        "The multiplicative decomposition, however, looks quite random which is good. <br>\n",
        "Ideally, multiplicative decomposition should be preferred for this particular series."
      ]
    },
    {
      "cell_type": "code",
      "metadata": {
        "id": "2bivSMnc1EyI"
      },
      "source": [
        "fig, axes = plt.subplots(ncols=2, nrows=4, sharex=True, figsize=(12,5))\n",
        "axes[0,0].set_title(\"Multiplicative\")\n",
        "axes[0,1].set_title(\"Additive\")\n",
        "plotseasonal(result_mul, axes[:,0])\n",
        "plotseasonal(result_add, axes[:,1])\n",
        "plt.show()"
      ],
      "execution_count": null,
      "outputs": []
    },
    {
      "cell_type": "markdown",
      "metadata": {
        "id": "kzOZOW1q6_MY"
      },
      "source": [
        "**Create a dataframe of the individual components**"
      ]
    },
    {
      "cell_type": "markdown",
      "metadata": {
        "id": "IFuJSbEm653W"
      },
      "source": [
        "The numerical output of the trend, seasonal and residual components are stored in the result_mul output<br>\n",
        "<br>\n",
        "The product of seas, trend, resid equals actual<br>\n",
        ">seas * trend * resid  = actual"
      ]
    },
    {
      "cell_type": "code",
      "metadata": {
        "id": "pQxzOACX66xz"
      },
      "source": [
        "# Extract the Components ----\n",
        "# Actual Values = Product of (Seasonal * Trend * Resid)\n",
        "df_reconstructed = pd.concat([result_mul.seasonal, result_mul.trend, result_mul.resid, result_mul.observed], axis=1)\n",
        "df_reconstructed.columns = ['seas', 'trend', 'resid', 'actual_values']\n",
        "df_reconstructed.head()"
      ],
      "execution_count": null,
      "outputs": []
    },
    {
      "cell_type": "markdown",
      "metadata": {
        "id": "icgLfCevDKZn"
      },
      "source": [
        "# **Assignment**<br>\n",
        "Using the Maruti.csv time series, so the following:\n",
        "- breakdown into it's different components\n",
        "\n",
        "Note: you will need to add a freq component to the seasonal decompose<br>\n",
        "freq=365 for a daily freq\n",
        "freq=12 for a monthly freq \n",
        "<br>\n",
        "The season_decomposition function is a little confusing and there is a possibility that the software for the function contains a bug. <br><br>\n",
        "It is still a valuable tool. <br>\n",
        "For more information [Time Series Decomposition](https://towardsdatascience.com/time-series-decomposition-and-statsmodels-parameters-69e54d035453\n",
        ")"
      ]
    },
    {
      "cell_type": "code",
      "metadata": {
        "id": "GH1q706zMSy3"
      },
      "source": [],
      "execution_count": null,
      "outputs": []
    },
    {
      "cell_type": "code",
      "metadata": {
        "id": "fL1l1Mj54SEB"
      },
      "source": [
        "#@title \n",
        "df_m = pd.read_csv('MARUTI.csv', parse_dates=['Date'], \n",
        "                     index_col='Date')\n",
        "#df_m['VWAP'].plot(figsize=(8,4),title=' volume weighted average price')\n",
        "#Freq 12 ==> monthly\n",
        "#Freq 365 ==> daily\n",
        "result_mul = seasonal_decompose(df_m['VWAP'], model='multiplicative', period=365,\n",
        "                                extrapolate_trend='freq')\n",
        "\n",
        "# Additive Decomposition\n",
        "result_add = seasonal_decompose(df_m['VWAP'], model='additive',period=365, \n",
        "                                extrapolate_trend='freq')\n",
        "fig, axes = plt.subplots(ncols=2, nrows=4, sharex=True, figsize=(12,5))\n",
        "axes[0,0].set_title(\"Multiplicative\")\n",
        "axes[0,1].set_title(\"Additive\")\n",
        "plotseasonal(result_mul, axes[:,0])\n",
        "plotseasonal(result_add, axes[:,1])\n",
        "plt.show()"
      ],
      "execution_count": null,
      "outputs": []
    },
    {
      "cell_type": "markdown",
      "metadata": {
        "id": "ZSIQYxJVC_Y3"
      },
      "source": [
        "In the next notebook you learn to de-seasonalize, and de-trend time series"
      ]
    }
  ]
}