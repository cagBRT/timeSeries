{
  "nbformat": 4,
  "nbformat_minor": 0,
  "metadata": {
    "colab": {
      "name": "1: TimeSeriesData.ipynb",
      "private_outputs": true,
      "provenance": [],
      "authorship_tag": "ABX9TyOart7x5lCPbe3035qCjcjK",
      "include_colab_link": true
    },
    "kernelspec": {
      "name": "python3",
      "display_name": "Python 3"
    }
  },
  "cells": [
    {
      "cell_type": "markdown",
      "metadata": {
        "id": "view-in-github",
        "colab_type": "text"
      },
      "source": [
        "<a href=\"https://colab.research.google.com/github/cagBRT/timeSeries/blob/main/1_TimeSeriesData.ipynb\" target=\"_parent\"><img src=\"https://colab.research.google.com/assets/colab-badge.svg\" alt=\"Open In Colab\"/></a>"
      ]
    },
    {
      "cell_type": "markdown",
      "metadata": {
        "id": "4yzYfV-7d19e"
      },
      "source": [
        "By the end of this notebook the student: <br>\n",
        "1. Will be able to explain the basic process for using time series data <br>\n",
        "2. Will be able to define and explain time series data<br>\n",
        "3. Will be able to manipulate time series data<br>"
      ]
    },
    {
      "cell_type": "markdown",
      "metadata": {
        "id": "zlYcnKVbTtj3"
      },
      "source": [
        "# **Time Series Data**"
      ]
    },
    {
      "cell_type": "markdown",
      "metadata": {
        "id": "WeSz1ke6Tzta"
      },
      "source": [
        "Time series data is a collection of observations obtained through repeated measurements over time. <br>\n",
        "**Plot the points on a graph, and one of your axes would always be time.**"
      ]
    },
    {
      "cell_type": "markdown",
      "metadata": {
        "id": "bHP22P1NT_Db"
      },
      "source": [
        "Time series data can be useful for:<br>\n",
        "\n",
        ">Tracking daily, hourly, or weekly weather data<br>\n",
        "Tracking changes in application performance<br>\n",
        "Medical devices to visualize vitals in real time<br>\n",
        "Tracking network logs<br>"
      ]
    },
    {
      "cell_type": "markdown",
      "metadata": {
        "id": "nmC04hi2V2oM"
      },
      "source": [
        "Time series data is unique in that it has a natural time order: *the order in which the data was observed matters*. <br>\n",
        "The key difference with time series data from regular data is that you’re always asking questions about it over time.<br>\n",
        " **An often simple way to determine if the dataset you are working with is time series or not, is to see if one of your axes is time.**"
      ]
    },
    {
      "cell_type": "markdown",
      "metadata": {
        "id": "YFagHKZBXcIj"
      },
      "source": [
        "To determine whether your data is time series data, figure out what you’ll need to determine a unique record in the data set.\n",
        "\n",
        "- If all you need is a timestamp, it’s probably time series data.\n",
        "- If you need something other than a timestamp, it’s probably cross-sectional data.\n",
        "- If you need a timestamp plus something else, like an ID, it’s probably panel data."
      ]
    },
    {
      "cell_type": "markdown",
      "metadata": {
        "id": "abtclhDFaCBf"
      },
      "source": [
        "- **Time series** is a group of observations on a single entity over time — \n",
        "  - the daily closing prices over one year for a single financial security, \n",
        " - a single patient’s heart rate measured every minute over a one-hour procedure, \n",
        " - Max Temperature, Humidity and Wind (all three behaviors) in New York City (single entity) collected on First day of every year (multiple intervals of time)<br><br>\n",
        "The relevance of time as an axis makes time series data distinct from other types of data..\n",
        "- **Cross-section** is a group of observations of multiple entities at a single time — \n",
        " - today’s closing prices for each of the S&P 500 companies, \n",
        " - the heart rates of 100 patients at the beginning of the same procedure, \n",
        " - an inventory of a given product in stock at a specific stores, \n",
        " - a list of grades obtained by a class of students on a given exam..\n",
        "- **Panel data**: If your data is organized in both dimensions \n",
        " -  Max Temperature, Humidity and Wind (all three behaviors) in New York City, SFO, Boston, Chicago (multiple entities) on the first day of every year (multiple intervals of time). "
      ]
    },
    {
      "cell_type": "markdown",
      "metadata": {
        "id": "1m7GfGU-EYIE"
      },
      "source": [
        "https://towardsdatascience.com/getting-started-with-time-series-using-pandas-b6b9c9d11949\n"
      ]
    },
    {
      "cell_type": "code",
      "metadata": {
        "id": "TjRwOmqLKYPz"
      },
      "source": [
        "!git clone -l -s https://github.com/cagBRT/timeSeries.git cloned-repo\n",
        "%cd cloned-repo"
      ],
      "execution_count": null,
      "outputs": []
    },
    {
      "cell_type": "markdown",
      "metadata": {
        "id": "ThTQYm6VUWs-"
      },
      "source": [
        "In addition to being captured at regular time intervals, time series data can be captured whenever it happens — regardless of the time interval, such as in logs. <br>\n",
        "Logs are a registry of events, processes, messages and communication between software applications and the operating system. Every executable file produces a log file where all activities are noted. Log data is an important contextual source to triage and resolve issues. <br>\n",
        "For example, in networking, an event log helps provide information about network traffic, usage and other conditions."
      ]
    },
    {
      "cell_type": "code",
      "metadata": {
        "id": "WeQ5wp_TU239"
      },
      "source": [
        "from IPython.display import Image\n",
        "Image(\"regular-vs-irregular-time-series-data.png\" , width=640)"
      ],
      "execution_count": null,
      "outputs": []
    },
    {
      "cell_type": "markdown",
      "metadata": {
        "id": "KJs6reeCVHZo"
      },
      "source": [
        "Because they happen at irregular intervals, *events are unpredictable and cannot be modeled or forecasted* since **forecasting assumes that whatever happened in the past is a good indicator of what will happen in the future**."
      ]
    },
    {
      "cell_type": "markdown",
      "metadata": {
        "id": "6vg321rWeKJa"
      },
      "source": [
        "**Import libraries and prepare the environment**"
      ]
    },
    {
      "cell_type": "code",
      "metadata": {
        "id": "ixdHwvl7ItLt"
      },
      "source": [
        "# Importing required modules\n",
        "import pandas as pd\n",
        "import numpy as np\n",
        "import matplotlib.pyplot as plt\n",
        "import matplotlib.dates as mdates\n",
        "import datetime as dt\n",
        "from datetime import datetime    # To access datetime \n",
        "from pandas import Series        # To work on series"
      ],
      "execution_count": null,
      "outputs": []
    },
    {
      "cell_type": "code",
      "metadata": {
        "id": "RiEDAfvsJKRh"
      },
      "source": [
        "# Settings for pretty nice plots \n",
        "plt.style.use('fivethirtyeight')\n",
        "%matplotlib inline"
      ],
      "execution_count": null,
      "outputs": []
    },
    {
      "cell_type": "code",
      "metadata": {
        "id": "gUOzY-GxJNuA"
      },
      "source": [
        "# ignore warnings\n",
        "import warnings\n",
        "warnings.filterwarnings('ignore')"
      ],
      "execution_count": null,
      "outputs": []
    },
    {
      "cell_type": "markdown",
      "metadata": {
        "id": "OWCPWTRoeas_"
      },
      "source": [
        "**Get the data**<br>\n",
        "The data file is a CSV file of the stock prices for a car manufacturer in India."
      ]
    },
    {
      "cell_type": "code",
      "metadata": {
        "id": "3jTACJ0pJRSD"
      },
      "source": [
        "# Reading in the data\n",
        "df = pd.read_csv('/content/cloned-repo/MARUTI.csv')"
      ],
      "execution_count": null,
      "outputs": []
    },
    {
      "cell_type": "code",
      "metadata": {
        "id": "Uza_l2FHKyUu"
      },
      "source": [
        "# Inspecting the data\n",
        "df.head()"
      ],
      "execution_count": null,
      "outputs": []
    },
    {
      "cell_type": "markdown",
      "metadata": {
        "id": "2HiolvfyetiA"
      },
      "source": [
        "Save the columns for daily open, close, high, low, trading volume, and VWAP (volume weighted average price).  "
      ]
    },
    {
      "cell_type": "code",
      "metadata": {
        "id": "XM4AbBjZK35Y"
      },
      "source": [
        "data = df[['Date','Open','High','Low','Close','Volume','VWAP']]"
      ],
      "execution_count": null,
      "outputs": []
    },
    {
      "cell_type": "code",
      "metadata": {
        "id": "FN4zeERVK728"
      },
      "source": [
        "data.info()"
      ],
      "execution_count": null,
      "outputs": []
    },
    {
      "cell_type": "markdown",
      "metadata": {
        "id": "sZ9o_QgwfwXV"
      },
      "source": [
        "# **Convert the index to the datetime**<br>\n",
        "Now the data can be referenced by the date. "
      ]
    },
    {
      "cell_type": "code",
      "metadata": {
        "id": "acPGxMyaLBZe"
      },
      "source": [
        "# Convert string to datetime64\n",
        "data['Date'] = data['Date'].apply(pd.to_datetime)\n",
        "data.set_index('Date',inplace=True)\n",
        "data.head()"
      ],
      "execution_count": null,
      "outputs": []
    },
    {
      "cell_type": "code",
      "metadata": {
        "id": "NGVn4GDxLN3M"
      },
      "source": [
        "data.tail()"
      ],
      "execution_count": null,
      "outputs": []
    },
    {
      "cell_type": "markdown",
      "metadata": {
        "id": "pOH5hXvdq9U3"
      },
      "source": [
        "**Data for one row**"
      ]
    },
    {
      "cell_type": "code",
      "metadata": {
        "id": "TaQG5gRgqnHi"
      },
      "source": [
        "data.values[0:1]"
      ],
      "execution_count": null,
      "outputs": []
    },
    {
      "cell_type": "code",
      "metadata": {
        "id": "5vHfV26OJHBH"
      },
      "source": [
        "print('Specific date: \\n',data.loc['2020-04-01'])"
      ],
      "execution_count": null,
      "outputs": []
    },
    {
      "cell_type": "markdown",
      "metadata": {
        "id": "qkPQDJxPJhxO"
      },
      "source": [
        "**Specific date and column**"
      ]
    },
    {
      "cell_type": "code",
      "metadata": {
        "id": "GGISKFycJaXZ"
      },
      "source": [
        "print('Specific date: ',data.loc['2020-04-01'][4])"
      ],
      "execution_count": null,
      "outputs": []
    },
    {
      "cell_type": "markdown",
      "metadata": {
        "id": "xRxzg5pf74vS"
      },
      "source": [
        "# **Methods to manipulate the data**"
      ]
    },
    {
      "cell_type": "markdown",
      "metadata": {
        "id": "Le3LW1VnjvJi"
      },
      "source": [
        "**Using the datetime function**"
      ]
    },
    {
      "cell_type": "code",
      "metadata": {
        "id": "I_tuqq11LLgv"
      },
      "source": [
        "my_year = 2019\n",
        "my_month = 4\n",
        "my_day = 21\n",
        "my_hour = 10\n",
        "my_minute = 5\n",
        "my_second = 30"
      ],
      "execution_count": null,
      "outputs": []
    },
    {
      "cell_type": "code",
      "metadata": {
        "id": "p6xekRYMLUrj"
      },
      "source": [
        "test_data = datetime(my_year,my_month,my_day)\n",
        "print(test_data)"
      ],
      "execution_count": null,
      "outputs": []
    },
    {
      "cell_type": "code",
      "metadata": {
        "id": "zTnu9tf7LcVz"
      },
      "source": [
        "test_data = datetime(my_year,my_month,my_day,my_hour,my_minute,my_second)\n",
        "print(\"The day is : \",test_data.day)\n",
        "print(\"The hour is : \",test_data.hour)\n",
        "print(\"The month is : \",test_data.month)"
      ],
      "execution_count": null,
      "outputs": []
    },
    {
      "cell_type": "markdown",
      "metadata": {
        "id": "do8vSfQlj2D0"
      },
      "source": [
        "**Get the oldest and newest date**"
      ]
    },
    {
      "cell_type": "code",
      "metadata": {
        "id": "-nr-Uxj1Li0S"
      },
      "source": [
        "print(data.index.max())\n",
        "print(data.index.min())"
      ],
      "execution_count": null,
      "outputs": []
    },
    {
      "cell_type": "code",
      "metadata": {
        "id": "DlOeWgrKLndS"
      },
      "source": [
        "# Earliest date index location\n",
        "print('Earliest date index location is: ',data.index.argmin())\n",
        "\n",
        "# Latest date location\n",
        "print('Latest date location: ',data.index.argmax())"
      ],
      "execution_count": null,
      "outputs": []
    },
    {
      "cell_type": "markdown",
      "metadata": {
        "id": "GhwHnJSrf34i"
      },
      "source": [
        "**Assignment 0**<br>\n",
        "Find the high and low values for the stock on Dec. 20, 2019<br>\n"
      ]
    },
    {
      "cell_type": "code",
      "metadata": {
        "id": "W5Q8g_CxIGNE"
      },
      "source": [
        "#Assignment 0\n"
      ],
      "execution_count": null,
      "outputs": []
    },
    {
      "cell_type": "markdown",
      "metadata": {
        "id": "5lP7wfSzm7Lu"
      },
      "source": [
        "**Manipulating and plotting the data**"
      ]
    },
    {
      "cell_type": "code",
      "metadata": {
        "id": "VKURooc7LzMp"
      },
      "source": [
        "#prepare to plot VWAP against the Date\n",
        "df_vwap = df[['Date','VWAP']] # df is the original dataframe\n",
        "df_vwap['Date'] = df_vwap['Date'].apply(pd.to_datetime)\n",
        "df_vwap.set_index(\"Date\", inplace = True)\n",
        "df_vwap.head()"
      ],
      "execution_count": null,
      "outputs": []
    },
    {
      "cell_type": "markdown",
      "metadata": {
        "id": "CGlj26159AtU"
      },
      "source": [
        "**Plot VWAP vs Year**"
      ]
    },
    {
      "cell_type": "code",
      "metadata": {
        "id": "OCgaWCT6L9NR"
      },
      "source": [
        "df_vwap['VWAP'].plot(figsize=(16,8),title=' volume weighted average price')"
      ],
      "execution_count": null,
      "outputs": []
    },
    {
      "cell_type": "markdown",
      "metadata": {
        "id": "1mcjTn4r9Fhe"
      },
      "source": [
        "**Slicing the data by time periods**"
      ]
    },
    {
      "cell_type": "code",
      "metadata": {
        "id": "-b6HL90SL31r"
      },
      "source": [
        "# Slicing on year\n",
        "vwap_subset = df_vwap['2017':'2020']\n",
        "\n",
        "# Slicing on month\n",
        "vwap_subset = df_vwap['2017-01':'2020-12']\n",
        "\n",
        "#Slicing on day\n",
        "vwap_subset = df_vwap['2017-01-01':'2020-12-15']"
      ],
      "execution_count": null,
      "outputs": []
    },
    {
      "cell_type": "markdown",
      "metadata": {
        "id": "j-HsZvT89Vpn"
      },
      "source": [
        "**Assignment 1**<br>\n",
        "1. Plot the VWAP for the years 2017 - 2020\n",
        "2. Plot the VWAP for the time period Jan 1, 2020 - Dec 31,\n"
      ]
    },
    {
      "cell_type": "code",
      "metadata": {
        "id": "KG9c0j5q-Puw"
      },
      "source": [
        "#Assignment 1"
      ],
      "execution_count": null,
      "outputs": []
    },
    {
      "cell_type": "code",
      "metadata": {
        "cellView": "form",
        "id": "veuqIKiJ9LKv"
      },
      "source": [
        "#@title \n",
        "#vwap_subset['VWAP'].plot(figsize=(16,8),title=' volume weighted average price')"
      ],
      "execution_count": null,
      "outputs": []
    },
    {
      "cell_type": "markdown",
      "metadata": {
        "id": "UHOh_pPp-ZwW"
      },
      "source": [
        "**Plot the data per month**"
      ]
    },
    {
      "cell_type": "code",
      "metadata": {
        "id": "BT4Jza21MEyi"
      },
      "source": [
        "ax = df_vwap.loc['2018', 'VWAP'].plot(figsize=(15,6))\n",
        "ax.set_title('Month-wise Trend in 2018'); \n",
        "ax.set_ylabel('VWAP');\n",
        "ax.xaxis.set_major_locator(mdates.MonthLocator())\n",
        "ax.xaxis.set_major_formatter(mdates.DateFormatter('%b'));"
      ],
      "execution_count": null,
      "outputs": []
    },
    {
      "cell_type": "markdown",
      "metadata": {
        "id": "j675keIj-zv7"
      },
      "source": [
        "**Plot data per day of the week**"
      ]
    },
    {
      "cell_type": "code",
      "metadata": {
        "id": "LDVVfv6qMLLJ"
      },
      "source": [
        "ax = df_vwap.loc['2018-10':'2018-11','VWAP'].plot(marker='o', linestyle='-',figsize=(15,6))\n",
        "ax.set_title('Oct-Nov 2018 trend'); \n",
        "ax.set_ylabel('VWAP');\n",
        "ax.xaxis.set_major_locator(mdates.WeekdayLocator(byweekday=mdates.MONDAY))\n",
        "ax.xaxis.set_major_formatter(mdates.DateFormatter('%b %d'));"
      ],
      "execution_count": null,
      "outputs": []
    },
    {
      "cell_type": "markdown",
      "metadata": {
        "id": "r5UbARhG-6qS"
      },
      "source": [
        "**Breakdown data into day of week, day, month, and or year**"
      ]
    },
    {
      "cell_type": "code",
      "metadata": {
        "id": "xOARj5E9Ddwp"
      },
      "source": [
        "df_vwap.reset_index(inplace=True)\n",
        "df_vwap['year'] = df_vwap.Date.dt.year\n",
        "df_vwap['month'] = df_vwap.Date.dt.month\n",
        "df_vwap['day'] = df_vwap.Date.dt.day\n",
        "df_vwap['day of week'] = df_vwap.Date.dt.dayofweek\n",
        "\n",
        "#Set Date column as the index column.\n",
        "df_vwap.set_index('Date', inplace=True)\n",
        "df_vwap.head()"
      ],
      "execution_count": null,
      "outputs": []
    },
    {
      "cell_type": "markdown",
      "metadata": {
        "id": "RcjQ86x3_c25"
      },
      "source": [
        "**Assignment 2**<br>\n",
        "Plot the data to show VWAP on Wednesdays in 2020"
      ]
    },
    {
      "cell_type": "code",
      "metadata": {
        "id": "o_sAR_a-_oJA"
      },
      "source": [
        "#Assignment 2\n"
      ],
      "execution_count": null,
      "outputs": []
    },
    {
      "cell_type": "code",
      "metadata": {
        "cellView": "form",
        "id": "Xs5Qw6W-eqv0"
      },
      "source": [
        "#@title\n",
        "#ax = df_vwap.loc['2020-1':'2020-12','VWAP'].plot(marker='o', linestyle='-',figsize=(15,6))\n",
        "#ax.set_title('Oct-Nov 2018 trend'); \n",
        "#ax.set_ylabel('VWAP');\n",
        "#ax.xaxis.set_major_locator(mdates.WeekdayLocator(byweekday=mdates.WEDNESDAY))\n",
        "#ax.xaxis.set_major_formatter(mdates.DateFormatter('%b %d'));"
      ],
      "execution_count": null,
      "outputs": []
    },
    {
      "cell_type": "markdown",
      "metadata": {
        "id": "Ya5lOCcxBhvh"
      },
      "source": [
        "# **Resampling**<br>\n",
        "Resampling involves changing the frequency of your time series observations.<br>\n",
        "\n",
        "Two types of resampling are:<br>\n",
        "- Downsampling: Where you decrease the frequency of the samples, such as from days to months. Downsampling aggregates data based on specified frequency and aggregation function\n",
        "- Upsampling: Where you increase the frequency of the samples, such as from minutes to seconds.\n",
        "<br><br>\n",
        "\n",
        "In both cases, data must be invented."
      ]
    },
    {
      "cell_type": "markdown",
      "metadata": {
        "id": "QyHyxGTRB1dv"
      },
      "source": [
        "With upsampling, care is needed in determining how the fine-grained observations are calculated using interpolation. \n",
        "\n",
        "With downsampling, care is needed in selecting the summary statistics used to calculate the new aggregated values.\n",
        "\n",
        "The two main reasons to resample your time series data are:\n",
        "\n",
        "- Problem Framing: Resampling may be required if your data is not available at the same frequency that you want to make predictions.<br>\n",
        "- Feature Engineering: Resampling can also be used to provide additional structure or insight into the learning problem for supervised learning models."
      ]
    },
    {
      "cell_type": "markdown",
      "metadata": {
        "id": "RMM2WUsUnMLO"
      },
      "source": [
        "[Pandas resample method](https://pandas.pydata.org/pandas-docs/stable/reference/api/pandas.DataFrame.resample.html)<br>\n",
        "[Using the Pandas Resample Function](https://towardsdatascience.com/using-the-pandas-resample-function-a231144194c4)"
      ]
    },
    {
      "cell_type": "markdown",
      "metadata": {
        "id": "M29UwEXqDQ_u"
      },
      "source": [
        "Note in the three plots below, resampling keeps the same shape of the original data series, but it is smoother as the time interval increases. "
      ]
    },
    {
      "cell_type": "code",
      "metadata": {
        "id": "L48k8vGlB4GC"
      },
      "source": [
        "df_vwap['VWAP'].plot(figsize=(12,8),title=' volume weighted average price')"
      ],
      "execution_count": null,
      "outputs": []
    },
    {
      "cell_type": "code",
      "metadata": {
        "id": "qQ9HR8OcAnTr"
      },
      "source": [
        "fig, ax = plt.subplots(2, sharex=True)\n",
        "df_vwap['VWAP'].resample('10D').mean().plot(figsize=(12,8), ax=ax[0], \n",
        "title=\"VWAP Down-sampled to 10-day periods\",legend=False)\n",
        "df_vwap['VWAP'].resample('30D').mean().plot(figsize=(12,8), ax=ax[1],\n",
        "title=\"VWAP Down-sampled to 30-day periods\",legend=False)\n"
      ],
      "execution_count": null,
      "outputs": []
    },
    {
      "cell_type": "markdown",
      "metadata": {
        "id": "YCx0V6NHC07q"
      },
      "source": [
        "Below is a table of offset aliases used with the Resample function"
      ]
    },
    {
      "cell_type": "code",
      "metadata": {
        "id": "rEef_q_-oeHc"
      },
      "source": [
        "Image(\"resamplingRule.png\" , width=640)"
      ],
      "execution_count": null,
      "outputs": []
    },
    {
      "cell_type": "markdown",
      "metadata": {
        "id": "RRyvzH80DWu1"
      },
      "source": [
        "Let's look at the data<br>\n",
        "Note it lists the VWAP for each day"
      ]
    },
    {
      "cell_type": "code",
      "metadata": {
        "id": "WWlF4CFjDMvQ"
      },
      "source": [
        "df_vwap.head()"
      ],
      "execution_count": null,
      "outputs": []
    },
    {
      "cell_type": "markdown",
      "metadata": {
        "id": "7tsz7Pu0DaXw"
      },
      "source": [
        "Let's now resample that data to look at the VWAP for an end-of-year average.<br>"
      ]
    },
    {
      "cell_type": "code",
      "metadata": {
        "id": "-S_1f2bIDiiJ"
      },
      "source": [
        "df_vwap.resample(rule = 'A').mean()[:5]"
      ],
      "execution_count": null,
      "outputs": []
    },
    {
      "cell_type": "markdown",
      "metadata": {
        "id": "0GpfCSzuLSG-"
      },
      "source": [
        "**Assignment 3** <br>\n",
        "Plot the end of year average for all the years where there is data<br>"
      ]
    },
    {
      "cell_type": "code",
      "metadata": {
        "id": "8xF4QAfEMXa0"
      },
      "source": [
        "#Assignment 3"
      ],
      "execution_count": null,
      "outputs": []
    },
    {
      "cell_type": "code",
      "metadata": {
        "cellView": "form",
        "id": "cTN1XvwELSZA"
      },
      "source": [
        "#@title\n",
        "#ax = df_vwap.resample(rule = 'A').mean().plot(marker='o', linestyle='-',figsize=(15,6))\n",
        "#ax.set_title('Yearly Avg'); \n",
        "#ax.set_ylabel('VWAP');\n"
      ],
      "execution_count": null,
      "outputs": []
    },
    {
      "cell_type": "markdown",
      "metadata": {
        "id": "AhdBdW8fOFTW"
      },
      "source": [
        "# **UpSampling**<br>\n",
        "\n",
        "The Series Pandas object provides an interpolate() function to interpolate missing values, and there is a nice selection of simple and more complex interpolation functions. \n",
        "\n",
        "A good starting point is to use a linear interpolation. This draws a straight line between available data and fills in values at the chosen frequency from this line."
      ]
    },
    {
      "cell_type": "markdown",
      "metadata": {
        "id": "xwHAySYJ4NcZ"
      },
      "source": [
        "In the sample below the code upsamples the data per hour. <br>\n",
        "The dataset does not have VWAP per hour, so the data is created by the software using linear interpolation. "
      ]
    },
    {
      "cell_type": "code",
      "metadata": {
        "id": "VHYxeUvZP8ku"
      },
      "source": [
        "df_vwapDay = df_vwap[0:2]\n",
        "vwapResampled = df_vwapDay.resample(rule = 'H')\n",
        "interpolated = vwapResampled.interpolate(method='linear')\n",
        "interpolated.head(30)"
      ],
      "execution_count": null,
      "outputs": []
    },
    {
      "cell_type": "markdown",
      "metadata": {
        "id": "EatxJAal-T1l"
      },
      "source": [
        "When the interpolated data is plotted, it is a straight line"
      ]
    },
    {
      "cell_type": "code",
      "metadata": {
        "id": "08d6wbZx6asT"
      },
      "source": [
        "interpolated['VWAP'].plot(figsize=(16,8),title=' volume weighted average price')"
      ],
      "execution_count": null,
      "outputs": []
    },
    {
      "cell_type": "markdown",
      "metadata": {
        "id": "OLoy1HLleIPj"
      },
      "source": [
        "**Assignment 4**<br>\n",
        "Upsample the dataset to interpolate for minute data. "
      ]
    },
    {
      "cell_type": "code",
      "metadata": {
        "id": "MtiH9Y6b5WhZ"
      },
      "source": [
        "#Assign 4\n"
      ],
      "execution_count": null,
      "outputs": []
    },
    {
      "cell_type": "markdown",
      "metadata": {
        "id": "0uGLNAdSwNg8"
      },
      "source": [
        "**[Shift the time series](https://pandas.pydata.org/pandas-docs/stable/reference/api/pandas.DataFrame.shift.html)**"
      ]
    },
    {
      "cell_type": "code",
      "metadata": {
        "id": "bKkwtZgZD2-z"
      },
      "source": [
        "df_vwap.shift(1).head()"
      ],
      "execution_count": null,
      "outputs": []
    },
    {
      "cell_type": "code",
      "metadata": {
        "id": "roS6SihAD6wP"
      },
      "source": [
        "df_vwap.shift(-1).head()"
      ],
      "execution_count": null,
      "outputs": []
    },
    {
      "cell_type": "code",
      "metadata": {
        "id": "aix-VewLD_9R"
      },
      "source": [
        "df_vwap.tshift(periods=3, freq = 'M').head()\n"
      ],
      "execution_count": null,
      "outputs": []
    },
    {
      "cell_type": "code",
      "metadata": {
        "id": "yd-hjT3tEEg3"
      },
      "source": [
        "df_vwap['VWAP'].plot(figsize = (10,6))"
      ],
      "execution_count": null,
      "outputs": []
    },
    {
      "cell_type": "markdown",
      "metadata": {
        "id": "BQ46h7vowpBn"
      },
      "source": [
        "**Do rolling window calcuations using the [rolling function](https://pandas.pydata.org/pandas-docs/stable/reference/api/pandas.DataFrame.rolling.html)**"
      ]
    },
    {
      "cell_type": "code",
      "metadata": {
        "id": "FziilssNEI42"
      },
      "source": [
        "df_vwap.rolling(7).mean().head(10)"
      ],
      "execution_count": null,
      "outputs": []
    },
    {
      "cell_type": "code",
      "metadata": {
        "id": "NAZacPJTENWU"
      },
      "source": [
        "df_vwap['VWAP'].plot()\n",
        "df_vwap.rolling(window=30).mean()['VWAP'].plot(figsize=(16, 6))\n"
      ],
      "execution_count": null,
      "outputs": []
    }
  ]
}