{
  "nbformat": 4,
  "nbformat_minor": 0,
  "metadata": {
    "colab": {
      "name": "9c MultiHeaded MLP.ipynb",
      "private_outputs": true,
      "provenance": [],
      "authorship_tag": "ABX9TyO9eoc4J/21zQFl17KpKhXy",
      "include_colab_link": true
    },
    "kernelspec": {
      "name": "python3",
      "display_name": "Python 3"
    },
    "language_info": {
      "name": "python"
    }
  },
  "cells": [
    {
      "cell_type": "markdown",
      "metadata": {
        "id": "view-in-github",
        "colab_type": "text"
      },
      "source": [
        "<a href=\"https://colab.research.google.com/github/cagBRT/timeSeries/blob/main/9c_MultiHeaded_MLP.ipynb\" target=\"_parent\"><img src=\"https://colab.research.google.com/assets/colab-badge.svg\" alt=\"Open In Colab\"/></a>"
      ]
    },
    {
      "cell_type": "code",
      "metadata": {
        "id": "WSJR_oPMuh4Y"
      },
      "source": [
        "!git clone -l -s https://github.com/cagBRT/timeSeries.git cloned-repo\n",
        "%cd cloned-repo"
      ],
      "execution_count": null,
      "outputs": []
    },
    {
      "cell_type": "code",
      "metadata": {
        "id": "lI1fzXDQvIAO"
      },
      "source": [
        "def split_sequences(sequences, n_steps): \n",
        "  X, y = list(), list()\n",
        "  for i in range(len(sequences)):\n",
        "    # find the end of this pattern\n",
        "    end_ix = i + n_steps\n",
        "    # check if we are beyond the dataset\n",
        "    if end_ix > len(sequences): break\n",
        "    # gather input and output parts of the pattern\n",
        "    seq_x, seq_y = sequences[i:end_ix, :-1], sequences[end_ix-1, -1] \n",
        "    X.append(seq_x)\n",
        "    y.append(seq_y)\n",
        "  return array(X), array(y)"
      ],
      "execution_count": null,
      "outputs": []
    },
    {
      "cell_type": "code",
      "metadata": {
        "id": "Rgshq3CEu3PS"
      },
      "source": [
        "from numpy import array\n",
        "from numpy import hstack\n",
        "from keras.models import Model\n",
        "from keras.layers import Input\n",
        "from keras.layers import Dense\n",
        "from keras.layers.merge import concatenate"
      ],
      "execution_count": null,
      "outputs": []
    },
    {
      "cell_type": "markdown",
      "metadata": {
        "id": "jnyl5IHYqWdb"
      },
      "source": [
        "# **MultiHeaded MLP**"
      ]
    },
    {
      "cell_type": "markdown",
      "metadata": {
        "id": "5g5pnusPqcV8"
      },
      "source": [
        "In the last notebook we flattened the time series before entering the data into the model. <br>\n",
        "Flattening the data requires will collect all the time step data, flatten the data, then use it. <br>\n"
      ]
    },
    {
      "cell_type": "markdown",
      "metadata": {
        "id": "tllUbqmnqzXS"
      },
      "source": [
        "A second method, called MultiHeaded MLPs, has a model for each input series. <br>\n",
        "Each model output is combined by another MLP to predict the output sequence."
      ]
    },
    {
      "cell_type": "code",
      "metadata": {
        "id": "winY0t5tqRI3"
      },
      "source": [
        "from IPython.display import Image\n",
        "Image(\"MultiHeaded.png\" , width=640)"
      ],
      "execution_count": null,
      "outputs": []
    },
    {
      "cell_type": "markdown",
      "metadata": {
        "id": "E6d04D-nutyd"
      },
      "source": [
        "**Define the data sequence**"
      ]
    },
    {
      "cell_type": "code",
      "metadata": {
        "id": "vQe9kE3bvn1F"
      },
      "source": [
        "in_sequence1=array([10,20,30,40,50,60,70,80,90])\n",
        "in_sequence2=array([15,25,35,45,55,65,75,85,95])\n",
        "out_seq=array([in_sequence1[i]+in_sequence2[i] \n",
        "               for i in range(len(in_sequence1))])"
      ],
      "execution_count": null,
      "outputs": []
    },
    {
      "cell_type": "code",
      "metadata": {
        "id": "rpRWINV6cqVT"
      },
      "source": [
        "out_seq"
      ],
      "execution_count": null,
      "outputs": []
    },
    {
      "cell_type": "markdown",
      "metadata": {
        "id": "5ahebBLuxbRU"
      },
      "source": [
        "Reshape the sequence"
      ]
    },
    {
      "cell_type": "code",
      "metadata": {
        "id": "-xLyHWy1w15L"
      },
      "source": [
        "in_seq1 =in_sequence1.reshape((len(in_sequence1),1))\n",
        "in_seq2 =in_sequence2.reshape((len(in_sequence2),1))\n",
        "out_seq =out_seq.reshape((len(out_seq),1))\n",
        "dataset = hstack((in_seq1, in_seq2, out_seq))"
      ],
      "execution_count": null,
      "outputs": []
    },
    {
      "cell_type": "code",
      "metadata": {
        "id": "_belfakua9kH"
      },
      "source": [
        "n_steps = 3"
      ],
      "execution_count": null,
      "outputs": []
    },
    {
      "cell_type": "markdown",
      "metadata": {
        "id": "781VHNqjblZD"
      },
      "source": [
        "**Spilt the data into two different sets, one for each input model**"
      ]
    },
    {
      "cell_type": "code",
      "metadata": {
        "id": "fg41bDIBbB6x"
      },
      "source": [
        "X, y = split_sequences(dataset, n_steps)\n",
        "X1 = X[:, :, 0]\n",
        "X2 = X[:, :, 1]"
      ],
      "execution_count": null,
      "outputs": []
    },
    {
      "cell_type": "markdown",
      "metadata": {
        "id": "FWWAED1vbyJw"
      },
      "source": [
        "**Create two input models**"
      ]
    },
    {
      "cell_type": "code",
      "metadata": {
        "id": "vgT9ibj7buuo"
      },
      "source": [
        "# first input model\n",
        "visible1 = Input(shape=(n_steps,))\n",
        "dense1 = Dense(100, activation='relu')(visible1)\n",
        "# second input model\n",
        "visible2 = Input(shape=(n_steps,))\n",
        "dense2 = Dense(100, activation='relu')(visible2)"
      ],
      "execution_count": null,
      "outputs": []
    },
    {
      "cell_type": "markdown",
      "metadata": {
        "id": "xuUhdJmrb_DE"
      },
      "source": [
        "**Merge the two input models**"
      ]
    },
    {
      "cell_type": "code",
      "metadata": {
        "id": "SNMgWbx4b_Q9"
      },
      "source": [
        "merge = concatenate([dense1, dense2])\n",
        "output = Dense(1)(merge)\n",
        "model = Model(inputs=[visible1, visible2], outputs=output) \n",
        "model.compile(optimizer='adam', loss='mse')"
      ],
      "execution_count": null,
      "outputs": []
    },
    {
      "cell_type": "markdown",
      "metadata": {
        "id": "Nub-qQK_cVOP"
      },
      "source": [
        "Train the model"
      ]
    },
    {
      "cell_type": "code",
      "metadata": {
        "id": "G_mAwY4lcVpy"
      },
      "source": [
        "model.fit([X1, X2], y, epochs=2000, verbose=0)"
      ],
      "execution_count": null,
      "outputs": []
    },
    {
      "cell_type": "markdown",
      "metadata": {
        "id": "hNkIXTo1ceEL"
      },
      "source": [
        "Make a prediction with new data"
      ]
    },
    {
      "cell_type": "code",
      "metadata": {
        "id": "xIIyXEy6ceZj"
      },
      "source": [
        "x_input = array([[80, 85], [90, 95], [100, 105]])\n",
        "x1 = x_input[:, 0].reshape((1, n_steps))\n",
        "x2 = x_input[:, 1].reshape((1, n_steps))\n",
        "yhat = model.predict([x1, x2], verbose=0)\n",
        "print(yhat)"
      ],
      "execution_count": null,
      "outputs": []
    }
  ]
}