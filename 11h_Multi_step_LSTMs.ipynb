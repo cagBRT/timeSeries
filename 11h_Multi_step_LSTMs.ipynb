{
  "nbformat": 4,
  "nbformat_minor": 0,
  "metadata": {
    "colab": {
      "name": "11h Multi-step LSTMs.ipynb",
      "private_outputs": true,
      "provenance": [],
      "authorship_tag": "ABX9TyMmRuJTxzPu/ERGt9nFDIAC",
      "include_colab_link": true
    },
    "kernelspec": {
      "name": "python3",
      "display_name": "Python 3"
    },
    "language_info": {
      "name": "python"
    }
  },
  "cells": [
    {
      "cell_type": "markdown",
      "metadata": {
        "id": "view-in-github",
        "colab_type": "text"
      },
      "source": [
        "<a href=\"https://colab.research.google.com/github/cagBRT/timeSeries/blob/main/11h_Multi_step_LSTMs.ipynb\" target=\"_parent\"><img src=\"https://colab.research.google.com/assets/colab-badge.svg\" alt=\"Open In Colab\"/></a>"
      ]
    },
    {
      "cell_type": "markdown",
      "source": [
        "# **Multi-step LSTMs**"
      ],
      "metadata": {
        "id": "x4kaj7L3xDxC"
      }
    },
    {
      "cell_type": "markdown",
      "source": [
        "A time series forecasting problem that requires a prediction of multiple time steps into the future can be referred to as multi-step time series forecasting. "
      ],
      "metadata": {
        "id": "j0vGHlAu0nDu"
      }
    },
    {
      "cell_type": "markdown",
      "source": [
        "There are two models for Multi-step LSTMs:<br>\n",
        "- Vector Output Models<br>\n",
        "- Encoder-Decoder Models"
      ],
      "metadata": {
        "id": "KYf4MkN60rYe"
      }
    },
    {
      "cell_type": "markdown",
      "source": [
        "Timeseries: <br>\n",
        "[10,20,30,40,50,60,70,80,90]<br>\n",
        "<br>\n",
        "Input:<br>\n",
        "[10,20,30]<br>\n",
        "Output:<br>\n",
        "[40,50]"
      ],
      "metadata": {
        "id": "cpoZnmOK04nP"
      }
    },
    {
      "cell_type": "code",
      "source": [
        "from numpy import array\n",
        "from keras.models import Sequential\n",
        "from keras.layers import LSTM\n",
        "from keras.layers import Dense\n",
        "from keras.utils.vis_utils import plot_model"
      ],
      "metadata": {
        "id": "TCTPu_ZX2H1Y"
      },
      "execution_count": null,
      "outputs": []
    },
    {
      "cell_type": "code",
      "source": [
        "# split a univariate sequence into samples\n",
        "def split_sequence(sequence, n_steps_in, n_steps_out):\n",
        "  X, y = list(), list()\n",
        "  for i in range(len(sequence)):\n",
        "    # find the end of this pattern\n",
        "    end_ix = i + n_steps_in\n",
        "    out_end_ix = end_ix + n_steps_out\n",
        "    # check if we are beyond the sequence\n",
        "    if out_end_ix > len(sequence):\n",
        "      break\n",
        "    # gather input and output parts of the pattern\n",
        "    seq_x, seq_y = sequence[i:end_ix], sequence[end_ix:out_end_ix]\n",
        "    X.append(seq_x)\n",
        "    y.append(seq_y)\n",
        "  return array(X), array(y)"
      ],
      "metadata": {
        "id": "F2tGkT962MjE"
      },
      "execution_count": null,
      "outputs": []
    },
    {
      "cell_type": "code",
      "source": [
        "raw_seq = [10, 25, 30, 45, 50, 65, 70, 85, 90]"
      ],
      "metadata": {
        "id": "7Gmf_l3u22No"
      },
      "execution_count": null,
      "outputs": []
    },
    {
      "cell_type": "code",
      "execution_count": null,
      "metadata": {
        "id": "yixgajBhw4RG"
      },
      "outputs": [],
      "source": [
        "# choose a number of time steps\n",
        "n_steps_in, n_steps_out = 3, 2\n",
        "# split into samples\n",
        "X, y = split_sequence(raw_seq, n_steps_in, n_steps_out)"
      ]
    },
    {
      "cell_type": "code",
      "source": [
        "# summarize the data\n",
        "for i in range(len(X)):\n",
        "  print(X[i], y[i])"
      ],
      "metadata": {
        "id": "D_2YHAB82S-r"
      },
      "execution_count": null,
      "outputs": []
    },
    {
      "cell_type": "code",
      "source": [
        "n_features = 1\n",
        "X = X.reshape((X.shape[0], X.shape[1], n_features))"
      ],
      "metadata": {
        "id": "s-fnQJnU29UO"
      },
      "execution_count": null,
      "outputs": []
    },
    {
      "cell_type": "markdown",
      "source": [
        "**Create a stacked LSTM**<br>\n",
        " Using a stacked LSTM means more complex input patterns can be described at every layer."
      ],
      "metadata": {
        "id": "zxx8q4oe-4Z6"
      }
    },
    {
      "cell_type": "code",
      "source": [
        "model = Sequential()\n",
        "model.add(LSTM(100, activation='relu', return_sequences=True, input_shape=(n_steps_in,\n",
        "n_features)))\n",
        "model.add(LSTM(100, activation='relu')) \n",
        "model.add(Dense(n_steps_out)) \n",
        "model.compile(optimizer='adam', loss='mse')\n",
        "# fit model\n",
        "model.fit(X, y, epochs=50, verbose=0)"
      ],
      "metadata": {
        "id": "vFhuPVL42_gN"
      },
      "execution_count": null,
      "outputs": []
    },
    {
      "cell_type": "code",
      "source": [
        "plot_model(model, show_shapes=True, show_layer_names=True)"
      ],
      "metadata": {
        "id": "Pq2sVOuV-w_B"
      },
      "execution_count": null,
      "outputs": []
    },
    {
      "cell_type": "markdown",
      "source": [
        "Make a prediction:<br>\n",
        "Expecting:<br>\n",
        "105,110"
      ],
      "metadata": {
        "id": "7SfqHpos4HeV"
      }
    },
    {
      "cell_type": "code",
      "source": [
        "# demonstrate prediction\n",
        "x_input = array([70, 85, 90])\n",
        "x_input = x_input.reshape((1, n_steps_in, n_features)) \n",
        "yhat = model.predict(x_input, verbose=0)\n",
        "print(yhat)"
      ],
      "metadata": {
        "id": "T-hZfJjF3CAq"
      },
      "execution_count": null,
      "outputs": []
    },
    {
      "cell_type": "markdown",
      "source": [
        "**Assignment**:<br>\n",
        "Improve the model by changing the number of neurons in the model and the number of epochs run"
      ],
      "metadata": {
        "id": "4F4o9TKuDQbF"
      }
    }
  ]
}