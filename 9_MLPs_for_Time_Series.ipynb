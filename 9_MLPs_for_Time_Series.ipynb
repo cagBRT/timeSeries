{
  "nbformat": 4,
  "nbformat_minor": 0,
  "metadata": {
    "colab": {
      "name": "9 MLPs for Time Series.ipynb",
      "private_outputs": true,
      "provenance": [],
      "authorship_tag": "ABX9TyN/2DiM89aEmag3n8NXGB4V",
      "include_colab_link": true
    },
    "kernelspec": {
      "name": "python3",
      "display_name": "Python 3"
    },
    "language_info": {
      "name": "python"
    }
  },
  "cells": [
    {
      "cell_type": "markdown",
      "metadata": {
        "id": "view-in-github",
        "colab_type": "text"
      },
      "source": [
        "<a href=\"https://colab.research.google.com/github/cagBRT/timeSeries/blob/main/9_MLPs_for_Time_Series.ipynb\" target=\"_parent\"><img src=\"https://colab.research.google.com/assets/colab-badge.svg\" alt=\"Open In Colab\"/></a>"
      ]
    },
    {
      "cell_type": "markdown",
      "metadata": {
        "id": "oB4UB9TmGxL8"
      },
      "source": [
        "# **MultiLayer Perceptrons (MLPs) can be used for time series forcasting**"
      ]
    },
    {
      "cell_type": "markdown",
      "metadata": {
        "id": "FNfdGmG_G_6I"
      },
      "source": [
        "In this notebook we look at different MLP models:<BR>\n",
        "- Univariate MLPs\n",
        "- Multivariate MLPs\n",
        "-Multi-step MLPs\n",
        "- Multivariate multi-step MLPs"
      ]
    },
    {
      "cell_type": "markdown",
      "metadata": {
        "id": "eEtYXwCtHX2H"
      },
      "source": [
        "Usually CNNs and LSTMs are used for time series forecasting, but this notebook demonstrates that MLPs can allso be used."
      ]
    },
    {
      "cell_type": "markdown",
      "metadata": {
        "id": "CpgAyGQOIASk"
      },
      "source": [
        "**Step 1:**<br>\n",
        "Prepare the data<br>\n",
        "Modify the data from 2D to 3D"
      ]
    },
    {
      "cell_type": "code",
      "metadata": {
        "id": "iM9ZMYayIccC"
      },
      "source": [
        "from numpy import array\n",
        "from keras.models import Sequential \n",
        "from keras.layers import Dense"
      ],
      "execution_count": null,
      "outputs": []
    },
    {
      "cell_type": "markdown",
      "metadata": {
        "id": "kYPR-qkZIvzP"
      },
      "source": [
        "Use the functon that splits the sequence"
      ]
    },
    {
      "cell_type": "code",
      "metadata": {
        "id": "CFEK_RVMGmjx"
      },
      "source": [
        "# split a univariate sequence into samples\n",
        "def split_sequence(sequence, n_steps): \n",
        "  X, y = list(), list()\n",
        "  for i in range(len(sequence)):\n",
        "    # find the end of this pattern\n",
        "    end_ix = i + n_steps\n",
        "    # check if we are beyond the sequence\n",
        "    if end_ix > len(sequence)-1: break\n",
        "    # gather input and output parts of the pattern\n",
        "    seq_x, seq_y = sequence[i:end_ix], sequence[end_ix] \n",
        "    X.append(seq_x)\n",
        "    y.append(seq_y)\n",
        "  return array(X), array(y)"
      ],
      "execution_count": null,
      "outputs": []
    },
    {
      "cell_type": "code",
      "metadata": {
        "id": "iMQtGzuII51j"
      },
      "source": [
        "# define input sequence\n",
        "raw_seq = [10, 20, 30, 40, 50, 60, 70, 80, 90]"
      ],
      "execution_count": null,
      "outputs": []
    },
    {
      "cell_type": "code",
      "metadata": {
        "id": "AAjVX5h9I8R4"
      },
      "source": [
        "# choose a number of time steps\n",
        "n_steps = 3"
      ],
      "execution_count": null,
      "outputs": []
    },
    {
      "cell_type": "code",
      "metadata": {
        "id": "nq92X1VXI--r"
      },
      "source": [
        "# split into samples\n",
        "X, y = split_sequence(raw_seq, n_steps)"
      ],
      "execution_count": null,
      "outputs": []
    },
    {
      "cell_type": "code",
      "metadata": {
        "id": "Ua5Ac6D5Iufe"
      },
      "source": [
        "# summarize the data\n",
        "for i in range(len(X)):\n",
        "  print(X[i], y[i])"
      ],
      "execution_count": null,
      "outputs": []
    },
    {
      "cell_type": "markdown",
      "metadata": {
        "id": "nQf0Ur1EJNDo"
      },
      "source": [
        "**Define the model**"
      ]
    },
    {
      "cell_type": "code",
      "metadata": {
        "id": "REbe9KRlJMOG"
      },
      "source": [
        "model = Sequential()\n",
        "model.add(Dense(100, activation='relu', input_dim=n_steps)) \n",
        "model.add(Dense(1))\n",
        "model.compile(optimizer='adam', loss='mse')"
      ],
      "execution_count": null,
      "outputs": []
    },
    {
      "cell_type": "markdown",
      "metadata": {
        "id": "KejauvrcJpV3"
      },
      "source": [
        "**Train the model**"
      ]
    },
    {
      "cell_type": "code",
      "metadata": {
        "id": "BcyKHjLrJoCY"
      },
      "source": [
        "model.fit(X, y, epochs=2000, verbose=0)"
      ],
      "execution_count": null,
      "outputs": []
    },
    {
      "cell_type": "markdown",
      "metadata": {
        "id": "0zeDxznVKR4U"
      },
      "source": [
        "**Make predictions with the model**<br>\n",
        "Predict the next value in the sequence if given 70,80,90"
      ]
    },
    {
      "cell_type": "code",
      "metadata": {
        "id": "usTaIIzRKPZ6"
      },
      "source": [
        "# demonstrate prediction\n",
        "x_input = array([70, 80, 90])\n",
        "x_input = x_input.reshape((1, n_steps))\n",
        "y_predict = model.predict(x_input, verbose=0)\n",
        "print(y_predict)"
      ],
      "execution_count": null,
      "outputs": []
    },
    {
      "cell_type": "markdown",
      "metadata": {
        "id": "UmhHe9V5KtnS"
      },
      "source": [
        "**Assignment**<br>\n",
        "- Prepare the data below for an MLP<br>\n",
        "- Create an MLP\n",
        "- Train it\n",
        "- Make predictions with it"
      ]
    },
    {
      "cell_type": "code",
      "metadata": {
        "id": "-zUr-8dNK3Et"
      },
      "source": [
        "import numpy as np\n",
        "randomSeries = np.random.randint(0,100, size=500)\n",
        "print(randomSeries.shape)"
      ],
      "execution_count": null,
      "outputs": []
    },
    {
      "cell_type": "markdown",
      "metadata": {
        "id": "73iGs3c5LXGd"
      },
      "source": [
        "**Assignment 2**<br>\n",
        "Change the size of the original sequence, what effect does this have on the predictions"
      ]
    }
  ]
}