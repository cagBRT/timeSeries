{
  "nbformat": 4,
  "nbformat_minor": 0,
  "metadata": {
    "colab": {
      "name": "4b: TimeSeriesAnalysis.ipynb",
      "private_outputs": true,
      "provenance": [],
      "authorship_tag": "ABX9TyMYQ5vQTmqsv9KINpYuajJB",
      "include_colab_link": true
    },
    "kernelspec": {
      "name": "python3",
      "display_name": "Python 3"
    }
  },
  "cells": [
    {
      "cell_type": "markdown",
      "metadata": {
        "id": "view-in-github",
        "colab_type": "text"
      },
      "source": [
        "<a href=\"https://colab.research.google.com/github/cagBRT/timeSeries/blob/main/4b_TimeSeriesAnalysis.ipynb\" target=\"_parent\"><img src=\"https://colab.research.google.com/assets/colab-badge.svg\" alt=\"Open In Colab\"/></a>"
      ]
    },
    {
      "cell_type": "code",
      "metadata": {
        "id": "2mM__oJ-x1a0"
      },
      "source": [
        "!git clone -l -s https://github.com/cagBRT/timeSeries.git cloned-repo\n",
        "%cd cloned-repo"
      ],
      "execution_count": null,
      "outputs": []
    },
    {
      "cell_type": "code",
      "metadata": {
        "id": "xCM0GyQIydSv"
      },
      "source": [
        "import pandas as pd\n",
        "import numpy as np\n",
        "import matplotlib.pyplot as plt\n"
      ],
      "execution_count": null,
      "outputs": []
    },
    {
      "cell_type": "markdown",
      "metadata": {
        "id": "0zIU2SkZy8j_"
      },
      "source": [
        "# **Detrending a time series**"
      ]
    },
    {
      "cell_type": "markdown",
      "metadata": {
        "id": "weBmEHFTw9nY"
      },
      "source": [
        "Detrending a time series is to remove the trend component from a time series"
      ]
    },
    {
      "cell_type": "markdown",
      "metadata": {
        "id": "jGBw5w1zxRwP"
      },
      "source": [
        "There are several approaches to de-trending a time series:<br>\n",
        "\n",
        "1. Subtract the line of best fit from the time series. <br>\n",
        "2. Subtract the trend component obtained from time series decomposition we saw earlier..<br>\n",
        "\n",
        "3. Subtract the mean\n",
        "\n",
        "4. Apply a filter like Baxter-King filter(statsmodels.tsa.filters.bkfilter) or the Hodrick-Prescott Filter (statsmodels.tsa.filters.hpfilter) to remove the moving average trend lines or the cyclical components."
      ]
    },
    {
      "cell_type": "markdown",
      "metadata": {
        "id": "_COZXbmZxqoA"
      },
      "source": [
        "**Subtract the line of best fit from the time series**<br>\n",
        " The line of best fit may be obtained from a linear regression model with the time steps as the predictor. For more complex trends, you may want to use quadratic terms (x^2)"
      ]
    },
    {
      "cell_type": "code",
      "metadata": {
        "id": "kd8KSBGmwyhU"
      },
      "source": [
        "# Using scipy: Subtract the line of best fit\n",
        "from scipy import signal\n",
        "df = pd.read_csv('timeSeriesExample.csv', parse_dates=['date'])\n",
        "detrended = signal.detrend(df.value.values)\n",
        "plt.plot(detrended)\n",
        "plt.title('Drug Sales detrended by subtracting the least squares fit', fontsize=16)"
      ],
      "execution_count": null,
      "outputs": []
    },
    {
      "cell_type": "code",
      "metadata": {
        "id": "mrECl-ksyuPd"
      },
      "source": [
        "# Using statmodels: Subtracting the Trend Component.\n",
        "from statsmodels.tsa.seasonal import seasonal_decompose\n",
        "df = pd.read_csv('timeSeriesExample.csv', parse_dates=['date'], index_col='date')\n",
        "result_mul = seasonal_decompose(df['value'], model='multiplicative', extrapolate_trend='freq')\n",
        "detrended = df.value.values - result_mul.trend\n",
        "plt.plot(detrended)\n",
        "plt.title('Drug Sales detrended by subtracting the trend component', fontsize=16)"
      ],
      "execution_count": null,
      "outputs": []
    },
    {
      "cell_type": "markdown",
      "metadata": {
        "id": "wy_5QcdKy16I"
      },
      "source": [
        "# **Deseasonalize a time series**"
      ]
    },
    {
      "cell_type": "markdown",
      "metadata": {
        "id": "ff5WpoltzDn0"
      },
      "source": [
        "1. Take a moving average with length as the seasonal window. This will smoothen in series in the process.\n",
        "\n",
        "2. Seasonal difference the series (subtract the value of previous season from the current value)\n",
        "\n",
        "3. Divide the series by the seasonal index obtained from STL decomposition\n",
        ">If dividing by the seasonal index does not work well, try taking a log of the series and then do the deseasonalizing. You can later restore to the original scale by taking an exponential.\n"
      ]
    },
    {
      "cell_type": "code",
      "metadata": {
        "id": "LrcZA_3ZzUhn"
      },
      "source": [
        "# Subtracting the Trend Component.\n",
        "df = pd.read_csv('timeSeriesExample.csv', parse_dates=['date'], index_col='date')\n",
        "\n",
        "# Time Series Decomposition\n",
        "result_mul = seasonal_decompose(df['value'], model='multiplicative', extrapolate_trend='freq')\n",
        "\n",
        "# Deseasonalize\n",
        "deseasonalized = df.value.values / result_mul.seasonal\n",
        "\n",
        "# Plot\n",
        "plt.plot(deseasonalized)\n",
        "plt.title('Drug Sales Deseasonalized', fontsize=16)\n",
        "plt.plot()"
      ],
      "execution_count": null,
      "outputs": []
    },
    {
      "cell_type": "code",
      "metadata": {
        "id": "zgg6wjA5zB_X"
      },
      "source": [
        ""
      ],
      "execution_count": null,
      "outputs": []
    }
  ]
}