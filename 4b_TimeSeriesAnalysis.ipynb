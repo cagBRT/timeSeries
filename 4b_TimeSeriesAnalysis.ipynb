{
  "nbformat": 4,
  "nbformat_minor": 0,
  "metadata": {
    "colab": {
      "name": "4b: TimeSeriesAnalysis.ipynb",
      "private_outputs": true,
      "provenance": [],
      "authorship_tag": "ABX9TyMfN6ZAa3F1Mya/3se4Dyv2",
      "include_colab_link": true
    },
    "kernelspec": {
      "name": "python3",
      "display_name": "Python 3"
    }
  },
  "cells": [
    {
      "cell_type": "markdown",
      "metadata": {
        "id": "view-in-github",
        "colab_type": "text"
      },
      "source": [
        "<a href=\"https://colab.research.google.com/github/cagBRT/timeSeries/blob/main/4b_TimeSeriesAnalysis.ipynb\" target=\"_parent\"><img src=\"https://colab.research.google.com/assets/colab-badge.svg\" alt=\"Open In Colab\"/></a>"
      ]
    },
    {
      "cell_type": "code",
      "metadata": {
        "id": "2mM__oJ-x1a0"
      },
      "source": [
        "!git clone -l -s https://github.com/cagBRT/timeSeries.git cloned-repo\n",
        "%cd cloned-repo"
      ],
      "execution_count": null,
      "outputs": []
    },
    {
      "cell_type": "code",
      "metadata": {
        "id": "xCM0GyQIydSv"
      },
      "source": [
        "import pandas as pd\n",
        "import numpy as np\n",
        "import matplotlib.pyplot as plt\n",
        "from scipy import signal\n",
        "from statsmodels.tsa.seasonal import seasonal_decompose"
      ],
      "execution_count": null,
      "outputs": []
    },
    {
      "cell_type": "markdown",
      "metadata": {
        "id": "0zIU2SkZy8j_"
      },
      "source": [
        "# **Detrending a time series**"
      ]
    },
    {
      "cell_type": "markdown",
      "metadata": {
        "id": "weBmEHFTw9nY"
      },
      "source": [
        "Detrending a time series is to remove the trend component from a time series"
      ]
    },
    {
      "cell_type": "markdown",
      "metadata": {
        "id": "AidlPXcHdqum"
      },
      "source": [
        "The key point is that when removing trend, seasonality or noise, we don't just delete information. We take that information apart in order to analyze separately each part of the behaviour. <br>\n",
        "For example, if we are interested in seasonal effects, we still have the seasonal variation we have removed, isolated from other components.\n",
        "\n",
        "When we remove seasonality and trend, we can tell what is the effect of the trend, what is the effect of the seasons, and what is the effect that isn't accounted for by season nor trend and that should reveal another - hopefully interesting - phenomenon."
      ]
    },
    {
      "cell_type": "markdown",
      "metadata": {
        "id": "jGBw5w1zxRwP"
      },
      "source": [
        "There are several approaches to de-trending a time series:<br>\n",
        "\n",
        "1. Subtract the line of best fit from the time series. <br>\n",
        "2. Subtract the trend component obtained from time series decomposition we saw earlier..<br>\n",
        "\n",
        "3. Subtract the mean\n",
        "\n",
        "4. Apply a filter like Baxter-King filter(statsmodels.tsa.filters.bkfilter) or the Hodrick-Prescott Filter (statsmodels.tsa.filters.hpfilter) to remove the moving average trend lines or the cyclical components."
      ]
    },
    {
      "cell_type": "markdown",
      "metadata": {
        "id": "4pwP4Fc4johh"
      },
      "source": [
        "**Detrend Simple Example**"
      ]
    },
    {
      "cell_type": "markdown",
      "metadata": {
        "id": "ZVALMmDEgnIa"
      },
      "source": [
        "Create a random signal"
      ]
    },
    {
      "cell_type": "code",
      "metadata": {
        "id": "xZ7NvKDkfq28"
      },
      "source": [
        "t = np.linspace(0,5,100)\n",
        "x = t + np.random.normal(size=100)"
      ],
      "execution_count": null,
      "outputs": []
    },
    {
      "cell_type": "markdown",
      "metadata": {
        "id": "0JOOPz0RgqVw"
      },
      "source": [
        "Detrend the signal"
      ]
    },
    {
      "cell_type": "code",
      "metadata": {
        "id": "NbcGJTahgqiR"
      },
      "source": [
        "x_detrended=signal.detrend(x)"
      ],
      "execution_count": null,
      "outputs": []
    },
    {
      "cell_type": "markdown",
      "metadata": {
        "id": "uasSOo0dg1mF"
      },
      "source": [
        "Plot the signal and the detrended signal"
      ]
    },
    {
      "cell_type": "code",
      "metadata": {
        "id": "3BmgGs_igylx"
      },
      "source": [
        "plt.figure(figsize=(5, 4))\n",
        "plt.plot(t, x, label=\"x\")\n",
        "plt.plot(t, x_detrended, label=\"x_detrended\")\n",
        "plt.legend(loc='best')\n",
        "plt.show()"
      ],
      "execution_count": null,
      "outputs": []
    },
    {
      "cell_type": "markdown",
      "metadata": {
        "id": "_COZXbmZxqoA"
      },
      "source": [
        "**Subtract the line of best fit from the time series**<br>\n",
        " The line of best fit may be obtained from a linear regression model with the time steps as the predictor. For more complex trends, you may want to use quadratic terms (x^2)"
      ]
    },
    {
      "cell_type": "code",
      "metadata": {
        "id": "cuWQCg1bjE7n"
      },
      "source": [
        "df = pd.read_csv('timeSeriesExample.csv', parse_dates=['date'], index_col='date')\n",
        "df.head()"
      ],
      "execution_count": null,
      "outputs": []
    },
    {
      "cell_type": "markdown",
      "metadata": {
        "id": "-0meENKCDyOv"
      },
      "source": [
        "**Plot the series**<br>\n",
        "The series has a trend, so we can detrend this series"
      ]
    },
    {
      "cell_type": "code",
      "metadata": {
        "id": "FfSe-F0Ijj0o"
      },
      "source": [
        "plt.plot(df)\n",
        "plt.title('Drug Sales', fontsize=16)\n",
        "plt.show()"
      ],
      "execution_count": null,
      "outputs": []
    },
    {
      "cell_type": "markdown",
      "metadata": {
        "id": "94fOyr04D60T"
      },
      "source": [
        "**Subtract the line of best fit using sgnal.detrend**"
      ]
    },
    {
      "cell_type": "code",
      "metadata": {
        "id": "kd8KSBGmwyhU"
      },
      "source": [
        "# Using scipy: Subtract the line of best fit\n",
        "detrended = signal.detrend(df.value.values)\n",
        "plt.plot(detrended)\n",
        "plt.title('Drug Sales detrended by subtracting the least squares fit', fontsize=16)\n",
        "plt.show()"
      ],
      "execution_count": null,
      "outputs": []
    },
    {
      "cell_type": "markdown",
      "metadata": {
        "id": "SQ3vK_jGlq9f"
      },
      "source": [
        "**Using statmodels: Subtracting the Trend Component**"
      ]
    },
    {
      "cell_type": "code",
      "metadata": {
        "id": "mrECl-ksyuPd"
      },
      "source": [
        "#Decompose the series df uisng the multiplicative method\n",
        "result_mul = seasonal_decompose(df['value'], model='multiplicative', extrapolate_trend='freq')\n",
        "detrended = df.value.values - result_mul.trend\n",
        "plt.plot(detrended)\n",
        "plt.title('Drug Sales detrended by subtracting the trend component', fontsize=16)"
      ],
      "execution_count": null,
      "outputs": []
    },
    {
      "cell_type": "markdown",
      "metadata": {
        "id": "HgfCPtsvmArJ"
      },
      "source": [
        "**Detrend Assignment**<br>\n",
        "Detrend the time series in file shampoo.csv"
      ]
    },
    {
      "cell_type": "code",
      "metadata": {
        "id": "bM3q0VD0ndhA"
      },
      "source": [
        "#Detrend Assignment"
      ],
      "execution_count": null,
      "outputs": []
    },
    {
      "cell_type": "code",
      "metadata": {
        "id": "cZMGz8Tomej8",
        "cellView": "form"
      },
      "source": [
        "#@title\n",
        "#!cat shampoo.csv\n",
        "shampoo = pd.read_csv('shampoo.csv', parse_dates=['Month'], index_col='Month')\n",
        "shampoo.head()\n",
        "\n",
        "plt.plot(shampoo)\n",
        "plt.title('Shampoo Sales', fontsize=16)\n",
        "plt.show()\n",
        "\n",
        "#Decompose the series df uisng the multiplicative method\n",
        "result_mul = seasonal_decompose(shampoo['Sales'], model='multiplicative', \n",
        "                                freq=12,extrapolate_trend='freq')\n",
        "detrended = shampoo.Sales - result_mul.trend\n",
        "plt.plot(detrended)\n",
        "plt.title('Shampoo Sales detrended by subtracting the trend component', \n",
        "          fontsize=16)\n",
        "plt.show()"
      ],
      "execution_count": null,
      "outputs": []
    },
    {
      "cell_type": "markdown",
      "metadata": {
        "id": "wy_5QcdKy16I"
      },
      "source": [
        "# **Deseasonalize a time series**"
      ]
    },
    {
      "cell_type": "markdown",
      "metadata": {
        "id": "ff5WpoltzDn0"
      },
      "source": [
        "1. Take a moving average with length as the seasonal window. This will smoothen in series in the process.\n",
        "\n",
        "2. Seasonal difference the series (subtract the value of previous season from the current value)\n",
        "\n",
        "3. Divide the series by the seasonal index obtained from STL decomposition\n",
        ">If dividing by the seasonal index does not work well, try taking a log of the series and then do the deseasonalizing. You can later restore to the original scale by taking an exponential.\n"
      ]
    },
    {
      "cell_type": "markdown",
      "metadata": {
        "id": "yGrN_lBIEVGK"
      },
      "source": [
        "**Get the time series data**"
      ]
    },
    {
      "cell_type": "code",
      "metadata": {
        "id": "0MxBZ9Hzofml"
      },
      "source": [
        "df = pd.read_csv('timeSeriesExample.csv', parse_dates=['date'], index_col='date')"
      ],
      "execution_count": null,
      "outputs": []
    },
    {
      "cell_type": "markdown",
      "metadata": {
        "id": "tBJpWwi8oq8G"
      },
      "source": [
        "**DeSeasonalize**<br>\n",
        "To deseasonalize, divide by the seasonal_decompose the instead of subtracting"
      ]
    },
    {
      "cell_type": "code",
      "metadata": {
        "id": "LrcZA_3ZzUhn"
      },
      "source": [
        "# Time Series Decomposition\n",
        "result_mul = seasonal_decompose(df['value'], model='multiplicative', extrapolate_trend='freq')\n",
        "detrended = df.value.values / result_mul.trend\n",
        "\n",
        "plt.plot(df)\n",
        "plt.title('Drug Sales', fontsize=16)\n",
        "plt.show()\n",
        "\n",
        "# Plot\n",
        "plt.plot(deseasonalized)\n",
        "plt.title('Drug Sales Deseasonalized', fontsize=16)\n",
        "plt.plot()"
      ],
      "execution_count": null,
      "outputs": []
    },
    {
      "cell_type": "markdown",
      "metadata": {
        "id": "X1ZBZ6GvpP9j"
      },
      "source": [
        "**Deseasonalize Assignment**<br>\n",
        "Deseasonalize the time series in file shampoo.csv"
      ]
    },
    {
      "cell_type": "code",
      "metadata": {
        "id": "57G1TpQsGP8I"
      },
      "source": [
        "#Assignment"
      ],
      "execution_count": null,
      "outputs": []
    },
    {
      "cell_type": "code",
      "metadata": {
        "cellView": "form",
        "id": "SQyLUek7pTiy"
      },
      "source": [
        "#@title \n",
        "shampoo = pd.read_csv('shampoo.csv', parse_dates=['Month'], index_col='Month')\n",
        "result_mul = seasonal_decompose(shampoo['Sales'], model='multiplicative', \n",
        "                                freq=12, extrapolate_trend='freq')\n",
        "deseasonalized = shampoo.Sales / result_mul.trend\n",
        "\n",
        "plt.plot(shampoo)\n",
        "plt.title('Shampoo Sales', fontsize=16)\n",
        "plt.show()\n",
        "\n",
        "# Plot\n",
        "plt.plot(deseasonalized)\n",
        "plt.title('Shampoo Sales Deseasonalized', fontsize=16)\n",
        "plt.plot()"
      ],
      "execution_count": null,
      "outputs": []
    }
  ]
}