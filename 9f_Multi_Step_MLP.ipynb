{
  "nbformat": 4,
  "nbformat_minor": 0,
  "metadata": {
    "colab": {
      "name": "9f Multi Step MLP.ipynb",
      "private_outputs": true,
      "provenance": [],
      "authorship_tag": "ABX9TyNQpx45JnDdz9kWp7IgAfHT",
      "include_colab_link": true
    },
    "kernelspec": {
      "name": "python3",
      "display_name": "Python 3"
    },
    "language_info": {
      "name": "python"
    }
  },
  "cells": [
    {
      "cell_type": "markdown",
      "metadata": {
        "id": "view-in-github",
        "colab_type": "text"
      },
      "source": [
        "<a href=\"https://colab.research.google.com/github/cagBRT/timeSeries/blob/main/9f_Multi_Step_MLP.ipynb\" target=\"_parent\"><img src=\"https://colab.research.google.com/assets/colab-badge.svg\" alt=\"Open In Colab\"/></a>"
      ]
    },
    {
      "cell_type": "markdown",
      "metadata": {
        "id": "8A0tZcQ7-EU1"
      },
      "source": [
        "# **Multi-Step MLP**"
      ]
    },
    {
      "cell_type": "markdown",
      "metadata": {
        "id": "P0tNVQhP-LJJ"
      },
      "source": [
        "There is little difference to the MLP model in predicting a vector output that represents different output variables or a vector output that represents multiple time steps of one variable. <br>\n",
        "\n",
        "There are subtle and important differences in the way the training data is prepared."
      ]
    },
    {
      "cell_type": "markdown",
      "metadata": {
        "id": "Rw3wPK0IAO1c"
      },
      "source": [
        "Note the difference in the split sequence function below"
      ]
    },
    {
      "cell_type": "code",
      "metadata": {
        "id": "f5ez-rlHzTZ_"
      },
      "source": [
        "#Not the same split_sequences as previous notebooks\n",
        "def split_sequence(sequence, n_steps_in, n_steps_out): \n",
        "  X, y = list(), list()\n",
        "  for i in range(len(sequence)):\n",
        "    # find the end of this pattern\n",
        "    end_ix = i + n_steps_in\n",
        "    out_end_ix = end_ix + n_steps_out\n",
        "    # check if we are beyond the sequence \n",
        "    if out_end_ix > len(sequence):\n",
        "      break\n",
        "    # gather input and output parts of the pattern\n",
        "    seq_x, seq_y = sequence[i:end_ix], sequence[end_ix:out_end_ix] \n",
        "    X.append(seq_x)\n",
        "    y.append(seq_y)\n",
        "  return array(X), array(y)"
      ],
      "execution_count": null,
      "outputs": []
    },
    {
      "cell_type": "code",
      "metadata": {
        "id": "sWssJa82sms7"
      },
      "source": [
        "from numpy import array\n",
        "from keras.models import Sequential \n",
        "\n",
        "from keras.layers import Dense"
      ],
      "execution_count": null,
      "outputs": []
    },
    {
      "cell_type": "markdown",
      "metadata": {
        "id": "079djENnAVlt"
      },
      "source": [
        "**The data is split into inpit and output time steps**"
      ]
    },
    {
      "cell_type": "code",
      "metadata": {
        "id": "Q_8_8lAc-4eI"
      },
      "source": [
        "raw_seq = [10, 20, 30, 40, 50, 60, 70, 80, 90]\n",
        "# choose a number of time steps\n",
        "n_steps_in, n_steps_out = 3, 2\n",
        "# split into samples\n",
        "X, y = split_sequence(raw_seq, n_steps_in, n_steps_out)\n",
        "# summarize the data\n",
        "for i in range(len(X)):\n",
        "  print(X[i], y[i])"
      ],
      "execution_count": null,
      "outputs": []
    },
    {
      "cell_type": "markdown",
      "metadata": {
        "id": "KQTvoItIAk3z"
      },
      "source": [
        "**The MLP can output a vector directly that can be interpreted as a multi-step forecast**"
      ]
    },
    {
      "cell_type": "code",
      "metadata": {
        "id": "bqYi6kYbAt_e"
      },
      "source": [
        "model = Sequential()\n",
        "model.add(Dense(100, activation='relu', input_dim=n_steps_in)) \n",
        "model.add(Dense(n_steps_out))\n",
        "model.compile(optimizer='adam', loss='mse')"
      ],
      "execution_count": null,
      "outputs": []
    },
    {
      "cell_type": "code",
      "metadata": {
        "id": "sMuZXvtdA_1U"
      },
      "source": [
        "model.fit(X, y, epochs=2000, verbose=0)"
      ],
      "execution_count": null,
      "outputs": []
    },
    {
      "cell_type": "code",
      "metadata": {
        "id": "3VeMTtvnBFTm"
      },
      "source": [
        "x_input = array([70, 80, 90])\n",
        "x_input = x_input.reshape((1, n_steps_in))\n",
        "yhat = model.predict(x_input, verbose=0)\n",
        "print(yhat)"
      ],
      "execution_count": null,
      "outputs": []
    }
  ]
}