{
  "nbformat": 4,
  "nbformat_minor": 0,
  "metadata": {
    "colab": {
      "name": "11g Multiple Parallel Series.ipynb",
      "private_outputs": true,
      "provenance": [],
      "authorship_tag": "ABX9TyOQKo1cwqxFAb5+62E+2M3W",
      "include_colab_link": true
    },
    "kernelspec": {
      "name": "python3",
      "display_name": "Python 3"
    },
    "language_info": {
      "name": "python"
    }
  },
  "cells": [
    {
      "cell_type": "markdown",
      "metadata": {
        "id": "view-in-github",
        "colab_type": "text"
      },
      "source": [
        "<a href=\"https://colab.research.google.com/github/cagBRT/timeSeries/blob/main/11g_Multiple_Parallel_Series.ipynb\" target=\"_parent\"><img src=\"https://colab.research.google.com/assets/colab-badge.svg\" alt=\"Open In Colab\"/></a>"
      ]
    },
    {
      "cell_type": "markdown",
      "source": [
        "# **Multiple Parallel Series**"
      ],
      "metadata": {
        "id": "5YG1qR-PuaVx"
      }
    },
    {
      "cell_type": "markdown",
      "source": [
        "Use this model when there are multiple parallel time series and you must predict a value for each."
      ],
      "metadata": {
        "id": "ow6HXNgWugPT"
      }
    },
    {
      "cell_type": "markdown",
      "source": [
        "For example:<br>\n",
        "For this time series<br>\n",
        "[[10,15,25]<br>\n",
        "[20,25,45]<br>\n",
        "[30,35,65]<br>\n",
        "[40,45,85]<br>\n",
        "[50,55,105]<br>\n",
        "[60,65,125]<br>\n",
        "[70,75,145]<br>\n",
        "[80,85,165]<br>\n",
        "[90,95,185]<br>\n",
        "<br>\n",
        "Input:<br>\n",
        "10,15,25<br>\n",
        "20,25,45<br>\n",
        "30,35,65<br><br>\n",
        "Output:<br>\n",
        "40,445,85\n",
        "\n"
      ],
      "metadata": {
        "id": "1od2t_MXus9o"
      }
    },
    {
      "cell_type": "code",
      "source": [
        "from numpy import array\n",
        "from numpy import hstack\n",
        "from keras.models import Sequential\n",
        "from keras.layers import LSTM\n",
        "from keras.layers import Dense"
      ],
      "metadata": {
        "id": "MJjY1R-ZvrMQ"
      },
      "execution_count": null,
      "outputs": []
    },
    {
      "cell_type": "code",
      "execution_count": null,
      "metadata": {
        "id": "NNXiUYWmuSpO"
      },
      "outputs": [],
      "source": [
        "# split a multivariate sequence into samples\n",
        "def split_sequences(sequences, n_steps):\n",
        "  X, y = list(), list()\n",
        "  for i in range(len(sequences)):\n",
        "    # find the end of this pattern\n",
        "    end_ix = i + n_steps\n",
        "    # check if we are beyond the dataset\n",
        "    if end_ix > len(sequences)-1:\n",
        "     break\n",
        "    # gather input and output parts of the pattern\n",
        "    seq_x, seq_y = sequences[i:end_ix, :], sequences[end_ix, :]\n",
        "    X.append(seq_x)\n",
        "    y.append(seq_y)\n",
        "  return array(X), array(y)"
      ]
    },
    {
      "cell_type": "code",
      "source": [
        "# define input sequence\n",
        "in_seq1 = array([10, 20, 30, 40, 50, 60, 70, 80, 90])\n",
        "in_seq2 = array([15, 25, 35, 45, 55, 65, 75, 85, 95])\n",
        "out_seq = array([in_seq1[i]-(in_seq2[i]*2) for i in range(len(in_seq1))])"
      ],
      "metadata": {
        "id": "boZzVf6jvw8u"
      },
      "execution_count": null,
      "outputs": []
    },
    {
      "cell_type": "code",
      "source": [
        "# convert to [rows, columns] structure\n",
        "in_seq1 = in_seq1.reshape((len(in_seq1), 1))\n",
        "in_seq2 = in_seq2.reshape((len(in_seq2), 1))\n",
        "out_seq = out_seq.reshape((len(out_seq), 1))"
      ],
      "metadata": {
        "id": "SrNFIe3jv4va"
      },
      "execution_count": null,
      "outputs": []
    },
    {
      "cell_type": "code",
      "source": [
        "dataset = hstack((in_seq1, in_seq2, out_seq))"
      ],
      "metadata": {
        "id": "uNZXVOkHv7t4"
      },
      "execution_count": null,
      "outputs": []
    },
    {
      "cell_type": "code",
      "source": [
        "# choose a number of time steps\n",
        "n_steps = 3\n",
        "# convert into input/output\n",
        "X, y = split_sequences(dataset, n_steps)\n",
        "print(X.shape, y.shape)"
      ],
      "metadata": {
        "id": "dyCrmoyRvlIP"
      },
      "execution_count": null,
      "outputs": []
    },
    {
      "cell_type": "code",
      "source": [
        "# summarize the data\n",
        "for i in range(len(X)):\n",
        "  print(X[i], y[i])"
      ],
      "metadata": {
        "id": "CokHpAvwv_U4"
      },
      "execution_count": null,
      "outputs": []
    },
    {
      "cell_type": "code",
      "source": [
        "n_features = X.shape[2]"
      ],
      "metadata": {
        "id": "MixF6EEMwJjE"
      },
      "execution_count": null,
      "outputs": []
    },
    {
      "cell_type": "code",
      "source": [
        "model = Sequential()\n",
        "model.add(LSTM(100, activation='relu', return_sequences=True, input_shape=(n_steps,\n",
        "n_features)))\n",
        "model.add(LSTM(100, activation='relu')) \n",
        "model.add(Dense(n_features)) \n",
        "model.compile(optimizer='adam', loss='mse')"
      ],
      "metadata": {
        "id": "jqd5C_dpwdCu"
      },
      "execution_count": null,
      "outputs": []
    },
    {
      "cell_type": "code",
      "source": [
        "# fit model\n",
        "model.fit(X, y, epochs=400, verbose=0)"
      ],
      "metadata": {
        "id": "p_NXthYFwfHg"
      },
      "execution_count": null,
      "outputs": []
    },
    {
      "cell_type": "code",
      "source": [
        "# demonstrate prediction\n",
        "x_input = array([[70,75,-80], [80,85,-90], [90,95,-100]]) \n",
        "x_input = x_input.reshape((1, n_steps, n_features))\n",
        "yhat = model.predict(x_input, verbose=0)\n",
        "print(yhat)"
      ],
      "metadata": {
        "id": "8q72tVgRwC4p"
      },
      "execution_count": null,
      "outputs": []
    }
  ]
}