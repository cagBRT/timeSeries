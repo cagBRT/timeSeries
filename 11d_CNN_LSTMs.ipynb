{
  "nbformat": 4,
  "nbformat_minor": 0,
  "metadata": {
    "colab": {
      "name": "11d CNN-LSTMs.ipynb",
      "private_outputs": true,
      "provenance": [],
      "authorship_tag": "ABX9TyPLuECUKyQhkkKzsoBkvOGK",
      "include_colab_link": true
    },
    "kernelspec": {
      "name": "python3",
      "display_name": "Python 3"
    },
    "language_info": {
      "name": "python"
    }
  },
  "cells": [
    {
      "cell_type": "markdown",
      "metadata": {
        "id": "view-in-github",
        "colab_type": "text"
      },
      "source": [
        "<a href=\"https://colab.research.google.com/github/cagBRT/timeSeries/blob/main/11d_CNN_LSTMs.ipynb\" target=\"_parent\"><img src=\"https://colab.research.google.com/assets/colab-badge.svg\" alt=\"Open In Colab\"/></a>"
      ]
    },
    {
      "cell_type": "markdown",
      "source": [
        "# **CNN-LSTMs**"
      ],
      "metadata": {
        "id": "-CGtwKtswaPt"
      }
    },
    {
      "cell_type": "markdown",
      "source": [
        "A CNN model can be used in a hybrid model with an LSTM backend where the <br>\n",
        "- CNN is used to interpret subsequences of input that<br>\n",
        "- are provided as a sequence to an LSTM model to interpret. <br><br>\n",
        "\n",
        "**This hybrid model is called a CNN-LSTM**\n",
        "\n"
      ],
      "metadata": {
        "id": "6UIU0KbHv-SD"
      }
    },
    {
      "cell_type": "markdown",
      "source": [
        "Combining the advantages of convolutional neural networks \n",
        "- (CNN) that can extract effective features from the data, and \n",
        "- long short-term memory (LSTM) which can not only find the interdependence of data in time series data, but also automatically detect the best mode suitable for relevant data, \n",
        "\n",
        "this method can effectively improve the accuracy of stock price forecasting.<br>\n",
        "[Hindawi](https://www.hindawi.com/journals/complexity/2020/6622927/)"
      ],
      "metadata": {
        "id": "oviJQd9qwwDW"
      }
    },
    {
      "cell_type": "code",
      "execution_count": null,
      "metadata": {
        "id": "7P4pBCFMvx7R"
      },
      "outputs": [],
      "source": [
        "from numpy import array\n",
        "from keras.models import Sequential\n",
        "from keras.layers import LSTM\n",
        "from keras.layers import Dense\n",
        "from keras.layers import Flatten\n",
        "from keras.layers import TimeDistributed\n",
        "from keras.layers.convolutional import Conv1D\n",
        "from keras.layers.convolutional import MaxPooling1D\n",
        "from keras.utils.vis_utils import plot_model"
      ]
    },
    {
      "cell_type": "code",
      "source": [
        "def split_sequence(sequence, n_steps):\n",
        "  X, y = list(), list()\n",
        "  for i in range(len(sequence)):\n",
        "    # find the end of this pattern\n",
        "    end_ix = i + n_steps\n",
        "    # check if we are beyond the sequence\n",
        "    if end_ix > len(sequence)-1:\n",
        "     break\n",
        "    # gather input and output parts of the pattern\n",
        "    seq_x, seq_y = sequence[i:end_ix], sequence[end_ix]\n",
        "    X.append(seq_x)\n",
        "    y.append(seq_y)\n",
        "  return array(X), array(y)\n"
      ],
      "metadata": {
        "id": "kAGNSn1zxRdj"
      },
      "execution_count": null,
      "outputs": []
    },
    {
      "cell_type": "code",
      "source": [
        "raw_seq = [10, 20, 30, 40, 50, 60, 70, 80, 90]"
      ],
      "metadata": {
        "id": "jLizV1Umxcmy"
      },
      "execution_count": null,
      "outputs": []
    },
    {
      "cell_type": "code",
      "source": [
        "n_steps = 4\n",
        "# split into samples\n",
        "X, y = split_sequence(raw_seq, n_steps)\n",
        "# reshape from [samples, timesteps] into [samples, subsequences, timesteps, features]\n",
        "n_features = 1\n",
        "n_seq = 2\n",
        "n_steps = 2\n",
        "X = X.reshape((X.shape[0], n_seq, n_steps, n_features))"
      ],
      "metadata": {
        "id": "L5yoMe61xu0E"
      },
      "execution_count": null,
      "outputs": []
    },
    {
      "cell_type": "code",
      "source": [
        "model = Sequential()\n",
        "model.add(TimeDistributed(Conv1D(64, 1, activation='relu'), input_shape=(None, n_steps,\n",
        "n_features))) \n",
        "model.add(TimeDistributed(MaxPooling1D())) \n",
        "model.add(TimeDistributed(Flatten())) \n",
        "model.add(LSTM(50, activation='relu')) \n",
        "model.add(Dense(1)) \n",
        "model.compile(optimizer='adam', loss='mse')"
      ],
      "metadata": {
        "id": "uhxfDW_2xxvy"
      },
      "execution_count": null,
      "outputs": []
    },
    {
      "cell_type": "code",
      "source": [
        "plot_model(model, show_shapes=True, show_layer_names=True)"
      ],
      "metadata": {
        "id": "SxHhnkt0yKtT"
      },
      "execution_count": null,
      "outputs": []
    },
    {
      "cell_type": "code",
      "source": [
        "model.fit(X, y, epochs=500, verbose=0)"
      ],
      "metadata": {
        "id": "HF-i9uKfx9rz"
      },
      "execution_count": null,
      "outputs": []
    },
    {
      "cell_type": "markdown",
      "source": [
        "**Make prediction**<br>\n",
        "We are expecting 100"
      ],
      "metadata": {
        "id": "KDUjgF5ryPAh"
      }
    },
    {
      "cell_type": "code",
      "source": [
        "x_input = array([60, 70, 80, 90])\n",
        "x_input = x_input.reshape((1, n_seq, n_steps, n_features))\n",
        "yhat = model.predict(x_input, verbose=0)\n",
        "print(yhat)"
      ],
      "metadata": {
        "id": "P9YHezwcyA4g"
      },
      "execution_count": null,
      "outputs": []
    },
    {
      "cell_type": "markdown",
      "source": [
        ""
      ],
      "metadata": {
        "id": "JSbnhG9kyOA1"
      }
    }
  ]
}