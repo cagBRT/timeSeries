{
  "nbformat": 4,
  "nbformat_minor": 0,
  "metadata": {
    "colab": {
      "name": "TimeSeriesForecasting1",
      "private_outputs": true,
      "provenance": [],
      "authorship_tag": "ABX9TyNAyB3LxIEO4UN+fT+923q+",
      "include_colab_link": true
    },
    "kernelspec": {
      "name": "python3",
      "display_name": "Python 3"
    }
  },
  "cells": [
    {
      "cell_type": "markdown",
      "metadata": {
        "id": "view-in-github",
        "colab_type": "text"
      },
      "source": [
        "<a href=\"https://colab.research.google.com/github/cagBRT/timeSeries/blob/main/TimeSeriesForecasting1.ipynb\" target=\"_parent\"><img src=\"https://colab.research.google.com/assets/colab-badge.svg\" alt=\"Open In Colab\"/></a>"
      ]
    },
    {
      "cell_type": "markdown",
      "metadata": {
        "id": "Xq9XmLDs2688"
      },
      "source": [
        "In this notebook you look at furniture and office supply sales over a four year period. Then you create models to forecast future sales.<br>\n",
        "\n",
        "https://algorithmia.com/blog/an-introduction-to-time-series-forecasting"
      ]
    },
    {
      "cell_type": "code",
      "metadata": {
        "id": "pPDTx8q0tR4b"
      },
      "source": [
        "# Clone the entire repo.\n",
        "!git clone -l -s https://github.com/cagBRT/timeSeries.git cloned-repo\n",
        "%cd cloned-repo"
      ],
      "execution_count": null,
      "outputs": []
    },
    {
      "cell_type": "markdown",
      "metadata": {
        "id": "Dx2aGtTz3NNP"
      },
      "source": [
        "**Import libraries**"
      ]
    },
    {
      "cell_type": "code",
      "metadata": {
        "id": "517XXH7TnCpS"
      },
      "source": [
        "import warnings\n",
        "import itertools\n",
        "import numpy as np\n",
        "import matplotlib.pyplot as plt\n",
        "warnings.filterwarnings(\"ignore\")\n",
        "plt.style.use('fivethirtyeight')\n",
        "import pandas as pd\n",
        "import statsmodels.api as sm\n",
        "import matplotlib"
      ],
      "execution_count": null,
      "outputs": []
    },
    {
      "cell_type": "code",
      "metadata": {
        "id": "ZHtlM9NYjUTV"
      },
      "source": [
        "matplotlib.rcParams['axes.labelsize'] = 14\n",
        "matplotlib.rcParams['xtick.labelsize'] = 12\n",
        "matplotlib.rcParams['ytick.labelsize'] = 12\n",
        "matplotlib.rcParams['text.color'] = 'k'"
      ],
      "execution_count": null,
      "outputs": []
    },
    {
      "cell_type": "markdown",
      "metadata": {
        "id": "28W-DbaO3Ros"
      },
      "source": [
        "**Get the data**<br>\n",
        "It is in the form of an Excel spreadsheet, use Pandas to read in the data. <br>\n",
        "The data is from a Superstore that sells furniture and office supplies."
      ]
    },
    {
      "cell_type": "code",
      "metadata": {
        "id": "iFbMSAw1sAJ0"
      },
      "source": [
        "df = pd.read_excel(\"Sample - Superstore.xls\")"
      ],
      "execution_count": null,
      "outputs": []
    },
    {
      "cell_type": "code",
      "metadata": {
        "id": "KdzTIRsw6RDe"
      },
      "source": [
        "df.columns"
      ],
      "execution_count": null,
      "outputs": []
    },
    {
      "cell_type": "code",
      "metadata": {
        "id": "xVQB6b9S6mZr"
      },
      "source": [
        "df.head()"
      ],
      "execution_count": null,
      "outputs": []
    },
    {
      "cell_type": "markdown",
      "metadata": {
        "id": "644eUwQ0jyXr"
      },
      "source": [
        "Save the rows on furniture sales in a variable called furniture"
      ]
    },
    {
      "cell_type": "code",
      "metadata": {
        "id": "S_VEoVNp6jyt"
      },
      "source": [
        "furniture = df.loc[df['Category'] == 'Furniture']"
      ],
      "execution_count": null,
      "outputs": []
    },
    {
      "cell_type": "markdown",
      "metadata": {
        "id": "PsgrGxUA3bXg"
      },
      "source": [
        "The data spans the time Jan.,2014 to Dec.,2017"
      ]
    },
    {
      "cell_type": "code",
      "metadata": {
        "id": "OHTUaY0_vZGv"
      },
      "source": [
        "furniture['Order Date'].min(), furniture['Order Date'].max()"
      ],
      "execution_count": null,
      "outputs": []
    },
    {
      "cell_type": "markdown",
      "metadata": {
        "id": "1HitLgD73mXE"
      },
      "source": [
        "Check for missing data and only keep the Order Date and Sales columns"
      ]
    },
    {
      "cell_type": "code",
      "metadata": {
        "id": "AoONUx6ZvfB2"
      },
      "source": [
        "cols = ['Row ID', 'Order ID', 'Ship Date', 'Ship Mode', 'Customer ID', \n",
        "        'Customer Name', 'Segment', 'Country', 'City', 'State', 'Postal Code',\n",
        "        'Region', 'Product ID', 'Category', 'Sub-Category', 'Product Name', \n",
        "        'Quantity', 'Discount', 'Profit']\n",
        "furniture.drop(cols, axis=1, inplace=True)\n",
        "furniture = furniture.sort_values('Order Date')\n",
        "furniture.isnull().sum()"
      ],
      "execution_count": null,
      "outputs": []
    },
    {
      "cell_type": "code",
      "metadata": {
        "id": "CP7X6BJE5BMM"
      },
      "source": [
        "furniture"
      ],
      "execution_count": null,
      "outputs": []
    },
    {
      "cell_type": "markdown",
      "metadata": {
        "id": "ruvj_GBm4zMb"
      },
      "source": [
        "Put the data into order of earliest date to latest date. <br>\n",
        "Reset the index so the earliest date is index 0"
      ]
    },
    {
      "cell_type": "code",
      "metadata": {
        "id": "Yz4KZgbSvj5s"
      },
      "source": [
        "furniture = furniture.groupby('Order Date')['Sales'].sum().reset_index()"
      ],
      "execution_count": null,
      "outputs": []
    },
    {
      "cell_type": "code",
      "metadata": {
        "id": "2m4ozsXwvlvU"
      },
      "source": [
        "furniture"
      ],
      "execution_count": null,
      "outputs": []
    },
    {
      "cell_type": "markdown",
      "metadata": {
        "id": "QwImE2Kh5p10"
      },
      "source": [
        "Change the index from row number to the date. <br>"
      ]
    },
    {
      "cell_type": "code",
      "metadata": {
        "id": "RLjAReDXvpNB"
      },
      "source": [
        "furniture = furniture.set_index('Order Date')\n",
        "furniture.index"
      ],
      "execution_count": null,
      "outputs": []
    },
    {
      "cell_type": "markdown",
      "metadata": {
        "id": "T0F8XrZ_lRNM"
      },
      "source": [
        "The data is now two columns, order data and Sales<br>\n",
        "It is ordered from the earliest date to the latest date.<br>\n",
        "Sales for every day are recorded."
      ]
    },
    {
      "cell_type": "code",
      "metadata": {
        "id": "kGKHDoz-vtgx"
      },
      "source": [
        "furniture"
      ],
      "execution_count": null,
      "outputs": []
    },
    {
      "cell_type": "markdown",
      "metadata": {
        "id": "QXhowCiX7OVD"
      },
      "source": [
        "Group the sales into months by adding all the sales for each month together. The date for the month will be the first day of the month"
      ]
    },
    {
      "cell_type": "code",
      "metadata": {
        "id": "BCwiO8Y4vv4z"
      },
      "source": [
        "#y = furniture['Sales'].resample('MS').mean()\n",
        "monthlySales = furniture['Sales'].resample('MS').mean()"
      ],
      "execution_count": null,
      "outputs": []
    },
    {
      "cell_type": "code",
      "metadata": {
        "id": "jddnxND9v0pj"
      },
      "source": [
        "print(monthlySales['2017'])\n",
        "print(\"---------------------\")\n",
        "print(monthlySales['2016'])\n",
        "print(\"---------------------\")"
      ],
      "execution_count": null,
      "outputs": []
    },
    {
      "cell_type": "markdown",
      "metadata": {
        "id": "1iTCrEjD_kC5"
      },
      "source": [
        "Plot the monthly sales for furniture"
      ]
    },
    {
      "cell_type": "code",
      "metadata": {
        "id": "uDf67Nr0wKyp"
      },
      "source": [
        "monthlySales.plot(figsize=(15, 6))\n",
        "plt.show()"
      ],
      "execution_count": null,
      "outputs": []
    },
    {
      "cell_type": "markdown",
      "metadata": {
        "id": "BhJgpENYAo0V"
      },
      "source": [
        "Using time series decomposition, we can decompose the time series into three components: <br>\n",
        "- trend<br>\n",
        "- seasonality<br>\n",
        "- noise (residual)"
      ]
    },
    {
      "cell_type": "code",
      "metadata": {
        "id": "ZGZRQ1xHwm1M"
      },
      "source": [
        "from pylab import rcParams\n",
        "rcParams['figure.figsize'] = 18, 8\n",
        "decomposition = sm.tsa.seasonal_decompose(monthlySales, model='additive')\n",
        "fig = decomposition.plot()\n",
        "plt.show()\n"
      ],
      "execution_count": null,
      "outputs": []
    },
    {
      "cell_type": "markdown",
      "metadata": {
        "id": "bIoVvZ7mwy8u"
      },
      "source": [
        "We are going to apply one of the most commonly used method for time-series forecasting, known as ARIMA, which stands for Autoregressive Integrated Moving Average.\n",
        "ARIMA models are denoted with the notation ARIMA(p, d, q). These three parameters account for seasonality, trend, and noise in data. <br><br>\n",
        "p,d,q are given a range of values 0,1,2. <br>\n",
        "These ranges are used to do a grid search to find the optimal pdq parameters for the model and data. <br>\n",
        "The model is run with each combination of pdq.<br>\n",
        "The best performing combination (the one with the lowest AIC) is kept. \n"
      ]
    },
    {
      "cell_type": "markdown",
      "metadata": {
        "id": "y_o59AAoi_4e"
      },
      "source": [
        "ARIMA is actually a class of models that ‘explains’ a given time series based on its own past values, that is, its own lags and the lagged forecast errors, so that equation can be used to forecast future values.\n",
        "\n",
        "Any ‘non-seasonal’ time series that exhibits patterns and is not a random white noise can be modeled with ARIMA models.\n",
        "\n",
        "An ARIMA model is characterized by 3 terms: p, d, q\n",
        "\n",
        "where,\n",
        "\n",
        "p is the order of the AR term\n",
        "\n",
        "q is the order of the MA term\n",
        "\n",
        "d is the number of differencing required to make the time series stationary\n",
        "\n"
      ]
    },
    {
      "cell_type": "markdown",
      "metadata": {
        "id": "mtODTTXPkZHO"
      },
      "source": [
        "If a time series, has seasonal patterns, then you need to add seasonal terms and it becomes SARIMA, short for ‘Seasonal ARIMA’. "
      ]
    },
    {
      "cell_type": "code",
      "metadata": {
        "id": "ZlvCJNtjwz7n"
      },
      "source": [
        "p = d = q = range(0, 2)\n",
        "pdq = list(itertools.product(p, d, q))\n",
        "seasonal_pdq = [(x[0], x[1], x[2], 12) for x in list(itertools.product(p, d, q))]\n",
        "print('Examples of parameter combinations for Seasonal ARIMA...')\n",
        "print('SARIMAX: {} x {}'.format(pdq[1], seasonal_pdq[1]))\n",
        "print('SARIMAX: {} x {}'.format(pdq[1], seasonal_pdq[2]))\n",
        "print('SARIMAX: {} x {}'.format(pdq[2], seasonal_pdq[3]))\n",
        "print('SARIMAX: {} x {}'.format(pdq[2], seasonal_pdq[4]))"
      ],
      "execution_count": null,
      "outputs": []
    },
    {
      "cell_type": "code",
      "metadata": {
        "id": "5kTVcQX1w6eo"
      },
      "source": [
        "for param in pdq:\n",
        "    for param_seasonal in seasonal_pdq:\n",
        "        try:\n",
        "            mod = sm.tsa.statespace.SARIMAX(monthlySales,\n",
        "                                            order=param,\n",
        "                                            seasonal_order=param_seasonal,\n",
        "                                            enforce_stationarity=False,\n",
        "                                            enforce_invertibility=False)\n",
        "            results = mod.fit()\n",
        "            print('ARIMA{}x{}12 - AIC:{}'.format(param, param_seasonal, results.aic))\n",
        "        except:\n",
        "            continue"
      ],
      "execution_count": null,
      "outputs": []
    },
    {
      "cell_type": "markdown",
      "metadata": {
        "id": "-wkGWkDMxREE"
      },
      "source": [
        "The above output suggests that SARIMAX(1, 1, 1)x(1, 1, 0, 12) yields the lowest AIC value of 297.78. Therefore we should consider this to be optimal option.\n"
      ]
    },
    {
      "cell_type": "markdown",
      "metadata": {
        "id": "1zQzdkmiYczO"
      },
      "source": [
        "The model is trained on the data"
      ]
    },
    {
      "cell_type": "code",
      "metadata": {
        "id": "FsEG-10hxR6Q"
      },
      "source": [
        "model = sm.tsa.statespace.SARIMAX(monthlySales,\n",
        "                                order=(1, 1, 1),\n",
        "                                seasonal_order=(1, 1, 0, 12),\n",
        "                                enforce_stationarity=False,\n",
        "                                enforce_invertibility=False)\n",
        "results = model.fit()\n",
        "print(results.summary().tables[1])"
      ],
      "execution_count": null,
      "outputs": []
    },
    {
      "cell_type": "markdown",
      "metadata": {
        "id": "DunFu3ZvxgC6"
      },
      "source": [
        "Now, run the model diagnostics. It will hopefully show any unusal behavior. <br>\n",
        "In this case, our model diagnostics suggests that the model residuals are near normally distributed."
      ]
    },
    {
      "cell_type": "code",
      "metadata": {
        "id": "6UhqfsywxXiH"
      },
      "source": [
        "results.plot_diagnostics(figsize=(16, 8))\n",
        "plt.show()"
      ],
      "execution_count": null,
      "outputs": []
    },
    {
      "cell_type": "code",
      "metadata": {
        "id": "VY6JShUsxhmB"
      },
      "source": [
        "pred = results.get_prediction(start=pd.to_datetime('2017-01-01'), dynamic=False)\n",
        "pred_ci = pred.conf_int()\n",
        "ax = monthlySales['2014':].plot(label='observed')\n",
        "pred.predicted_mean.plot(ax=ax, label='One-step ahead Forecast', alpha=.7, figsize=(14, 7))\n",
        "ax.fill_between(pred_ci.index,\n",
        "                pred_ci.iloc[:, 0],\n",
        "                pred_ci.iloc[:, 1], color='k', alpha=.2)\n",
        "ax.set_xlabel('Date')\n",
        "ax.set_ylabel('Furniture Sales')\n",
        "plt.legend()\n",
        "plt.show()"
      ],
      "execution_count": null,
      "outputs": []
    },
    {
      "cell_type": "code",
      "metadata": {
        "id": "KaFwTQwZxrb1"
      },
      "source": [
        "monthlySales_forecasted = pred.predicted_mean\n",
        "monthlySales_truth = monthlySales['2017-01-01':]\n",
        "mse = ((monthlySales_forecasted - monthlySales_truth) ** 2).mean()\n",
        "print('The Mean Squared Error of our forecasts is {}'.format(round(mse, 2)))"
      ],
      "execution_count": null,
      "outputs": []
    },
    {
      "cell_type": "code",
      "metadata": {
        "id": "od4a05G0xvDh"
      },
      "source": [
        "print('The Root Mean Squared Error of our forecasts is {}'.format(round(np.sqrt(mse), 2)))"
      ],
      "execution_count": null,
      "outputs": []
    },
    {
      "cell_type": "code",
      "metadata": {
        "id": "6eue_Ub7x30w"
      },
      "source": [
        "pred_uc = results.get_forecast(steps=100)\n",
        "pred_ci = pred_uc.conf_int()\n",
        "ax = monthlySales.plot(label='observed', figsize=(14, 7))\n",
        "pred_uc.predicted_mean.plot(ax=ax, label='Forecast')\n",
        "ax.fill_between(pred_ci.index,\n",
        "                pred_ci.iloc[:, 0],\n",
        "                pred_ci.iloc[:, 1], color='k', alpha=.25)\n",
        "ax.set_xlabel('Date')\n",
        "ax.set_ylabel('Furniture Sales')\n",
        "plt.legend()\n",
        "plt.show()"
      ],
      "execution_count": null,
      "outputs": []
    },
    {
      "cell_type": "code",
      "metadata": {
        "id": "dfJWULQ2x_5x"
      },
      "source": [
        "furniture = df.loc[df['Category'] == 'Furniture']\n",
        "office = df.loc[df['Category'] == 'Office Supplies']\n",
        "furniture.shape, office.shape"
      ],
      "execution_count": null,
      "outputs": []
    },
    {
      "cell_type": "code",
      "metadata": {
        "id": "EH72xxN8yEaJ"
      },
      "source": [
        "cols = ['Row ID', 'Order ID', 'Ship Date', 'Ship Mode', 'Customer ID', 'Customer Name', 'Segment', 'Country', 'City', 'State', 'Postal Code', 'Region', 'Product ID', 'Category', 'Sub-Category', 'Product Name', 'Quantity', 'Discount', 'Profit']\n",
        "furniture.drop(cols, axis=1, inplace=True)\n",
        "office.drop(cols, axis=1, inplace=True)\n",
        "furniture = furniture.sort_values('Order Date')\n",
        "office = office.sort_values('Order Date')\n",
        "furniture = furniture.groupby('Order Date')['Sales'].sum().reset_index()\n",
        "office = office.groupby('Order Date')['Sales'].sum().reset_index()\n",
        "furniture = furniture.set_index('Order Date')\n",
        "office = office.set_index('Order Date')\n",
        "y_furniture = furniture['Sales'].resample('MS').mean()\n",
        "y_office = office['Sales'].resample('MS').mean()\n",
        "furniture = pd.DataFrame({'Order Date':y_furniture.index, 'Sales':y_furniture.values})\n",
        "office = pd.DataFrame({'Order Date': y_office.index, 'Sales': y_office.values})\n",
        "store = furniture.merge(office, how='inner', on='Order Date')\n",
        "store.rename(columns={'Sales_x': 'furniture_sales', 'Sales_y': 'office_sales'}, inplace=True)\n",
        "store.head()"
      ],
      "execution_count": null,
      "outputs": []
    },
    {
      "cell_type": "code",
      "metadata": {
        "id": "ach3PD7dyIvt"
      },
      "source": [
        "plt.figure(figsize=(20, 8))\n",
        "plt.plot(store['Order Date'], store['furniture_sales'], 'b-', label = 'furniture')\n",
        "plt.plot(store['Order Date'], store['office_sales'], 'r-', label = 'office supplies')\n",
        "plt.xlabel('Date'); plt.ylabel('Sales'); plt.title('Sales of Furniture and Office Supplies')\n",
        "plt.legend();"
      ],
      "execution_count": null,
      "outputs": []
    },
    {
      "cell_type": "code",
      "metadata": {
        "id": "YiaBbNp3yrIz"
      },
      "source": [
        "first_date = store.loc[np.min(list(np.where(store['office_sales'] > store['furniture_sales'])[0])), 'Order Date']\n",
        "print(\"Office supplies first time produced higher sales than furniture is {}.\".format(first_date.date()))\n"
      ],
      "execution_count": null,
      "outputs": []
    },
    {
      "cell_type": "markdown",
      "metadata": {
        "id": "SdZ6uCM20neL"
      },
      "source": [
        "# **Using Facebook Prophet**"
      ]
    },
    {
      "cell_type": "code",
      "metadata": {
        "id": "l5kRUQha0sim"
      },
      "source": [
        "from fbprophet import Prophet\n",
        "furniture = furniture.rename(columns={'Order Date': 'ds', 'Sales': 'y'})\n",
        "furniture_model = Prophet(interval_width=0.95)\n",
        "furniture_model.fit(furniture)\n",
        "office = office.rename(columns={'Order Date': 'ds', 'Sales': 'y'})\n",
        "office_model = Prophet(interval_width=0.95)\n",
        "office_model.fit(office)\n",
        "furniture_forecast = furniture_model.make_future_dataframe(periods=36, freq='MS')\n",
        "furniture_forecast = furniture_model.predict(furniture_forecast)\n",
        "office_forecast = office_model.make_future_dataframe(periods=36, freq='MS')\n",
        "office_forecast = office_model.predict(office_forecast)\n",
        "plt.figure(figsize=(18, 6))\n",
        "furniture_model.plot(furniture_forecast, xlabel = 'Date', ylabel = 'Sales')\n",
        "plt.title('Furniture Sales');"
      ],
      "execution_count": null,
      "outputs": []
    },
    {
      "cell_type": "code",
      "metadata": {
        "id": "Gt9bdyvg1E_S"
      },
      "source": [
        "plt.figure(figsize=(18, 6))\n",
        "office_model.plot(office_forecast, xlabel = 'Date', ylabel = 'Sales')\n",
        "plt.title('Office Supplies Sales');\n"
      ],
      "execution_count": null,
      "outputs": []
    },
    {
      "cell_type": "code",
      "metadata": {
        "id": "yVqe0T6t1Kmc"
      },
      "source": [
        "furniture_names = ['furniture_%s' % column for column in furniture_forecast.columns]\n",
        "office_names = ['office_%s' % column for column in office_forecast.columns]\n",
        "merge_furniture_forecast = furniture_forecast.copy()\n",
        "merge_office_forecast = office_forecast.copy()\n",
        "merge_furniture_forecast.columns = furniture_names\n",
        "merge_office_forecast.columns = office_names\n",
        "forecast = pd.merge(merge_furniture_forecast, merge_office_forecast, how = 'inner', left_on = 'furniture_ds', right_on = 'office_ds')\n",
        "forecast = forecast.rename(columns={'furniture_ds': 'Date'}).drop('office_ds', axis=1)\n",
        "forecast.head()\n"
      ],
      "execution_count": null,
      "outputs": []
    },
    {
      "cell_type": "code",
      "metadata": {
        "id": "GCSa8mjB1QGT"
      },
      "source": [
        "plt.figure(figsize=(10, 7))\n",
        "plt.plot(forecast['Date'], forecast['furniture_trend'], 'b-', label = \"furniture\")\n",
        "plt.plot(forecast['Date'], forecast['office_trend'], 'r-', label = \"office supplies\")\n",
        "plt.legend( ); \n",
        "plt.xlabel('Date'); plt.ylabel('Sales')\n",
        "plt.title('Furniture vs. Office Supplies Sales Trend');"
      ],
      "execution_count": null,
      "outputs": []
    },
    {
      "cell_type": "code",
      "metadata": {
        "id": "qs6xfitN171M"
      },
      "source": [
        "plt.figure(figsize=(10, 7))\n",
        "plt.plot(forecast['Date'], forecast['furniture_yhat'], 'b-', label=\"furniture\")\n",
        "plt.plot(forecast['Date'], forecast['office_yhat'], 'r-', label = \"office\")\n",
        "plt.legend(); \n",
        "plt.xlabel('Date'); plt.ylabel('Sales')\n",
        "plt.title('Furniture vs. Office Supplies Estimate');"
      ],
      "execution_count": null,
      "outputs": []
    },
    {
      "cell_type": "code",
      "metadata": {
        "id": "Bs95FDVF2Jn1"
      },
      "source": [
        "furniture_model.plot_components(furniture_forecast);"
      ],
      "execution_count": null,
      "outputs": []
    },
    {
      "cell_type": "code",
      "metadata": {
        "id": "bECeaAk02PsX"
      },
      "source": [
        "office_model.plot_components(office_forecast);"
      ],
      "execution_count": null,
      "outputs": []
    }
  ]
}