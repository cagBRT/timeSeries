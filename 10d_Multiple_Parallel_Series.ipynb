{
  "nbformat": 4,
  "nbformat_minor": 0,
  "metadata": {
    "colab": {
      "name": "10d Multiple Parallel Series.ipynb",
      "private_outputs": true,
      "provenance": [],
      "authorship_tag": "ABX9TyNpRfRDgiCHiheUQKWmarDB",
      "include_colab_link": true
    },
    "kernelspec": {
      "name": "python3",
      "display_name": "Python 3"
    },
    "language_info": {
      "name": "python"
    }
  },
  "cells": [
    {
      "cell_type": "markdown",
      "metadata": {
        "id": "view-in-github",
        "colab_type": "text"
      },
      "source": [
        "<a href=\"https://colab.research.google.com/github/cagBRT/timeSeries/blob/main/10d_Multiple_Parallel_Series.ipynb\" target=\"_parent\"><img src=\"https://colab.research.google.com/assets/colab-badge.svg\" alt=\"Open In Colab\"/></a>"
      ]
    },
    {
      "cell_type": "markdown",
      "source": [
        "**Multiple Parallel Series**"
      ],
      "metadata": {
        "id": "41LaiY87E8qB"
      }
    },
    {
      "cell_type": "markdown",
      "source": [
        "There are times when we may want to predict the next time series step.<br>\n",
        "This is known as Multiple Parallel Time Series"
      ],
      "metadata": {
        "id": "8pJusFPHFBia"
      }
    },
    {
      "cell_type": "markdown",
      "source": [
        "For example:<br>\n",
        "Given the following<br>\n",
        "[5,10,15]<br>\n",
        "[10,15,20]<br>\n",
        "[15,20,25]<br>\n",
        "[20,25,30]<br>\n",
        "<br><br>\n",
        "Predict the values for the next step\n",
        "[25,30,35]"
      ],
      "metadata": {
        "id": "-kcgLJOZFTHs"
      }
    },
    {
      "cell_type": "code",
      "execution_count": null,
      "metadata": {
        "id": "_eIu57iCErea"
      },
      "outputs": [],
      "source": [
        "def split_sequences(sequences, n_steps): \n",
        "  X, y = list(), list()\n",
        "  for i in range(len(sequences)):\n",
        "    # find the end of this pattern\n",
        "    end_ix = i + n_steps\n",
        "    # check if we are beyond the dataset\n",
        "    if end_ix > len(sequences)-1: break\n",
        "    # gather input and output parts of the pattern\n",
        "    seq_x, seq_y = sequences[i:end_ix, :], sequences[end_ix, :] \n",
        "    X.append(seq_x)\n",
        "    y.append(seq_y)\n",
        "  return array(X), array(y)"
      ]
    },
    {
      "cell_type": "code",
      "source": [
        "from numpy import array\n",
        "from numpy import hstack\n",
        "from keras.models import Sequential\n",
        "from keras.layers import Dense\n",
        "from keras.layers import Flatten\n",
        "from keras.layers.convolutional import Conv1D\n",
        "from keras.layers.convolutional import MaxPooling1D\n",
        "from keras.utils.vis_utils import plot_model"
      ],
      "metadata": {
        "id": "_Sn-bx-NGFnW"
      },
      "execution_count": null,
      "outputs": []
    },
    {
      "cell_type": "code",
      "source": [
        "in_seq1 = array([10, 20, 30, 40, 50, 60, 70, 80, 90])\n",
        "in_seq2 = array([15, 25, 35, 45, 55, 65, 75, 85, 95])\n",
        "out_seq = array([in_seq1[i]+in_seq2[i] for i in range(len(in_seq1))])"
      ],
      "metadata": {
        "id": "4csSvUBlGIm2"
      },
      "execution_count": null,
      "outputs": []
    },
    {
      "cell_type": "code",
      "source": [
        "in_seq1 = in_seq1.reshape((len(in_seq1), 1)) \n",
        "in_seq2 = in_seq2.reshape((len(in_seq2), 1)) \n",
        "out_seq = out_seq.reshape((len(out_seq), 1)) \n",
        "# horizontally stack columns\n",
        "dataset = hstack((in_seq1, in_seq2, out_seq))\n",
        "dataset"
      ],
      "metadata": {
        "id": "WpweRuu5GLo2"
      },
      "execution_count": null,
      "outputs": []
    },
    {
      "cell_type": "code",
      "source": [
        "n_steps = 3\n",
        "n_features = X.shape[2]\n",
        "# convert into input/output\n",
        "X, y = split_sequences(dataset, n_steps) \n",
        "print(X.shape, y.shape)\n",
        "# summarize the data\n",
        "for i in range(len(X)):\n",
        "  print(X[i], y[i])"
      ],
      "metadata": {
        "id": "0LaHbczaGSXo"
      },
      "execution_count": null,
      "outputs": []
    },
    {
      "cell_type": "code",
      "source": [
        "model = Sequential()\n",
        "model.add(Conv1D(64, 2, activation='relu', input_shape=(n_steps, n_features))) \n",
        "model.add(MaxPooling1D())\n",
        "model.add(Flatten())\n",
        "model.add(Dense(50, activation='relu'))\n",
        "model.add(Dense(n_features))"
      ],
      "metadata": {
        "id": "FOqPiTuBGaOS"
      },
      "execution_count": null,
      "outputs": []
    },
    {
      "cell_type": "code",
      "source": [
        "model.compile(optimizer='adam', loss='mse')\n",
        "model.fit(X, y, epochs=3000, verbose=0)"
      ],
      "metadata": {
        "id": "31J_bJH7HA3p"
      },
      "execution_count": null,
      "outputs": []
    },
    {
      "cell_type": "code",
      "source": [
        "plot_model(model, show_shapes=True, show_layer_names=True)"
      ],
      "metadata": {
        "id": "N0IEYqkYId_u"
      },
      "execution_count": null,
      "outputs": []
    },
    {
      "cell_type": "code",
      "source": [
        "x_input = array([[70,75,145], [80,85,165], [90,95,185]]) \n",
        "x_input = x_input.reshape((1, n_steps, n_features))\n",
        "yhat = model.predict(x_input, verbose=0)"
      ],
      "metadata": {
        "id": "3Sor3km1Gcj6"
      },
      "execution_count": null,
      "outputs": []
    },
    {
      "cell_type": "code",
      "source": [
        "yhat"
      ],
      "metadata": {
        "id": "dbXhpFJhGv4D"
      },
      "execution_count": null,
      "outputs": []
    }
  ]
}