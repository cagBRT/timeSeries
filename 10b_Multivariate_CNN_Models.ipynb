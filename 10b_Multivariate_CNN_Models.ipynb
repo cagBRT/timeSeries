{
  "nbformat": 4,
  "nbformat_minor": 0,
  "metadata": {
    "colab": {
      "name": "10b Multivariate CNN Models.ipynb",
      "private_outputs": true,
      "provenance": [],
      "authorship_tag": "ABX9TyPDRZi7+GW/4aXDVRFAooLb",
      "include_colab_link": true
    },
    "kernelspec": {
      "name": "python3",
      "display_name": "Python 3"
    },
    "language_info": {
      "name": "python"
    }
  },
  "cells": [
    {
      "cell_type": "markdown",
      "metadata": {
        "id": "view-in-github",
        "colab_type": "text"
      },
      "source": [
        "<a href=\"https://colab.research.google.com/github/cagBRT/timeSeries/blob/main/10b_Multivariate_CNN_Models.ipynb\" target=\"_parent\"><img src=\"https://colab.research.google.com/assets/colab-badge.svg\" alt=\"Open In Colab\"/></a>"
      ]
    },
    {
      "cell_type": "code",
      "source": [
        "from numpy import array\n",
        "from numpy import hstack\n",
        "from keras.models import Sequential\n",
        "from keras.layers import Dense\n",
        "from keras.layers import Flatten\n",
        "from keras.layers.convolutional import Conv1D\n",
        "from keras.layers.convolutional import MaxPooling1D"
      ],
      "metadata": {
        "id": "7RjUnWam2gfu"
      },
      "execution_count": null,
      "outputs": []
    },
    {
      "cell_type": "code",
      "source": [
        "def split_sequences(sequences, n_steps): \n",
        "  X, y = list(), list()\n",
        "  for i in range(len(sequences)):\n",
        "    # find the end of this pattern\n",
        "    end_ix = i + n_steps\n",
        "    # check if we are beyond the dataset\n",
        "    if end_ix > len(sequences): break\n",
        "    # gather input and output parts of the pattern\n",
        "    seq_x, seq_y = sequences[i:end_ix, :-1], sequences[end_ix-1, -1] \n",
        "    X.append(seq_x)\n",
        "    y.append(seq_y)\n",
        "  return array(X), array(y)"
      ],
      "metadata": {
        "id": "YYUh4oCg3_Yf"
      },
      "execution_count": null,
      "outputs": []
    },
    {
      "cell_type": "markdown",
      "source": [
        "**MutliVariate CNN Models**"
      ],
      "metadata": {
        "id": "7226oigi1c8y"
      }
    },
    {
      "cell_type": "markdown",
      "source": [
        "Multivariate: more than one measurement per time step"
      ],
      "metadata": {
        "id": "cqtCk11J1i2A"
      }
    },
    {
      "cell_type": "markdown",
      "source": [
        "There are two models we can use for multivariate time series:<br>\n",
        "1. Multiple Input Series<br>\n",
        "2. Multiple Parallel Series"
      ],
      "metadata": {
        "id": "bFXKPSEp2DhG"
      }
    },
    {
      "cell_type": "markdown",
      "source": [
        "**Multiple Input Series**"
      ],
      "metadata": {
        "id": "TUWnWcfK2QJO"
      }
    },
    {
      "cell_type": "code",
      "execution_count": null,
      "metadata": {
        "id": "OdjummT_1R2J"
      },
      "outputs": [],
      "source": [
        "in_seq1 = array([5, 10, 15, 20, 25, 30, 35, 40, 45])\n",
        "in_seq2 = array([15, 25, 35, 45, 55, 65, 75, 85, 95])\n",
        "out_seq = array([in_seq2[i]-in_seq1[i] for i in range(len(in_seq1))])"
      ]
    },
    {
      "cell_type": "code",
      "source": [
        "out_seq"
      ],
      "metadata": {
        "id": "hUL7YPGI2idf"
      },
      "execution_count": null,
      "outputs": []
    },
    {
      "cell_type": "code",
      "source": [
        "in_seq1 = in_seq1.reshape((len(in_seq1), 1)) \n",
        "in_seq2 = in_seq2.reshape((len(in_seq2), 1)) \n",
        "out_seq = out_seq.reshape((len(out_seq), 1)) \n",
        "dataset = hstack((in_seq1, in_seq2, out_seq)) \n",
        "print(dataset)"
      ],
      "metadata": {
        "id": "lcPsZ_jv2708"
      },
      "execution_count": null,
      "outputs": []
    },
    {
      "cell_type": "code",
      "source": [
        "n_steps = 3\n",
        "# convert into input/output\n",
        "X, y = split_sequences(dataset, n_steps) \n",
        "print(X.shape, y.shape)\n",
        "n_features = X.shape[2]"
      ],
      "metadata": {
        "id": "3xQwdet-30YF"
      },
      "execution_count": null,
      "outputs": []
    },
    {
      "cell_type": "code",
      "source": [
        "for i in range(len(X)):\n",
        "  print(X[i], y[i])"
      ],
      "metadata": {
        "id": "Cjz8TsV-4P6n"
      },
      "execution_count": null,
      "outputs": []
    },
    {
      "cell_type": "code",
      "source": [
        "model = Sequential()\n",
        "model.add(Conv1D(24, 2, activation='relu', input_shape=(n_steps, n_features))) \n",
        "model.add(MaxPooling1D())\n",
        "model.add(Flatten())\n",
        "model.add(Dense(20, activation='relu'))\n",
        "model.add(Dense(1))\n",
        "model.compile(optimizer='adam', loss='mse')"
      ],
      "metadata": {
        "id": "-7bsPmFx4Y0b"
      },
      "execution_count": null,
      "outputs": []
    },
    {
      "cell_type": "code",
      "source": [
        "model.fit(X,y,epochs=100, verbose=0)"
      ],
      "metadata": {
        "id": "Js_2F0ET83l6"
      },
      "execution_count": null,
      "outputs": []
    },
    {
      "cell_type": "code",
      "source": [
        "x_input = array([[40,85], [45, 95], [50, 105]])\n",
        "x_input = x_input.reshape((1, n_steps, n_features))\n",
        "yhat = model.predict(x_input, verbose=0)\n",
        "print(yhat)"
      ],
      "metadata": {
        "id": "ZYYkAe1583yD"
      },
      "execution_count": null,
      "outputs": []
    },
    {
      "cell_type": "markdown",
      "source": [
        "**Assignment**:<br>\n",
        "Modify the number of neurons in the model and the number of epochs to get a better prediction"
      ],
      "metadata": {
        "id": "fBUgcSAW9aS7"
      }
    }
  ]
}