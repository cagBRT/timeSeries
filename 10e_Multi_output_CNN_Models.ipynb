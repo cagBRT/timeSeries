{
  "nbformat": 4,
  "nbformat_minor": 0,
  "metadata": {
    "colab": {
      "name": "10e Multi-output CNN Models.ipynb",
      "private_outputs": true,
      "provenance": [],
      "authorship_tag": "ABX9TyP5W3imNgwEEOWRqIh/GLgV",
      "include_colab_link": true
    },
    "kernelspec": {
      "name": "python3",
      "display_name": "Python 3"
    },
    "language_info": {
      "name": "python"
    }
  },
  "cells": [
    {
      "cell_type": "markdown",
      "metadata": {
        "id": "view-in-github",
        "colab_type": "text"
      },
      "source": [
        "<a href=\"https://colab.research.google.com/github/cagBRT/timeSeries/blob/main/10e_Multi_output_CNN_Models.ipynb\" target=\"_parent\"><img src=\"https://colab.research.google.com/assets/colab-badge.svg\" alt=\"Open In Colab\"/></a>"
      ]
    },
    {
      "cell_type": "markdown",
      "source": [
        "# **Multi-output CNN Models**"
      ],
      "metadata": {
        "id": "dgjgwVFSSZTE"
      }
    },
    {
      "cell_type": "markdown",
      "source": [
        "**Import libraries**"
      ],
      "metadata": {
        "id": "Q-5BIg-EUDeV"
      }
    },
    {
      "cell_type": "code",
      "execution_count": null,
      "metadata": {
        "id": "yzsEmAUsIptF"
      },
      "outputs": [],
      "source": [
        "from numpy import array\n",
        "from numpy import hstack\n",
        "from keras.models import Model\n",
        "from keras.layers import Input\n",
        "from keras.layers import Dense\n",
        "from keras.layers import Flatten\n",
        "from keras.layers.convolutional import Conv1D\n",
        "from keras.layers.convolutional import MaxPooling1D\n",
        "from keras.utils.vis_utils import plot_model\n",
        "from keras.models import Sequential\n"
      ]
    },
    {
      "cell_type": "markdown",
      "source": [
        "**Deefine the split_sequences function**"
      ],
      "metadata": {
        "id": "zaUBJu1QUGD7"
      }
    },
    {
      "cell_type": "code",
      "source": [
        "def split_sequences(sequences, n_steps): \n",
        "  X, y = list(), list()\n",
        "  for i in range(len(sequences)):\n",
        "    # find the end of this pattern\n",
        "    end_ix = i + n_steps\n",
        "    # check if we are beyond the dataset\n",
        "    if end_ix > len(sequences)-1: break\n",
        "    # gather input and output parts of the pattern\n",
        "    seq_x, seq_y = sequences[i:end_ix, :], sequences[end_ix, :] \n",
        "    X.append(seq_x)\n",
        "    y.append(seq_y)\n",
        "  return array(X), array(y)"
      ],
      "metadata": {
        "id": "NdyiS-_CSjUR"
      },
      "execution_count": null,
      "outputs": []
    },
    {
      "cell_type": "markdown",
      "source": [
        "**Create the time series**"
      ],
      "metadata": {
        "id": "WMxRgUoKULoV"
      }
    },
    {
      "cell_type": "code",
      "source": [
        "in_seq1 = array([10, 20, 30, 40, 50, 60, 70, 80, 90, 100, 110, 120])\n",
        "in_seq2 = array([15, 25, 35, 45, 55, 65, 75, 85, 95, 105, 115, 125]) \n",
        "out_seq = array([in_seq1[i]+in_seq2[i] for i in range(len(in_seq1))])\n",
        "# convert to [rows, columns] structure \n",
        "in_seq1 = in_seq1.reshape((len(in_seq1), 1)) \n",
        "in_seq2 = in_seq2.reshape((len(in_seq2), 1)) \n",
        "out_seq = out_seq.reshape((len(out_seq), 1)) "
      ],
      "metadata": {
        "id": "D66unlwjSs8A"
      },
      "execution_count": null,
      "outputs": []
    },
    {
      "cell_type": "code",
      "source": [
        "dataset = hstack((in_seq1, in_seq2, out_seq))\n",
        "# choose a number of time steps\n",
        "n_steps = 3"
      ],
      "metadata": {
        "id": "X1WDhDn6TAYx"
      },
      "execution_count": null,
      "outputs": []
    },
    {
      "cell_type": "code",
      "source": [
        "dataset"
      ],
      "metadata": {
        "id": "eDOzw4GPURFF"
      },
      "execution_count": null,
      "outputs": []
    },
    {
      "cell_type": "code",
      "source": [
        "X, y = split_sequences(dataset, n_steps)\n",
        "# the dataset knows the number of features, e.g. 2\n",
        "n_features = X.shape[2]\n",
        "# separate output\n",
        "y1 = y[:, 0].reshape((y.shape[0], 1)) \n",
        "y2 = y[:, 1].reshape((y.shape[0], 1)) \n",
        "y3 = y[:, 2].reshape((y.shape[0], 1))"
      ],
      "metadata": {
        "id": "tuUjdjDpTFve"
      },
      "execution_count": null,
      "outputs": []
    },
    {
      "cell_type": "code",
      "source": [
        "for i in range(len(X)):\n",
        "  print(\"X:\\n\",X[i], \"y1:\",y1[i], \"y2:\", y2[i], \"y3:\", y3[i])"
      ],
      "metadata": {
        "id": "D2BNg2jAiP-Y"
      },
      "execution_count": null,
      "outputs": []
    },
    {
      "cell_type": "markdown",
      "source": [
        "**Create the model**"
      ],
      "metadata": {
        "id": "4W67UoKviqUW"
      }
    },
    {
      "cell_type": "code",
      "source": [
        "from tensorflow.keras.layers import LeakyReLU\n",
        "visible = Input(shape=(n_steps, n_features))\n",
        "cnn = Conv1D(64, 2, activation='LeakyReLU')(visible)\n",
        "cnn = MaxPooling1D()(cnn)\n",
        "cnn = Flatten()(cnn)\n",
        "cnn = Dense(50, activation='LeakyReLU')(cnn)"
      ],
      "metadata": {
        "id": "4Fvyoz8MTb0Z"
      },
      "execution_count": null,
      "outputs": []
    },
    {
      "cell_type": "markdown",
      "source": [
        "**Create the 3 different outputs for the model**"
      ],
      "metadata": {
        "id": "d_zw4rNSiqKT"
      }
    },
    {
      "cell_type": "code",
      "source": [
        "# define output 1\n",
        "output1 = Dense(1)(cnn)\n",
        "# define output 2\n",
        "output2 = Dense(1)(cnn)\n",
        "# define output 3\n",
        "output3 = Dense(1)(cnn)\n",
        "model = Model(inputs=visible, outputs=[output1, output2, output3]) "
      ],
      "metadata": {
        "id": "iIwYuzTlTxyW"
      },
      "execution_count": null,
      "outputs": []
    },
    {
      "cell_type": "code",
      "source": [
        "model.compile(optimizer='adam', loss='mse')"
      ],
      "metadata": {
        "id": "qgyZiNFmT6ED"
      },
      "execution_count": null,
      "outputs": []
    },
    {
      "cell_type": "code",
      "source": [
        "plot_model(model, show_shapes=True, show_layer_names=True)"
      ],
      "metadata": {
        "id": "b-hgEAhAUcXr"
      },
      "execution_count": null,
      "outputs": []
    },
    {
      "cell_type": "markdown",
      "source": [
        "**Train the model**"
      ],
      "metadata": {
        "id": "WZnlsqH6i3vS"
      }
    },
    {
      "cell_type": "code",
      "source": [
        "model.fit(X, [y1,y2,y3], epochs=2000, verbose=0)"
      ],
      "metadata": {
        "id": "i2tdfhNUT7jp"
      },
      "execution_count": null,
      "outputs": []
    },
    {
      "cell_type": "markdown",
      "source": [
        "**Make a prediction**<br>\n",
        "Expecting [130, 135,265]"
      ],
      "metadata": {
        "id": "1NcFoV3ki68q"
      }
    },
    {
      "cell_type": "code",
      "source": [
        "x_input = array([[[100,105,205],[110,115,225],[120,125,245]]])\n",
        "x_input = x_input.reshape((1, n_steps, n_features))\n",
        "yhat = model.predict(x_input, verbose=0)\n",
        "print(yhat)"
      ],
      "metadata": {
        "id": "xTcyfeQ3TKmu"
      },
      "execution_count": null,
      "outputs": []
    }
  ]
}