{
  "nbformat": 4,
  "nbformat_minor": 0,
  "metadata": {
    "colab": {
      "name": "3b: TestingForStationarity.ipynb",
      "private_outputs": true,
      "provenance": [],
      "authorship_tag": "ABX9TyO3Uooul2Q4nHM6Ee7q7EIc",
      "include_colab_link": true
    },
    "kernelspec": {
      "name": "python3",
      "display_name": "Python 3"
    }
  },
  "cells": [
    {
      "cell_type": "markdown",
      "metadata": {
        "id": "view-in-github",
        "colab_type": "text"
      },
      "source": [
        "<a href=\"https://colab.research.google.com/github/cagBRT/timeSeries/blob/main/3b_TestingForStationarity.ipynb\" target=\"_parent\"><img src=\"https://colab.research.google.com/assets/colab-badge.svg\" alt=\"Open In Colab\"/></a>"
      ]
    },
    {
      "cell_type": "markdown",
      "metadata": {
        "id": "uTxPkLrhJo4m"
      },
      "source": [
        "By the end of this notebook the student will be able to: <br>\n",
        "1. test a time series for stationarity\n",
        "2. identify white noise"
      ]
    },
    {
      "cell_type": "code",
      "metadata": {
        "id": "Nu8wFqvZ7vit"
      },
      "source": [
        "# Clone the entire repo.\n",
        "!git clone -s https://github.com/cagBRT/timeSeries.git cloned-repo\n",
        "%cd cloned-repo"
      ],
      "execution_count": null,
      "outputs": []
    },
    {
      "cell_type": "code",
      "metadata": {
        "id": "Z7VsufBKo5DQ"
      },
      "source": [
        "import pandas as pd\n",
        "import numpy as np\n",
        "import matplotlib.pyplot as plt"
      ],
      "execution_count": null,
      "outputs": []
    },
    {
      "cell_type": "markdown",
      "metadata": {
        "id": "XGtC0N4pC11x"
      },
      "source": [
        "# **Methods for testing for stationarity**<br>\n",
        "The stationarity of a series can be established by looking at the plot of the series<br>\n",
        "Split the series into 2 or more contiguous parts and compute the summary statistics such as: <br>\n",
        "- the mean \n",
        "- the variance \n",
        "- autocorrelation<br>\n",
        "\n",
        "**If the stats are quite different, then the series is not likely to be stationary.**<br>\n"
      ]
    },
    {
      "cell_type": "markdown",
      "metadata": {
        "id": "YfbeCglkZ9GV"
      },
      "source": [
        "To quantitatively determine if a given series is stationary or not, use statistical tests called ‘Unit Root Tests’. <br>\n",
        "There are multiple variations of this, where the tests check if a time series is non-stationary and possesses a unit root.<br>\n",
        "The presence of a unit root means the time series is non-stationary. <br>\n",
        "**The number of unit roots contained in the series corresponds to the number of differencing operations required to make the series stationary**"
      ]
    },
    {
      "cell_type": "markdown",
      "metadata": {
        "id": "X9xy9U1XaC8C"
      },
      "source": [
        "There are a number of implementations of Unit Root tests. <br>\n",
        "We will look at two :<br>\n",
        "\n",
        "- Augmented Dickey Fuller test (ADF Test)\n",
        "- Kwiatkowski-Phillips-Schmidt-Shin – KPSS test (trend stationary)\n"
      ]
    },
    {
      "cell_type": "markdown",
      "metadata": {
        "id": "n1sH5or1oPby"
      },
      "source": [
        "The most commonly used is the ADF test, where the null hypothesis is:<br>\n",
        ">the time series possesses a unit root and is non-stationary. <br>\n",
        "\n",
        "If the P-Value in ADH test is less than the significance level (0.05), you reject the null hypothesis.<br>\n",
        "**When the test statistic is greater than the critical value shown, you reject the null hypothesis and infer that the time series is stationary.**\n",
        "\n"
      ]
    },
    {
      "cell_type": "markdown",
      "metadata": {
        "id": "hPdWMYA8Mh7S"
      },
      "source": [
        "**Get, prepare, and plot the data**"
      ]
    },
    {
      "cell_type": "code",
      "metadata": {
        "id": "Mww1cWa9LxAg"
      },
      "source": [
        "df = pd.read_csv('timeSeriesExample.csv',  header=0,  index_col=0, squeeze=True, parse_dates=['date'])\n",
        "df.head()"
      ],
      "execution_count": null,
      "outputs": []
    },
    {
      "cell_type": "code",
      "metadata": {
        "id": "7cf1tYu2L_z_"
      },
      "source": [
        "from matplotlib import pyplot\n",
        "df.plot()\n",
        "pyplot.show()"
      ],
      "execution_count": null,
      "outputs": []
    },
    {
      "cell_type": "markdown",
      "metadata": {
        "id": "PHgdQkPUMwf9"
      },
      "source": [
        "**The ADF test**"
      ]
    },
    {
      "cell_type": "code",
      "metadata": {
        "id": "Orgk6cIHoVes"
      },
      "source": [
        "from statsmodels.tsa.stattools import adfuller, kpss\n",
        "df = pd.read_csv('timeSeriesExample.csv', parse_dates=['date'])\n",
        "# ADF Test\n",
        "#autolag='AIC'. By doing so, the adfuller will choose a the number\n",
        "# of lags that yields the lowest AIC. \n",
        "#This is usually a good option to follow.\n",
        "result = adfuller(df.value.values, autolag='AIC')\n",
        "print(f'ADF Statistic: {result[0]}')\n",
        "print(f'p-value: {result[1]}')\n",
        "for key, value in result[4].items():\n",
        "    print('Critial Values:')\n",
        "    print(f'   {key}, {value}')\n",
        "\n",
        "#When the p-value is greater than significance level of 0.05 \n",
        "#and the ADF statistic is higher than any of the critical values, \n",
        "#the series is stationary\n"
      ],
      "execution_count": null,
      "outputs": []
    },
    {
      "cell_type": "markdown",
      "metadata": {
        "id": "a8JBhO9LVZeC"
      },
      "source": [
        "**Assignment 1**<br>\n",
        "Test the following series for stationarity using the ADF test<br>\n",
        "Plot the series to visually confirm your answer"
      ]
    },
    {
      "cell_type": "code",
      "metadata": {
        "id": "2Divv7C-Vrus"
      },
      "source": [
        "#Assignment 1\n",
        "#Use the MARUTI.csv dataset, column VWAP"
      ],
      "execution_count": null,
      "outputs": []
    },
    {
      "cell_type": "code",
      "metadata": {
        "id": "u0s_jwNfV1Yt",
        "cellView": "form"
      },
      "source": [
        "#@title \n",
        "df = pd.read_csv('/content/cloned-repo/MARUTI.csv')\n",
        "df_vwap = df[['Date','VWAP']] # df is the original dataframe\n",
        "df_vwap['Date'] = df_vwap['Date'].apply(pd.to_datetime)\n",
        "df_vwap.set_index(\"Date\", inplace = True)\n",
        "\n",
        "result = adfuller(df_vwap['VWAP'], autolag='AIC')\n",
        "print(f'ADF Statistic: {result[0]}')\n",
        "print(f'p-value: {result[1]}')\n",
        "for key, value in result[4].items():\n",
        "    print('Critial Values:')\n",
        "    print(f'   {key}, {value}')\n"
      ],
      "execution_count": null,
      "outputs": []
    },
    {
      "cell_type": "code",
      "metadata": {
        "id": "SIAkVx_qW0me"
      },
      "source": [
        "#Plot assignmentSeries\n"
      ],
      "execution_count": null,
      "outputs": []
    },
    {
      "cell_type": "code",
      "metadata": {
        "cellView": "form",
        "id": "T1rzP6fjWTRi"
      },
      "source": [
        "#@title \n",
        "fig, axes = plt.subplots(figsize=(10,7))\n",
        "plt.plot(df_vwap);\n",
        "plt.title('Maruti');"
      ],
      "execution_count": null,
      "outputs": []
    },
    {
      "cell_type": "markdown",
      "metadata": {
        "id": "USeBeJB7M1c6"
      },
      "source": [
        "**The KPSS test**"
      ]
    },
    {
      "cell_type": "markdown",
      "metadata": {
        "id": "94tYpfTppX42"
      },
      "source": [
        "The KPSS test, on the other hand, is used to test for trend stationarity. The null hypothesis and the P-Value interpretation is just the opposite of ADH test. <br>\n",
        "Like ADF test, the KPSS test is also commonly used to analyse the stationarity of a series. However, it has couple of key differences compared to the ADF test in function and in practical usage. <br>\n",
        "**Therefore, is not safe to just use them interchangeably.**"
      ]
    },
    {
      "cell_type": "markdown",
      "metadata": {
        "id": "qCSZtwqI2NDF"
      },
      "source": [
        "A key difference from ADF test is the null hypothesis of the KPSS test is that the series is stationary.\n",
        "\n",
        "So the interpretaion of p-value is just the opposite to each other."
      ]
    },
    {
      "cell_type": "markdown",
      "metadata": {
        "id": "Gz7187g12WN0"
      },
      "source": [
        "**For the KPSS test if p-value is < signif level (say 0.05), then the series is non-stationary**"
      ]
    },
    {
      "cell_type": "code",
      "metadata": {
        "id": "VLvdq87JpAeR"
      },
      "source": [
        "# KPSS Test\n",
        "df = pd.read_csv('timeSeriesExample.csv', parse_dates=['date'])\n",
        "result = kpss(df.value.values, regression='c')\n",
        "print('\\nKPSS Statistic: %f' % result[0])\n",
        "print('p-value: %f' % result[1])\n",
        "for key, value in result[3].items():\n",
        "    print('Critial Values:')\n",
        "    print(f'   {key}, {value}')"
      ],
      "execution_count": null,
      "outputs": []
    },
    {
      "cell_type": "markdown",
      "metadata": {
        "id": "SjiiiOBz36l3"
      },
      "source": [
        "# **Assignment**\n",
        "Use the KPSS method to determine if the Maruti data series is stationary or not stationary"
      ]
    },
    {
      "cell_type": "code",
      "metadata": {
        "id": "LZ_tZX-C3TLf"
      },
      "source": [
        ""
      ],
      "execution_count": null,
      "outputs": []
    },
    {
      "cell_type": "code",
      "metadata": {
        "cellView": "form",
        "id": "DBR3O8Nr24cw"
      },
      "source": [
        "#@title \n",
        "result = kpss(df_vwap['VWAP'], regression='c')\n",
        "print('\\nKPSS Statistic: %f' % result[0])\n",
        "print('p-value: %f' % result[1])\n",
        "for key, value in result[3].items():\n",
        "    print('Critial Values:')\n",
        "    print(f'   {key}, {value}')"
      ],
      "execution_count": null,
      "outputs": []
    },
    {
      "cell_type": "markdown",
      "metadata": {
        "id": "WKHEiQ8V4W-H"
      },
      "source": [
        "There is more to these tests and interpeting their results. <br>\n",
        "If you intend to use them, check out these links:<br>\n",
        "\n",
        "[ADF](https://www.machinelearningplus.com/time-series/augmented-dickey-fuller-test/)<br>\n",
        "\n",
        "[KPSS](https://www.machinelearningplus.com/time-series/kpss-test-for-stationarity/)"
      ]
    },
    {
      "cell_type": "markdown",
      "metadata": {
        "id": "O9HjMCXWu67Z"
      },
      "source": [
        "# **White Noise**"
      ]
    },
    {
      "cell_type": "markdown",
      "metadata": {
        "id": "Jeey_YuS5Nga"
      },
      "source": [
        "White noise is an important concept in time series analysis and forecasting.\n",
        "\n",
        "- **Predictability**: If your time series is white noise, then, by definition, it is random. You cannot reasonably model it and make predictions.\n",
        "- **Model Diagnostics**: The series of errors from a time series forecast model should ideally be white noise."
      ]
    },
    {
      "cell_type": "markdown",
      "metadata": {
        "id": "P8Qa_1sXu9Xk"
      },
      "source": [
        "White noise is not a function of time, its mean and variance does not change over time. The difference is, **the white noise is completely random with a mean of 0**.\n",
        "\n",
        "In white noise there is no pattern whatsoever. If you consider the sound signals in an FM radio as a time series, the blank sound you hear between the channels is white noise.\n",
        "\n",
        "Mathematically, a sequence of completely random numbers with mean zero is a white noise.\n",
        "\n"
      ]
    },
    {
      "cell_type": "code",
      "metadata": {
        "id": "EgRwilsGvOlC"
      },
      "source": [
        "from random import gauss\n",
        "from random import seed\n",
        "from pandas import Series\n",
        "from pandas.plotting import autocorrelation_plot\n",
        "# seed random number generator\n",
        "seed(1)\n",
        "# create white noise series\n",
        "series = [gauss(0.0, 1.0) for i in range(1000)]\n",
        "series = Series(series)"
      ],
      "execution_count": null,
      "outputs": []
    },
    {
      "cell_type": "markdown",
      "metadata": {
        "id": "Vz0lJ-dm6GYQ"
      },
      "source": [
        "The mean is nearly 0.0 and the standard deviation is nearly 1.0. <br>\n",
        "Some variance is expected given the small size of the sample."
      ]
    },
    {
      "cell_type": "code",
      "metadata": {
        "id": "iTdTLVnS58ZT"
      },
      "source": [
        "print(series.describe())"
      ],
      "execution_count": null,
      "outputs": []
    },
    {
      "cell_type": "markdown",
      "metadata": {
        "id": "OQjg8cJf6QNy"
      },
      "source": [
        "A line plot of the series shows it appears to be random noise"
      ]
    },
    {
      "cell_type": "code",
      "metadata": {
        "id": "cOWYQAlG5kCw"
      },
      "source": [
        "# line plot\n",
        "series.plot()\n",
        "pyplot.show()"
      ],
      "execution_count": null,
      "outputs": []
    },
    {
      "cell_type": "markdown",
      "metadata": {
        "id": "nAwZWMhS5k2s"
      },
      "source": [
        "Create a histogram of the series<br>\n",
        "The bell shaped curve shows it is white noise. "
      ]
    },
    {
      "cell_type": "code",
      "metadata": {
        "id": "byBU0nqa6YSk"
      },
      "source": [
        "series.hist()\n",
        "pyplot.show()"
      ],
      "execution_count": null,
      "outputs": []
    },
    {
      "cell_type": "markdown",
      "metadata": {
        "id": "26bJaUHa6pN2"
      },
      "source": [
        "The correlogram does not show any obvious autocorrelation pattern.<br>"
      ]
    },
    {
      "cell_type": "code",
      "metadata": {
        "id": "qPDdStiR6pZV"
      },
      "source": [
        "autocorrelation_plot(series)\n",
        "pyplot.show()"
      ],
      "execution_count": null,
      "outputs": []
    },
    {
      "cell_type": "markdown",
      "metadata": {
        "id": "Es56Oblu7DgJ"
      },
      "source": [
        "Autocorrelation represents the degree of similarity between a given time series and a lagged version of itself over successive time intervals.<br>\n",
        " Autocorrelation measures the relationship between a variable's current value and its past values. <br>\n",
        "It finds patterns in the series"
      ]
    }
  ]
}