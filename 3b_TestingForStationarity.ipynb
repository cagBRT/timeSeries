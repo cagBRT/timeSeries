{
  "nbformat": 4,
  "nbformat_minor": 0,
  "metadata": {
    "colab": {
      "name": "3b: TestingForStationarity.ipynb",
      "private_outputs": true,
      "provenance": [],
      "authorship_tag": "ABX9TyPBe/o9uVRndQ0lyRJX0TJD",
      "include_colab_link": true
    },
    "kernelspec": {
      "name": "python3",
      "display_name": "Python 3"
    }
  },
  "cells": [
    {
      "cell_type": "markdown",
      "metadata": {
        "id": "view-in-github",
        "colab_type": "text"
      },
      "source": [
        "<a href=\"https://colab.research.google.com/github/cagBRT/timeSeries/blob/main/3b_TestingForStationarity.ipynb\" target=\"_parent\"><img src=\"https://colab.research.google.com/assets/colab-badge.svg\" alt=\"Open In Colab\"/></a>"
      ]
    },
    {
      "cell_type": "code",
      "metadata": {
        "id": "Nu8wFqvZ7vit"
      },
      "source": [
        "# Clone the entire repo.\n",
        "!git clone -s https://github.com/cagBRT/timeSeries.git cloned-repo\n",
        "%cd cloned-repo"
      ],
      "execution_count": null,
      "outputs": []
    },
    {
      "cell_type": "code",
      "metadata": {
        "id": "Z7VsufBKo5DQ"
      },
      "source": [
        "import pandas as pd\n",
        "import numpy as np\n"
      ],
      "execution_count": null,
      "outputs": []
    },
    {
      "cell_type": "markdown",
      "metadata": {
        "id": "XGtC0N4pC11x"
      },
      "source": [
        "# **Methods for testing for stationarity**<br>\n",
        "The stationarity of a series can be established by looking at the plot of the series<br>\n",
        "Split the series into 2 or more contiguous parts and computing the summary statistics like the mean, variance and the autocorrelation. If the stats are quite different, then the series is not likely to be stationary.<br>\n"
      ]
    },
    {
      "cell_type": "markdown",
      "metadata": {
        "id": "YfbeCglkZ9GV"
      },
      "source": [
        "To quantitatively determine if a given series is stationary or not. This can be done using statistical tests called ‘Unit Root Tests’. There are multiple variations of this, where the tests check if a time series is non-stationary and possess a unit root."
      ]
    },
    {
      "cell_type": "markdown",
      "metadata": {
        "id": "X9xy9U1XaC8C"
      },
      "source": [
        "There are a number of implementations of Unit Root tests. <br>\n",
        "We will look at two :<br>\n",
        "\n",
        "- Augmented Dickey Fuller test (ADF Test)\n",
        "- Kwiatkowski-Phillips-Schmidt-Shin – KPSS test (trend stationary)\n"
      ]
    },
    {
      "cell_type": "markdown",
      "metadata": {
        "id": "n1sH5or1oPby"
      },
      "source": [
        "The most commonly used is the ADF test, where the null hypothesis is the time series possesses a unit root and is non-stationary. So, id the P-Value in ADH test is less than the significance level (0.05), you reject the null hypothesis.\n",
        "<br><BR>\n"
      ]
    },
    {
      "cell_type": "code",
      "metadata": {
        "id": "Orgk6cIHoVes"
      },
      "source": [
        "from statsmodels.tsa.stattools import adfuller, kpss\n",
        "df = pd.read_csv('timeSeriesExample.csv', parse_dates=['date'])\n",
        "\n",
        "# ADF Test\n",
        "result = adfuller(df.value.values, autolag='AIC')\n",
        "print(f'ADF Statistic: {result[0]}')\n",
        "print(f'p-value: {result[1]}')\n",
        "for key, value in result[4].items():\n",
        "    print('Critial Values:')\n",
        "    print(f'   {key}, {value}')"
      ],
      "execution_count": null,
      "outputs": []
    },
    {
      "cell_type": "markdown",
      "metadata": {
        "id": "94tYpfTppX42"
      },
      "source": [
        "The KPSS test, on the other hand, is used to test for trend stationarity. The null hypothesis and the P-Value interpretation is just the opposite of ADH test. "
      ]
    },
    {
      "cell_type": "code",
      "metadata": {
        "id": "VLvdq87JpAeR"
      },
      "source": [
        "# KPSS Test\n",
        "result = kpss(df.value.values, regression='c')\n",
        "print('\\nKPSS Statistic: %f' % result[0])\n",
        "print('p-value: %f' % result[1])\n",
        "for key, value in result[3].items():\n",
        "    print('Critial Values:')\n",
        "    print(f'   {key}, {value}')"
      ],
      "execution_count": null,
      "outputs": []
    },
    {
      "cell_type": "markdown",
      "metadata": {
        "id": "O9HjMCXWu67Z"
      },
      "source": [
        "# **White Noise**"
      ]
    },
    {
      "cell_type": "markdown",
      "metadata": {
        "id": "P8Qa_1sXu9Xk"
      },
      "source": [
        "White noise is not a function of time, its mean and variance does not change over time. The difference is, **the white noise is completely random with a mean of 0**.\n",
        "\n",
        "In white noise there is no pattern whatsoever. If you consider the sound signals in an FM radio as a time series, the blank sound you hear between the channels is white noise.\n",
        "\n",
        "Mathematically, a sequence of completely random numbers with mean zero is a white noise.\n",
        "\n"
      ]
    },
    {
      "cell_type": "code",
      "metadata": {
        "id": "EgRwilsGvOlC"
      },
      "source": [
        "randvals = np.random.randn(1000)\n",
        "pd.Series(randvals).plot(title='Random White Noise', color='k')"
      ],
      "execution_count": null,
      "outputs": []
    }
  ]
}