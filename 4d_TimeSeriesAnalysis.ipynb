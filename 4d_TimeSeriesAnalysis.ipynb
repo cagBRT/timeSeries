{
  "nbformat": 4,
  "nbformat_minor": 0,
  "metadata": {
    "colab": {
      "name": "4d: TimeSeriesAnalysis.ipynb",
      "private_outputs": true,
      "provenance": [],
      "authorship_tag": "ABX9TyO7wgZlfPga9uzZHFe1JC0V",
      "include_colab_link": true
    },
    "kernelspec": {
      "name": "python3",
      "display_name": "Python 3"
    },
    "language_info": {
      "name": "python"
    }
  },
  "cells": [
    {
      "cell_type": "markdown",
      "metadata": {
        "id": "view-in-github",
        "colab_type": "text"
      },
      "source": [
        "<a href=\"https://colab.research.google.com/github/cagBRT/timeSeries/blob/main/4d_TimeSeriesAnalysis.ipynb\" target=\"_parent\"><img src=\"https://colab.research.google.com/assets/colab-badge.svg\" alt=\"Open In Colab\"/></a>"
      ]
    },
    {
      "cell_type": "markdown",
      "metadata": {
        "id": "4ryOij37norh"
      },
      "source": [
        "**Use Scipy to detrend a non-linear time series**"
      ]
    },
    {
      "cell_type": "markdown",
      "metadata": {
        "id": "Yga9HoUVn5_z"
      },
      "source": [
        "**Import libraries**"
      ]
    },
    {
      "cell_type": "code",
      "metadata": {
        "id": "owtAmeBMjr_A"
      },
      "source": [
        "import numpy as np\n",
        "import matplotlib.pyplot as plt\n",
        "from scipy import signal\n",
        "from scipy.interpolate import interp1d"
      ],
      "execution_count": null,
      "outputs": []
    },
    {
      "cell_type": "markdown",
      "metadata": {
        "id": "s5Kx0B8soDFb"
      },
      "source": [
        "**Set consistent plot sizes**"
      ]
    },
    {
      "cell_type": "code",
      "metadata": {
        "id": "1jKXtSwejxj_"
      },
      "source": [
        "plt.rcParams[\"font.size\"] = 16\n",
        "plt.rcParams['figure.figsize'] = (20, 10)"
      ],
      "execution_count": null,
      "outputs": []
    },
    {
      "cell_type": "markdown",
      "metadata": {
        "id": "2wPTV0PQoKcu"
      },
      "source": [
        "**Create a random time series**"
      ]
    },
    {
      "cell_type": "code",
      "metadata": {
        "id": "_5zvGhdKj2WD"
      },
      "source": [
        "n = 1000\n",
        "original_signal = np.cumsum(np.random.randn(n)) + np.linspace(-50,50, n)\n",
        "plt.plot(original_signal)\n",
        "plt.show()"
      ],
      "execution_count": null,
      "outputs": []
    },
    {
      "cell_type": "markdown",
      "metadata": {
        "id": "72FF4B_7oTBj"
      },
      "source": [
        "**Detrend the timeseries by assuming it is linear.**"
      ]
    },
    {
      "cell_type": "code",
      "metadata": {
        "id": "kCTpQrR0orHg"
      },
      "source": [
        "signal_detrend = signal.detrend(original_signal, type='linear')"
      ],
      "execution_count": null,
      "outputs": []
    },
    {
      "cell_type": "code",
      "metadata": {
        "id": "XCELSBqfkGx9"
      },
      "source": [
        "plt.plot(signal_detrend, label=\"signal_detrend\")\n",
        "plt.plot(original_signal, label=\"original_signal\")\n",
        "plt.legend()\n",
        "plt.show()"
      ],
      "execution_count": null,
      "outputs": []
    },
    {
      "cell_type": "code",
      "metadata": {
        "id": "BRowL2LorTon"
      },
      "source": [
        "t=range(1000)"
      ],
      "execution_count": null,
      "outputs": []
    },
    {
      "cell_type": "code",
      "metadata": {
        "id": "ZwhOgCm-lBiB"
      },
      "source": [
        "polynomial = np.polyfit(t,original_signal,20)\n",
        "poly_trend = np.polyval(polynomial,t)"
      ],
      "execution_count": null,
      "outputs": []
    },
    {
      "cell_type": "code",
      "metadata": {
        "id": "b4IGgrRqlJRd"
      },
      "source": [
        "detrended_signal = original_signal - poly_trend"
      ],
      "execution_count": null,
      "outputs": []
    },
    {
      "cell_type": "code",
      "metadata": {
        "id": "nLpcwtSBlLW6"
      },
      "source": [
        "plt.plot(original_signal, label=\"original_signal\")\n",
        "plt.plot(poly_trend, label=\"polynomial\")\n",
        "plt.plot(detrended_signal, label=\"detrended sigal\")\n",
        "plt.legend()\n",
        "plt.show()"
      ],
      "execution_count": null,
      "outputs": []
    }
  ]
}