{
  "nbformat": 4,
  "nbformat_minor": 0,
  "metadata": {
    "colab": {
      "name": "4d: TimeSeriesAnalysis.ipynb",
      "private_outputs": true,
      "provenance": [],
      "authorship_tag": "ABX9TyPGuOAIx2+mAJ1+NlQk6emW",
      "include_colab_link": true
    },
    "kernelspec": {
      "name": "python3",
      "display_name": "Python 3"
    },
    "language_info": {
      "name": "python"
    }
  },
  "cells": [
    {
      "cell_type": "markdown",
      "metadata": {
        "id": "view-in-github",
        "colab_type": "text"
      },
      "source": [
        "<a href=\"https://colab.research.google.com/github/cagBRT/timeSeries/blob/main/4d_TimeSeriesAnalysis.ipynb\" target=\"_parent\"><img src=\"https://colab.research.google.com/assets/colab-badge.svg\" alt=\"Open In Colab\"/></a>"
      ]
    },
    {
      "cell_type": "code",
      "metadata": {
        "id": "owtAmeBMjr_A"
      },
      "source": [
        "import numpy as np\n",
        "import matplotlib.pyplot as plt"
      ],
      "execution_count": null,
      "outputs": []
    },
    {
      "cell_type": "code",
      "metadata": {
        "id": "1jKXtSwejxj_"
      },
      "source": [
        "plt.rcParams[\"font.size\"] = 16\n",
        "plt.rcParams['figure.figsize'] = (20, 10)"
      ],
      "execution_count": null,
      "outputs": []
    },
    {
      "cell_type": "code",
      "metadata": {
        "id": "_5zvGhdKj2WD"
      },
      "source": [
        "#create signal\n",
        "n = 1000\n",
        "original_signal = np.cumsum(np.random.randn(n)) + np.linspace(-50,50, n)\n",
        "plt.plot(original_signal)\n",
        "plt.show()"
      ],
      "execution_count": null,
      "outputs": []
    },
    {
      "cell_type": "code",
      "metadata": {
        "id": "seTnB3K0kDk2"
      },
      "source": [
        "from scipy import signal"
      ],
      "execution_count": null,
      "outputs": []
    },
    {
      "cell_type": "code",
      "metadata": {
        "id": "XCELSBqfkGx9"
      },
      "source": [
        "signal_detrend = signal.detrend(original_signal, type='linear')\n",
        "plt.plot(signal_detrend, label=\"signal_detrend\")\n",
        "plt.plot(original_signal, label=\"original_signal\")\n",
        "plt.legend()\n",
        "plt.show()"
      ],
      "execution_count": null,
      "outputs": []
    },
    {
      "cell_type": "code",
      "metadata": {
        "id": "AVfEB5tmkuze"
      },
      "source": [
        "from scipy.interpolate import interp1d"
      ],
      "execution_count": null,
      "outputs": []
    },
    {
      "cell_type": "code",
      "metadata": {
        "id": "xJBDHe4Hkyt4"
      },
      "source": [
        "n = 1000\n",
        "t = range(n)\n",
        "Sdrift = np.interp(np.linspace(1,20,n),np.arange(0,20),100*np.random.randn(20))\n",
        "sig = Sdrift + 20*np.random.randn(n)"
      ],
      "execution_count": null,
      "outputs": []
    },
    {
      "cell_type": "code",
      "metadata": {
        "id": "F_mwaDWYk6fP"
      },
      "source": [
        "plt.plot(original_signal)\n",
        "plt.show()"
      ],
      "execution_count": null,
      "outputs": []
    },
    {
      "cell_type": "code",
      "metadata": {
        "id": "ZwhOgCm-lBiB"
      },
      "source": [
        "polynomial = np.polyfit(t,original_signal,20)\n",
        "poly_trend = np.polyval(polynomial,t)"
      ],
      "execution_count": null,
      "outputs": []
    },
    {
      "cell_type": "code",
      "metadata": {
        "id": "b4IGgrRqlJRd"
      },
      "source": [
        "detrended_signal = original_signal - poly_trend"
      ],
      "execution_count": null,
      "outputs": []
    },
    {
      "cell_type": "code",
      "metadata": {
        "id": "nLpcwtSBlLW6"
      },
      "source": [
        "plt.plot(original_signal, label=\"original_signal\")\n",
        "plt.plot(poly_trend, label=\"polynomial\")\n",
        "plt.plot(detrended_signal, label=\"detrended sigal\")\n",
        "plt.legend()\n",
        "plt.show()"
      ],
      "execution_count": null,
      "outputs": []
    }
  ]
}