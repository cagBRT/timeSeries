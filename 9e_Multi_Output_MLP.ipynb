{
  "nbformat": 4,
  "nbformat_minor": 0,
  "metadata": {
    "colab": {
      "name": "9e Multi Output MLP.ipynb",
      "private_outputs": true,
      "provenance": [],
      "authorship_tag": "ABX9TyMzGkHCqahOckn8KlfsD6iE",
      "include_colab_link": true
    },
    "kernelspec": {
      "name": "python3",
      "display_name": "Python 3"
    },
    "language_info": {
      "name": "python"
    }
  },
  "cells": [
    {
      "cell_type": "markdown",
      "metadata": {
        "id": "view-in-github",
        "colab_type": "text"
      },
      "source": [
        "<a href=\"https://colab.research.google.com/github/cagBRT/timeSeries/blob/main/9e_Multi_Output_MLP.ipynb\" target=\"_parent\"><img src=\"https://colab.research.google.com/assets/colab-badge.svg\" alt=\"Open In Colab\"/></a>"
      ]
    },
    {
      "cell_type": "code",
      "metadata": {
        "id": "N3ydbAm6QcrG"
      },
      "source": [
        "!git clone -l -s https://github.com/cagBRT/timeSeries.git cloned-repo\n",
        "%cd cloned-repo"
      ],
      "execution_count": null,
      "outputs": []
    },
    {
      "cell_type": "markdown",
      "metadata": {
        "id": "Q9ZHrOCnsm_Q"
      },
      "source": [
        "# **Mutli-Output MLP Model**"
      ]
    },
    {
      "cell_type": "markdown",
      "metadata": {
        "id": "-20maUL0yyzV"
      },
      "source": [
        "With a multi-output model, each output series is handled by a model<br>\n"
      ]
    },
    {
      "cell_type": "code",
      "metadata": {
        "id": "4u2f0y14QcfI"
      },
      "source": [
        "from IPython.display import Image\n",
        "Image(\"MultiOutputMLP.png\" , width=640)"
      ],
      "execution_count": null,
      "outputs": []
    },
    {
      "cell_type": "markdown",
      "metadata": {
        "id": "P0v4-Bi9QzFR"
      },
      "source": [
        "**Import data**"
      ]
    },
    {
      "cell_type": "code",
      "metadata": {
        "id": "sWssJa82sms7"
      },
      "source": [
        "from numpy import array \n",
        "from numpy import hstack \n",
        "from keras.models import Model \n",
        "from keras.layers import Input\n",
        "from keras.layers import Dense"
      ],
      "execution_count": null,
      "outputs": []
    },
    {
      "cell_type": "code",
      "metadata": {
        "id": "f5ez-rlHzTZ_"
      },
      "source": [
        "# split a multivariate sequence into samples\n",
        "def split_sequences(sequences, n_steps): \n",
        "  X, y = list(), list()\n",
        "  for i in range(len(sequences)):\n",
        "    # find the end of this pattern\n",
        "    end_ix = i + n_steps\n",
        "    # check if we are beyond the dataset\n",
        "    if end_ix > len(sequences)-1: \n",
        "      break\n",
        "    # gather input and output parts of the pattern\n",
        "    seq_x, seq_y = sequences[i:end_ix, :], sequences[end_ix, :] \n",
        "    X.append(seq_x)\n",
        "    y.append(seq_y)\n",
        "  return array(X), array(y)"
      ],
      "execution_count": null,
      "outputs": []
    },
    {
      "cell_type": "markdown",
      "metadata": {
        "id": "27zzhQYXMLDT"
      },
      "source": [
        "**Create the data**"
      ]
    },
    {
      "cell_type": "code",
      "metadata": {
        "id": "2Cvb_roVzh9w"
      },
      "source": [
        "in_seq1 = array([10, 20, 30, 40, 50, 60, 70, 80, 90])\n",
        "in_seq2 = array([15, 25, 35, 45, 55, 65, 75, 85, 95])\n",
        "out_seq = array([in_seq1[i]+in_seq2[i] for i in range(len(in_seq1))]) \n",
        "in_seq1 = in_seq1.reshape((len(in_seq1), 1)) \n",
        "in_seq2 = in_seq2.reshape((len(in_seq2), 1)) \n",
        "out_seq = out_seq.reshape((len(out_seq), 1))\n",
        "dataset = hstack((in_seq1, in_seq2, out_seq))"
      ],
      "execution_count": null,
      "outputs": []
    },
    {
      "cell_type": "code",
      "metadata": {
        "id": "EFqRWmSCxmwY"
      },
      "source": [
        "dataset"
      ],
      "execution_count": null,
      "outputs": []
    },
    {
      "cell_type": "markdown",
      "metadata": {
        "id": "CTomBCNTMV3p"
      },
      "source": [
        "**Set the number of steps**"
      ]
    },
    {
      "cell_type": "code",
      "metadata": {
        "id": "pxx2lCAs0G1B"
      },
      "source": [
        "n_steps = 3"
      ],
      "execution_count": null,
      "outputs": []
    },
    {
      "cell_type": "markdown",
      "metadata": {
        "id": "LWGX4F4GMcZ_"
      },
      "source": [
        "**Split the sequences into data and labels**"
      ]
    },
    {
      "cell_type": "code",
      "metadata": {
        "id": "TPCVbKZv0MuF"
      },
      "source": [
        "X, y = split_sequences(dataset, n_steps)\n",
        "# flatten input\n",
        "n_input = X.shape[1] * X.shape[2]\n",
        "X = X.reshape((X.shape[0], n_input))"
      ],
      "execution_count": null,
      "outputs": []
    },
    {
      "cell_type": "markdown",
      "source": [
        "Three steps per input<br>\n",
        "10,20,30 -> 40<br>\n",
        "15,25,35 -> 45<br>\n",
        "40 + 45 = 85\n"
      ],
      "metadata": {
        "id": "-JD_GdqmhU7h"
      }
    },
    {
      "cell_type": "code",
      "metadata": {
        "id": "korA805NM4Mx"
      },
      "source": [
        "for i in range(len(X)):\n",
        " print(X[i], y[i])"
      ],
      "execution_count": null,
      "outputs": []
    },
    {
      "cell_type": "markdown",
      "metadata": {
        "id": "f7HsJqtRQ6w4"
      },
      "source": [
        "Training a multi-output model requires separate output arrays for each sample."
      ]
    },
    {
      "cell_type": "code",
      "metadata": {
        "id": "qw5D9NNw0UIK"
      },
      "source": [
        "# separate output\n",
        "y1 = y[:, 0].reshape((y.shape[0], 1)) \n",
        "y2 = y[:, 1].reshape((y.shape[0], 1)) \n",
        "y3 = y[:, 2].reshape((y.shape[0], 1))"
      ],
      "execution_count": null,
      "outputs": []
    },
    {
      "cell_type": "code",
      "metadata": {
        "id": "oNObNYUxMkGX"
      },
      "source": [
        "print(y1)"
      ],
      "execution_count": null,
      "outputs": []
    },
    {
      "cell_type": "markdown",
      "metadata": {
        "id": "amKYJg5h0xR1"
      },
      "source": [
        "# **Define the model**"
      ]
    },
    {
      "cell_type": "code",
      "metadata": {
        "id": "O2qMd7YosdlT"
      },
      "source": [
        "visible = Input(shape=(n_input,))\n",
        "dense = Dense(100, activation='relu')(visible)"
      ],
      "execution_count": null,
      "outputs": []
    },
    {
      "cell_type": "markdown",
      "metadata": {
        "id": "6ehVVFQ406W6"
      },
      "source": [
        "**Define the outputs**"
      ]
    },
    {
      "cell_type": "code",
      "metadata": {
        "id": "smi7xbgC0bfR"
      },
      "source": [
        "output1 = Dense(1)(dense)\n",
        "output2 = Dense(1)(dense)\n",
        "output3 = Dense(1)(dense)"
      ],
      "execution_count": null,
      "outputs": []
    },
    {
      "cell_type": "code",
      "metadata": {
        "id": "GEwDv6YJ1AZd"
      },
      "source": [
        "model = Model(inputs=visible, outputs=[output1, output2, output3]) \n",
        "model.compile(optimizer='adam', loss='mse')"
      ],
      "execution_count": null,
      "outputs": []
    },
    {
      "cell_type": "markdown",
      "metadata": {
        "id": "dh9ivx6H1FIk"
      },
      "source": [
        "**Train the model**\n",
        "\n",
        "\n"
      ]
    },
    {
      "cell_type": "code",
      "metadata": {
        "id": "WHkcs1xp1VGO"
      },
      "source": [
        "model.fit(X, [y1,y2,y3], epochs=2000, verbose=0)"
      ],
      "execution_count": null,
      "outputs": []
    },
    {
      "cell_type": "code",
      "metadata": {
        "id": "YU79jOYiRZGg"
      },
      "source": [
        "model.summary()"
      ],
      "execution_count": null,
      "outputs": []
    },
    {
      "cell_type": "markdown",
      "metadata": {
        "id": "GsNOkWrd1hEi"
      },
      "source": [
        "**Make Predictions**"
      ]
    },
    {
      "cell_type": "code",
      "metadata": {
        "id": "kndQ8gWu1hSe"
      },
      "source": [
        "x_input = array([[70,75,145], [80,85,165], [90,95,185]])\n",
        "x_input = x_input.reshape((1, n_input))\n",
        "print(x_input)"
      ],
      "execution_count": null,
      "outputs": []
    },
    {
      "cell_type": "code",
      "metadata": {
        "id": "Y8s2MPk8N_lQ"
      },
      "source": [
        "yhat = model.predict(x_input, verbose=0)\n",
        "print(yhat)"
      ],
      "execution_count": null,
      "outputs": []
    },
    {
      "cell_type": "markdown",
      "source": [
        "Expecting<br>\n",
        "70,80,90 -> 100<br>\n",
        "75,85,95 -> 105<br>\n",
        "100 + 105 = 205<br>"
      ],
      "metadata": {
        "id": "Xw1YKYNZhqwo"
      }
    },
    {
      "cell_type": "code",
      "metadata": {
        "id": "UMbB-fDo9ST2"
      },
      "source": [
        "for i in range(len(X)):\n",
        " print(X[i], y[i])\n",
        "print(x_input, yhat)"
      ],
      "execution_count": null,
      "outputs": []
    },
    {
      "cell_type": "markdown",
      "metadata": {
        "id": "8wQF6TA79hff"
      },
      "source": [
        "**Assignment:**<br>\n",
        "1. Try different epoch values. What happens to yhat?\n",
        "2. Add more data to the datset. Does the yhat improve?\n",
        "3. Try going out to several time steps to make predictions."
      ]
    }
  ]
}